{
  "nbformat": 4,
  "nbformat_minor": 0,
  "metadata": {
    "colab": {
      "provenance": [],
      "authorship_tag": "ABX9TyN58D5C35vtBlx97WfphAjx",
      "include_colab_link": true
    },
    "kernelspec": {
      "name": "python3",
      "display_name": "Python 3"
    },
    "language_info": {
      "name": "python"
    },
    "widgets": {
      "application/vnd.jupyter.widget-state+json": {
        "fbc197e4613343d99d3c7a5853603835": {
          "model_module": "@jupyter-widgets/controls",
          "model_name": "ButtonModel",
          "model_module_version": "1.5.0",
          "state": {
            "_dom_classes": [],
            "_model_module": "@jupyter-widgets/controls",
            "_model_module_version": "1.5.0",
            "_model_name": "ButtonModel",
            "_view_count": null,
            "_view_module": "@jupyter-widgets/controls",
            "_view_module_version": "1.5.0",
            "_view_name": "ButtonView",
            "button_style": "",
            "description": "Toggle Pandas/Lux",
            "disabled": false,
            "icon": "",
            "layout": "IPY_MODEL_7f4bb1beec4243ff9567f0f5661ca6c1",
            "style": "IPY_MODEL_10f3dc690eb448eea03121686add1b3e",
            "tooltip": ""
          }
        },
        "7f4bb1beec4243ff9567f0f5661ca6c1": {
          "model_module": "@jupyter-widgets/base",
          "model_name": "LayoutModel",
          "model_module_version": "1.2.0",
          "state": {
            "_model_module": "@jupyter-widgets/base",
            "_model_module_version": "1.2.0",
            "_model_name": "LayoutModel",
            "_view_count": null,
            "_view_module": "@jupyter-widgets/base",
            "_view_module_version": "1.2.0",
            "_view_name": "LayoutView",
            "align_content": null,
            "align_items": null,
            "align_self": null,
            "border": null,
            "bottom": null,
            "display": null,
            "flex": null,
            "flex_flow": null,
            "grid_area": null,
            "grid_auto_columns": null,
            "grid_auto_flow": null,
            "grid_auto_rows": null,
            "grid_column": null,
            "grid_gap": null,
            "grid_row": null,
            "grid_template_areas": null,
            "grid_template_columns": null,
            "grid_template_rows": null,
            "height": null,
            "justify_content": null,
            "justify_items": null,
            "left": null,
            "margin": null,
            "max_height": null,
            "max_width": null,
            "min_height": null,
            "min_width": null,
            "object_fit": null,
            "object_position": null,
            "order": null,
            "overflow": null,
            "overflow_x": null,
            "overflow_y": null,
            "padding": null,
            "right": null,
            "top": "5px",
            "visibility": null,
            "width": "140px"
          }
        },
        "10f3dc690eb448eea03121686add1b3e": {
          "model_module": "@jupyter-widgets/controls",
          "model_name": "ButtonStyleModel",
          "model_module_version": "1.5.0",
          "state": {
            "_model_module": "@jupyter-widgets/controls",
            "_model_module_version": "1.5.0",
            "_model_name": "ButtonStyleModel",
            "_view_count": null,
            "_view_module": "@jupyter-widgets/base",
            "_view_module_version": "1.2.0",
            "_view_name": "StyleView",
            "button_color": null,
            "font_weight": ""
          }
        },
        "12aae18f6b2d42e590e65a1e71e04827": {
          "model_module": "@jupyter-widgets/output",
          "model_name": "OutputModel",
          "model_module_version": "1.0.0",
          "state": {
            "_dom_classes": [],
            "_model_module": "@jupyter-widgets/output",
            "_model_module_version": "1.0.0",
            "_model_name": "OutputModel",
            "_view_count": null,
            "_view_module": "@jupyter-widgets/output",
            "_view_module_version": "1.0.0",
            "_view_name": "OutputView",
            "layout": "IPY_MODEL_83970798bd874e6d80d2ae4c823d3c4c",
            "msg_id": "",
            "outputs": [
              {
                "output_type": "display_data",
                "data": {
                  "text/plain": "   Hours  Scores\n0    2.5      21\n1    5.1      47\n2    3.2      27\n3    8.5      75\n4    3.5      30",
                  "text/html": "\n  <div id=\"df-8da91122-41e3-4c71-bba0-23575913c7ac\" class=\"colab-df-container\">\n    <div>\n<style scoped>\n    .dataframe tbody tr th:only-of-type {\n        vertical-align: middle;\n    }\n\n    .dataframe tbody tr th {\n        vertical-align: top;\n    }\n\n    .dataframe thead th {\n        text-align: right;\n    }\n</style>\n<table border=\"1\" class=\"dataframe\">\n  <thead>\n    <tr style=\"text-align: right;\">\n      <th></th>\n      <th>Hours</th>\n      <th>Scores</th>\n    </tr>\n  </thead>\n  <tbody>\n    <tr>\n      <th>0</th>\n      <td>2.5</td>\n      <td>21</td>\n    </tr>\n    <tr>\n      <th>1</th>\n      <td>5.1</td>\n      <td>47</td>\n    </tr>\n    <tr>\n      <th>2</th>\n      <td>3.2</td>\n      <td>27</td>\n    </tr>\n    <tr>\n      <th>3</th>\n      <td>8.5</td>\n      <td>75</td>\n    </tr>\n    <tr>\n      <th>4</th>\n      <td>3.5</td>\n      <td>30</td>\n    </tr>\n  </tbody>\n</table>\n</div>\n    <div class=\"colab-df-buttons\">\n\n  <div class=\"colab-df-container\">\n    <button class=\"colab-df-convert\" onclick=\"convertToInteractive('df-8da91122-41e3-4c71-bba0-23575913c7ac')\"\n            title=\"Convert this dataframe to an interactive table.\"\n            style=\"display:none;\">\n\n  <svg xmlns=\"http://www.w3.org/2000/svg\" height=\"24px\" viewBox=\"0 -960 960 960\">\n    <path d=\"M120-120v-720h720v720H120Zm60-500h600v-160H180v160Zm220 220h160v-160H400v160Zm0 220h160v-160H400v160ZM180-400h160v-160H180v160Zm440 0h160v-160H620v160ZM180-180h160v-160H180v160Zm440 0h160v-160H620v160Z\"/>\n  </svg>\n    </button>\n\n  <style>\n    .colab-df-container {\n      display:flex;\n      gap: 12px;\n    }\n\n    .colab-df-convert {\n      background-color: #E8F0FE;\n      border: none;\n      border-radius: 50%;\n      cursor: pointer;\n      display: none;\n      fill: #1967D2;\n      height: 32px;\n      padding: 0 0 0 0;\n      width: 32px;\n    }\n\n    .colab-df-convert:hover {\n      background-color: #E2EBFA;\n      box-shadow: 0px 1px 2px rgba(60, 64, 67, 0.3), 0px 1px 3px 1px rgba(60, 64, 67, 0.15);\n      fill: #174EA6;\n    }\n\n    .colab-df-buttons div {\n      margin-bottom: 4px;\n    }\n\n    [theme=dark] .colab-df-convert {\n      background-color: #3B4455;\n      fill: #D2E3FC;\n    }\n\n    [theme=dark] .colab-df-convert:hover {\n      background-color: #434B5C;\n      box-shadow: 0px 1px 3px 1px rgba(0, 0, 0, 0.15);\n      filter: drop-shadow(0px 1px 2px rgba(0, 0, 0, 0.3));\n      fill: #FFFFFF;\n    }\n  </style>\n\n    <script>\n      const buttonEl =\n        document.querySelector('#df-8da91122-41e3-4c71-bba0-23575913c7ac button.colab-df-convert');\n      buttonEl.style.display =\n        google.colab.kernel.accessAllowed ? 'block' : 'none';\n\n      async function convertToInteractive(key) {\n        const element = document.querySelector('#df-8da91122-41e3-4c71-bba0-23575913c7ac');\n        const dataTable =\n          await google.colab.kernel.invokeFunction('convertToInteractive',\n                                                    [key], {});\n        if (!dataTable) return;\n\n        const docLinkHtml = 'Like what you see? Visit the ' +\n          '<a target=\"_blank\" href=https://colab.research.google.com/notebooks/data_table.ipynb>data table notebook</a>'\n          + ' to learn more about interactive tables.';\n        element.innerHTML = '';\n        dataTable['output_type'] = 'display_data';\n        await google.colab.output.renderOutput(dataTable, element);\n        const docLink = document.createElement('div');\n        docLink.innerHTML = docLinkHtml;\n        element.appendChild(docLink);\n      }\n    </script>\n  </div>\n\n\n<div id=\"df-805d8384-c499-477f-867d-9f5107d8892a\">\n  <button class=\"colab-df-quickchart\" onclick=\"quickchart('df-805d8384-c499-477f-867d-9f5107d8892a')\"\n            title=\"Suggest charts.\"\n            style=\"display:none;\">\n\n<svg xmlns=\"http://www.w3.org/2000/svg\" height=\"24px\"viewBox=\"0 0 24 24\"\n     width=\"24px\">\n    <g>\n        <path d=\"M19 3H5c-1.1 0-2 .9-2 2v14c0 1.1.9 2 2 2h14c1.1 0 2-.9 2-2V5c0-1.1-.9-2-2-2zM9 17H7v-7h2v7zm4 0h-2V7h2v10zm4 0h-2v-4h2v4z\"/>\n    </g>\n</svg>\n  </button>\n\n<style>\n  .colab-df-quickchart {\n      --bg-color: #E8F0FE;\n      --fill-color: #1967D2;\n      --hover-bg-color: #E2EBFA;\n      --hover-fill-color: #174EA6;\n      --disabled-fill-color: #AAA;\n      --disabled-bg-color: #DDD;\n  }\n\n  [theme=dark] .colab-df-quickchart {\n      --bg-color: #3B4455;\n      --fill-color: #D2E3FC;\n      --hover-bg-color: #434B5C;\n      --hover-fill-color: #FFFFFF;\n      --disabled-bg-color: #3B4455;\n      --disabled-fill-color: #666;\n  }\n\n  .colab-df-quickchart {\n    background-color: var(--bg-color);\n    border: none;\n    border-radius: 50%;\n    cursor: pointer;\n    display: none;\n    fill: var(--fill-color);\n    height: 32px;\n    padding: 0;\n    width: 32px;\n  }\n\n  .colab-df-quickchart:hover {\n    background-color: var(--hover-bg-color);\n    box-shadow: 0 1px 2px rgba(60, 64, 67, 0.3), 0 1px 3px 1px rgba(60, 64, 67, 0.15);\n    fill: var(--button-hover-fill-color);\n  }\n\n  .colab-df-quickchart-complete:disabled,\n  .colab-df-quickchart-complete:disabled:hover {\n    background-color: var(--disabled-bg-color);\n    fill: var(--disabled-fill-color);\n    box-shadow: none;\n  }\n\n  .colab-df-spinner {\n    border: 2px solid var(--fill-color);\n    border-color: transparent;\n    border-bottom-color: var(--fill-color);\n    animation:\n      spin 1s steps(1) infinite;\n  }\n\n  @keyframes spin {\n    0% {\n      border-color: transparent;\n      border-bottom-color: var(--fill-color);\n      border-left-color: var(--fill-color);\n    }\n    20% {\n      border-color: transparent;\n      border-left-color: var(--fill-color);\n      border-top-color: var(--fill-color);\n    }\n    30% {\n      border-color: transparent;\n      border-left-color: var(--fill-color);\n      border-top-color: var(--fill-color);\n      border-right-color: var(--fill-color);\n    }\n    40% {\n      border-color: transparent;\n      border-right-color: var(--fill-color);\n      border-top-color: var(--fill-color);\n    }\n    60% {\n      border-color: transparent;\n      border-right-color: var(--fill-color);\n    }\n    80% {\n      border-color: transparent;\n      border-right-color: var(--fill-color);\n      border-bottom-color: var(--fill-color);\n    }\n    90% {\n      border-color: transparent;\n      border-bottom-color: var(--fill-color);\n    }\n  }\n</style>\n\n  <script>\n    async function quickchart(key) {\n      const quickchartButtonEl =\n        document.querySelector('#' + key + ' button');\n      quickchartButtonEl.disabled = true;  // To prevent multiple clicks.\n      quickchartButtonEl.classList.add('colab-df-spinner');\n      try {\n        const charts = await google.colab.kernel.invokeFunction(\n            'suggestCharts', [key], {});\n      } catch (error) {\n        console.error('Error during call to suggestCharts:', error);\n      }\n      quickchartButtonEl.classList.remove('colab-df-spinner');\n      quickchartButtonEl.classList.add('colab-df-quickchart-complete');\n    }\n    (() => {\n      let quickchartButtonEl =\n        document.querySelector('#df-805d8384-c499-477f-867d-9f5107d8892a button');\n      quickchartButtonEl.style.display =\n        google.colab.kernel.accessAllowed ? 'block' : 'none';\n    })();\n  </script>\n</div>\n    </div>\n  </div>\n"
                },
                "metadata": {}
              }
            ]
          }
        },
        "83970798bd874e6d80d2ae4c823d3c4c": {
          "model_module": "@jupyter-widgets/base",
          "model_name": "LayoutModel",
          "model_module_version": "1.2.0",
          "state": {
            "_model_module": "@jupyter-widgets/base",
            "_model_module_version": "1.2.0",
            "_model_name": "LayoutModel",
            "_view_count": null,
            "_view_module": "@jupyter-widgets/base",
            "_view_module_version": "1.2.0",
            "_view_name": "LayoutView",
            "align_content": null,
            "align_items": null,
            "align_self": null,
            "border": null,
            "bottom": null,
            "display": null,
            "flex": null,
            "flex_flow": null,
            "grid_area": null,
            "grid_auto_columns": null,
            "grid_auto_flow": null,
            "grid_auto_rows": null,
            "grid_column": null,
            "grid_gap": null,
            "grid_row": null,
            "grid_template_areas": null,
            "grid_template_columns": null,
            "grid_template_rows": null,
            "height": null,
            "justify_content": null,
            "justify_items": null,
            "left": null,
            "margin": null,
            "max_height": null,
            "max_width": null,
            "min_height": null,
            "min_width": null,
            "object_fit": null,
            "object_position": null,
            "order": null,
            "overflow": null,
            "overflow_x": null,
            "overflow_y": null,
            "padding": null,
            "right": null,
            "top": null,
            "visibility": null,
            "width": null
          }
        },
        "a5a183067d724de9858479c88b5ce910": {
          "model_module": "luxwidget",
          "model_name": "LuxModel",
          "model_module_version": "0.1.11",
          "state": {
            "_dom_classes": [],
            "_model_module": "luxwidget",
            "_model_module_version": "0.1.11",
            "_model_name": "LuxModel",
            "_selectedVisIdxs": {},
            "_view_count": null,
            "_view_module": "luxwidget",
            "_view_module_version": "0.1.11",
            "_view_name": "LuxWidgetView",
            "all_column": false,
            "current_vis": {
              "config": {
                "view": {
                  "continuousWidth": 400,
                  "continuousHeight": 300
                },
                "axis": {
                  "labelColor": "#505050",
                  "labelFont": "Helvetica Neue",
                  "labelFontSize": 9,
                  "labelFontWeight": 400,
                  "titleFont": "Helvetica Neue",
                  "titleFontSize": 11,
                  "titleFontWeight": 500
                },
                "legend": {
                  "labelFont": "Helvetica Neue",
                  "labelFontSize": 9,
                  "labelFontWeight": 400,
                  "titleFont": "Helvetica Neue",
                  "titleFontSize": 10,
                  "titleFontWeight": 500
                },
                "mark": {
                  "tooltip": {
                    "content": "encoding"
                  }
                },
                "title": {
                  "font": "Helvetica Neue",
                  "fontSize": 13,
                  "fontWeight": 500
                }
              },
              "data": {
                "name": "data-c99ab52ae6a4b6730d5f0980ab2abb53"
              },
              "mark": "circle",
              "encoding": {
                "x": {
                  "axis": {
                    "title": "Hours"
                  },
                  "field": "Hours",
                  "scale": {
                    "domain": [
                      1.1,
                      9.2
                    ]
                  },
                  "type": "quantitative"
                },
                "y": {
                  "axis": {
                    "title": "Scores"
                  },
                  "field": "Scores",
                  "scale": {
                    "domain": [
                      17,
                      95
                    ]
                  },
                  "type": "quantitative"
                }
              },
              "height": 150,
              "selection": {
                "selector001": {
                  "type": "interval",
                  "bind": "scales",
                  "encodings": [
                    "x",
                    "y"
                  ]
                }
              },
              "width": 160,
              "$schema": "https://vega.github.io/schema/vega-lite/v4.17.0.json",
              "datasets": {
                "data-c99ab52ae6a4b6730d5f0980ab2abb53": [
                  {
                    "Hours": 2.5,
                    "Scores": 21
                  },
                  {
                    "Hours": 5.1,
                    "Scores": 47
                  },
                  {
                    "Hours": 3.2,
                    "Scores": 27
                  },
                  {
                    "Hours": 8.5,
                    "Scores": 75
                  },
                  {
                    "Hours": 3.5,
                    "Scores": 30
                  },
                  {
                    "Hours": 1.5,
                    "Scores": 20
                  },
                  {
                    "Hours": 9.2,
                    "Scores": 88
                  },
                  {
                    "Hours": 5.5,
                    "Scores": 60
                  },
                  {
                    "Hours": 8.3,
                    "Scores": 81
                  },
                  {
                    "Hours": 2.7,
                    "Scores": 25
                  },
                  {
                    "Hours": 7.7,
                    "Scores": 85
                  },
                  {
                    "Hours": 5.9,
                    "Scores": 62
                  },
                  {
                    "Hours": 4.5,
                    "Scores": 41
                  },
                  {
                    "Hours": 3.3,
                    "Scores": 42
                  },
                  {
                    "Hours": 1.1,
                    "Scores": 17
                  },
                  {
                    "Hours": 8.9,
                    "Scores": 95
                  },
                  {
                    "Hours": 2.5,
                    "Scores": 30
                  },
                  {
                    "Hours": 1.9,
                    "Scores": 24
                  },
                  {
                    "Hours": 6.1,
                    "Scores": 67
                  },
                  {
                    "Hours": 7.4,
                    "Scores": 69
                  },
                  {
                    "Hours": 2.7,
                    "Scores": 30
                  },
                  {
                    "Hours": 4.8,
                    "Scores": 54
                  },
                  {
                    "Hours": 3.8,
                    "Scores": 35
                  },
                  {
                    "Hours": 6.9,
                    "Scores": 76
                  },
                  {
                    "Hours": 7.8,
                    "Scores": 86
                  }
                ]
              },
              "vislib": "vegalite",
              "allcols": true
            },
            "data": [],
            "deletedIndices": {},
            "intent": "",
            "layout": "IPY_MODEL_02c5c345586146649a135fefdf225a66",
            "message": "<ul><li>Lux is visualizing the previous version of the dataframe before you applied <code>head</code>.</li></ul>",
            "plotting_scale": 1,
            "recommendations": [
              {
                "action": "Correlation",
                "description": "Show relationships between two <p class='highlight-descriptor'>quantitative</p> attributes.",
                "long_description": "Correlation searches through all pairwise relationship between two quantitative attributes             (e.g., Hours, Scores). The visualizations are ranked from most to least linearly correlated based on                 their Pearson’s correlation score.",
                "vspec": [
                  {
                    "config": {
                      "view": {
                        "continuousWidth": 400,
                        "continuousHeight": 300
                      },
                      "axis": {
                        "labelColor": "#505050",
                        "labelFont": "Helvetica Neue",
                        "labelFontSize": 9,
                        "labelFontWeight": 400,
                        "titleFont": "Helvetica Neue",
                        "titleFontSize": 11,
                        "titleFontWeight": 500
                      },
                      "legend": {
                        "labelFont": "Helvetica Neue",
                        "labelFontSize": 9,
                        "labelFontWeight": 400,
                        "titleFont": "Helvetica Neue",
                        "titleFontSize": 10,
                        "titleFontWeight": 500
                      },
                      "mark": {
                        "tooltip": {
                          "content": "encoding"
                        }
                      },
                      "title": {
                        "font": "Helvetica Neue",
                        "fontSize": 13,
                        "fontWeight": 500
                      }
                    },
                    "data": {
                      "name": "data-c99ab52ae6a4b6730d5f0980ab2abb53"
                    },
                    "mark": "circle",
                    "encoding": {
                      "x": {
                        "axis": {
                          "title": "Scores"
                        },
                        "field": "Scores",
                        "scale": {
                          "domain": [
                            17,
                            95
                          ]
                        },
                        "type": "quantitative"
                      },
                      "y": {
                        "axis": {
                          "title": "Hours"
                        },
                        "field": "Hours",
                        "scale": {
                          "domain": [
                            1.1,
                            9.2
                          ]
                        },
                        "type": "quantitative"
                      }
                    },
                    "height": 150,
                    "selection": {
                      "selector002": {
                        "type": "interval",
                        "bind": "scales",
                        "encodings": [
                          "x",
                          "y"
                        ]
                      }
                    },
                    "width": 160,
                    "$schema": "https://vega.github.io/schema/vega-lite/v4.17.0.json",
                    "datasets": {
                      "data-c99ab52ae6a4b6730d5f0980ab2abb53": [
                        {
                          "Hours": 2.5,
                          "Scores": 21
                        },
                        {
                          "Hours": 5.1,
                          "Scores": 47
                        },
                        {
                          "Hours": 3.2,
                          "Scores": 27
                        },
                        {
                          "Hours": 8.5,
                          "Scores": 75
                        },
                        {
                          "Hours": 3.5,
                          "Scores": 30
                        },
                        {
                          "Hours": 1.5,
                          "Scores": 20
                        },
                        {
                          "Hours": 9.2,
                          "Scores": 88
                        },
                        {
                          "Hours": 5.5,
                          "Scores": 60
                        },
                        {
                          "Hours": 8.3,
                          "Scores": 81
                        },
                        {
                          "Hours": 2.7,
                          "Scores": 25
                        },
                        {
                          "Hours": 7.7,
                          "Scores": 85
                        },
                        {
                          "Hours": 5.9,
                          "Scores": 62
                        },
                        {
                          "Hours": 4.5,
                          "Scores": 41
                        },
                        {
                          "Hours": 3.3,
                          "Scores": 42
                        },
                        {
                          "Hours": 1.1,
                          "Scores": 17
                        },
                        {
                          "Hours": 8.9,
                          "Scores": 95
                        },
                        {
                          "Hours": 2.5,
                          "Scores": 30
                        },
                        {
                          "Hours": 1.9,
                          "Scores": 24
                        },
                        {
                          "Hours": 6.1,
                          "Scores": 67
                        },
                        {
                          "Hours": 7.4,
                          "Scores": 69
                        },
                        {
                          "Hours": 2.7,
                          "Scores": 30
                        },
                        {
                          "Hours": 4.8,
                          "Scores": 54
                        },
                        {
                          "Hours": 3.8,
                          "Scores": 35
                        },
                        {
                          "Hours": 6.9,
                          "Scores": 76
                        },
                        {
                          "Hours": 7.8,
                          "Scores": 86
                        }
                      ]
                    },
                    "vislib": "vegalite"
                  }
                ]
              },
              {
                "action": "Distribution",
                "description": "Show univariate histograms of <p class='highlight-descriptor'>quantitative</p>  attributes.",
                "long_description": "Distribution displays univariate histogram distributions of all quantitative attributes (e.g., Hours). Visualizations are ranked from most to least skewed.",
                "vspec": [
                  {
                    "config": {
                      "view": {
                        "continuousWidth": 400,
                        "continuousHeight": 300
                      },
                      "axis": {
                        "labelColor": "#505050",
                        "labelFont": "Helvetica Neue",
                        "labelFontSize": 9,
                        "labelFontWeight": 400,
                        "titleFont": "Helvetica Neue",
                        "titleFontSize": 11,
                        "titleFontWeight": 500
                      },
                      "legend": {
                        "labelFont": "Helvetica Neue",
                        "labelFontSize": 9,
                        "labelFontWeight": 400,
                        "titleFont": "Helvetica Neue",
                        "titleFontSize": 10,
                        "titleFontWeight": 500
                      },
                      "title": {
                        "font": "Helvetica Neue",
                        "fontSize": 13,
                        "fontWeight": 500
                      }
                    },
                    "data": {
                      "name": "data-33d4b7b7245214c4dc5276864a9de5c8"
                    },
                    "mark": "bar",
                    "encoding": {
                      "x": {
                        "axis": {
                          "title": "Scores (binned)"
                        },
                        "bin": {
                          "binned": true,
                          "step": 7.800000000000001
                        },
                        "field": "Scores",
                        "scale": {
                          "domain": [
                            17,
                            95
                          ]
                        },
                        "title": "Scores (binned)",
                        "type": "quantitative"
                      },
                      "x2": {
                        "field": "Scores_end"
                      },
                      "y": {
                        "field": "Number of Records",
                        "type": "quantitative"
                      }
                    },
                    "height": 150,
                    "width": 160,
                    "$schema": "https://vega.github.io/schema/vega-lite/v4.17.0.json",
                    "datasets": {
                      "data-33d4b7b7245214c4dc5276864a9de5c8": [
                        {
                          "Scores": 17,
                          "Number of Records": 4,
                          "Scores_end": 25.189999999999998
                        },
                        {
                          "Scores": 24.8,
                          "Number of Records": 5,
                          "Scores_end": 32.99
                        },
                        {
                          "Scores": 32.6,
                          "Number of Records": 1,
                          "Scores_end": 40.79
                        },
                        {
                          "Scores": 40.4,
                          "Number of Records": 3,
                          "Scores_end": 48.589999999999996
                        },
                        {
                          "Scores": 48.2,
                          "Number of Records": 1,
                          "Scores_end": 56.39
                        },
                        {
                          "Scores": 56,
                          "Number of Records": 2,
                          "Scores_end": 64.19
                        },
                        {
                          "Scores": 63.8,
                          "Number of Records": 2,
                          "Scores_end": 71.99
                        },
                        {
                          "Scores": 71.6,
                          "Number of Records": 2,
                          "Scores_end": 79.78999999999999
                        },
                        {
                          "Scores": 79.4,
                          "Number of Records": 3,
                          "Scores_end": 87.59
                        },
                        {
                          "Scores": 87.2,
                          "Number of Records": 2,
                          "Scores_end": 95.39
                        }
                      ]
                    },
                    "vislib": "vegalite"
                  },
                  {
                    "config": {
                      "view": {
                        "continuousWidth": 400,
                        "continuousHeight": 300
                      },
                      "axis": {
                        "labelColor": "#505050",
                        "labelFont": "Helvetica Neue",
                        "labelFontSize": 9,
                        "labelFontWeight": 400,
                        "titleFont": "Helvetica Neue",
                        "titleFontSize": 11,
                        "titleFontWeight": 500
                      },
                      "legend": {
                        "labelFont": "Helvetica Neue",
                        "labelFontSize": 9,
                        "labelFontWeight": 400,
                        "titleFont": "Helvetica Neue",
                        "titleFontSize": 10,
                        "titleFontWeight": 500
                      },
                      "title": {
                        "font": "Helvetica Neue",
                        "fontSize": 13,
                        "fontWeight": 500
                      }
                    },
                    "data": {
                      "name": "data-eee34c051002a48e6215bb3c880781ce"
                    },
                    "mark": "bar",
                    "encoding": {
                      "x": {
                        "axis": {
                          "title": "Hours (binned)"
                        },
                        "bin": {
                          "binned": true,
                          "step": 0.81
                        },
                        "field": "Hours",
                        "scale": {
                          "domain": [
                            1.1,
                            9.2
                          ]
                        },
                        "title": "Hours (binned)",
                        "type": "quantitative"
                      },
                      "x2": {
                        "field": "Hours_end"
                      },
                      "y": {
                        "field": "Number of Records",
                        "type": "quantitative"
                      }
                    },
                    "height": 150,
                    "width": 160,
                    "$schema": "https://vega.github.io/schema/vega-lite/v4.17.0.json",
                    "datasets": {
                      "data-eee34c051002a48e6215bb3c880781ce": [
                        {
                          "Hours": 1.1,
                          "Number of Records": 3,
                          "Hours_end": 1.9500000000000002
                        },
                        {
                          "Hours": 1.9100000000000001,
                          "Number of Records": 4,
                          "Hours_end": 2.7600000000000002
                        },
                        {
                          "Hours": 2.7199999999999998,
                          "Number of Records": 3,
                          "Hours_end": 3.57
                        },
                        {
                          "Hours": 3.53,
                          "Number of Records": 1,
                          "Hours_end": 4.38
                        },
                        {
                          "Hours": 4.34,
                          "Number of Records": 3,
                          "Hours_end": 5.1899999999999995
                        },
                        {
                          "Hours": 5.15,
                          "Number of Records": 2,
                          "Hours_end": 6
                        },
                        {
                          "Hours": 5.959999999999999,
                          "Number of Records": 1,
                          "Hours_end": 6.809999999999999
                        },
                        {
                          "Hours": 6.77,
                          "Number of Records": 2,
                          "Hours_end": 7.619999999999999
                        },
                        {
                          "Hours": 7.58,
                          "Number of Records": 3,
                          "Hours_end": 8.43
                        },
                        {
                          "Hours": 8.389999999999999,
                          "Number of Records": 3,
                          "Hours_end": 9.239999999999998
                        }
                      ]
                    },
                    "vislib": "vegalite"
                  }
                ]
              }
            ],
            "selectedIntentIndex": {}
          }
        },
        "995653b8047349ff9d39c91b9a8f2621": {
          "model_module": "@jupyter-widgets/controls",
          "model_name": "ButtonModel",
          "model_module_version": "1.5.0",
          "state": {
            "_dom_classes": [],
            "_model_module": "@jupyter-widgets/controls",
            "_model_module_version": "1.5.0",
            "_model_name": "ButtonModel",
            "_view_count": null,
            "_view_module": "@jupyter-widgets/controls",
            "_view_module_version": "1.5.0",
            "_view_name": "ButtonView",
            "button_style": "",
            "description": "Toggle Pandas/Lux",
            "disabled": false,
            "icon": "",
            "layout": "IPY_MODEL_54a0ba71866e421e9c6d16bf97f7afca",
            "style": "IPY_MODEL_4ffeee0efa144bc789f4dcb870a6c1c8",
            "tooltip": ""
          }
        },
        "54a0ba71866e421e9c6d16bf97f7afca": {
          "model_module": "@jupyter-widgets/base",
          "model_name": "LayoutModel",
          "model_module_version": "1.2.0",
          "state": {
            "_model_module": "@jupyter-widgets/base",
            "_model_module_version": "1.2.0",
            "_model_name": "LayoutModel",
            "_view_count": null,
            "_view_module": "@jupyter-widgets/base",
            "_view_module_version": "1.2.0",
            "_view_name": "LayoutView",
            "align_content": null,
            "align_items": null,
            "align_self": null,
            "border": null,
            "bottom": null,
            "display": null,
            "flex": null,
            "flex_flow": null,
            "grid_area": null,
            "grid_auto_columns": null,
            "grid_auto_flow": null,
            "grid_auto_rows": null,
            "grid_column": null,
            "grid_gap": null,
            "grid_row": null,
            "grid_template_areas": null,
            "grid_template_columns": null,
            "grid_template_rows": null,
            "height": null,
            "justify_content": null,
            "justify_items": null,
            "left": null,
            "margin": null,
            "max_height": null,
            "max_width": null,
            "min_height": null,
            "min_width": null,
            "object_fit": null,
            "object_position": null,
            "order": null,
            "overflow": null,
            "overflow_x": null,
            "overflow_y": null,
            "padding": null,
            "right": null,
            "top": "5px",
            "visibility": null,
            "width": "140px"
          }
        },
        "4ffeee0efa144bc789f4dcb870a6c1c8": {
          "model_module": "@jupyter-widgets/controls",
          "model_name": "ButtonStyleModel",
          "model_module_version": "1.5.0",
          "state": {
            "_model_module": "@jupyter-widgets/controls",
            "_model_module_version": "1.5.0",
            "_model_name": "ButtonStyleModel",
            "_view_count": null,
            "_view_module": "@jupyter-widgets/base",
            "_view_module_version": "1.2.0",
            "_view_name": "StyleView",
            "button_color": null,
            "font_weight": ""
          }
        },
        "d2e443a992834a6099d65edfea688dec": {
          "model_module": "@jupyter-widgets/output",
          "model_name": "OutputModel",
          "model_module_version": "1.0.0",
          "state": {
            "_dom_classes": [],
            "_model_module": "@jupyter-widgets/output",
            "_model_module_version": "1.0.0",
            "_model_name": "OutputModel",
            "_view_count": null,
            "_view_module": "@jupyter-widgets/output",
            "_view_module_version": "1.0.0",
            "_view_name": "OutputView",
            "layout": "IPY_MODEL_7b2bdf241fa4437fa17a0e09ca03c134",
            "msg_id": "",
            "outputs": [
              {
                "output_type": "display_data",
                "data": {
                  "text/plain": "    Hours  Scores\n0     2.5      21\n1     5.1      47\n2     3.2      27\n3     8.5      75\n4     3.5      30\n5     1.5      20\n6     9.2      88\n7     5.5      60\n8     8.3      81\n9     2.7      25\n10    7.7      85\n11    5.9      62\n12    4.5      41\n13    3.3      42\n14    1.1      17\n15    8.9      95\n16    2.5      30\n17    1.9      24\n18    6.1      67\n19    7.4      69\n20    2.7      30\n21    4.8      54\n22    3.8      35\n23    6.9      76\n24    7.8      86",
                  "text/html": "\n  <div id=\"df-34c0ca06-3a9f-4e5b-a8db-6e4b8b942fa9\" class=\"colab-df-container\">\n    <div>\n<style scoped>\n    .dataframe tbody tr th:only-of-type {\n        vertical-align: middle;\n    }\n\n    .dataframe tbody tr th {\n        vertical-align: top;\n    }\n\n    .dataframe thead th {\n        text-align: right;\n    }\n</style>\n<table border=\"1\" class=\"dataframe\">\n  <thead>\n    <tr style=\"text-align: right;\">\n      <th></th>\n      <th>Hours</th>\n      <th>Scores</th>\n    </tr>\n  </thead>\n  <tbody>\n    <tr>\n      <th>0</th>\n      <td>2.5</td>\n      <td>21</td>\n    </tr>\n    <tr>\n      <th>1</th>\n      <td>5.1</td>\n      <td>47</td>\n    </tr>\n    <tr>\n      <th>2</th>\n      <td>3.2</td>\n      <td>27</td>\n    </tr>\n    <tr>\n      <th>3</th>\n      <td>8.5</td>\n      <td>75</td>\n    </tr>\n    <tr>\n      <th>4</th>\n      <td>3.5</td>\n      <td>30</td>\n    </tr>\n    <tr>\n      <th>5</th>\n      <td>1.5</td>\n      <td>20</td>\n    </tr>\n    <tr>\n      <th>6</th>\n      <td>9.2</td>\n      <td>88</td>\n    </tr>\n    <tr>\n      <th>7</th>\n      <td>5.5</td>\n      <td>60</td>\n    </tr>\n    <tr>\n      <th>8</th>\n      <td>8.3</td>\n      <td>81</td>\n    </tr>\n    <tr>\n      <th>9</th>\n      <td>2.7</td>\n      <td>25</td>\n    </tr>\n    <tr>\n      <th>10</th>\n      <td>7.7</td>\n      <td>85</td>\n    </tr>\n    <tr>\n      <th>11</th>\n      <td>5.9</td>\n      <td>62</td>\n    </tr>\n    <tr>\n      <th>12</th>\n      <td>4.5</td>\n      <td>41</td>\n    </tr>\n    <tr>\n      <th>13</th>\n      <td>3.3</td>\n      <td>42</td>\n    </tr>\n    <tr>\n      <th>14</th>\n      <td>1.1</td>\n      <td>17</td>\n    </tr>\n    <tr>\n      <th>15</th>\n      <td>8.9</td>\n      <td>95</td>\n    </tr>\n    <tr>\n      <th>16</th>\n      <td>2.5</td>\n      <td>30</td>\n    </tr>\n    <tr>\n      <th>17</th>\n      <td>1.9</td>\n      <td>24</td>\n    </tr>\n    <tr>\n      <th>18</th>\n      <td>6.1</td>\n      <td>67</td>\n    </tr>\n    <tr>\n      <th>19</th>\n      <td>7.4</td>\n      <td>69</td>\n    </tr>\n    <tr>\n      <th>20</th>\n      <td>2.7</td>\n      <td>30</td>\n    </tr>\n    <tr>\n      <th>21</th>\n      <td>4.8</td>\n      <td>54</td>\n    </tr>\n    <tr>\n      <th>22</th>\n      <td>3.8</td>\n      <td>35</td>\n    </tr>\n    <tr>\n      <th>23</th>\n      <td>6.9</td>\n      <td>76</td>\n    </tr>\n    <tr>\n      <th>24</th>\n      <td>7.8</td>\n      <td>86</td>\n    </tr>\n  </tbody>\n</table>\n</div>\n    <div class=\"colab-df-buttons\">\n\n  <div class=\"colab-df-container\">\n    <button class=\"colab-df-convert\" onclick=\"convertToInteractive('df-34c0ca06-3a9f-4e5b-a8db-6e4b8b942fa9')\"\n            title=\"Convert this dataframe to an interactive table.\"\n            style=\"display:none;\">\n\n  <svg xmlns=\"http://www.w3.org/2000/svg\" height=\"24px\" viewBox=\"0 -960 960 960\">\n    <path d=\"M120-120v-720h720v720H120Zm60-500h600v-160H180v160Zm220 220h160v-160H400v160Zm0 220h160v-160H400v160ZM180-400h160v-160H180v160Zm440 0h160v-160H620v160ZM180-180h160v-160H180v160Zm440 0h160v-160H620v160Z\"/>\n  </svg>\n    </button>\n\n  <style>\n    .colab-df-container {\n      display:flex;\n      gap: 12px;\n    }\n\n    .colab-df-convert {\n      background-color: #E8F0FE;\n      border: none;\n      border-radius: 50%;\n      cursor: pointer;\n      display: none;\n      fill: #1967D2;\n      height: 32px;\n      padding: 0 0 0 0;\n      width: 32px;\n    }\n\n    .colab-df-convert:hover {\n      background-color: #E2EBFA;\n      box-shadow: 0px 1px 2px rgba(60, 64, 67, 0.3), 0px 1px 3px 1px rgba(60, 64, 67, 0.15);\n      fill: #174EA6;\n    }\n\n    .colab-df-buttons div {\n      margin-bottom: 4px;\n    }\n\n    [theme=dark] .colab-df-convert {\n      background-color: #3B4455;\n      fill: #D2E3FC;\n    }\n\n    [theme=dark] .colab-df-convert:hover {\n      background-color: #434B5C;\n      box-shadow: 0px 1px 3px 1px rgba(0, 0, 0, 0.15);\n      filter: drop-shadow(0px 1px 2px rgba(0, 0, 0, 0.3));\n      fill: #FFFFFF;\n    }\n  </style>\n\n    <script>\n      const buttonEl =\n        document.querySelector('#df-34c0ca06-3a9f-4e5b-a8db-6e4b8b942fa9 button.colab-df-convert');\n      buttonEl.style.display =\n        google.colab.kernel.accessAllowed ? 'block' : 'none';\n\n      async function convertToInteractive(key) {\n        const element = document.querySelector('#df-34c0ca06-3a9f-4e5b-a8db-6e4b8b942fa9');\n        const dataTable =\n          await google.colab.kernel.invokeFunction('convertToInteractive',\n                                                    [key], {});\n        if (!dataTable) return;\n\n        const docLinkHtml = 'Like what you see? Visit the ' +\n          '<a target=\"_blank\" href=https://colab.research.google.com/notebooks/data_table.ipynb>data table notebook</a>'\n          + ' to learn more about interactive tables.';\n        element.innerHTML = '';\n        dataTable['output_type'] = 'display_data';\n        await google.colab.output.renderOutput(dataTable, element);\n        const docLink = document.createElement('div');\n        docLink.innerHTML = docLinkHtml;\n        element.appendChild(docLink);\n      }\n    </script>\n  </div>\n\n\n<div id=\"df-0fb6e76c-4b3f-45c7-a361-39ff99bc9dce\">\n  <button class=\"colab-df-quickchart\" onclick=\"quickchart('df-0fb6e76c-4b3f-45c7-a361-39ff99bc9dce')\"\n            title=\"Suggest charts.\"\n            style=\"display:none;\">\n\n<svg xmlns=\"http://www.w3.org/2000/svg\" height=\"24px\"viewBox=\"0 0 24 24\"\n     width=\"24px\">\n    <g>\n        <path d=\"M19 3H5c-1.1 0-2 .9-2 2v14c0 1.1.9 2 2 2h14c1.1 0 2-.9 2-2V5c0-1.1-.9-2-2-2zM9 17H7v-7h2v7zm4 0h-2V7h2v10zm4 0h-2v-4h2v4z\"/>\n    </g>\n</svg>\n  </button>\n\n<style>\n  .colab-df-quickchart {\n      --bg-color: #E8F0FE;\n      --fill-color: #1967D2;\n      --hover-bg-color: #E2EBFA;\n      --hover-fill-color: #174EA6;\n      --disabled-fill-color: #AAA;\n      --disabled-bg-color: #DDD;\n  }\n\n  [theme=dark] .colab-df-quickchart {\n      --bg-color: #3B4455;\n      --fill-color: #D2E3FC;\n      --hover-bg-color: #434B5C;\n      --hover-fill-color: #FFFFFF;\n      --disabled-bg-color: #3B4455;\n      --disabled-fill-color: #666;\n  }\n\n  .colab-df-quickchart {\n    background-color: var(--bg-color);\n    border: none;\n    border-radius: 50%;\n    cursor: pointer;\n    display: none;\n    fill: var(--fill-color);\n    height: 32px;\n    padding: 0;\n    width: 32px;\n  }\n\n  .colab-df-quickchart:hover {\n    background-color: var(--hover-bg-color);\n    box-shadow: 0 1px 2px rgba(60, 64, 67, 0.3), 0 1px 3px 1px rgba(60, 64, 67, 0.15);\n    fill: var(--button-hover-fill-color);\n  }\n\n  .colab-df-quickchart-complete:disabled,\n  .colab-df-quickchart-complete:disabled:hover {\n    background-color: var(--disabled-bg-color);\n    fill: var(--disabled-fill-color);\n    box-shadow: none;\n  }\n\n  .colab-df-spinner {\n    border: 2px solid var(--fill-color);\n    border-color: transparent;\n    border-bottom-color: var(--fill-color);\n    animation:\n      spin 1s steps(1) infinite;\n  }\n\n  @keyframes spin {\n    0% {\n      border-color: transparent;\n      border-bottom-color: var(--fill-color);\n      border-left-color: var(--fill-color);\n    }\n    20% {\n      border-color: transparent;\n      border-left-color: var(--fill-color);\n      border-top-color: var(--fill-color);\n    }\n    30% {\n      border-color: transparent;\n      border-left-color: var(--fill-color);\n      border-top-color: var(--fill-color);\n      border-right-color: var(--fill-color);\n    }\n    40% {\n      border-color: transparent;\n      border-right-color: var(--fill-color);\n      border-top-color: var(--fill-color);\n    }\n    60% {\n      border-color: transparent;\n      border-right-color: var(--fill-color);\n    }\n    80% {\n      border-color: transparent;\n      border-right-color: var(--fill-color);\n      border-bottom-color: var(--fill-color);\n    }\n    90% {\n      border-color: transparent;\n      border-bottom-color: var(--fill-color);\n    }\n  }\n</style>\n\n  <script>\n    async function quickchart(key) {\n      const quickchartButtonEl =\n        document.querySelector('#' + key + ' button');\n      quickchartButtonEl.disabled = true;  // To prevent multiple clicks.\n      quickchartButtonEl.classList.add('colab-df-spinner');\n      try {\n        const charts = await google.colab.kernel.invokeFunction(\n            'suggestCharts', [key], {});\n      } catch (error) {\n        console.error('Error during call to suggestCharts:', error);\n      }\n      quickchartButtonEl.classList.remove('colab-df-spinner');\n      quickchartButtonEl.classList.add('colab-df-quickchart-complete');\n    }\n    (() => {\n      let quickchartButtonEl =\n        document.querySelector('#df-0fb6e76c-4b3f-45c7-a361-39ff99bc9dce button');\n      quickchartButtonEl.style.display =\n        google.colab.kernel.accessAllowed ? 'block' : 'none';\n    })();\n  </script>\n</div>\n    </div>\n  </div>\n"
                },
                "metadata": {}
              }
            ]
          }
        },
        "7b2bdf241fa4437fa17a0e09ca03c134": {
          "model_module": "@jupyter-widgets/base",
          "model_name": "LayoutModel",
          "model_module_version": "1.2.0",
          "state": {
            "_model_module": "@jupyter-widgets/base",
            "_model_module_version": "1.2.0",
            "_model_name": "LayoutModel",
            "_view_count": null,
            "_view_module": "@jupyter-widgets/base",
            "_view_module_version": "1.2.0",
            "_view_name": "LayoutView",
            "align_content": null,
            "align_items": null,
            "align_self": null,
            "border": null,
            "bottom": null,
            "display": null,
            "flex": null,
            "flex_flow": null,
            "grid_area": null,
            "grid_auto_columns": null,
            "grid_auto_flow": null,
            "grid_auto_rows": null,
            "grid_column": null,
            "grid_gap": null,
            "grid_row": null,
            "grid_template_areas": null,
            "grid_template_columns": null,
            "grid_template_rows": null,
            "height": null,
            "justify_content": null,
            "justify_items": null,
            "left": null,
            "margin": null,
            "max_height": null,
            "max_width": null,
            "min_height": null,
            "min_width": null,
            "object_fit": null,
            "object_position": null,
            "order": null,
            "overflow": null,
            "overflow_x": null,
            "overflow_y": null,
            "padding": null,
            "right": null,
            "top": null,
            "visibility": null,
            "width": null
          }
        },
        "3957aac0287e46be830f9fb7f85ad0fb": {
          "model_module": "luxwidget",
          "model_name": "LuxModel",
          "model_module_version": "0.1.11",
          "state": {
            "_dom_classes": [],
            "_model_module": "luxwidget",
            "_model_module_version": "0.1.11",
            "_model_name": "LuxModel",
            "_selectedVisIdxs": {},
            "_view_count": null,
            "_view_module": "luxwidget",
            "_view_module_version": "0.1.11",
            "_view_name": "LuxWidgetView",
            "all_column": false,
            "current_vis": {
              "config": {
                "view": {
                  "continuousWidth": 400,
                  "continuousHeight": 300
                },
                "axis": {
                  "labelColor": "#505050",
                  "labelFont": "Helvetica Neue",
                  "labelFontSize": 9,
                  "labelFontWeight": 400,
                  "titleFont": "Helvetica Neue",
                  "titleFontSize": 11,
                  "titleFontWeight": 500
                },
                "legend": {
                  "labelFont": "Helvetica Neue",
                  "labelFontSize": 9,
                  "labelFontWeight": 400,
                  "titleFont": "Helvetica Neue",
                  "titleFontSize": 10,
                  "titleFontWeight": 500
                },
                "mark": {
                  "tooltip": {
                    "content": "encoding"
                  }
                },
                "title": {
                  "font": "Helvetica Neue",
                  "fontSize": 13,
                  "fontWeight": 500
                }
              },
              "data": {
                "name": "data-c99ab52ae6a4b6730d5f0980ab2abb53"
              },
              "mark": "circle",
              "encoding": {
                "x": {
                  "axis": {
                    "title": "Hours"
                  },
                  "field": "Hours",
                  "scale": {
                    "domain": [
                      1.1,
                      9.2
                    ]
                  },
                  "type": "quantitative"
                },
                "y": {
                  "axis": {
                    "title": "Scores"
                  },
                  "field": "Scores",
                  "scale": {
                    "domain": [
                      17,
                      95
                    ]
                  },
                  "type": "quantitative"
                }
              },
              "height": 150,
              "selection": {
                "selector003": {
                  "type": "interval",
                  "bind": "scales",
                  "encodings": [
                    "x",
                    "y"
                  ]
                }
              },
              "width": 160,
              "$schema": "https://vega.github.io/schema/vega-lite/v4.17.0.json",
              "datasets": {
                "data-c99ab52ae6a4b6730d5f0980ab2abb53": [
                  {
                    "Hours": 2.5,
                    "Scores": 21
                  },
                  {
                    "Hours": 5.1,
                    "Scores": 47
                  },
                  {
                    "Hours": 3.2,
                    "Scores": 27
                  },
                  {
                    "Hours": 8.5,
                    "Scores": 75
                  },
                  {
                    "Hours": 3.5,
                    "Scores": 30
                  },
                  {
                    "Hours": 1.5,
                    "Scores": 20
                  },
                  {
                    "Hours": 9.2,
                    "Scores": 88
                  },
                  {
                    "Hours": 5.5,
                    "Scores": 60
                  },
                  {
                    "Hours": 8.3,
                    "Scores": 81
                  },
                  {
                    "Hours": 2.7,
                    "Scores": 25
                  },
                  {
                    "Hours": 7.7,
                    "Scores": 85
                  },
                  {
                    "Hours": 5.9,
                    "Scores": 62
                  },
                  {
                    "Hours": 4.5,
                    "Scores": 41
                  },
                  {
                    "Hours": 3.3,
                    "Scores": 42
                  },
                  {
                    "Hours": 1.1,
                    "Scores": 17
                  },
                  {
                    "Hours": 8.9,
                    "Scores": 95
                  },
                  {
                    "Hours": 2.5,
                    "Scores": 30
                  },
                  {
                    "Hours": 1.9,
                    "Scores": 24
                  },
                  {
                    "Hours": 6.1,
                    "Scores": 67
                  },
                  {
                    "Hours": 7.4,
                    "Scores": 69
                  },
                  {
                    "Hours": 2.7,
                    "Scores": 30
                  },
                  {
                    "Hours": 4.8,
                    "Scores": 54
                  },
                  {
                    "Hours": 3.8,
                    "Scores": 35
                  },
                  {
                    "Hours": 6.9,
                    "Scores": 76
                  },
                  {
                    "Hours": 7.8,
                    "Scores": 86
                  }
                ]
              },
              "vislib": "vegalite",
              "allcols": true
            },
            "data": [],
            "deletedIndices": {},
            "intent": "",
            "layout": "IPY_MODEL_1ace2c289c334e43a5418b493f48ec3b",
            "message": "",
            "plotting_scale": 1,
            "recommendations": [],
            "selectedIntentIndex": {}
          }
        }
      }
    }
  },
  "cells": [
    {
      "cell_type": "markdown",
      "metadata": {
        "id": "view-in-github",
        "colab_type": "text"
      },
      "source": [
        "<a href=\"https://colab.research.google.com/github/shiv2077/NSCC_MLdomain_tasks/blob/main/ML_TASK_1.ipynb\" target=\"_parent\"><img src=\"https://colab.research.google.com/assets/colab-badge.svg\" alt=\"Open In Colab\"/></a>"
      ]
    },
    {
      "cell_type": "markdown",
      "source": [
        "# **PREDICTION USING SUPERVISED ML**"
      ],
      "metadata": {
        "id": "kajJg4y2FHou"
      }
    },
    {
      "cell_type": "markdown",
      "source": [
        "TASK GIVEN - What will be predicted score if a student studies for 9.25 hrs/ day?"
      ],
      "metadata": {
        "id": "14r14yGyFr4P"
      }
    },
    {
      "cell_type": "markdown",
      "source": [
        "**Step 1 - Install lux api**"
      ],
      "metadata": {
        "id": "2Zum-g0hFzXM"
      }
    },
    {
      "cell_type": "code",
      "source": [
        "pip install lux-api"
      ],
      "metadata": {
        "colab": {
          "base_uri": "https://localhost:8080/"
        },
        "id": "6JKR0vXJARRR",
        "outputId": "6be32f54-8915-496f-817f-841c5e7daefa"
      },
      "execution_count": 2,
      "outputs": [
        {
          "output_type": "stream",
          "name": "stdout",
          "text": [
            "Collecting lux-api\n",
            "  Downloading lux-api-0.5.1.tar.gz (127 kB)\n",
            "\u001b[2K     \u001b[90m━━━━━━━━━━━━━━━━━━━━━━━━━━━━━━━━━━━━━━━\u001b[0m \u001b[32m127.0/127.0 kB\u001b[0m \u001b[31m2.0 MB/s\u001b[0m eta \u001b[36m0:00:00\u001b[0m\n",
            "\u001b[?25h  Installing build dependencies ... \u001b[?25l\u001b[?25hdone\n",
            "  Getting requirements to build wheel ... \u001b[?25l\u001b[?25hdone\n",
            "  Preparing metadata (pyproject.toml) ... \u001b[?25l\u001b[?25hdone\n",
            "Requirement already satisfied: scipy>=1.3.3 in /usr/local/lib/python3.10/dist-packages (from lux-api) (1.10.1)\n",
            "Requirement already satisfied: altair>=4.0.0 in /usr/local/lib/python3.10/dist-packages (from lux-api) (4.2.2)\n",
            "Requirement already satisfied: numpy>=1.16.5 in /usr/local/lib/python3.10/dist-packages (from lux-api) (1.23.5)\n",
            "Requirement already satisfied: pandas in /usr/local/lib/python3.10/dist-packages (from lux-api) (1.5.3)\n",
            "Requirement already satisfied: scikit-learn>=0.22 in /usr/local/lib/python3.10/dist-packages (from lux-api) (1.2.2)\n",
            "Requirement already satisfied: matplotlib>=3.0.0 in /usr/local/lib/python3.10/dist-packages (from lux-api) (3.7.1)\n",
            "Collecting lux-widget>=0.1.4 (from lux-api)\n",
            "  Downloading lux-widget-0.1.11.tar.gz (2.5 MB)\n",
            "\u001b[2K     \u001b[90m━━━━━━━━━━━━━━━━━━━━━━━━━━━━━━━━━━━━━━━━\u001b[0m \u001b[32m2.5/2.5 MB\u001b[0m \u001b[31m11.1 MB/s\u001b[0m eta \u001b[36m0:00:00\u001b[0m\n",
            "\u001b[?25h  Preparing metadata (setup.py) ... \u001b[?25l\u001b[?25hdone\n",
            "Collecting autopep8>=1.5 (from lux-api)\n",
            "  Downloading autopep8-2.0.4-py2.py3-none-any.whl (45 kB)\n",
            "\u001b[2K     \u001b[90m━━━━━━━━━━━━━━━━━━━━━━━━━━━━━━━━━━━━━━━━\u001b[0m \u001b[32m45.3/45.3 kB\u001b[0m \u001b[31m4.8 MB/s\u001b[0m eta \u001b[36m0:00:00\u001b[0m\n",
            "\u001b[?25hCollecting iso3166 (from lux-api)\n",
            "  Downloading iso3166-2.1.1-py3-none-any.whl (9.8 kB)\n",
            "Requirement already satisfied: psutil>=5.9.0 in /usr/local/lib/python3.10/dist-packages (from lux-api) (5.9.5)\n",
            "Collecting sh (from lux-api)\n",
            "  Downloading sh-2.0.6-py3-none-any.whl (38 kB)\n",
            "Requirement already satisfied: entrypoints in /usr/local/lib/python3.10/dist-packages (from altair>=4.0.0->lux-api) (0.4)\n",
            "Requirement already satisfied: jinja2 in /usr/local/lib/python3.10/dist-packages (from altair>=4.0.0->lux-api) (3.1.2)\n",
            "Requirement already satisfied: jsonschema>=3.0 in /usr/local/lib/python3.10/dist-packages (from altair>=4.0.0->lux-api) (4.19.0)\n",
            "Requirement already satisfied: toolz in /usr/local/lib/python3.10/dist-packages (from altair>=4.0.0->lux-api) (0.12.0)\n",
            "Collecting pycodestyle>=2.10.0 (from autopep8>=1.5->lux-api)\n",
            "  Downloading pycodestyle-2.11.0-py2.py3-none-any.whl (31 kB)\n",
            "Requirement already satisfied: tomli in /usr/local/lib/python3.10/dist-packages (from autopep8>=1.5->lux-api) (2.0.1)\n",
            "Requirement already satisfied: notebook>=4.0.0 in /usr/local/lib/python3.10/dist-packages (from lux-widget>=0.1.4->lux-api) (6.5.5)\n",
            "Requirement already satisfied: ipywidgets>=7.5.0 in /usr/local/lib/python3.10/dist-packages (from lux-widget>=0.1.4->lux-api) (7.7.1)\n",
            "Requirement already satisfied: contourpy>=1.0.1 in /usr/local/lib/python3.10/dist-packages (from matplotlib>=3.0.0->lux-api) (1.1.0)\n",
            "Requirement already satisfied: cycler>=0.10 in /usr/local/lib/python3.10/dist-packages (from matplotlib>=3.0.0->lux-api) (0.11.0)\n",
            "Requirement already satisfied: fonttools>=4.22.0 in /usr/local/lib/python3.10/dist-packages (from matplotlib>=3.0.0->lux-api) (4.42.1)\n",
            "Requirement already satisfied: kiwisolver>=1.0.1 in /usr/local/lib/python3.10/dist-packages (from matplotlib>=3.0.0->lux-api) (1.4.5)\n",
            "Requirement already satisfied: packaging>=20.0 in /usr/local/lib/python3.10/dist-packages (from matplotlib>=3.0.0->lux-api) (23.1)\n",
            "Requirement already satisfied: pillow>=6.2.0 in /usr/local/lib/python3.10/dist-packages (from matplotlib>=3.0.0->lux-api) (9.4.0)\n",
            "Requirement already satisfied: pyparsing>=2.3.1 in /usr/local/lib/python3.10/dist-packages (from matplotlib>=3.0.0->lux-api) (3.1.1)\n",
            "Requirement already satisfied: python-dateutil>=2.7 in /usr/local/lib/python3.10/dist-packages (from matplotlib>=3.0.0->lux-api) (2.8.2)\n",
            "Requirement already satisfied: pytz>=2020.1 in /usr/local/lib/python3.10/dist-packages (from pandas->lux-api) (2023.3.post1)\n",
            "Requirement already satisfied: joblib>=1.1.1 in /usr/local/lib/python3.10/dist-packages (from scikit-learn>=0.22->lux-api) (1.3.2)\n",
            "Requirement already satisfied: threadpoolctl>=2.0.0 in /usr/local/lib/python3.10/dist-packages (from scikit-learn>=0.22->lux-api) (3.2.0)\n",
            "Requirement already satisfied: ipykernel>=4.5.1 in /usr/local/lib/python3.10/dist-packages (from ipywidgets>=7.5.0->lux-widget>=0.1.4->lux-api) (5.5.6)\n",
            "Requirement already satisfied: ipython-genutils~=0.2.0 in /usr/local/lib/python3.10/dist-packages (from ipywidgets>=7.5.0->lux-widget>=0.1.4->lux-api) (0.2.0)\n",
            "Requirement already satisfied: traitlets>=4.3.1 in /usr/local/lib/python3.10/dist-packages (from ipywidgets>=7.5.0->lux-widget>=0.1.4->lux-api) (5.7.1)\n",
            "Requirement already satisfied: widgetsnbextension~=3.6.0 in /usr/local/lib/python3.10/dist-packages (from ipywidgets>=7.5.0->lux-widget>=0.1.4->lux-api) (3.6.5)\n",
            "Requirement already satisfied: ipython>=4.0.0 in /usr/local/lib/python3.10/dist-packages (from ipywidgets>=7.5.0->lux-widget>=0.1.4->lux-api) (7.34.0)\n",
            "Requirement already satisfied: jupyterlab-widgets>=1.0.0 in /usr/local/lib/python3.10/dist-packages (from ipywidgets>=7.5.0->lux-widget>=0.1.4->lux-api) (3.0.8)\n",
            "Requirement already satisfied: attrs>=22.2.0 in /usr/local/lib/python3.10/dist-packages (from jsonschema>=3.0->altair>=4.0.0->lux-api) (23.1.0)\n",
            "Requirement already satisfied: jsonschema-specifications>=2023.03.6 in /usr/local/lib/python3.10/dist-packages (from jsonschema>=3.0->altair>=4.0.0->lux-api) (2023.7.1)\n",
            "Requirement already satisfied: referencing>=0.28.4 in /usr/local/lib/python3.10/dist-packages (from jsonschema>=3.0->altair>=4.0.0->lux-api) (0.30.2)\n",
            "Requirement already satisfied: rpds-py>=0.7.1 in /usr/local/lib/python3.10/dist-packages (from jsonschema>=3.0->altair>=4.0.0->lux-api) (0.10.2)\n",
            "Requirement already satisfied: tornado>=6.1 in /usr/local/lib/python3.10/dist-packages (from notebook>=4.0.0->lux-widget>=0.1.4->lux-api) (6.3.2)\n",
            "Requirement already satisfied: pyzmq<25,>=17 in /usr/local/lib/python3.10/dist-packages (from notebook>=4.0.0->lux-widget>=0.1.4->lux-api) (23.2.1)\n",
            "Requirement already satisfied: argon2-cffi in /usr/local/lib/python3.10/dist-packages (from notebook>=4.0.0->lux-widget>=0.1.4->lux-api) (23.1.0)\n",
            "Requirement already satisfied: jupyter-core>=4.6.1 in /usr/local/lib/python3.10/dist-packages (from notebook>=4.0.0->lux-widget>=0.1.4->lux-api) (5.3.1)\n",
            "Requirement already satisfied: jupyter-client<8,>=5.3.4 in /usr/local/lib/python3.10/dist-packages (from notebook>=4.0.0->lux-widget>=0.1.4->lux-api) (6.1.12)\n",
            "Requirement already satisfied: nbformat in /usr/local/lib/python3.10/dist-packages (from notebook>=4.0.0->lux-widget>=0.1.4->lux-api) (5.9.2)\n",
            "Requirement already satisfied: nbconvert>=5 in /usr/local/lib/python3.10/dist-packages (from notebook>=4.0.0->lux-widget>=0.1.4->lux-api) (6.5.4)\n",
            "Requirement already satisfied: nest-asyncio>=1.5 in /usr/local/lib/python3.10/dist-packages (from notebook>=4.0.0->lux-widget>=0.1.4->lux-api) (1.5.7)\n",
            "Requirement already satisfied: Send2Trash>=1.8.0 in /usr/local/lib/python3.10/dist-packages (from notebook>=4.0.0->lux-widget>=0.1.4->lux-api) (1.8.2)\n",
            "Requirement already satisfied: terminado>=0.8.3 in /usr/local/lib/python3.10/dist-packages (from notebook>=4.0.0->lux-widget>=0.1.4->lux-api) (0.17.1)\n",
            "Requirement already satisfied: prometheus-client in /usr/local/lib/python3.10/dist-packages (from notebook>=4.0.0->lux-widget>=0.1.4->lux-api) (0.17.1)\n",
            "Requirement already satisfied: nbclassic>=0.4.7 in /usr/local/lib/python3.10/dist-packages (from notebook>=4.0.0->lux-widget>=0.1.4->lux-api) (1.0.0)\n",
            "Requirement already satisfied: six>=1.5 in /usr/local/lib/python3.10/dist-packages (from python-dateutil>=2.7->matplotlib>=3.0.0->lux-api) (1.16.0)\n",
            "Requirement already satisfied: MarkupSafe>=2.0 in /usr/local/lib/python3.10/dist-packages (from jinja2->altair>=4.0.0->lux-api) (2.1.3)\n",
            "Requirement already satisfied: setuptools>=18.5 in /usr/local/lib/python3.10/dist-packages (from ipython>=4.0.0->ipywidgets>=7.5.0->lux-widget>=0.1.4->lux-api) (67.7.2)\n",
            "Collecting jedi>=0.16 (from ipython>=4.0.0->ipywidgets>=7.5.0->lux-widget>=0.1.4->lux-api)\n",
            "  Downloading jedi-0.19.0-py2.py3-none-any.whl (1.6 MB)\n",
            "\u001b[2K     \u001b[90m━━━━━━━━━━━━━━━━━━━━━━━━━━━━━━━━━━━━━━━━\u001b[0m \u001b[32m1.6/1.6 MB\u001b[0m \u001b[31m24.9 MB/s\u001b[0m eta \u001b[36m0:00:00\u001b[0m\n",
            "\u001b[?25hRequirement already satisfied: decorator in /usr/local/lib/python3.10/dist-packages (from ipython>=4.0.0->ipywidgets>=7.5.0->lux-widget>=0.1.4->lux-api) (4.4.2)\n",
            "Requirement already satisfied: pickleshare in /usr/local/lib/python3.10/dist-packages (from ipython>=4.0.0->ipywidgets>=7.5.0->lux-widget>=0.1.4->lux-api) (0.7.5)\n",
            "Requirement already satisfied: prompt-toolkit!=3.0.0,!=3.0.1,<3.1.0,>=2.0.0 in /usr/local/lib/python3.10/dist-packages (from ipython>=4.0.0->ipywidgets>=7.5.0->lux-widget>=0.1.4->lux-api) (3.0.39)\n",
            "Requirement already satisfied: pygments in /usr/local/lib/python3.10/dist-packages (from ipython>=4.0.0->ipywidgets>=7.5.0->lux-widget>=0.1.4->lux-api) (2.16.1)\n",
            "Requirement already satisfied: backcall in /usr/local/lib/python3.10/dist-packages (from ipython>=4.0.0->ipywidgets>=7.5.0->lux-widget>=0.1.4->lux-api) (0.2.0)\n",
            "Requirement already satisfied: matplotlib-inline in /usr/local/lib/python3.10/dist-packages (from ipython>=4.0.0->ipywidgets>=7.5.0->lux-widget>=0.1.4->lux-api) (0.1.6)\n",
            "Requirement already satisfied: pexpect>4.3 in /usr/local/lib/python3.10/dist-packages (from ipython>=4.0.0->ipywidgets>=7.5.0->lux-widget>=0.1.4->lux-api) (4.8.0)\n",
            "Requirement already satisfied: platformdirs>=2.5 in /usr/local/lib/python3.10/dist-packages (from jupyter-core>=4.6.1->notebook>=4.0.0->lux-widget>=0.1.4->lux-api) (3.10.0)\n",
            "Requirement already satisfied: jupyter-server>=1.8 in /usr/local/lib/python3.10/dist-packages (from nbclassic>=0.4.7->notebook>=4.0.0->lux-widget>=0.1.4->lux-api) (1.24.0)\n",
            "Requirement already satisfied: notebook-shim>=0.2.3 in /usr/local/lib/python3.10/dist-packages (from nbclassic>=0.4.7->notebook>=4.0.0->lux-widget>=0.1.4->lux-api) (0.2.3)\n",
            "Requirement already satisfied: lxml in /usr/local/lib/python3.10/dist-packages (from nbconvert>=5->notebook>=4.0.0->lux-widget>=0.1.4->lux-api) (4.9.3)\n",
            "Requirement already satisfied: beautifulsoup4 in /usr/local/lib/python3.10/dist-packages (from nbconvert>=5->notebook>=4.0.0->lux-widget>=0.1.4->lux-api) (4.11.2)\n",
            "Requirement already satisfied: bleach in /usr/local/lib/python3.10/dist-packages (from nbconvert>=5->notebook>=4.0.0->lux-widget>=0.1.4->lux-api) (6.0.0)\n",
            "Requirement already satisfied: defusedxml in /usr/local/lib/python3.10/dist-packages (from nbconvert>=5->notebook>=4.0.0->lux-widget>=0.1.4->lux-api) (0.7.1)\n",
            "Requirement already satisfied: jupyterlab-pygments in /usr/local/lib/python3.10/dist-packages (from nbconvert>=5->notebook>=4.0.0->lux-widget>=0.1.4->lux-api) (0.2.2)\n",
            "Requirement already satisfied: mistune<2,>=0.8.1 in /usr/local/lib/python3.10/dist-packages (from nbconvert>=5->notebook>=4.0.0->lux-widget>=0.1.4->lux-api) (0.8.4)\n",
            "Requirement already satisfied: nbclient>=0.5.0 in /usr/local/lib/python3.10/dist-packages (from nbconvert>=5->notebook>=4.0.0->lux-widget>=0.1.4->lux-api) (0.8.0)\n",
            "Requirement already satisfied: pandocfilters>=1.4.1 in /usr/local/lib/python3.10/dist-packages (from nbconvert>=5->notebook>=4.0.0->lux-widget>=0.1.4->lux-api) (1.5.0)\n",
            "Requirement already satisfied: tinycss2 in /usr/local/lib/python3.10/dist-packages (from nbconvert>=5->notebook>=4.0.0->lux-widget>=0.1.4->lux-api) (1.2.1)\n",
            "Requirement already satisfied: fastjsonschema in /usr/local/lib/python3.10/dist-packages (from nbformat->notebook>=4.0.0->lux-widget>=0.1.4->lux-api) (2.18.0)\n",
            "Requirement already satisfied: ptyprocess in /usr/local/lib/python3.10/dist-packages (from terminado>=0.8.3->notebook>=4.0.0->lux-widget>=0.1.4->lux-api) (0.7.0)\n",
            "Requirement already satisfied: argon2-cffi-bindings in /usr/local/lib/python3.10/dist-packages (from argon2-cffi->notebook>=4.0.0->lux-widget>=0.1.4->lux-api) (21.2.0)\n",
            "Requirement already satisfied: parso<0.9.0,>=0.8.3 in /usr/local/lib/python3.10/dist-packages (from jedi>=0.16->ipython>=4.0.0->ipywidgets>=7.5.0->lux-widget>=0.1.4->lux-api) (0.8.3)\n",
            "Requirement already satisfied: anyio<4,>=3.1.0 in /usr/local/lib/python3.10/dist-packages (from jupyter-server>=1.8->nbclassic>=0.4.7->notebook>=4.0.0->lux-widget>=0.1.4->lux-api) (3.7.1)\n",
            "Requirement already satisfied: websocket-client in /usr/local/lib/python3.10/dist-packages (from jupyter-server>=1.8->nbclassic>=0.4.7->notebook>=4.0.0->lux-widget>=0.1.4->lux-api) (1.6.2)\n",
            "Requirement already satisfied: wcwidth in /usr/local/lib/python3.10/dist-packages (from prompt-toolkit!=3.0.0,!=3.0.1,<3.1.0,>=2.0.0->ipython>=4.0.0->ipywidgets>=7.5.0->lux-widget>=0.1.4->lux-api) (0.2.6)\n",
            "Requirement already satisfied: cffi>=1.0.1 in /usr/local/lib/python3.10/dist-packages (from argon2-cffi-bindings->argon2-cffi->notebook>=4.0.0->lux-widget>=0.1.4->lux-api) (1.15.1)\n",
            "Requirement already satisfied: soupsieve>1.2 in /usr/local/lib/python3.10/dist-packages (from beautifulsoup4->nbconvert>=5->notebook>=4.0.0->lux-widget>=0.1.4->lux-api) (2.5)\n",
            "Requirement already satisfied: webencodings in /usr/local/lib/python3.10/dist-packages (from bleach->nbconvert>=5->notebook>=4.0.0->lux-widget>=0.1.4->lux-api) (0.5.1)\n",
            "Requirement already satisfied: idna>=2.8 in /usr/local/lib/python3.10/dist-packages (from anyio<4,>=3.1.0->jupyter-server>=1.8->nbclassic>=0.4.7->notebook>=4.0.0->lux-widget>=0.1.4->lux-api) (3.4)\n",
            "Requirement already satisfied: sniffio>=1.1 in /usr/local/lib/python3.10/dist-packages (from anyio<4,>=3.1.0->jupyter-server>=1.8->nbclassic>=0.4.7->notebook>=4.0.0->lux-widget>=0.1.4->lux-api) (1.3.0)\n",
            "Requirement already satisfied: exceptiongroup in /usr/local/lib/python3.10/dist-packages (from anyio<4,>=3.1.0->jupyter-server>=1.8->nbclassic>=0.4.7->notebook>=4.0.0->lux-widget>=0.1.4->lux-api) (1.1.3)\n",
            "Requirement already satisfied: pycparser in /usr/local/lib/python3.10/dist-packages (from cffi>=1.0.1->argon2-cffi-bindings->argon2-cffi->notebook>=4.0.0->lux-widget>=0.1.4->lux-api) (2.21)\n",
            "Building wheels for collected packages: lux-api, lux-widget\n",
            "  Building wheel for lux-api (pyproject.toml) ... \u001b[?25l\u001b[?25hdone\n",
            "  Created wheel for lux-api: filename=lux_api-0.5.1-py3-none-any.whl size=185603 sha256=b4bf1b09ceaf5315db46835e6b073b2cb2f4076f2caf7596a2b7d91cb170f895\n",
            "  Stored in directory: /root/.cache/pip/wheels/29/2f/f5/d5fcd3111309d380314ce9ad7ed6eb2fe03b3315123bd0c2e9\n",
            "  Building wheel for lux-widget (setup.py) ... \u001b[?25l\u001b[?25hdone\n",
            "  Created wheel for lux-widget: filename=lux_widget-0.1.11-py3-none-any.whl size=2540456 sha256=f87c1f0a33114c710c6b28a6b9d4e475d52a4422d8c962ee3b487db059b6e2eb\n",
            "  Stored in directory: /root/.cache/pip/wheels/4d/f6/ce/bbd6194f5f69bc0b86bc7b278c766caf129cce86c016191905\n",
            "Successfully built lux-api lux-widget\n",
            "Installing collected packages: sh, pycodestyle, jedi, iso3166, autopep8, lux-widget, lux-api\n",
            "Successfully installed autopep8-2.0.4 iso3166-2.1.1 jedi-0.19.0 lux-api-0.5.1 lux-widget-0.1.11 pycodestyle-2.11.0 sh-2.0.6\n"
          ]
        }
      ]
    },
    {
      "cell_type": "markdown",
      "source": [
        "**Step 2 - Importing all libraries required in this notebook**"
      ],
      "metadata": {
        "id": "HZRH7wrFTdaK"
      }
    },
    {
      "cell_type": "code",
      "source": [
        "import pandas as pd\n",
        "import numpy as np\n",
        "\n",
        "import lux # new data visualization library\n",
        "\n",
        "import matplotlib.pyplot as plt\n",
        "%matplotlib inline\n",
        "\n",
        "from sklearn.model_selection import train_test_split\n",
        "from sklearn.linear_model import LinearRegression"
      ],
      "metadata": {
        "id": "5addSCIdAbPC"
      },
      "execution_count": 3,
      "outputs": []
    },
    {
      "cell_type": "code",
      "source": [
        "from google.colab import drive\n",
        "drive.mount('/content/drive')"
      ],
      "metadata": {
        "colab": {
          "base_uri": "https://localhost:8080/"
        },
        "id": "QJAslKtjB0_J",
        "outputId": "c46a2aec-e4a6-4cca-fd8a-643857e25095"
      },
      "execution_count": 7,
      "outputs": [
        {
          "output_type": "stream",
          "name": "stdout",
          "text": [
            "Mounted at /content/drive\n"
          ]
        }
      ]
    },
    {
      "cell_type": "markdown",
      "source": [
        "**Step 3 - Reading data from csv file and visualization**"
      ],
      "metadata": {
        "id": "UvUH6466Tr8O"
      }
    },
    {
      "cell_type": "code",
      "source": [
        "path = \"/content/drive/MyDrive/student_scores.csv.txt\"\n",
        "s_data = pd.read_csv(path)\n"
      ],
      "metadata": {
        "id": "Bu9Pcd3SCoT0"
      },
      "execution_count": 9,
      "outputs": []
    },
    {
      "cell_type": "code",
      "source": [
        "s_data.head()"
      ],
      "metadata": {
        "colab": {
          "base_uri": "https://localhost:8080/",
          "height": 1000,
          "referenced_widgets": [
            "fbc197e4613343d99d3c7a5853603835",
            "7f4bb1beec4243ff9567f0f5661ca6c1",
            "10f3dc690eb448eea03121686add1b3e",
            "12aae18f6b2d42e590e65a1e71e04827",
            "83970798bd874e6d80d2ae4c823d3c4c",
            "a5a183067d724de9858479c88b5ce910"
          ]
        },
        "id": "LX7lCOOqDMoZ",
        "outputId": "67da407e-f6a9-456c-c2b0-bc4ead1af079"
      },
      "execution_count": 10,
      "outputs": [
        {
          "output_type": "display_data",
          "data": {
            "text/plain": [
              "Button(description='Toggle Pandas/Lux', layout=Layout(top='5px', width='140px'), style=ButtonStyle())"
            ],
            "application/vnd.jupyter.widget-view+json": {
              "version_major": 2,
              "version_minor": 0,
              "model_id": "fbc197e4613343d99d3c7a5853603835"
            }
          },
          "metadata": {}
        },
        {
          "output_type": "display_data",
          "data": {
            "text/plain": [
              "Output()"
            ],
            "application/vnd.jupyter.widget-view+json": {
              "version_major": 2,
              "version_minor": 0,
              "model_id": "12aae18f6b2d42e590e65a1e71e04827"
            }
          },
          "metadata": {}
        },
        {
          "output_type": "display_data",
          "data": {
            "text/plain": [
              "<google.colab._quickchart_helpers.SectionTitle at 0x7ed7bf9c5810>"
            ],
            "text/html": [
              "<h4 class=\"colab-quickchart-section-title\">Values</h4>\n",
              "<style>\n",
              "  .colab-quickchart-section-title {\n",
              "      clear: both;\n",
              "  }\n",
              "</style>"
            ]
          },
          "metadata": {}
        },
        {
          "output_type": "display_data",
          "data": {
            "text/plain": [
              "import numpy as np\n",
              "from google.colab import autoviz\n",
              "\n",
              "def value_plot(df, y, figscale=1):\n",
              "  from matplotlib import pyplot as plt\n",
              "  df[y].plot(kind='line', figsize=(8 * figscale, 4 * figscale), title=y)\n",
              "  plt.gca().spines[['top', 'right']].set_visible(False)\n",
              "  plt.tight_layout()\n",
              "  return autoviz.MplChart.from_current_mpl_state()\n",
              "\n",
              "chart = value_plot(_df_5, *['Hours'], **{})\n",
              "chart"
            ],
            "text/html": [
              "      <div class=\"colab-quickchart-chart-with-code\" id=\"chart-e2a7f78f-3500-4efd-948a-6047c93669f1\">\n",
              "        <img src=\"data:image/png;base64,iVBORw0KGgoAAAANSUhEUgAAAYwAAADECAYAAACMRRb/AAAAOXRFWHRTb2Z0d2FyZQBNYXRwbG90\n",
              "bGliIHZlcnNpb24zLjcuMSwgaHR0cHM6Ly9tYXRwbG90bGliLm9yZy/bCgiHAAAACXBIWXMAAA9h\n",
              "AAAPYQGoP6dpAAAk0ElEQVR4nO3deVhU9f4H8PeZYUeWAMGFTRYXVFbl4r5fTS29ai6J3W75M3Mv\n",
              "TbP0erOuVi6peF3ymnY1zRS1Is3KcC0lkcVd2UERlR1knTm/P1ACQRx0mDPL+/U88zwphzlvplNv\n",
              "vnPmnI8giqIIIiKiJ5BJHYCIiHQDC4OIiFTCwiAiIpWwMIiISCUsDCIiUgkLg4iIVMLCICIilbAw\n",
              "iIhIJSwMIiJSCQuDiIhUwsIgg9K3b18sWrSozt+/+uqrCA0NlSARke5gYRBpQEVFhdQRiJ4ZC4Po\n",
              "EXl5eZgyZQqcnZ3h4OCA559/HteuXav+en2rkUdXLoIg4LPPPkP37t1haWmJ8PBwxMXFoU+fPrC1\n",
              "tcVzzz2HoKCgWs9LpO2MpA5ApG0mTZqEoqIinDt3DtbW1njvvfcwcOBAXLlyBc2aNVP5eTZv3oz9\n",
              "+/ejQ4cOKC0txcCBAzF48GAcPXoUAHDx4kXY2to20U9BpH5cYZDBWblyJWxtbWs9du3aBQDIzMxE\n",
              "REQE1qxZgxYtWsDCwgIrVqxASUkJIiIiGrWft956Cz4+PhAEAebm5jAxMUFaWhpSU1NhZGQEf39/\n",
              "ODk5NcWPSNQkWBhkcObNm4e8vLxaj5dffhkAkJ6eDgDw9PSs3t7Y2Bhubm5IS0tr1H7atGlT68/b\n",
              "t2+HIAjo378/nJ2dMWfOHBQVFT3jT0OkOSwMohpcXFwAAImJidV/V1lZibS0NLi6ugIArKysUFxc\n",
              "XOv7bt26Vee5ZLLa/3m5ublhy5YtSE1NxbFjx/Dzzz9j+fLl6v4RiJoMC4OohpYtW2Lo0KGYO3cu\n",
              "srKyUFJSggULFsDExATDhg0DAHTp0gWRkZG4evUqKioqsGbNGiQnJz/xubdv346MjAyIoghra2sY\n",
              "GRnByIinEUl3sDCIHrFjxw64u7sjMDAQzs7OuHTpEn755RdYWVkBACZOnIjx48eje/fucHFxQV5e\n",
              "Hnr06PHE542MjERwcDCaNWsGPz8/dOvWDQsWLGjqH4dIbQTO9CYiIlVwhUFERCphYRARkUpYGERE\n",
              "pBIWBhERqYSFQUREKmFhEBGRSlgYRESkEo0Wxtq1azW5OyIiUiONFkZqaqomd0dERGrEt6SIiEgl\n",
              "LAwiIlIJC4OIiFTCwiAiSVy9XYCYtFypY1AjsDCISOMuZOTjhbBT+NuG33D0SpbUcUhFLAwi0qjC\n",
              "0grM2H0eFYqqyQpz9sQi5V7xE76LtAELg4g0RhRFvH/gIlKz76O1rTn8XWxRWFqJqTujUVKukDoe\n",
              "PQELg4g0Zu+5DHwXdwtymYB1E/yxKTQIDs1McPV2Id47cAGc56bdWBhEpBE3sgrxz+8uAgDeHtQW\n",
              "QW52aGFjhrAJgZDLBByIuYmdZ3hxrzZjYRBRkyutUGDGrhiUVijR08sBb/bxrP5aN097vDukPQBg\n",
              "acRlRKfyk1PaioVBRE1uacRlXMsqhEMzE6we5weZTKj19cm92mBo5xaoUIiY9lU07haWSZSUGtLo\n",
              "wjh06BACAwPh7++PTp064csvv2yKXESkJ36Iz8Sus2kAgM/G+cPRyqzONoIg4NMxfvBsbomsgjLM\n",
              "3H0elQqlpqPSEzSqMERRRGhoKLZv347Y2FhERETgjTfeQGFhYVPlIyIdlp5zH++GxwMA3uzriV7e\n",
              "zR+7bTNTI2yeFARLEznOJOVgxZFrmopJKmr0CkMQBOTl5QEACgoKYG9vD1NTU3XnIiIdV16pxIzd\n",
              "MSgsq0Sgqy3eHtT2id/j5WiFFS/5AQA2n0jC4QuZTR2TGsGoMRsLgoA9e/Zg1KhRsLS0RG5uLvbv\n",
              "3w8TE5M625aVlaGsrPb7kAoFP2dNZChW/XQNcel5sDYzwroJATCWq/b76dDOLTGltwc+P5GEeXvj\n",
              "4O1kBS/HZk2cllTRqBVGZWUlPvroI+zfvx+pqak4evQoJk2ahHv37tXZdvny5bCxsan1iIqKUltw\n",
              "ItJekdfuYPOJJADAp2N84fycRaO+f/7gdvhLGzsUlyswdWc0isoqmyImNVKjCiM2Nha3bt1C7969\n",
              "AQBdu3aFs7MzYmJi6my7cOFC5Ofn13oEBwerJzURaa2sglLM/SYOAPBKNzcM6dSy0c9hJJdh/cuB\n",
              "cLI2RcKdIizYF8+L+rRAowrDxcUFmZmZuHLlCgAgISEBiYmJaNeuXZ1tTU1NYW1tXeshl8vVk5qI\n",
              "tJJCKWLO17HIKS5Hh5bWeG9oh6d+ruZWptgwMRBGMgE/XMjE1lPJakxKT6NR5zCcnJzw+eefY+zY\n",
              "sZDJZFAqlVi/fj1cXV2bKh8R6ZD/RCbg96RsWJjIsf7lAJgZP9sviUFudlg83AdLvruE5YevolNr\n",
              "G4R42KspLTVWowoDACZMmIAJEyY0RRYi0mFnk7Kx5pfrAIAPR3SCZ3P1nKh+pZsbYtJycTD2Fmbs\n",
              "Oo+Imb3QwqbutRzU9HilNxE9s9zicsz+OhZKERgV2Bqjg5zV9tyCIGDZqM5o38IK94rKMX3XeZRX\n",
              "8qI+KbAwiOiZiKKIeXvjcLugFB4OlvhwRCe178PCxAibQoNgZWaE6NRcLDt0Re37oCdjYRDRM/ni\n",
              "dAqOXr0DEyMZwl4OgKVpo9/pVom7gyVWj/UHAGz/LQXfxt5skv3Q47EwiOipXcjIx8eHq37bXzSs\n",
              "Azq2smnS/Q3yccKMfl4AgHfDL+Dq7YIm3R/VxsIgoqdSc9Tq4I5OmBTippH9vjWoLXp5O6CkQoGp\n",
              "O6JRUFqhkf0SC4OInsKjo1Y/He0HQRCe/I1qIJcJWDs+AK1tzZGSfR9zv4mDUsmL+jSBhUFEjfbo\n",
              "qFUbC2ON7t/O0gQbQwNhIpfh58tZ2Hg8UaP7N1QsDCJqlPpGrUrB19kWS0d0BFB1o8OTN+5KksOQ\n",
              "sDCISGUNjVqVwvhgV4zr4gKlCMzaHYObeSWS5tF3LAwiUtmTRq1K4YMRHdG5tQ1y71fgzZ3RKK3g\n",
              "GIWmwsIgIpU8HLUqCI8ftSoFM2M5NkwMhK2FMeIz8vHB95eljqS3WBhE9ES1Rq32aXjUqhRc7Cyw\n",
              "dnwABAHYHZWGb/5IlzqSXmJhEFGDHh21+pYKo1al0Kdtc7w9sCrbom8v4uLNfIkT6R8WBhE1aOVT\n",
              "jlqVwvR+XhjQ3hHllUpM3RmN3OJyqSPpFe39N09Ekou8dgefV49a9Wv0qFVNk8kErB7nDzd7C2Tk\n",
              "lmD2nlgoeFGf2rAwiKhedUettpA4kWpszI2xcWIQzIxlOHH9LtYevSF1JL3BwiCiOmqOWvV5xlGr\n",
              "UvBpZY3lozoDANYdvYGjV7IkTqQfWBhEVEfNUathahi1KoW/BTjjlW5VN0R8a08sUrOLJU6k+1gY\n",
              "RFRLU41alcKiYT4IcLVFQWklpu48j5JyXtT3LFgYRFStKUetSsHESIYNEwNhb2mCK5kFeP/ABYgi\n",
              "T4I/LRYGEQHQzKhVKbS0MUfYywGQCcD+mJvYeTZN6kg6i4VBRAA0N2pVCt09HbBgSHsAwNLvL+F8\n",
              "Wq7EiXQTC4OIND5qVQpTentgSMcWqFCImLbzPO4VlUkdSeewMIgMnFSjVjVNEASseMkXHs0tcbug\n",
              "FDN3xaBSoZQ6lk5hYRAZMClHrUrByswYm0ODYGEix+9J2Vj503WpI+kUFgaRAZN61KoUvJ2s8OkY\n",
              "XwDApuOJ+PFipsSJdAcLg8hAacuoVSkM922FyT3bAADm7Y1H4t0iiRPpBhYGkQGqOWq1l7f0o1al\n",
              "sOD59ghuY4eiskpM3RGN4rJKqSNpPRYGkQH6c9SqKVaP9deKUauaZiyXYf3LAXC0MsWNO0VYEB7P\n",
              "i/qegIVBZGBqj1r1Q3MrU6kjScbRygwbJgbCSCYgIj4TX5xOkTqSVmNhEBkQbR+1KoUu7nZYNKzq\n",
              "brzLDl1BVHKOxIm0FwuDyEDoyqhVKfy9uztG+LeCQili+q7zuFNQKnUkrcTCIDIQujRqVdMEQcDy\n",
              "UZ3RzskKdwvLMO2r86jgRX11NPqIKSsrw4wZM+Dt7Y3OnTsjNDS0KXIRkRrp2qhVKViYGGHTpCBY\n",
              "mRrhXGoulh26InUkrdPou4u9++67EAQB169fhyAIuH37dlPkIiI10dVRq1Jo42CJVWP9MGVHNLad\n",
              "ToG/iy1G+LeWOpbWaNQKo7i4GFu3bsW///3v6tsHtGjBg49IW+n6qFUp/LVjC0zvV3VdyrvhF3Dt\n",
              "dqHEibRHowojMTERdnZ2WLZsGbp06YJevXrh6NGj9W5bVlaGgoKCWg+FgtOuiDRJH0atSuHtQe3Q\n",
              "08sBJRUKTN0ZjYLSCqkjaYVGFUZlZSVSU1Ph4+ODc+fOYd26dRg3bhyysuoOWF++fDlsbGxqPaKi\n",
              "otQWnIgapk+jVjWt6t5aAWhta47ke8WY+00clEpe1NeownB1dYVMJsPEiRMBAAEBAWjTpg0uXLhQ\n",
              "Z9uFCxciPz+/1iM4OFg9qYmoQTl6NmpVCnaWJtgwMRAmchl+vpyFTScSpY4kuUYVhoODAwYMGIAj\n",
              "R44AAJKTk5GcnIwOHeq+L2pqagpra+taD7mcy2GipiaKIt7Rw1GrUvBzscUHIzoCAFYeuYZTN+5J\n",
              "nEhajf5Y7aZNm7BixQp07twZI0eOxObNm9G6NT9FQKQt9HnUqhTGd3XB2C7OUIrArK9jcDOvROpI\n",
              "kmn0keTh4YHIyMimyEJEz8gQRq1qmiAIWDqiEy5nFuDizQJM2xmNb6Z2g6mR4b1jwks9ifSEoYxa\n",
              "lYKZsRwbJwbBxtwYcRn5+OD7y1JHkgQLg0gPGNqoVSm42FlgzXh/CAKw62wavjmXLnUkjWNhEOkB\n",
              "Qxy1KoV+7RwxZ0DVTRsXHbyIizfzJU6kWSwMIh1nyKNWpTCzvxf6tWuO8kolpu6MRt79cqkjaQwL\n",
              "g0iHcdSq5slkAtaMC4CrnQUyckswZ0+swVzUx8Ig0mEctSoNGwtjbAwNhKmRDMeu3cW6X29IHUkj\n",
              "WBhEOoqjVqXVsZUNlv2tMwBg7dEbiLx6R+JETY+FQaSD0rI5alUbjA5yRmiIK0QRmP11DNKy70sd\n",
              "qUmxMIh0THmlEjO/rhq1GuT2HEetSmzxcB/4u9iioLQSU3dGo7RCf+/KzcIg0jE1R62uHe/PUasS\n",
              "MzWSY2NoIOwtTXA5swDvH7gIUdTPk+A80oh0SM1Rqyte4qhVbdHSxhxhEwIgE4Dw8xnYFZUmdaQm\n",
              "wcIg0hE1R63+vZsbBnfktEtt0t3LAfOHtAcA/Ou7S4hJy5U4kfqxMAyIKIo4cf0uEu8WSR2FGunR\n",
              "UasLOWpVK73R2wODOzqhQiFi2lfnkV1UJnUktWJhGIibeSV45YsovPJFFAauPo7pX53H5VsFUsci\n",
              "FdUctbqeo1a1liAIWPmSHzwcLJGZX4qZu2NQqVBKHUttWBh6ThRF7I5Kw+DPTuDkjXswlgsQReCH\n",
              "C5kYuu4kJn95DnHpeVLHpAbUHLX60chO8OCoVa1mZWaMTZOCYGEix2+J2Vj183WpI6kNC0OPPVxV\n",
              "LNx/AUUPPoL545zeODKnN17wawVBAH65koUR/zmNV76Iwh8pOVJHpkc8Omp1VCBHreqCtk5W+GS0\n",
              "LwBg47FE/HjxtsSJ1IOjuPRQ1aoiHcsOXUFRWSVMjWR4Z3A7/KNHG8gf3DoibEIA5gz0xobIRByM\n",
              "vYkT1+/ixPW7CPGww6z+3ujmac/bY0uMo1Z12wt+rRCbnoetp5Ixb28c2jo10/nVIVcYeiYj9z4m\n",
              "bY3Cewf+XFUcnt0Lk3t5VJfFQ57Nm2HVWD9Ezu2LCcGuMJYLOJOUg5f/exajN/6GyGt39Pbz5LqA\n",
              "o1Z137vPt0ewux2Kyqou6isuq5Q60jNhYegJURSx62wahqw5iVMJ92BqJMOiYR3wzRvdnvhbjau9\n",
              "BZaP6ozj7/TDq93dYWokw/m0PPxj2x94cf1pHLl022Duxqkt4jPyOGpVDxjLZVg/MQCOVqa4nlWE\n",
              "BeHxOv1LGAtDDzy6qujSwKqiIa1szfGvFzvi5IJ+mNLbAxYmcly4mY83dkRj6LqT+D7uFhQsjiZX\n",
              "WFqBmbtjOGpVTzhameE/EwNhJBMQEZ+JbadTpI701FgYOkwURXx1NhWDPztRa1WxR4VVRUMcrczw\n",
              "3tAOOLWgP2b084KVqRGu3i7EzN0xGPTZcYRHZ+jVRwW1CUet6qeu7nZ4f1jVtTPLDl1BVLJufsCE\n",
              "haGjMnLvI3TrWbx/4CKKyxXo8uATUI1dVTTEztIE8wa3w6l3++PtQW1hY26MpLvFmLs3Dv1WHcPu\n",
              "qDSUV7I41Ombc+kctaqnXu3ujhf9WqFSKWL6rvO4U1AqdaRGY2HoGFEUsfNM1aridEI2zIxlWDzc\n",
              "B3ve6IY2DpZNsk8bc2PMGuCN0+/2x4Ih7WFvaYL0nBIs3H8BfVZE4svfUvT6Dp2aciOrEEu+uwQA\n",
              "mPtXjlrVN4Ig4OPRndHOyQp3C8swfdd5VOjYSp2FoUPSc+5j4n/PYtHBqlVFV/fncHh2b7zes43a\n",
              "VhUNaWZqhDf7euLUgv5YPNwHjlamyMwvxZLvLqHXp5HYciIJ98t1+1MgUnl01OrU3hy1qo8sTIyw\n",
              "MTQQVqZG+CMlF8sPXZU6UqOwMHSAUlm1qhiy5gR+S6xaVfxzuA/2TGm6VUVDzE3keL1nG5yY3w8f\n",
              "juyE1rbmuFtYhn8fuoKen0TiP5EJKCyt0HguXcZRq4bDo3kzrHjJDwDwxelkfBd3S+JEqmNhaLn0\n",
              "nKpzFY+uKl7r2Uby/6mYGcsxKcQNx97pi09H+8LN3gI5xeVYceQaenz8K1b/fB1598slzagLao5a\n",
              "XTPOn6NWDcCQTi3wZt+qVeS74fG4nlUocSLVsDC0lFIpYseZVAzWklVFQ4zlMozt6oKjb/fBmnH+\n",
              "8HJshoLSSqw7egM9Pv4VHx++int6dtdOdXl01GpPbweJE5GmzB3UFj287HG/XIGpO6J1YlUuiBq8\n",
              "iuTtt9/G6tWrNbU7nZWecx/z98Xj96RsAECwux0+HeMLdy0risdRKkX8eOk2wn5NwJXMqjvimhnL\n",
              "MPEvbpjS2wNO1mYSJ9QO5ZVKvLT5d8Sl5yHI7TnsmRICI07PMyjZRWUYHnYKmfmlGNzRCZtCg7T6\n",
              "Y9Q8OrWIUilix+8pGLzmBH5PqlpVLHnBB19PCdGZsgAAmUzA0M4tcWhWT/z3lS7wc7ZBaYUSW08l\n",
              "o9enkVh88CIycu9LHVNyNUetrpsQwLIwQPbNTLExNAgmchmOXMrC5gfTFLUVj1At8fATUIu/vYT7\n",
              "5QoEt7HDj7N74x89pD9X8bQEQcBAHyccnN4D/3stGF3dn0N5pRI7zqSi74pjWLAvHin3iqWOKYlH\n",
              "R622tjWXOBFJxd/FFkte9AEAfPrjVfyWcE/iRI/HwpCYUinifzVWFebGcvzrBR98/X+6tapoiCAI\n",
              "6N22OfZO7Y6vp4Sgh5c9KpUi9pxLR/9Vx/DWnlgk3NGNk37qwFGr9KiXg10xJsgZShGYuTsGt/JK\n",
              "pI5UL97+UkJp2fcxPzwOZ5KqbhMQ3MYOK8b4ws1eP4qiPiEe9gjxsEd0ai7W/3oDkdfu4kDMTRyM\n",
              "vYmhnVpiej8v+LSyljpmk+GoVaqPIAj4aGQnXL5VgMuZBZj21XnseSMEpkbaNVmRKwwJPFxVDFl7\n",
              "AmeScmqtKvS5LGoKcnsO2/4RjIiZPTG4o5PBTAFc/ytHrVL9zIzl2BQaBBtzY8Sm5+HDiMtSR6rj\n",
              "qQtj27ZtEAQBBw8eVGMc/ZeWfR8TtpzBPx+cq/hLGzv8OKcXXtXhcxXPolNrG2ye1OWxUwDP6dEU\n",
              "wLNJ2Vh7lKNW6fFc7S2wZrw/BAHYeSYN+6IzpI5Uy1MVRkpKCrZs2YKQkBB159FbSqWIL3+rOldx\n",
              "NrlqVbF0REfsNqBVRUPatbBC2IQA/PJ2H4wOdIZcJuDE9bsYs+l3jP/8d/yWcE+n5whw1Cqpql87\n",
              "R8we4A0AeP/ABVy6lS9xoj81ujCUSiUmT56MsLAwmJryilRVpGYXY8KWM1jy3SWUVFStKo7M6Y1X\n",
              "urkb5KqiIQ1NARyz6XednAJYa9Rqc45apSeb1d8b/do1R1mlElN3RiP/vnZc1Nfowli9ejV69OiB\n",
              "oKCgBrcrKytDQUFBrYdCYVh3NFUqRWw/nYwha07ibHIOLEz+XFW42ltIHU+r1TcFMDo1VyenANYa\n",
              "tTqBo1bpyWQyAZ+N84eLnTnSc0owZ0+MVhzvjSqMixcvIjw8HIsWLXritsuXL4eNjU2tR1RU1FMH\n",
              "1TWp2cUYv+UM/vX9ZZRUKBDiUXVdBVcVjaPrUwA5apWelq2FCTZODIKpkQyR1+4i7NcEqSM17tYg\n",
              "GzduxNKlS6vfirp9+zasra3xwQcf4M0336y1bVlZGcrKat8/aPHixVi7dq0aYmuvh5+A+uTHayip\n",
              "UMDCRI6Fz7fHxL+4sSjUIKe4HF+cSsaXv6WgsKzqVuoezS0xva8XRvi30qqrpQtLKzA87BRSs+/r\n",
              "xG0fSDvti87AvL1xEATgi1e7ol87R8myPNO9pPr27Ys5c+Zg5MiRKm2v7/eSSrlXjPnh8dXjF0M8\n",
              "7LBijB9c7Pj2k7rll1Tgy99SsPVUMvJLqt7fdbWzwJt9PTE60BkmRtIWhyiKmP11LL6Lu4XWtuY4\n",
              "NKsXp+fRU3v/wAV8dTYNNubGiJjZU7L/p2jPr2M6TKkUse10MoasPYGoB+cqPhzZCbsmh7Asmkh9\n",
              "UwDTcu5j4f4L6KsFUwA5apXU6Z8v+MDPxRb5JRWYujNasmObd6t9Rin3ijF/XzyiHlwv0M3DHp+O\n",
              "8WVRaFhJuQK7otKw+Xgi7hRWvRXa3MoUU3p5YGKIKyxMNHei+UZWIV5YfwqlFUrMH9IO0/p6aWzf\n",
              "pL9u5ZVgeNgp5BSXY0yQM1aM8dX4W5xcYTwlpVLEF6cerCpS/lxVfDX5LywLCWjLFECOWqWm0srW\n",
              "HGETAiATqs5r7I5K13gGFsZTSLlXjPGfn8HSiMsorVCiu6c9jszpjUkhPLEttSdNAfysiacAfvA9\n",
              "R61S0+nh5YB3BrcHAPzru0uI1fAtdFgYjaBUithaY1VhaSLHRyM7YefrXFVom8dNAVx79AZ6fhKJ\n",
              "T35U/xTAiPhb2B3FUavUtKb28cDgjk4oVygxbWc0sjU4zZKFoaLke8UY9/nv+LDGquLHOb0RylWF\n",
              "VjOSyzAyoDV+mtMbGyYGokNLaxSVVWLjsUT0/ORXfBhxGXcKSp95P2nZ97Ew/AIAjlqlpiUIAla8\n",
              "5AcPB0vcyi/FrK9jNHYtEgvjCRQPVhXPrz2BP1JyYWkix7//xnMVuqahKYA9H0wBvPmUMwjKK5WY\n",
              "ufs8CssqEeT2HN4e1FbN6YlqszYzxqZJQTA3luN0QjZW/XRNI/vlPQoakHyvGO/sjcO51FwAQA8v\n",
              "e3w8ip+A0mUPpwAO6OCIkzfuIezXG/gjJRc7zqRid1QaRgc6Y1o/z0bdEHLlT9cQl5HPUaukUW2d\n",
              "rPDJGF/M2h2DP1JyUKFQwriJjz0WRj0UD66rWHHkGsoqlbA0keO9YR3wcrArr9TVEw+nAPZu2xxn\n",
              "krIR9usNnE7Ixp5z6dgbnY4R/q0xvZ8nvBytGnwejlolKb3o1womchkGdHBs8rIAWBh1JN0twvx9\n",
              "8dWrip5eDvh4dGc4P8dVhb560hTAGf290KFl3SmAHLVK2mBIJ80ddyyMB+pbVbw/zAcTgl24qjAQ\n",
              "D6cAXryZj7Bfb+DIpSz8cCETP1zIxCAfJ8zs7wVfZ1sAHLVKhomFgapVxTv74hHNVQXhzymA124X\n",
              "Yn1kAiLib+Hny1n4+XIW+rRtjpn9vXA6IZujVsngGHRhPLqqaGZqhPeHdcD4rlxV0J9TAOcM9MaG\n",
              "yEQcjL2J49fv4vj1u9XbcNQqGRKDLYzEB+cqHq4qenk74OPRvjxpSXU8nAI4e4A3Nh5PxL7odFQo\n",
              "RI5aJYNjcIWheHAPqJU/cVVBjfNwCuDM/l6ITc/DwA5OUkci0iiDKozEu0V4Z28czqflAeCqgp5O\n",
              "K1tztOIxQwbIIAqj6mrtJKz66Xr1qmLRsA4Yx1UFEZHK9L4wEu4U4Z19cYh5sKro3bY5lo/qzFUF\n",
              "EVEj6W1hPFxVrPzpOsorlbAyNcKi4R0wtgtXFURET0MvC6O+VcXHozrzfWciomegV4WhUIr478kk\n",
              "rPqZqwoiInXTm8JIuFOEeXvjqidQ9XlwroKrCiIi9dD5wlAoRWw5mYTVNVYVi4f74KUuzlxVEBGp\n",
              "kU4XRsKdQszbG19rVfHx6M5oacNVBRGRuulkYVQqlNhyMhmf/VJjVfGCD14K4qqCiKip6Fxh3Mgq\n",
              "xLx98Yh7sKro267qXAVXFURETUtnCqN6VfHzdZQrlLAye3CugqsKIiKN0InCyCkuxz+2/1G9qujX\n",
              "rjmWcVVBRKRROlEYtubGMDOSwcrMCP8c7oMxXFUQEWmcThSGTCZg1Vg/GMlkaGFjJnUcIiKDpBOF\n",
              "AYDjUomIJCaTOgAREekGFgYREamEhUFERCoRRFEUNbWzUaNGwd3d/am+V6FQICoqCsHBwZDL5eoN\n",
              "pibMqB7anlHb8wHMqC6GktHNzQ2zZ89+4nYaLYxnUVBQABsbG+Tn58Pa2lrqOPViRvXQ9ozang9g\n",
              "RnVhxtr4lhQREamEhUFERCphYRARkUp0pjBMTU2xZMkSmJqaSh3lsZhRPbQ9o7bnA5hRXZixNp05\n",
              "6U1ERNLSmRUGERFJi4VBREQqYWEQEZFKtK4wbty4ge7du6Nt27bo2rUrLl26VO92W7duhbe3Nzw9\n",
              "PfF///d/qKio0KqMx44dg7m5Ofz9/asfJSUlGsk3a9YsuLu7QxAExMbGPnY7KV9DVTJK+RqWlpZi\n",
              "5MiRaNu2Lfz8/DBo0CAkJCTUu21ERATat28Pb29vjBo1CgUFBVqVMSUlBXK5vNbrmJiYqJGMAPDX\n",
              "v/4Vvr6+8Pf3R69evRATE1PvdlIej6pklPJ4fGjbtm0QBAEHDx6s9+tNfiyKWqZfv37itm3bRFEU\n",
              "xb1794pdunSps01SUpLYsmVLMTMzU1QqleILL7wgrl+/XqsyRkZGin5+fhrLVNPx48fF9PR00c3N\n",
              "TYyJial3G6lfQ1UySvkalpSUiD/88IOoVCpFURTFsLAwsU+fPnW2KywsFB0dHcUrV66IoiiK06dP\n",
              "F+fNm6dVGZOTk0UbGxuNZKpPbm5u9T/v379f9PX1rbON1MejKhmlPB5FserfY7du3cSQkBDxwIED\n",
              "db6uiWNRq1YYd+7cwblz5xAaGgoAGD16NNLT0+v81rRv3z68+OKLaNGiBQRBwNSpU7F7926tyiil\n",
              "3r17w9nZucFtpHwNAdUySsnMzAxDhw6tnuwYEhKClJSUOtsdPnwYAQEBaN++PQBg2rRpGnsdVc0o\n",
              "NVtb2+p/zs/Pr3daptTHoyoZpaRUKjF58mSEhYU99uOzmjgWtaow0tPT0bJlSxgZVc11EgQBrq6u\n",
              "SEtLq7VdWloa3Nzcqv/s7u5eZxupMwJAYmIiAgMD0bVrV2zYsEEj+VQl5WvYGNryGq5duxYjRoyo\n",
              "8/f1vY6ZmZmorKzUZDwAj88IAMXFxejatSsCAwOxdOlSKBQKjWZ75ZVX4OLigsWLF2PHjh11vq4N\n",
              "x+OTMgLSHY+rV69Gjx49EBQU9NhtNHEs6szEPV0TGBiIjIwM2NjYICMjA0OHDoWDgwPGjh0rdTSd\n",
              "oS2v4bJly5CQkICjR49qdL+N0VDGli1b4ubNm3B0dEROTg7GjRuHVatWYf78+RrL97///Q8A8OWX\n",
              "X2LBggU4dOiQxvatqidllOp4vHjxIsLDw3HixIkm3Y8qtGqF4eLiUqsRRVFEWloaXF1da23n6uqK\n",
              "1NTU6j+npKTU2UbqjNbW1rCxsQEAODs7Y8KECTh58qRGMqpCytdQVdrwGq5cuRL79+/H4cOHYWFR\n",
              "d0xwfa9jzRWoNmQ0NTWFo6MjAMDOzg6vvfaaZMfi3//+d0RGRiI7O7vW32vT8fi4jFIdjydPnkRK\n",
              "Sgq8vb3h7u6OM2fOYMqUKdi4cWOt7TRyLKr1jIga9OnTp9YJ5aCgoDrbJCYm1jlBFhYWplUZb926\n",
              "JSoUClEURbGgoEDs3r27uHXrVo1lFEWxwRPKUr+GDzWUUerXcNWqVWJgYKCYk5Pz2G0KCgrE5s2b\n",
              "1zrROHfuXE1FVCljVlaWWF5eLoqiKJaWlopjxowRFy9erJF8ubm54s2bN6v/fODAAbF169bVJ+of\n",
              "kvJ4VDWj1MfjQ3369Kn3pLcmjkWtK4yrV6+KISEhore3txgUFCTGx8eLoiiKr7/+uvjtt99Wb/f5\n",
              "55+LHh4eooeHh/jaa69V/wehLRnDwsJEHx8f0dfXV/Tx8RGXLFlS5wBsKlOmTBFbt24tyuVy0dHR\n",
              "UfT09KyTTxSlfQ1VySjla5ieni4CED08PEQ/Pz/Rz89PDA4OFkVRFBcvXixu3Lixettvv/1WbNeu\n",
              "nejp6SmOGDFCzMvL06qM4eHhYseOHatfxxkzZoilpaUayZiSkiJ27dpV7NSpk+jr6ysOGDCg+hcE\n",
              "bTkeVc0o5fFYU83C0PSxyHtJERGRSrTqHAYREWkvFgYREamEhUFERCphYRARkUpYGEREpBIWBhER\n",
              "qYSFQUREKmFhEBGRSlgYRESkEhYGERGphIVBREQq+X9gHhLjlDdeIAAAAABJRU5ErkJggg==\n",
              "\">\n",
              "        \n",
              "      </div>\n",
              "      <script></script>\n",
              "      <script type=\"text/javascript\">\n",
              "        (() => {\n",
              "          const chartElement = document.getElementById(\"chart-e2a7f78f-3500-4efd-948a-6047c93669f1\");\n",
              "          async function getCodeForChartHandler(event) {\n",
              "            const chartCodeResponse =  await google.colab.kernel.invokeFunction(\n",
              "                'getCodeForChart', [\"chart-e2a7f78f-3500-4efd-948a-6047c93669f1\"], {});\n",
              "            const responseJson = chartCodeResponse.data['application/json'];\n",
              "            await google.colab.notebook.addCell(responseJson.code, 'code');\n",
              "          }\n",
              "          chartElement.onclick = getCodeForChartHandler;\n",
              "        })();\n",
              "      </script>\n",
              "      <style>\n",
              "        .colab-quickchart-chart-with-code  {\n",
              "            display: block;\n",
              "            float: left;\n",
              "            border: 1px solid transparent;\n",
              "        }\n",
              "\n",
              "        .colab-quickchart-chart-with-code:hover {\n",
              "            cursor: pointer;\n",
              "            border: 1px solid #aaa;\n",
              "        }\n",
              "      </style>"
            ]
          },
          "metadata": {}
        },
        {
          "output_type": "display_data",
          "data": {
            "text/plain": [
              "import numpy as np\n",
              "from google.colab import autoviz\n",
              "\n",
              "def value_plot(df, y, figscale=1):\n",
              "  from matplotlib import pyplot as plt\n",
              "  df[y].plot(kind='line', figsize=(8 * figscale, 4 * figscale), title=y)\n",
              "  plt.gca().spines[['top', 'right']].set_visible(False)\n",
              "  plt.tight_layout()\n",
              "  return autoviz.MplChart.from_current_mpl_state()\n",
              "\n",
              "chart = value_plot(_df_6, *['Scores'], **{})\n",
              "chart"
            ],
            "text/html": [
              "      <div class=\"colab-quickchart-chart-with-code\" id=\"chart-ea6acd70-3bf4-4dec-832f-44b8eb775f87\">\n",
              "        <img src=\"data:image/png;base64,iVBORw0KGgoAAAANSUhEUgAAAYwAAADECAYAAACMRRb/AAAAOXRFWHRTb2Z0d2FyZQBNYXRwbG90\n",
              "bGliIHZlcnNpb24zLjcuMSwgaHR0cHM6Ly9tYXRwbG90bGliLm9yZy/bCgiHAAAACXBIWXMAAA9h\n",
              "AAAPYQGoP6dpAAAySUlEQVR4nO3deVyU5f7/8dcww6KyyS4IIgpuiIBi5G5amZma5u5Jj5Waa6ll\n",
              "nl9m28k8qR2XMuv4tQVTMZdM0zJT3HcQd0FFEBWUVRAGmLl/f1CcOKIOstwsn+fjcT8eMtzLe25v\n",
              "5jNz3ddcl0ZRFAUhhBDiIczUDiCEEKJ6kIIhhBDCJFIwhBBCmEQKhhBCCJNIwRBCCGESKRhCCCFM\n",
              "IgVDCCGESaRgCCGEMIkUDCGEECaRgiGEEMIkUjBErXPlyhWGDRuGu7s71tbWuLu707t3b27cuKF2\n",
              "NCGqNCkYotbp3bs3NjY2nD59mqysLCIjIxkyZAgajabcj5WXl1fu+xRCLVIwRK2SkpLC+fPnGT9+\n",
              "PA4ODgC4uroyatQo3NzcADh48CBPPPEETk5OODg40L17d3JycgBITExk8ODBuLq64urqypAhQ7h+\n",
              "/XrR/kePHs3gwYN59dVXcXZ2pl+/fgAcPnyYbt264ejoSKNGjZg9ezYFBQVAYVGZMGECbm5u2NjY\n",
              "4O3tzZIlSyrztAhhEikYolZxdHSkdevWjBs3jpUrVxIdHY3RaCz6/ZkzZ3jiiScYOHAg8fHx3Lx5\n",
              "kzlz5mBmZobBYKBPnz5otVouXrzIhQsXUBSFvn37YjAYivaxceNGQkJCuH79OuvXr+fChQv06NGD\n",
              "8ePHk5SUxJ49e9i8eTPz5s0D4JtvvuHgwYOcPn2aO3fucOjQITp27Fjp50aIh1KEqGVu376tzJ49\n",
              "WwkJCVEsLS2V+vXrK9OnT1dyc3OViRMnKs8++2yJ2x04cEDRaDRKampqsX1pNBrl4MGDiqIoyqhR\n",
              "o5TQ0NBi202ePFkZOnRoscfCwsKUJk2aKIqiKF9//bXStGlTJSIiQsnLyyvPpypEudKpXbCEqGyO\n",
              "jo68//77vP/+++j1erZt28aoUaOwtrbmypUrNG/evMTtEhIScHBwoH79+sX2Vb9+feLj4wkNDQWg\n",
              "cePGxbaLiYlh165d2NvbFz1mNBqLPtmMHDmSW7du8cYbb3D+/Hk6dOjAhx9+SNu2bcv5mQtRNtIk\n",
              "JWo1S0tL+vfvT8+ePTlx4gTe3t5cvHixxHU9PT1JS0sjLS2t6LHU1FTS0tLw8vIqeszMrPiflZub\n",
              "G8OHDyc9Pb1oyczMJCsrCwCtVsuMGTM4fPgwiYmJtGjRoujehxBViRQMUaukpaXx1ltvER0djV6v\n",
              "x2AwsHPnTnbt2kWXLl149dVX2bFjB1988QU5OTnk5+cTERGBXq+nffv2+Pv7M2nSJDIzM8nIyGDi\n",
              "xIkEBgYSEhJy32NOmDCBH374gXXr1pGXl4fBYCA2Npbt27cD8Pvvv3Ps2DHy8vKwsrLC2toarVZb\n",
              "WadECJNJwRC1ioWFBbdv32bQoEE4OTnh6OjI1KlTmTlzJtOnT8ff35/ffvuN1atX4+7ujqurK++/\n",
              "/z5GoxGtVsuWLVvQ6/U0bdoUX19fCgoK2Lx58wNf4ENCQtixYwdfffUVHh4eODo68sILL3D16lUA\n",
              "kpOTGT16NA4ODjg7OxMREcEPP/xQWadECJNpFEXm9BZCCPFw8glDCCGESaRgCCGEMIkUDCGEECaR\n",
              "giGEEMIkUjCEEEKYRAqGEEIIk0jBEEIIYZIqUzAWLVqkdgQhhBAPUGUKxp/fehVCCFE1VZmCIYQQ\n",
              "omqTgiGEEMIkUjCEEEKYRAqGEEJVUQnpnL+ZqXYMYQIpGEII1eyPvc3zn+/nuSX7OBGf9vANhKqk\n",
              "YAghVJGance08CgUBfINCpNWnSA1O0/tWOIBpGAIISqdoijMXB9NUqaeJs71aOxUj+sZuby2Ngqj\n",
              "UaboqaqkYAghKt2qw/HsOJuEhdaMxcOCWDYyGCtzM/ZcvMXSXbFqxxP3IQVDCFGpYpLu8OHWswC8\n",
              "2asZrdztaO5my4f9WwPw6W8X2RdzW82I4j6kYAghKk1uvoEpa6LIzTfSxc+ZMR0bF/3uhbYNGRri\n",
              "iaLAlDWR3MjIUTGpKIkUDCFEpfnX9gucu5GJYz0L5g8KwMxMU+z37/ZtRcsGtqRm5zHp+0jyDUaV\n",
              "koqSSMEQQlSKXReS+b/9VwCYP6gNLjZW96xjZa5l2chgbKx0HL+axrxt5ys7pniAUhWMlJQUAgMD\n",
              "ixY/Pz90Oh2pqakkJyfTq1cvfH198ff3Z8+ePRWVWQhRzdy6o+eNdScBGN3Bm+7NXe67biPHeswf\n",
              "1AaA/+y7wvbTNyolo3g4XWlWdnR0JCoqqujn+fPnExERgYODA2PGjCE0NJTt27dz9OhRnn/+ea5c\n",
              "uYK5uXl5ZxZCVCOKovDGDye5nZVHczcb3nqm+UO3ebqVG2O7+PDlnsu8sS6aZm62NHaqVwlpxYOU\n",
              "qUlqxYoVvPTSSwCEh4czfvx4AEJCQnB3dyciIqLsCYUQ1drXB+LYfeEWljozFg0Nwspca9J2bzzd\n",
              "jBDv+tzRF/Bq2HFy8w0VnFQ8zCMXjAMHDpCWlkafPn1ISUkhPz8fNze3ot97e3sTHx9f4rZ6vZ7M\n",
              "zMxii8EgF4MQNc25G5nM/bnwPsTbz7agmZuNyduaa81YOjwYJ2sLzt+8wzs/nq6omMJEj1wwVqxY\n",
              "wYsvvohOV6pWLQDmzp2LnZ1dseXIkSOPGkUIUQXl5BmYsjqSPIORni1cGBnaqNT7cLW1YtHQIMw0\n",
              "EH7sGuFHEyogqTDVIxWMrKwswsPDGTNmDFB4b0On03Hz5s2ideLi4vDy8ipx+1mzZpGRkVFsad++\n",
              "/aNEEUJUUf/8+SwxyVm42FjyrxfaoNFoHr5RCTo2dWLak34AzP7xNGevy8i2anmkgrF27VratGlD\n",
              "8+b/vXk1aNAgvvjiCwCOHj1KYmIiXbt2LXF7S0tLbG1tiy1arWntmkKIqu/XMzcJO1TYJL1gcBsc\n",
              "6lmUaX8TujWlWzNn9AVGJqw6TmZufnnEFKX0SAXjrze7/zRv3jwOHDiAr68vo0ePJiwsTHpICVEL\n",
              "JWXmMnN9NABju/jQ2de5zPs0M9Pw6eBAPOzrEJdylzfXRaMoMkhhZSv9DQgKb3j/L1dXV3799dcy\n",
              "BxJCVF9Go8K08CjS7ubj72HLjKealdu+69ez4LMRwQz64gDbz9xkxb4rvNzZp9z2Lx5OvukthCg3\n",
              "X+29zP7YFOqYa1k0NAgLXfm+xAR62vNOn5YAzN12nqNxqeW6f/FgUjCEEOUi+lo6n/xyAYB3+7ak\n",
              "ibN1hRxnZGgj+rZxx2BUmPT9CW5n6SvkOOJeUjCEEGWWrS9g6pooCowKz/i7MbidZ4UdS6PRMHdA\n",
              "a5q6WJOUqWfqmkgMMulSpZCCIYQos/d/OsuV29k0sLNi7oDWj9yF1lT1LHUsGxFMHXMt+2NTWPTb\n",
              "xQo9nigkBUMIUSZbo2+w9lgCGg18OiQQ+7pl60JrKl9XGz4eWDjp0uLfY9l1IblSjlubScEQQjyy\n",
              "xPQcZm0o7EI7sVtTQn0cK/X4/QI9GBla+AXh19dGkZguky5VJCkYQohHYjAqvL4miszcAgI97Zna\n",
              "01eVHLP7tCSgoR3pd/OZsOoEeQUy6VJFkYIhhHgkn++K5UhcKvUstCwaGoi5Vp2XE0udls+GB2NX\n",
              "x5yTCel89PM5VXLUBlIwhBCldiI+jX/vjAHgg/7+NHJUd64KT4e6LBxcOOnS1wfi+OnkdVXz1FRS\n",
              "MIQQpXInN7+oK2u/QHeeD/JQOxIAPVq4MqFbEwDeWh9NbHKWyolqHikYQohSeefHMySk5tCwfh0+\n",
              "6O9f4V1oS2Pak36E+jiQnWdgwqrj3M0rUDtSjSIFQwhhso2R19gYmYjWTMOioUHYWlWtAUZ1WjMW\n",
              "DwvC2caSi0lZ/L+Np2WQwnIkBUMIYZL4lLvM3nQGgClP+NK2UX2VE5XMxcaKpcOC0Jpp2BiZyOoj\n",
              "MulSeZGCIYR4qAKDkalrI8nSFxDiXZ+J3ZuoHemBHvNx5I2nC0fKfXfzGU5dy1A5Uc1Q6oKh1+uZ\n",
              "NGkSvr6+tG7dmpEjRwIQExNDhw4d8PPzIyQkhDNnzpR7WCGEOhbvjCEyPh0bKx2fDglEp1IX2tIY\n",
              "18WHni1cyTMYmfD9cTLuyqRLZVXq//W33noLjUbDxYsXOXXqFPPnzwdg3LhxjB07losXLzJz5kxG\n",
              "jx5d3lmFECo4fDmFpbtiAZg7oDUN69dVOZFpNBoNCwa3wdOhDgmpOUxfF4VRBiksk1IVjOzsbFas\n",
              "WME///nPop4Rbm5uJCcnc+zYsaJPGwMHDiQhIYHY2NjyTyyEqDQZd/N5fW0URgUGtW1InwB3tSOV\n",
              "il0dc5aNaIuFzozfziWzfM9ltSNVa6UqGJcuXcLBwYGPPvqIdu3a0blzZ3bu3ElCQgINGjRApyuc\n",
              "wE+j0eDl5UV8fHyJ+9Hr9WRmZhZbDAZD2Z+NEKLcKIrCPzae4npGLt6OdXm3byu1Iz0Sfw873vsj\n",
              "+ye/nOfgpRSVE1VfpSoYBQUFXL16lZYtW3Ls2DEWL17MkCFDKCgoXV/nuXPnYmdnV2w5cuRIqfYh\n",
              "hKhY645fY+upG+j+6EJbz/KRZnSuEoaGeDIg2AOjApNXR5Kcmat2pGqpVAXDy8sLMzMzRowYAUBQ\n",
              "UBCNGzfm6tWr3Lhxo6hwKIpCfHw8Xl5eJe5n1qxZZGRkFFvat29fxqcihCgvl29l8e7mwo4r059q\n",
              "RhtPe3UDlZFGo+HD/v40c7XhdpaeyasjKTDIIIWlVaqC4eTkRI8ePfjll18AuHLlCleuXKFjx44E\n",
              "BwcTFhYGwPr162nYsCFNmzYtcT+WlpbY2toWW7RabRmfihCiPOQVGJm6Joq7eQY6NHFkXBcftSOV\n",
              "i7oWOj4fGUw9Cy2Hr6SyYIdMulRape4l9cUXX/DJJ5/QunVr+vfvz/Lly/Hw8GD58uUsX74cPz8/\n",
              "Pv74Y1auXFkReYUQFWzBjgucSszAvq45CwcHYmZWdYb+KKsmztbMeyEAgGW7L/Hb2SSVE1UvpW6U\n",
              "9PHxYdeuXfc83qxZMw4ePFguoYQQ6tgfe5vlEYU9ieYNDMDNzkrlROWvT4A7x+LS+PpAHNPCo9g6\n",
              "pTOeDtWjq7Daqv63b4QQlSI1O49p4VEADH/Mi6dbuakbqAL9o3cLAj3tycwt4NVVx8nNl16appCC\n",
              "IYRAURRmro8mKVNPE+d6zH62pdqRKpSFzozPRgRTv645pxMz+WDLWbUjVQtSMIQQrDocz46zSVj8\n",
              "MdprHYua3wnFw74Onw4JRKMpfP4bI6+pHanKk4IhRC0Xk3Sn6B32zGea08rdTuVEladbMxcmP1E4\n",
              "F/k/NpzmYtIdlRNVbVIwhKjFcvMNTF4dib7ASFc/Z/7ewVvtSJVuag9fOjV1IiffwPiw42TpZdKl\n",
              "+5GCIUQtNm/7ec7fvINjPQvmD2pTo7rQmqpwMqhA3GytuHwrm1kbTsmkS/chBUOIWmrXhWRW7o8D\n",
              "YP6gNjjbWKobSEWO1pZ8NiIInZmGn05e57tDV9WOVCVJwRCiFrp1R88b604CMLqDN92bu6icSH1t\n",
              "Gzkwq3cLAD7YcpaohHR1A1VBUjCEqGWMRoUZ605yOyuP5m42vPVMc7UjVRljOnrzjL8b+QaFiatO\n",
              "kJadp3akKkUKhhC1zNcH4oi4eAtLXWEXWivzmt+F1lQajYZ/vRBAY6d6JKbn8Hq4TLr0V1IwhKhF\n",
              "zl7P5ONt5wF4+9kW+LnaqJyo6rGxMufzEcFY6szYfeEWn++WieD+JAVDiFoiJ8/A1DWR5BmM9Gzh\n",
              "wsjQRmpHqrJaNLDlw/7+ACzccZH9sbdVTlQ1SMEQopb4589niUnOwsXGkn+90KZommVRskHtPBnS\n",
              "zhOjAlNWR3IzQyZdkoIhRC3w65mbhB0qnDJ54eBAHOpZqJyoenivXytaNLAlJTuPSd+fIL+WT7ok\n",
              "BUOIGu5mRi5vro8GYFwXHzr5OqmcqPqwMteybEQwNpY6jl1N41/bz6sdSVWlLhje3t40a9aMwMBA\n",
              "AgMDWbt2LQAxMTF06NABPz8/QkJCOHPmTLmHFUKUjtGoMH1dFOl38/H3sGX6U83UjlTteDvV45NB\n",
              "bQD4au8Vtp++oXIi9TzSJ4y1a9cSFRVFVFQUQ4YMAWDcuHGMHTuWixcvMnPmTEaPHl2eOYUQj+Cr\n",
              "vZfZH5tCHXMti4YGYaGTRoVH0cvfjVc6NwbgjXXRxN3OVjmROsrl6klOTubYsWOMHDkSgIEDB5KQ\n",
              "kEBsrHRHE0It0dfS+eSXCwC827clTZytVU5Uvb3ZqzntGtXnjr6AV1edqJWTLj1SwXjxxRdp3bo1\n",
              "L730Erdu3SIhIYEGDRqg0xXO+KrRaPDy8iI+Pr7E7fV6PZmZmcUWg6H2nXwhKkq2voCpa6IoMCr0\n",
              "bu3G4Haeakeq9sy1ZiwdHoxjPQvO3chkzo+1r9m91AVjz549REdHc+LECZycnBg1alSpDzp37lzs\n",
              "7OyKLUeOHCn1foQQJXvvpzNcuZ2Nu50Vc58PkC605cTNzorFw4LQaGDtsQTCjyWoHalSlbpgeHl5\n",
              "AWBubs5rr73G3r178fT05MaNGxQUFI4jrygK8fHxRev+r1mzZpGRkVFsad++fRmehhDiT1ujbxB+\n",
              "7BoaDSwcEohdXXO1I9UoHZs6Ma2nHwCzN53m7PVMlRNVnlIVjOzsbNLT04t+Xr16NUFBQbi4uBAc\n",
              "HExYWBgA69evp2HDhjRt2rTE/VhaWmJra1ts0WplPBshyioxPYdZGwq70E7s1pRQH0eVE9VME7s3\n",
              "pVszZ/QFRiasOk5mbr7akSpFqQpGUlIS3bt3JyAggNatWxMREcG3334LwPLly1m+fDl+fn58/PHH\n",
              "rFy5skICCyFKZjAqvL4miszcAgI97Zna01ftSDWWmZmGTwcH4mFfh7iUu8z8IbpWTLqkK83KPj4+\n",
              "REZGlvi7Zs2acfDgwXIJJYQovc93xXIkLhVrSx2LhwZhrpUutBWpfj0LPhsRzKAvDrDt9E3+b38c\n",
              "L3VqrHasCiVXVC2nKAp7Y25x6lqG2lFEGRy/msa/d8YA8EH/Vng51lU5Ue0Q6GnP7D4tAZj78zmO\n",
              "X01VOVHFkoJRi93NK2B6+En+tuIIzy3dx9Q1kdzIyFE7liilO7n5vLY2EoNRoV+gO88HNVQ7Uq3y\n",
              "t9BGPNfGnQKjwsRVkaRk6dWOVGGkYNRSF5Pu0HfpfjZEJmKmAY0Gfoy6zhPzI1j6e0yt/FJSdfXO\n",
              "j2dISM2hYf06fPDHkNyi8mg0GuYOaE0T53rczMzltbVRGGropEtSMGqhH45fo9/S/cT+MdT16ldC\n",
              "+WlSJ9o1qk9OvoH5v16k58IItp++UStu5FVnGyOvsTEyEa2ZhkVDg7C1ki60arC21LFsZFvqmGvZ\n",
              "G3ObxX80D9Y0UjBqkZw8A2/+cJIZ606Sk2+gs68TP0/tzGM+jvh72LFu/OMsGhpIAzsrrqXlMD7s\n",
              "BMO/Osz5m7Wnn3l1Ep9yl9mbCr9tPLWHL20b1Vc5Ue3m52rD3AGtAVj8ewy7LySrnKj8ScGoJWKT\n",
              "s+j/2X7Cj13DTAPTn/Tjm7+3x8nasmgdjUZDv0APdk7vypQnmmKpM+Pg5RR6L9rL7E2nScvOU/EZ\n",
              "iL/KNxiZsiaSLH0B7b0dmNi95O88icrVP8iDEY95oSjw+tooEtNr1j1BKRi1wI9RifRduo8LSXdw\n",
              "srYk7OXHmNzDFzOzkoeLqGuhY9pTzfhtWld6t3bDqMB3h67Sbf5uvjkQR0Etn0SmKli8M4aohHRs\n",
              "rHR8OjQQ7X3+L0Xlm92nJa097Ei7m8/EVSfIK6g5fy9SMGqw3HwDszacYuqaKO7mGXjcx5Gfp3ai\n",
              "QxPTJtDxdKjL5yPa8v0rj9HczYaMnHzmbD7Ds4v3cUDmOFbN4cspLN1VOBL03AGt8bCvo3Ii8VdW\n",
              "5lo+HxGMrZWOqIR0Pvr5nNqRyo0UjBrqyu1snv/8AKuPxKPRwJQevoS9/BguNlal3leHJk5smdyJ\n",
              "D/r7Y1/XnAtJdxj+n8OM++4YCal3KyC9uJ+Mu/m8vjYKRYFBbRvSJ8Bd7UiiBJ4OdVk4OBCArw/E\n",
              "sSX6urqByokUjBpoS/R1nluyj3M3MnGsZ8G3Y9oz7Um/MjVb6LRm/C20EbtndGN0B2+0Zhp+OZNE\n",
              "j4URfPLLebL1BeX4DERJFEVh1sZormfk0tipHu/2baV2JPEAPVu68mq3JgDM/CGaS7eyVE5UdlIw\n",
              "ahB9gYF3fjzNpO//uBna2IGfp3ams69zuR3Dvq4F7/ZtxbapnenU1Im8AiOf7brEEwt2sykyUbrh\n",
              "VqB1x67x86mb6Mw0LBoaSD3LUo3sI1Qw/Uk/HmvsQHaegVfDjnM3r3q/sZKCUUPEp9xl4LIDfHvw\n",
              "KgATujXh+5cfw9W29E1QpvBzteG7l9rz5d/a4uVQl6RMPa+tjWLgsgNEX0uvkGPWZpduZTFnc2EX\n",
              "2hlPNyOgob26gYRJdFozlgwPwtnGkotJWby98XS1flMlBaMG2H76Js8u2cvpxEzq1zVn5d9DeLNX\n",
              "c3QVPPicRqPhqVZu/Pp6F954uhl1LbSciE+n79L9vLHuJMl3civ0+LVFXoGR19ZEkZNvoEMTR8Z2\n",
              "9lE7kigFFxsrlgwLQmumYUNkImuOVt9Jl6RgVGN5BUbe++kM48OOcye3gLaN6rN1Sme6N3Op1BxW\n",
              "5lomdm/KrhndGBDkAcC649d4Yn4EyyMu1ahuhWpYsOMCpxIzsK9rzsLBgfftDi2qrlAfR954uhkA\n",
              "czaf4XRi9Rzs85ELxsqVK9FoNGzatAmA5ORkevXqha+vL/7+/uzZs6e8MooSJKTeZdDyg6zcHwfA\n",
              "uC4+rBkbiruKXSxdba1YOCSQDRM60KahHVn6AuZuO8/T/97DznNJ1fqjuFr2xdxmecRlAOYNDMDN\n",
              "rmKaGEXFG9vZh54tXMkrMPLqquNk3K1+ky49UsGIi4vjq6++IjQ0tOixt956i9DQUGJiYli5ciXD\n",
              "hw8nP7/6nZDqYMfZJJ5dvJeTCenY1THnPy+2Y1bvFlVm/oNgr/psnNCRT14IwMnakiu3s3npm2OM\n",
              "XnmU2OTq31OksqRm5zEtPAqAEY958XQrN3UDiTIxM9OwYFAbPB3qkJCaw/R1J6vdm6hSv8IYjUZe\n",
              "fvlllixZgqXlf4eVCA8PZ/z48QCEhITg7u5ORERE+SUV5BuMfPTzOV759hiZuQW08bRn65RO9Gzp\n",
              "qna0e5iZaRjUzpNdM7oyrqsP5loNERdv0evfe/hgy1kycuTNxIMoisKbP0STfEdPUxdr3n62pdqR\n",
              "RDmwq2vOshFtsdCZ8du5JL7cc1ntSKVS6oKxcOFCOnbsSNu2bYseS0lJIT8/Hze3/74D8vb2Jj4+\n",
              "vsR96PV6MjMziy0Ggwyn/SDX03MYsvxg0QU2pmNj1o17nIb1q/ZEOTZW5sx6pgW/vt6Vni1cKDAq\n",
              "rNh3hSfm72b1kfgaOwx0WYUdjue3c0lYaM1YPDSIOhYy531N4e9hx7vPFX6H5l+/XODw5RSVE5mu\n",
              "VAXj9OnTrF+/nrfffrtMB507dy52dnbFliNHjpRpnzXZrgvJPLt4LyfiC8cO+mJkW955riUWuqrR\n",
              "BGWKxk71+M+oEL4Z054mzvVIyc5j1oZT9F26j6NxNXuWstKKSbrDh1vOAjDzmea0dLdVOZEob8Pa\n",
              "ezIgyAODUWHS6shq06OwVK84e/fuJS4uDl9fX7y9vTl06BBjx44lPDwcnU7HzZs3i9aNi4vDy8ur\n",
              "xP3MmjWLjIyMYkv79u3L9kxqoAKDkXnbz/P3lUdJu5tPaw87tk7uTC//6tuW3dXPme2vdeGdPi2x\n",
              "sdJx5nomg744yOTVkVyvYSN7PorcfAOTV0eiLzDS1c+Zv3fwVjuSqAAajYYPn/fHz9WaW3f0TF0d\n",
              "VS0G9dQoZbjr0q1bN1577TX69+/P6NGj8fb25t133+Xo0aP079+fuLg4zM1Nm9Bl2rRpLFy48FGj\n",
              "1Dg3M3KZsjqSI3+8+x71eCP+8WwLLHU1p2kiJUvPgh0XWX0kHkUBK3MzXu3alHFdfbAyrznPszTe\n",
              "++kMK/fH4WRtwbapXXC2sXz4RqLaunQri75L9pGdZ2Bi9ya88XRztSM9ULm1acybN48DBw7g6+vL\n",
              "6NGjCQsLM7lYiOL2XLzFs4v3ciQuFWtLHZ8ND+a9fv41qlgAOFpb8tHzrdkyuRPtvR3IzTfy6W8X\n",
              "6bEggq3RtW+2v13nk4u6SX/yQhspFrVAE2drPh4YAMBnuy7x+/kklRM9WJk+YZQn+YQBBqPCot8u\n",
              "smRXLIoCLRvY8vmIYLyd6qkdrcIpisLWUzf4aOs5rmcUtuc+1tiBOc+1qhVt+Lfu6Hlm0R5uZ+Ux\n",
              "uoO3DCxYy7y7+QxfH4jDro45WyZ3wtOhanZmqT53TWu45Du5jPzPYRb/Xlgshj/mxYYJHWpFsYDC\n",
              "Nt0+Ae7snN6NqT18sdSZcfhKKn2W7OX/bTxFag2e7c9oVJix7iS3s/Jo7mbDW89U7WYJUf7+0bsF\n",
              "gZ72ZOTkM2HVCfQFVbPXqBSMKuBA7G16L9rHwcsp1LPQsmhoIB8937pWtuPXsdDy+pN+/D6jG88G\n",
              "NMCowKrD8XT7ZBcr918hvxrcGCytrw/EEXHxFpY6MxYPC6qV/++1nYXOjM9GBGNf15xTiRl88Ecv\n",
              "uapGCoaKCpugYhi54jC3s/Q0d7Nh8+RO9Av0UDua6jzs6/DZ8GDWjg2lRQNbMnMLeO+ns/RetJe9\n",
              "MbfUjlduzl7P5ONt5wF4u09L/FxtVE4k1OJhX4d/DwlEo4GwQ/FsikxUO9I9pGCo5HaWnlH/d4RP\n",
              "f7uIUYEh7TzZOKEjTZyt1Y5WpTzm48iWyZ345/P+1K9rTkxyFn9bcYRXvj3G1ZRsteOVSU6egSlr\n",
              "IskzGOnZwpWRj5XcDV3UHt2auTC5e1MAZm04RUzSHZUTFScFQwWHL6fQe9Fe9sXepo65lgWD2jDv\n",
              "hQD5Nu99aM00jHisEbtndOfvHQtn+9txNoknF+5h3vbzZFXT2f4+3HqW2OQsXGws+dcLAWg0Mgqt\n",
              "gKk9/ejU1ImcfAPjw45XqdkspWBUIqNR4bNdsQz76hDJd/T4ulizeVJHBrZtqHa0asGurjlznmvF\n",
              "9qmd6ezrRJ7ByLLdl3hi/m7WH7+GsRoNM/LrmZusOlw4dM7CwYE41LNQOZGoKrR/zKjoZmvFpVvZ\n",
              "vLXhVJXpYi4Fo5KkZufx96+P8skvFzAqMCDYgx8ndcRX2qxLzdfVhm/HtOc/L7ajkWNdku/omb7u\n",
              "JAOWHSAyPk3teA91MyOXN9dHA4XD0nfydVI5kahqHK0tWTo8CJ2Zhp9OXifs0FW1IwFSMCrFsbhU\n",
              "nl28t6gnzL8GBrBgUBvqWsiczI9Ko9HQs6Urv77ehbeeaU49Cy1RCek8//kBpoefJDmzao7NYzQq\n",
              "TAuPIv1uPv4etkx/qpnakUQV1c7boaiL9ftbzhKVkK5uIKRgVCijUWF5xCWGfHmIGxm5+DjX48dJ\n",
              "HRkc4int1eXEUqdlfNcm7JrRjRf+aNpbf+Ia3efvZtnuS1WuP/uXey9z4FIKdcy1LB4aVK0GkBSV\n",
              "76VOjenVyo18g8LEVSdIU/n7SHK1VpD0u3m88u0x5m47j8Go0C/Qnc2TOtHcreZ/a1kNLrZWzB/U\n",
              "hk0TOxLoaU92noF528/z1Kd72HG2asz2F30tnfm/XADg3b4t8ZEeceIhNBoN/xoUgLdjXRLTc5gW\n",
              "HqXqvTopGBUgMj6NZxfvY+f5ZCx0Znz0fGv+PSQQa0tpgqpogZ72bHi1AwsHt8HFxpKrKXd55dtj\n",
              "vPh/R1TtopitL2DqmigKjAq9W7sxuJ2nallE9WJrZc7nI9piqTNj14VbLIu4pFoWKRjlSFEKJwca\n",
              "vPwgiek5eDvWZeOEDgx/zEuaoCqRmZmGAcEN+X1GNyZ0a4KF1oy9MbfptWgv7/10RpW5lN/76QxX\n",
              "bmfjbmfF3OelC60onZbutnzQ3x+ABb9e4EDsbVVySMEoJxk5+YwPO84HW86Sb1B4tnUDfprciVbu\n",
              "dmpHq7WsLXW82as5O6Z14cmWrhiMCiv3x9Ft/i7CDl2ttNn+tkRfJ/zYNTQa+HRIIHZ1ZRRnUXqD\n",
              "23kyuF1DjApMWRNJkgodO6RglIPoa+n0WbKXX84UTqn5fr9WLB0ehI2VvDBUBY0c6/HVi+347qX2\n",
              "+LpYk3Y3n7c3nabPkn0cquDpMa+l3WXWhlMATOrelMd8HCv0eKJme7+fP83dbLidlcek709U+thq\n",
              "pS4YTz31FAEBAQQGBtK5c2ciIyMBiImJoUOHDvj5+RESEsKZM2fKPWxVoygK3xyI44VlB0lIzcHT\n",
              "oQ7rX+3Ai497S5NDFdTZ15mfp3bm3edaYmul49yNTIZ+eYiJq05wLe1uuR/PYFR4fW0Ud3ILCPKy\n",
              "Z0oP33I/hqhdrMy1LBvZFhtLHUfj0oo6UVSWUheM8PBwoqOjiYqKYtq0aYwePRqAcePGMXbsWC5e\n",
              "vMjMmTOLHq+pMnPzmfR9JHM2nyHPYOTpVq5smdyZ1g2lCaoqM9eaMbpjY3a/0Z2RoV6YaWDrqRv0\n",
              "WBDBwh0Xyckrv264n+2K5WhcGtaWOhYNCcJcKx/oRdk1dqrHJ4MKJ11avucyv5y5+ZAtyk+pr2B7\n",
              "e/uif2dkZKDRaEhOTubYsWOMHDkSgIEDB5KQkEBsbGy5Ba1KzlzPoO+SfWw9dQNzrYZ3+rTki5Ft\n",
              "sasjTVDVhUM9Cz7s35otkzvzWGMH9AVGFu+MoceC3fx08nqZu+Eev5rGop0xAHzQvxVejlVzQhxR\n",
              "PfXyb8DLnRoDMGPdyUobiPOR3vK8+OKLeHp6Mnv2bL777jsSEhJo0KABOl1ht1GNRoOXlxfx8fEl\n",
              "bq/X68nMzCy2GAxV6wtWJVEUhVWHr/L85weIS7mLh30d1o3vwJhOjaUJqppq6W7LmrGhfD4iGA/7\n",
              "OlzPyGXy6kiGLD/E6cSMR9pnZm4+U9dEYjAq9A905/kgGStMlL+ZzzSnbaP63Mkt4NWwE+TmV/xr\n",
              "6CMVjG+//ZaEhAQ+/PBDZs6cWert586di52dXbHlyJEjjxKl0mT90Y/+/208TV6BkZ4tXNg6pROB\n",
              "nvZqRxNlpNFo6N26ATund2Xak35YmZtxJC6V55buY9aGaFKy9KXa3zubTnMtrfCe1vt/dIUUoryZ\n",
              "a834bHgwjvUsuJGRw5XbFf8po8xzetepU4e4uDh8fX1JTU1Fp9OhKAoNGjRg3759NG3a9J5t9Ho9\n",
              "en3xP8LZs2ezaNGiskSpMOdvZjIh7ASXb2ejNdMws1czXunsI58qaqjr6Tl8vO08m09eB8DGSsfU\n",
              "Hr6M6uD90PsQGyOv8frak2jNNISPe5y2jepXRmRRix2/mkYDOyvc7etU+LFK9QkjPT2d69evF/28\n",
              "adMmHB0dcXFxITg4mLCwMADWr19Pw4YNSywWAJaWltja2hZbtNqqNxeEoiisPRpPv6X7uXw7mwZ2\n",
              "VoSPC2VslyZSLGowd/s6LB4WxLrxj9PK3ZY7uQV8uPUcvf69h90Xku+7XXzKXWZvKuwdOLWHrxQL\n",
              "USnaNqpfKcUCoFRjVWRkZDBo0CBycnIwMzPD2dmZLVu2oNFoWL58OaNHj+ajjz7C1taWlStXVlTm\n",
              "SnE3r4C3N55mwx/TJHZr5izzFtQyId4ObJ7UiXXHEvjklwtcupXN6JVH6dHchbf7tKSxU72idfMN\n",
              "RqasiSRLX0B7bwcmdi/5zZIQ1VmZm6TKy7Rp01i4cKHaMQCISbrDhFUniEnOQmumYfpTfozv0gQz\n",
              "M/lUUVtl5OSzZGcMXx+Io8CoYK7VMKZjYyY90RQbK3MW/HqBJb/HYmOlY/trXfCopHd8QlQmGQ3v\n",
              "f6w/fo23N50mJ9+Ai40lS4YFybdzBXZ1zHm7T0uGtvfigy1nibh4i+V7LrP+RCJDQzz5bHdhF/K5\n",
              "A1pLsRA1lhSMP+TkGZiz+TThx64B0NnXiU+HBOJkbalyMlGVNHWx5psx7fn9fBIfbDnHldvZLN1V\n",
              "WCwGt2tInwB3lRMKUXGkYACXbmUxIewEF5LuYKaB13v6MbF7U2mCEvf1RHNXOjV15usDV1i8MxZP\n",
              "h7rMea6V2rGEqFC1vmD8GJXIrA2nuJtnwMnaksXDAunQROZYFg9noTNjbJcm/L1j4TduZegPUdPV\n",
              "2oKRm2/gvZ/OsvpI4bfRH/dxZNGwQFxsrFROJqobKRSitqiVBSPudjYTVp3g7I1MNBqY/IQvU3v4\n",
              "opUmKCGEuK9aVzC2Rt9g5vposvQFONaz4N9DA+ns66x2LCGEqPJqTcHQFxj459ZzfHvwKgDtGzuw\n",
              "ZFgQrrbSBCWEEKaoFQUjPuUuE78/wak/Rh+d0K0J0570Qydtz0IIYbIaXzC2n77JGz+c5E5uAfXr\n",
              "mrNwSCDdm7moHUsIIaqdGlsw8gqMzN12jpX744DCAbqWDAuqtEG6hBCipqmRBeNa2l0mfh/JyYR0\n",
              "AMZ18WHG082k+6MQQpRBjSsYv51NYvq6k2Tk5GNXx5wFg9rQs6Wr2rGEEKLaqzEFI99g5JNfLvDl\n",
              "nssAtPG057PhQTSsL3MpCyFEeShVG01ubi79+/fHz8+PNm3a8OSTTxIbWzjwWnJyMr169cLX1xd/\n",
              "f3/27NlTIYFLcj09h6FfHioqFmM6NmbduMelWAghRDkqdaP+2LFjuXDhAidPnqRfv368/PLLALz1\n",
              "1luEhoYSExPDypUrGT58OPn5+eUe+H8dupzCs4v3cvxqGjZWOr4Y2ZZ3nmuJhU7uVwghRHkq1auq\n",
              "lZUVvXv3LpqeNDQ0lLi4OADCw8MZP348ACEhIbi7uxMREVG+aUvgZmtFvkGhtYcdWyd3ppe/W4Uf\n",
              "UwghaqMy3cNYtGgR/fr1IyUlhfz8fNzc/vti7e3tTXx8fInb6fV69Hp9sccMBsMjZfB2qsfqV0Lx\n",
              "c7PGUlf15gUXQoia4pHbbT766CNiY2OZO3duqbedO3cudnZ2xZYjR448ahRaN7STYiGEEBXskQrG\n",
              "/Pnz2bBhA9u2baNu3bo4Ojqi0+m4efNm0TpxcXF4eXmVuP2sWbPIyMgotrRv3/7RnoEQQohKUeqC\n",
              "sXDhQlavXs2OHTuwt7cvenzQoEF88cUXABw9epTExES6du1a4j4sLS2xtbUttmi18glBCCGqslLd\n",
              "w7h27RrTp0/Hx8eH7t27A4Uv/ocPH2bevHn87W9/w9fXFwsLC8LCwjA3N6+Q0EIIISqfRlEURe0Q\n",
              "AAMGDMDb2/uRtjUYDBw5coT27dtXyU8qkq9sJF/ZSL6yqQ35GjVqxNSpUx+6XpUpGGWRmZmJnZ0d\n",
              "GRkZ2Nraqh3nHpKvbCRf2Ui+spF8/yXfbhNCCGESKRhCCCFMIgVDCCGESWpEwbC0tGTOnDlYWlqq\n",
              "HaVEkq9sJF/ZSL6ykXz/VSNuegshhKh4NeIThhBCiIonBUMIIYRJpGAIIYQwSbUqGDExMXTo0AE/\n",
              "Pz9CQkI4c+ZMieutWLECX19fmjRpwiuvvFIpEzmZmm/37t3UqVOHwMDAoiUnJ6fCs02ZMgVvb280\n",
              "Gg1RUVH3XU+tc2dKPrXOHTx4tsn/tWXLFpo3b46vry8DBgwgMzOzyuSLi4tDq9UWO4eXLl2q8HwA\n",
              "Tz31FAEBAQQGBtK5c2ciIyNLXE+ta9CUfGpeg39auXIlGo2GTZs2lfj7Cr3+lGqke/fuysqVKxVF\n",
              "UZR169Yp7dq1u2edy5cvKw0aNFBu3LihGI1G5bnnnlOWLl1aZfLt2rVLadOmTaXk+auIiAglISFB\n",
              "adSokRIZGVniOmqeO1PyqXXuFEVRcnJylK1btypGo1FRFEVZsmSJ0rVr13vWu3PnjuLi4qKcO3dO\n",
              "URRFmThxojJjxowqk+/KlSuKnZ1dhecpSVpaWtG/N2zYoAQEBNyzjprXoCn51LwGFaXw/+/xxx9X\n",
              "QkNDlY0bN97z+4q+/qrNJ4zk5GSOHTvGyJEjARg4cCAJCQn3vIv64Ycf6Nu3L25ubmg0GsaPH8/q\n",
              "1aurTD61dOnShYYNGz5wHbXOnan51PSg2Sb/atu2bQQFBdG8eXMAJkyYUCnn0NR8avrr6NYZGRlF\n",
              "Wf9KzWvQlHxqMhqNvPzyyyxZsuS+XWgr+vqrNgUjISGBBg0aoNMVDrCr0Wjw8vK6Z1a/+Ph4GjVq\n",
              "VPTzg2b+UyMfwKVLlwgODiYkJITPP/+8wrOZSq1zVxpV5dz9Odvk/yrpHN64cYOCgoLKjHfffADZ\n",
              "2dmEhIQQHBzM+++//8izXT6KF198EU9PT2bPns133313z+/VvgYflg/UuwYXLlxIx44dadu27X3X\n",
              "qejrr0xTtIrSCw4O5tq1a9jZ2XHt2jV69+6Nk5MTgwcPVjtalVdVzt2fs03u3LmzUo9rqgfla9Cg\n",
              "AYmJibi4uJCamsqQIUNYsGABb775ZqVk+/bbbwH45ptvmDlzJj///HOlHNdUD8un1jV4+vRp1q9f\n",
              "z549eyr0OA9TbT5heHp6FquUiqIQHx9/z6x+Xl5eXL16tejnB838p0Y+W1tb7OzsAGjYsCHDhg1j\n",
              "7969FZ7PFGqdO1NVhXP3v7NN/q+SzuFfP3mqnc/S0hIXFxcAHBwcGDNmjCrX36hRo9i1axcpKSnF\n",
              "Hq8q1+D98ql1De7du5e4uDh8fX3x9vbm0KFDjB07lmXLlhVbr8Kvv3K7G1IJunbtWuymctu2be9Z\n",
              "59KlS/fcNFuyZEmVyXf9+nXFYDAoiqIomZmZSocOHZQVK1ZUSj5FUR54U1nNc2dKPrXP3YIFC5Tg\n",
              "4GAlNTX1vutkZmYqzs7OxW46Tp8+vcrkS0pKUvLy8hRFUZTc3FzlhRdeUGbPnl3h2dLS0pTExMSi\n",
              "nzdu3Kh4eHgU3aT/k1rXoKn51L4G/9S1a9cSb3pX9PVXrQrG+fPnldDQUMXX11dp27atEh0drSiK\n",
              "orz00kvKjz/+WLTel19+qfj4+Cg+Pj7KmDFjiv5AqkK+JUuWKC1btlQCAgKUli1bKnPmzLnnoqwI\n",
              "Y8eOVTw8PBStVqu4uLgoTZo0uSeboqh37kzJp9a5UxRFSUhIUADFx8dHadOmjdKmTRulffv2iqIo\n",
              "yuzZs5Vly5YVrfvjjz8qzZo1U5o0aaL069dPSU9PrzL51q9fr7Rq1aroHE6aNEnJzc2t8HxxcXFK\n",
              "SEiI4u/vrwQEBCg9evQoemNQFa5BU/OpeQ3+1V8LRmVefzKWlBBCCJNUm3sYQggh1CUFQwghhEmk\n",
              "YAghhDCJFAwhhBAmkYIhhBDCJFIwhBBCmEQKhhBCCJNIwRBCCGESKRhCCCFMIgVDCCGESaRgCCGE\n",
              "MMn/ByNP0pja6eGOAAAAAElFTkSuQmCC\n",
              "\">\n",
              "        \n",
              "      </div>\n",
              "      <script></script>\n",
              "      <script type=\"text/javascript\">\n",
              "        (() => {\n",
              "          const chartElement = document.getElementById(\"chart-ea6acd70-3bf4-4dec-832f-44b8eb775f87\");\n",
              "          async function getCodeForChartHandler(event) {\n",
              "            const chartCodeResponse =  await google.colab.kernel.invokeFunction(\n",
              "                'getCodeForChart', [\"chart-ea6acd70-3bf4-4dec-832f-44b8eb775f87\"], {});\n",
              "            const responseJson = chartCodeResponse.data['application/json'];\n",
              "            await google.colab.notebook.addCell(responseJson.code, 'code');\n",
              "          }\n",
              "          chartElement.onclick = getCodeForChartHandler;\n",
              "        })();\n",
              "      </script>\n",
              "      <style>\n",
              "        .colab-quickchart-chart-with-code  {\n",
              "            display: block;\n",
              "            float: left;\n",
              "            border: 1px solid transparent;\n",
              "        }\n",
              "\n",
              "        .colab-quickchart-chart-with-code:hover {\n",
              "            cursor: pointer;\n",
              "            border: 1px solid #aaa;\n",
              "        }\n",
              "      </style>"
            ]
          },
          "metadata": {}
        },
        {
          "output_type": "display_data",
          "data": {
            "text/plain": [
              "<google.colab._quickchart_helpers.SectionTitle at 0x7ed783b22e90>"
            ],
            "text/html": [
              "<h4 class=\"colab-quickchart-section-title\">Distributions</h4>\n",
              "<style>\n",
              "  .colab-quickchart-section-title {\n",
              "      clear: both;\n",
              "  }\n",
              "</style>"
            ]
          },
          "metadata": {}
        },
        {
          "output_type": "display_data",
          "data": {
            "text/plain": [
              "import numpy as np\n",
              "from google.colab import autoviz\n",
              "\n",
              "def histogram(df, colname, num_bins=20, figscale=1):\n",
              "  from matplotlib import pyplot as plt\n",
              "  df[colname].plot(kind='hist', bins=num_bins, title=colname, figsize=(8*figscale, 4*figscale))\n",
              "  plt.gca().spines[['top', 'right',]].set_visible(False)\n",
              "  plt.tight_layout()\n",
              "  return autoviz.MplChart.from_current_mpl_state()\n",
              "\n",
              "chart = histogram(_df_7, *['Hours'], **{})\n",
              "chart"
            ],
            "text/html": [
              "      <div class=\"colab-quickchart-chart-with-code\" id=\"chart-bb4195d0-0569-46e2-aaa1-659f6a2ec51a\">\n",
              "        <img src=\"data:image/png;base64,iVBORw0KGgoAAAANSUhEUgAAAYwAAADECAYAAACMRRb/AAAAOXRFWHRTb2Z0d2FyZQBNYXRwbG90\n",
              "bGliIHZlcnNpb24zLjcuMSwgaHR0cHM6Ly9tYXRwbG90bGliLm9yZy/bCgiHAAAACXBIWXMAAA9h\n",
              "AAAPYQGoP6dpAAAYAUlEQVR4nO3df1AU5+EG8GeBeDHqeYgQGI+D8uvERjgBGYq2Jpo22iSYQpqx\n",
              "KcZr5Ic2bZqaRoIm05A2YCdpo03H4RAGY5kYMoCWIbSJJsTRaIJgQhFMAAPeGUFsDKAGT4H9/sE3\n",
              "114As3vHcgc+n5md4dbX3ecF5Zm9vd0VRFEUQURE9C08XB2AiIgmBxYGERFJwsIgIiJJWBhERCQJ\n",
              "C4OIiCRhYRARkSQsDCIikoSFQUREkrAwiIhIEhYGERFJwsIgGsOdd96JZ555ZsR6o9GI1NRUFyQi\n",
              "ci0WBpGbuX79uqsjEI2KhUHkhJ6eHmRkZECr1WLu3LlYtWoVPv30U9ufj3Y08s0jF0EQ8PLLLyMx\n",
              "MREzZsxAeXk5GhoasGzZMmg0Gnh7eyM2NtZuu0Su4OXqAEST2dq1a3H58mXU1dVBrVZjy5YtuPvu\n",
              "u3Hq1CnMnDlT8nZMJhMqKioQGRmJq1ev4u6778Y999yDd955BwBw8uRJaDQahWZBJA2PMIhu4KWX\n",
              "XoJGo7FbXnvtNQBAZ2cnqqqqsH37dvj7++O2227Diy++iP7+flRVVcnaz29/+1ssWLAAgiBg+vTp\n",
              "mDZtGsxmM86cOQMvLy8YDAbcfvvtSkyRSDIWBtEN/O53v0NPT4/d8vDDDwMALBYLACA0NNQ2/pZb\n",
              "bkFQUBDMZrOs/XznO9+xe717924IgoDly5dDq9XiiSeewOXLl52cDZFzWBhEDgoMDAQAnD592rZu\n",
              "YGAAZrMZOp0OADBr1ixcuXLF7u+dO3duxLY8POz/KwYFBWHXrl04c+YM3nvvPRw4cAB5eXnjPQUi\n",
              "WVgYRA4KCAjAj3/8Yzz55JM4f/48+vv7kZWVhWnTpuHee+8FAMTFxaGmpgaffPIJrl+/ju3bt6O9\n",
              "vf1bt717926cPXsWoihCrVbDy8sLXl485UiuxcIgcsLf//53BAcHIyYmBlqtFk1NTTh48CBmzZoF\n",
              "APj5z3+ONWvWIDExEYGBgejp6cGSJUu+dbs1NTWIj4/HzJkzER0dje9973vIyspSejpENyTwmd5E\n",
              "RCQFjzCIiEgSFgYREUnCwiAiIklYGEREJAkLg4iIJGFhEBGRJCwMIiKSZEoUxo4dO1wdgYhoypsS\n",
              "hXHmzBlXRyAimvKmRGEQEZHyFC2Mxx9/HMHBwRAEAR9//PGY44qKihAeHo7Q0FCkp6fzEZVERG5I\n",
              "0cJ48MEHceTIEQQFBY05pr29Hc8++ywOHz6MtrY2nD9/HgUFBUrGIiIiByhaGD/4wQ+g1WpvOKas\n",
              "rAxJSUnw9/eHIAjYsGED9u7dq2QsIiJygMtvsG82m+2OQIKDg2/4tDKr1Qqr1Wq3bnBwULF8REQ0\n",
              "zOWFIVdeXh5ycnLs1iUkJDi8veCn33QqT8e2e122b0c5k3kyc+b7fbN+z2jiuPJ3kVQu/5SUTqez\n",
              "+1hsR0eH7fGWo8nOzkZvb6/dEh8fPxFRiYhuai4vjJSUFFRWVqKrqwuiKCI/Px9r1qwZc7xKpYJa\n",
              "rbZbPD09JzAxEdHNSdHCyMzMhFarxdmzZ3HPPfcgLCwMAJCWlobKykoAQEhICHJycrBkyRKEhYXB\n",
              "19cXmZmZSsYiIiIHKHoOw2Qyjbq+sLDQ7nV6ejrS09OVjEJERE5y+VtSREQ0ObAwiIhIEhYGERFJ\n",
              "wsIgIiJJWBhERCQJC4OIiCRhYRARkSQsDCIikoSFQUREkrAwiIhIEhYGERFJwsIgIiJJWBhERCQJ\n",
              "C4OIiCRhYRARkSQsDCIikoSFQUREkihaGK2trUhMTERERAQWL16MpqamEWOGhoawadMmLFiwAFFR\n",
              "UbjrrrvQ1tamZCwiInKA4s/0zsjIQEtLC7KysmA0GkeMqaysxPvvv4+Ghgb8+9//xooVK7BlyxYl\n",
              "YxERkQMUK4zu7m7U1dUhNTUVAJCSkgKLxTLi6EEQBFitVly9ehWiKKKvrw9arVapWERE5CAvpTZs\n",
              "sVgQEBAAL6/hXQiCAJ1OB7PZjLCwMNu4+++/HzU1NfD398esWbMwb948HDp0aMztWq1WWK1Wu3WD\n",
              "g4PKTIKIiGxcftK7rq4OJ0+exOeff45z585hxYoV2LBhw5jj8/LyMHv2bLultrZ2AhMTEd2cFCuM\n",
              "wMBAdHZ2YmBgAAAgiiLMZjN0Op3duD179mD58uXQaDTw8PDAunXrUFNTM+Z2s7Oz0dvba7fEx8cr\n",
              "NQ0iIvp/ihWGn58fYmJiUFJSAgAoLy+HVqu1ezsKAEJCQvDuu+/i2rVrAICqqirccccdY25XpVJB\n",
              "rVbbLZ6enkpNg4iI/p9i5zAAwGQywWg0Ijc3F2q1GsXFxQCAtLQ0JCUlISkpCY899hhOnTqF6Oho\n",
              "3HLLLfD390d+fr6SsYiIyAGKFoZer8exY8dGrC8sLLR9rVKpsGvXLiVjEBHROHD5SW8iIpocWBhE\n",
              "RCQJC4OIiCRhYRARkSQsDCIikkR2Ybz11ltK5CAiIjcnuzCef/556PV67NixA319fUpkIiIiNyS7\n",
              "MN5//328/vrrOHnyJCIiIvDLX/4Szc3NSmQjIiI34tA5jEWLFmHXrl3417/+haqqKkRFReGHP/wh\n",
              "GhsbxzsfERG5CYcK4+DBg1i9ejWSk5Px2GOPoaurC5mZmfjJT34y3vmIiMhNyL41SGRkJObOnYvH\n",
              "H38cycnJthv/PfjggygqKhr3gERE5B5kF0ZJSQliY2NH/bN//vOfTgciIiL3JPstqfr6ely8eNH2\n",
              "+osvvuDNA4mIbgKyC2Pnzp2YM2eO7bWPjw927tw5rqGIiMj9yC4MURRHrOMztYmIpj7ZhREQEIA3\n",
              "3njD9rq0tBQBAQHjGoqIiNyP7JPe27dvx+rVq7F582YAwG233YZ//OMf4x6MiIjci+wjjPnz56O5\n",
              "uRnV1dWorq5GY2MjwsPDRx3b2tqKxMREREREYPHixWhqahp1XGNjI+68805ERkYiMjISFRUVcmMR\n",
              "EZHCHHpEqyAI0Gg0GBgYwOeffw4A0Ol0I8ZlZmYiIyMDRqMRZWVlMBqNOH78uN2Yr776CqtXr8ae\n",
              "PXuwdOlSDA4O2n0Ki4iI3IPsI4zdu3dDo9Fg4cKFiI2NRWxsLOLi4kaM6+7uRl1dHVJTUwEAKSkp\n",
              "sFgsaGtrsxv32muvISEhAUuXLgUAeHp6wtfX15G5EBGRgmQfYfzhD3/A8ePHodfrbzjOYrEgICAA\n",
              "Xl7DuxAEATqdDmazGWFhYbZxzc3NUKlUuO+++3D27FlERUXhz3/+85ilYbVaYbVa7dbxU1pERMqT\n",
              "fYQxd+7cby0LOQYGBnDw4EGYTCZ89NFHmDdvHjZu3Djm+Ly8PMyePdtuqa2tHbc8REQ0OtmF8cAD\n",
              "D2D79u3o7u5GX1+fbfmmwMBAdHZ2YmBgAMDw9Rtms3nEuQ6dToe77roL8+bNgyAISE1NxQcffDDm\n",
              "/rOzs9Hb22u3xMfHy50GERHJJLswtm7dik2bNsHf3x/e3t7QaDTw9vYeMc7Pzw8xMTEoKSkBAJSX\n",
              "l0Or1dq9HQUADz30EI4fP24rnerqakRHR4+5f5VKBbVabbd8fQNEIiJSjuxzGENDQ5LHmkwmGI1G\n",
              "5ObmQq1Wo7i4GACQlpaGpKQkJCUlQafTYcuWLUhMTISHhwfmzZuHgoICubGIiEhhDn2str6+Hs3N\n",
              "zVi7di16enrQ398/6tXeer0ex44dG7G+sLDQ7vXatWuxdu1aR6IQEdEEcejmg48++iiee+45AMN3\n",
              "q3344YfHOxcREbkZ2YVRUFCADz74AGq1GgAQGhqKCxcujHswIiJyL7ILQ6VSYfr06Xbrvr7WgoiI\n",
              "pi7ZheHr64uWlhYIggBg+Mrv0W4LQkREU4tDd6v92c9+hk8++QSBgYFQq9WoqqpSIhsREbkR2YUR\n",
              "FhaGDz/8EJ9++ilEUYRer+d1EERENwHZhWE2mwEAM2bMAIAb3q2WiIimDtmFERsbC0EQIIoirl69\n",
              "iq+++go+Pj7o7u5WIh8REbkJ2YXxzY/QVlRUoKGhYdwCERGRe5L9KalvSk5OxptvvjkeWYiIyI3J\n",
              "PsL43zvTDg4O4sMPPxz1brVERDS1yC4MjUZjO4fh6emJ8PBw/PWvf1UiGxERuRFF71ZLRERTh9Pn\n",
              "MIiI6OYg+wjDw8PDdluQ/yWKIgRB4PO1iYimKNmF8fzzz6O/v9/23O38/HxMnz4dTzzxxHhnIyIi\n",
              "NyK7MPbt24f6+nrb6z/+8Y+IjY3F1q1bxzUYERG5F9nnMC5dumR3VXd3dzcuXbo0rqGIiMj9yC6M\n",
              "J598EtHR0Vi/fj3Wr1+PRYsW4amnnhp1bGtrKxITExEREYHFixejqalpzO2Koojly5dDo9HIjURE\n",
              "RBNAdmFkZmbiwIEDMBgMMBgMePvtt5Genj7m2IyMDLS0tCArKwtGo3HM7b788ssIDQ2VG4eIiCaI\n",
              "Qx+r9fHxwcKFC/HrX/8aer0e165dGzGmu7sbdXV1SE1NBQCkpKTAYrGgra1txNimpibs378fTz/9\n",
              "tCNxiIhoAsgujLKyMiQkJOAXv/gFgOFf9g888MCIcRaLBQEBAbbHtwqCAJ1OZ7s9+teuX7+O9PR0\n",
              "mEwmSc/VsFqt6Ovrs1v4UV4iIuXJLoy8vDycOHHCdq4hOjoaZ86ccThATk4OkpOTERkZKXn/s2fP\n",
              "tltqa2sd3j8REUkjuzA8PT3h4+Njt27atGkjxgUGBqKzsxMDAwMAhk9qm83mEQ9aOnToEF555RUE\n",
              "Bwdj6dKl6OvrQ3Bw8IjbqH8tOzsbvb29dkt8fLzcaRARkUyyr8OYNWsWzp8/b7va+5133sGcOXNG\n",
              "jPPz80NMTAxKSkpgNBpRXl4OrVaLsLAwu3GHDx+2fd3R0QGDwYCOjo4x969SqaBSqezW8RGxRETK\n",
              "k10Yf/rTn7Bq1Sp89tlnWLp0Kdrb28d8HobJZILRaERubi7UajWKi4sBAGlpaUhKSkJSUpJz6YmI\n",
              "aMLIKoyhoSEMDg6ipqYGR48ehSiKSExMHPPaCb1ej2PHjo1YX1hYOOr44OBg9PT0yIlEREQTRFZh\n",
              "eHh4ICMjAw0NDVi1apVSmYiIyA3JPukdHh4+6rUUREQ0tck+h3Hx4kUYDAYkJiZi5syZtvUVFRXj\n",
              "GoyIiNyL5MLIyMhAQUEB1q1bh6SkJHh7eyuZi4iI3IzkwqirqwMArFu3DjExMThx4oRioYiIyP04\n",
              "dC8pURTHOwcREbk5yUcY/f39aGxshCiKuHr1qu3rr0VFRSkSkIiI3IOswvjfC+3+92tBEPDZZ5+N\n",
              "bzIiInIrkgvjRrfrICKiqc+hcxhERHTzYWEQEZEkLAwiIpKEhUFERJKwMIiISBIWBhERScLCICIi\n",
              "SVgYREQkiaKF0draisTERERERGDx4sVoamoaMebdd99FfHw8FixYgO9+97vYvHkzhoaGlIxFREQO\n",
              "ULQwMjMzkZGRgZaWFmRlZcFoNI4Y4+3tjddffx3Nzc2or6/H0aNHsWfPHiVjERGRAxQrjO7ubtTV\n",
              "1SE1NRUAkJKSAovFMuJpfYsWLUJISAgA4NZbb4XBYOBtSIiI3JDsJ+5JZbFYEBAQAC+v4V0IggCd\n",
              "Tgez2YywsLBR/05XVxfKyspQVVU15natViusVqvdusHBwfELTkREo3Kbk959fX24//77sXnzZsTF\n",
              "xY05Li8vD7Nnz7ZbamtrJzApEdHNSbHCCAwMRGdnJwYGBgAMP3TJbDZDp9ONGHvp0iWsXLkSq1ev\n",
              "xqZNm2643ezsbPT29tot8fHxisyBiIj+S7HC8PPzQ0xMDEpKSgAA5eXl0Gq1I96Ounz5MlauXImV\n",
              "K1fimWee+dbtqlQqqNVqu8XT01ORORAR0X8p+paUyWSCyWRCREQEtm3bhuLiYgBAWloaKisrAQA7\n",
              "duxAbW0tKioqYDAYYDAY8MILLygZi4iIHKDYSW8A0Ov1OHbs2Ij1hYWFtq+3bt2KrVu3KhmDiIjG\n",
              "gduc9CYiIvfGwiAiIklYGEREJAkLg4iIJGFhEBGRJCwMIiKShIVBRESSsDCIiEgSFgYREUnCwiAi\n",
              "IklYGEREJAkLg4iIJGFhEBGRJCwMIiKShIVBRESSsDCIiEgSFgYREUmiaGG0trYiMTERERERWLx4\n",
              "MZqamkYdV1RUhPDwcISGhiI9PR3Xr19XMhYRETlA0cLIzMxERkYGWlpakJWVBaPROGJMe3s7nn32\n",
              "WRw+fBhtbW04f/48CgoKlIxFREQOUKwwuru7UVdXh9TUVABASkoKLBYL2tra7MaVlZUhKSkJ/v7+\n",
              "EAQBGzZswN69e5WKRUREDvJSasMWiwUBAQHw8hrehSAI0Ol0MJvNCAsLs40zm80ICgqyvQ4ODobZ\n",
              "bB5zu1arFVar1W7d4ODgOKcnIqJvUqwwlJKXl4ecnBy7dfPnz8emTZsc2l6yk3k2bXrnW8cMDg6i\n",
              "trYW8fHx8PT0HLd9O0pK5rGMNZfJ4JvfbzlzceZ7NhEm88/lm27WuUzE76KxBAUF4Te/+c23jhNE\n",
              "URQd3ssNdHd3IywsDBcvXoSXlxdEUURAQACOHDlid4Tx4osv4vTp08jPzwcAVFdXIzc3F0eOHBl1\n",
              "u6MdYahUKqhUKiWmMS76+vowe/Zs9Pb2Qq1WuzqOUzgX98S5uKepNBdAwXMYfn5+iImJQUlJCQCg\n",
              "vLwcWq3WriyA4XMblZWV6OrqgiiKyM/Px5o1a8bcrkqlglqttlvcuSyIiKYKRT8lZTKZYDKZEBER\n",
              "gW3btqG4uBgAkJaWhsrKSgBASEgIcnJysGTJEoSFhcHX1xeZmZlKxiIiIgco9pYU/ddUOizlXNwT\n",
              "5+KeptJcAF7pPSFUKhV+//vfT4m3zjgX98S5uKepNBeARxhERCQRjzCIiEgSFgYREUnCwiAiIklY\n",
              "GAr70Y9+hKioKBgMBnz/+9/HRx995OpITisuLoYgCNi/f7+rozgsODgYer0eBoMBBoMBpaWlro7k\n",
              "MKvVil/96lcIDw/HwoULbfdvm2y++OIL28/DYDAgIiICXl5euHjxoqujOaS6uhoxMTEwGAy44447\n",
              "8Oqrr7o6ktMm3a1BJps33ngDGo0GALBv3z4YjUY0NDS4NpQTOjo6sGvXLiQkJLg6itNKS0thMBhc\n",
              "HcNpTz/9NARBQEtLCwRBQFdXl6sjOcTHxwcff/yx7fVLL72EQ4cOYc6cOa4L5SBRFJGamor33nsP\n",
              "UVFR6OjowPz585GcnIxZs2a5Op7DeIShsK/LAgB6e3shCILrwjhpaGgIaWlpeOWVV6bMxwQnuytX\n",
              "rqCoqAgvvPCC7d+Wv7+/i1ONj6KiIqxfv97VMRwmCAJ6enoADF+P4ePjM+n/3/AIYwI88sgjqKmp\n",
              "ATB8mDpZ/eUvf8GSJUsQGxvr6ijj4pFHHoEoioiPj8e2bdvg6+vr6kiynT59GnPmzEFubi4OHjyI\n",
              "6dOn47nnnsOKFStcHc0pR48exZdffon77rvP1VEcIggCSktLkZycjBkzZuDLL79ERUUFpk2b5upo\n",
              "zhFpwuzevVtctWqVq2M4pLGxUUxISBCvXbsmiqIoLlu2TNy3b59rQznhzJkzoiiK4rVr18TNmzdP\n",
              "2p9LfX29CEB89dVXRVEUxRMnTog+Pj5iV1eXi5M559FHHxWfeuopV8dw2PXr18Vly5aJhw4dEkVR\n",
              "FGtra0V/f3/xwoULLk7mHBbGBLv11lvF//znP66OIdvOnTtFf39/MSgoSAwKChJVKpXo6+sr7ty5\n",
              "09XRnHbu3Dlx5syZro7hkAsXLogeHh7iwMCAbV1cXJx44MABF6ZyzqVLl8SZM2eKp06dcnUUhx0/\n",
              "flwMDw+3WxcXFye+/fbbLko0PngOQ0E9PT04d+6c7fX+/fvh4+MzKU/ibdy4EZ2dnejo6EBHRwcS\n",
              "EhJQUFCAjRs3ujqabFeuXLG9twwAe/fuxaJFi1wXyAlz587FihUr8NZbbwEYfuRxe3s7IiMjXZzM\n",
              "caWlpYiOjsb8+fNdHcVhgYGB6OzsxKlTpwAAbW1tOH36NPR6vYuTOYfnMBTU29uLn/70p+jv74eH\n",
              "hwd8fX1RVVU1qU98TwXnz59HSkoKBgcHIYoiQkJCsGfPHlfHclh+fj7Wr1+PrKwseHh4wGQyYd68\n",
              "ea6O5bCioiKkp6e7OoZTbr/9dhQUFOChhx6Ch4cHhoaG8Le//Q06nc7V0ZzCe0kREZEkfEuKiIgk\n",
              "YWEQEZEkLAwiIpKEhUFERJKwMIiISBIWBhERScLCICIiSVgYREQkCQuDiIgkYWEQEZEkLAwiIpLk\n",
              "/wAVSjJdkfiEvgAAAABJRU5ErkJggg==\n",
              "\">\n",
              "        \n",
              "      </div>\n",
              "      <script></script>\n",
              "      <script type=\"text/javascript\">\n",
              "        (() => {\n",
              "          const chartElement = document.getElementById(\"chart-bb4195d0-0569-46e2-aaa1-659f6a2ec51a\");\n",
              "          async function getCodeForChartHandler(event) {\n",
              "            const chartCodeResponse =  await google.colab.kernel.invokeFunction(\n",
              "                'getCodeForChart', [\"chart-bb4195d0-0569-46e2-aaa1-659f6a2ec51a\"], {});\n",
              "            const responseJson = chartCodeResponse.data['application/json'];\n",
              "            await google.colab.notebook.addCell(responseJson.code, 'code');\n",
              "          }\n",
              "          chartElement.onclick = getCodeForChartHandler;\n",
              "        })();\n",
              "      </script>\n",
              "      <style>\n",
              "        .colab-quickchart-chart-with-code  {\n",
              "            display: block;\n",
              "            float: left;\n",
              "            border: 1px solid transparent;\n",
              "        }\n",
              "\n",
              "        .colab-quickchart-chart-with-code:hover {\n",
              "            cursor: pointer;\n",
              "            border: 1px solid #aaa;\n",
              "        }\n",
              "      </style>"
            ]
          },
          "metadata": {}
        },
        {
          "output_type": "display_data",
          "data": {
            "text/plain": [
              "import numpy as np\n",
              "from google.colab import autoviz\n",
              "\n",
              "def histogram(df, colname, num_bins=20, figscale=1):\n",
              "  from matplotlib import pyplot as plt\n",
              "  df[colname].plot(kind='hist', bins=num_bins, title=colname, figsize=(8*figscale, 4*figscale))\n",
              "  plt.gca().spines[['top', 'right',]].set_visible(False)\n",
              "  plt.tight_layout()\n",
              "  return autoviz.MplChart.from_current_mpl_state()\n",
              "\n",
              "chart = histogram(_df_8, *['Scores'], **{})\n",
              "chart"
            ],
            "text/html": [
              "      <div class=\"colab-quickchart-chart-with-code\" id=\"chart-3427bfd5-972a-401b-9d17-a4e10d496ec7\">\n",
              "        <img src=\"data:image/png;base64,iVBORw0KGgoAAAANSUhEUgAAAYwAAADECAYAAACMRRb/AAAAOXRFWHRTb2Z0d2FyZQBNYXRwbG90\n",
              "bGliIHZlcnNpb24zLjcuMSwgaHR0cHM6Ly9tYXRwbG90bGliLm9yZy/bCgiHAAAACXBIWXMAAA9h\n",
              "AAAPYQGoP6dpAAAaDUlEQVR4nO3de1BU5/0G8GfBZk0CyEUUBBaqC6jlsoIwBDXxUluTGLBi1WQw\n",
              "bCoXb7mMNhJjHKu1kIxjG+OMA4oltUyNDWjKqEnrbbxEFFHrBaOAorsqiBEEneACy/v7w7o/V8Cc\n",
              "XTmyOT6fmTPDvrx7zvfds/J49t1zjkoIIUBERPQjnHq6ACIi+mlgYBARkSQMDCIikoSBQUREkjAw\n",
              "iIhIEgYGERFJwsAgIiJJGBhERCQJA4OIiCRhYBARkSQMDKKHVFdX4/XXX8eAAQPg4uKCAQMG4JVX\n",
              "XkFNTU1Pl0bUoxgYRA955ZVX4OrqijNnzuDOnTs4ceIEpk2bBpVK1e3bamlp6fZ1EsmFgUH0gJs3\n",
              "b+LcuXOYNWsWPD09AQD9+/dHSkoKfHx8AAAlJSUYO3Ys+vbtC09PT4wZMwbNzc0AgKtXr2Lq1Kno\n",
              "378/+vfvj2nTpuHatWuW9ev1ekydOhWzZ8+Gt7c3EhMTAQBHjhzB6NGj4eXlhcDAQCxZsgRtbW0A\n",
              "7oXKnDlz4OPjA1dXVwQFBWHNmjVP8mUhAsDAILLi5eWF8PBwZGRkID8/H6dOnUJ7e7vl9+Xl5Rg7\n",
              "diySkpJgMBhQW1uLpUuXwsnJCWazGRMnToSzszMqKipw/vx5CCGQkJAAs9lsWcfWrVsRExODa9eu\n",
              "oaioCOfPn8e4ceMwa9YsXL9+Hfv370dxcTE++eQTAMDf/vY3lJSU4MyZM7h9+zYOHz6MESNGPPHX\n",
              "hgiCiKx8//33YsmSJSImJkao1Wrh4eEhFixYIO7evSvmzp0rXn311U6fd+jQIaFSqUR9fb3VulQq\n",
              "lSgpKRFCCJGSkiLi4uKsnvf222+L6dOnW7UVFBSIQYMGCSGE+Pzzz4VWqxX79u0TLS0t3TlUIpv0\n",
              "6unAInI0Xl5eWL58OZYvXw6TyYSvv/4aKSkpcHFxQXV1NQYPHtzp84xGIzw9PeHh4WG1Lg8PDxgM\n",
              "BsTFxQEAfv7zn1s9r7KyEnv37oW7u7ulrb293XJkk5ycjBs3buD999/HuXPnEB8fjxUrViA6Orqb\n",
              "R070aPxIiugR1Go1Jk2ahF/+8pc4fvw4goKCUFFR0WnfgIAANDQ0oKGhwdJWX1+PhoYGaDQaS5uT\n",
              "k/U/Ox8fH7zxxhu4deuWZWlqasKdO3cAAM7Ozvj973+PI0eO4OrVqxgyZIhl7oPoSWJgED2goaEB\n",
              "H3zwAU6dOgWTyQSz2Yzdu3dj7969ePHFFzF79mzs3LkTOTk5aG5uRmtrK/bt2weTyYTY2FiEhYVh\n",
              "3rx5aGpqQmNjI+bOnQudToeYmJgutzlnzhwUFhbiyy+/REtLC8xmM6qqqvDNN98AAPbs2YOysjK0\n",
              "tLSgd+/ecHFxgbOz85N6SYgsGBhED3jmmWfw/fff47e//S369u0LLy8vvPvuu8jMzMSCBQsQFhaG\n",
              "Xbt2YdOmTRgwYAD69++P5cuXo729Hc7Ozti2bRtMJhO0Wi2Cg4PR1taG4uLiR/6Bj4mJwc6dO7F+\n",
              "/Xr4+fnBy8sLU6ZMweXLlwEAdXV10Ov18PT0hLe3N/bt24fCwsIn9ZIQWaiE4D29iYjox/EIg4iI\n",
              "JGFgEBGRJAwMIiKShIFBRESSMDCIiEgSBgYREUnCwCAiIkkUERirV6/u6RKIiBRPEYFx/4xYIiKS\n",
              "jyICg4iI5CdrYLzzzjsICgqCSqXCf//73y77bdiwAcHBwRg0aBDS0tLQ2toqZ1lERGQHWQNjypQp\n",
              "OHjwIAIDA7vsU11djSVLluDAgQOoqqrC9evXsW7dOjnLIiIiO8gaGC+++CL8/f0f2aewsBAJCQnw\n",
              "8fGBSqXCrFmzsGnTJjnLIiIiO/T4HfcMBoPVEUhQUBAMBkOX/U0mE0wmk1Xbg/dLJiIiefR4YNgq\n",
              "Ozsby5Yts2q7f+tLewR9sP2x6rn08as9tm17PU7NT6vH2Vd8vUmKnvxbJFWPf0tKo9FYfS320qVL\n",
              "VrezfNiiRYvQ2NhotcTGxj6JUomInmo9HhhJSUkoLi5GbW0thBDIycnB9OnTu+yvVqvh5uZmtfB2\n",
              "lURE8pM1MDIyMuDv748rV67g17/+NbRaLQAgNTUVxcXFAICBAwdi2bJlGDFiBLRaLby9vZGRkSFn\n",
              "WUREZAdZ5zByc3M7bc/Ly7N6nJaWhrS0NDlLISKix9TjH0kREdFPAwODiIgkYWAQEZEkDAwiIpKE\n",
              "gUFERJIwMIiISBIGBhERScLAICIiSRgYREQkCQODiIgkYWAQEZEkDAwiIpKEgUFERJIwMIiISBIG\n",
              "BhERScLAICIiSRgYREQkiayBUVlZifj4eISEhCAmJgbl5eUd+rS3t2P+/PkYOnQoIiIiMGbMGFRV\n",
              "VclZFhER2UH2e3qnp6ejoqICmZmZ0Ov1HfoUFxfj22+/xcmTJ3Hq1CmMGzcOH374oZxlERGRHWQL\n",
              "jLq6OpSVlSE5ORkAkJSUBKPR2OHoQaVSwWQy4e7duxBCoKmpCf7+/nKVRUREduol14qNRiN8fX3R\n",
              "q9e9TahUKmg0GhgMBmi1Wku/1157DXv37oWPjw9cXV3h5+eHffv2dblek8kEk8lk1WY2m+UZBBER\n",
              "WfT4pHdZWRnOnDmDq1ev4tq1axg3bhxmzZrVZf/s7Gz06dPHaiktLX2CFRMRPZ1kC4yAgADU1NSg\n",
              "ra0NACCEgMFggEajseq3ceNGjB07Fu7u7nByckJKSgr27t3b5XoXLVqExsZGqyU2NlauYRAR0f/I\n",
              "Fhj9+vVDVFQUCgoKAABFRUXw9/e3+jgKAAYOHIg9e/agpaUFALBt2zaEhYV1uV61Wg03NzerxdnZ\n",
              "Wa5hEBHR/8g2hwEAubm50Ov1yMrKgpubG/Lz8wEAqampSEhIQEJCAubOnYvvvvsOkZGR+NnPfgYf\n",
              "Hx/k5OTIWRYREdlB1sAIDQ1FSUlJh/a8vDzLz2q1GuvXr5ezDCIi6gY9PulNREQ/DQwMIiKShIFB\n",
              "RESSMDCIiEgSBgYREUlic2D8+9//lqMOIiJycDYHxvLlyxEaGorVq1ejqalJjpqIiMgB2RwY3377\n",
              "Lb744gucOXMGISEhmDNnDs6ePStHbURE5EDsmsMYNmwY1q9fj2+++Qbbtm1DREQExo8fj9OnT3d3\n",
              "fURE5CDsCoxdu3YhMTERkydPxty5c1FbW4uMjAz85je/6e76iIjIQdh8aZAhQ4agb9++eOeddzB5\n",
              "8mTLhf+mTJmCDRs2dHuBRETkGGwOjIKCAkRHR3f6u6+//vqxCyIiIsdk80dSx44dQ319veXxzZs3\n",
              "efFAIqKngM2BsXbtWnh6eloee3l5Ye3atd1aFBEROR6bA0MI0aGN99QmIlI+mwPD19cX//znPy2P\n",
              "N2/eDF9f324tioiIHI/Nk96ffvopEhMTsXDhQgDAc889h3/961/dXhgRETkWm48wBg8ejLNnz2LH\n",
              "jh3YsWMHTp8+jeDg4E77VlZWIj4+HiEhIYiJiUF5eXmn/U6fPo3Ro0djyJAhGDJkCLZs2WJrWURE\n",
              "JDO7btGqUqng7u6OtrY2XL16FQCg0Wg69MvIyEB6ejr0ej0KCwuh1+tx9OhRqz4//PADEhMTsXHj\n",
              "RowcORJms9nqW1hEROQYbD7C+Pzzz+Hu7o7w8HBER0cjOjoaw4cP79Cvrq4OZWVlSE5OBgAkJSXB\n",
              "aDSiqqrKqt8//vEPxMXFYeTIkQAAZ2dneHt72zMWIiKSkc1HGH/84x9x9OhRhIaGPrKf0WiEr68v\n",
              "evW6twmVSgWNRgODwQCtVmvpd/bsWajVakycOBFXrlxBREQEVq1a1WVomEwmmEwmqzZ+S4uISH42\n",
              "H2H07dv3R8PCFm1tbdi1axdyc3Nx4sQJ+Pn5Yfbs2V32z87ORp8+fayW0tLSbquHiIg6Z3NgTJo0\n",
              "CZ9++inq6urQ1NRkWR4WEBCAmpoatLW1Abh3/obBYOgw16HRaDBmzBj4+flBpVIhOTkZhw8f7nL7\n",
              "ixYtQmNjo9USGxtr6zCIiMhGNgfG4sWLMX/+fPj4+MDDwwPu7u7w8PDo0K9fv36IiopCQUEBAKCo\n",
              "qAj+/v5WH0cBwNSpU3H06FFL6OzYsQORkZFdbl+tVsPNzc1quX8BRCIiko/Ncxjt7e2S++bm5kKv\n",
              "1yMrKwtubm7Iz88HAKSmpiIhIQEJCQnQaDT48MMPER8fDycnJ/j5+WHdunW2lkVERDKz62u1x44d\n",
              "w9mzZzFjxgzcunULzc3NnZ7tHRoaipKSkg7teXl5Vo9nzJiBGTNm2FMKERE9IXZdfPB3v/sd/vCH\n",
              "PwC4d7XaN954o7vrIiIiB2NzYKxbtw6HDx+Gm5sbAGDQoEG4ceNGtxdGRESOxebAUKvVePbZZ63a\n",
              "7p9rQUREymVzYHh7e6OiogIqlQrAvTO/O7ssCBERKYtdV6t9/fXXce7cOQQEBMDNzQ3btm2TozYi\n",
              "InIgNgeGVqvFkSNHcP78eQghEBoayvMgiIieAjYHhsFgAAA8//zzAPDIq9USEZFy2BwY0dHRUKlU\n",
              "EELg7t27+OGHH+Dl5YW6ujo56iMiIgdhc2A8/BXaLVu24OTJk91WEBEROSabvyX1sMmTJ2P79u3d\n",
              "UQsRETkwm48wHrwyrdlsxpEjRzq9Wi0RESmLzYHh7u5umcNwdnZGcHAwPvvsMzlqIyIiByLr1WqJ\n",
              "iEg5HnsOg4iIng42H2E4OTlZLgvyICEEVCoV769NRKRQNgfG8uXL0dzcbLnvdk5ODp599lm89957\n",
              "3V0bERE5EJsDY+vWrTh27Jjl8YoVKxAdHY3Fixd3a2FERORYbJ7DuH37ttVZ3XV1dbh9+3a3FkVE\n",
              "RI7H5sBYsGABIiMjMXPmTMycORPDhg3D+++/32nfyspKxMfHIyQkBDExMSgvL+9yvUIIjB07Fu7u\n",
              "7raWRERET4DNgZGRkYGdO3dCp9NBp9PhP//5D9LS0rrsm56ejoqKCmRmZkKv13e53r/85S8YNGiQ\n",
              "reUQEdETYtfXar28vBAeHo63334boaGhaGlp6dCnrq4OZWVlSE5OBgAkJSXBaDSiqqqqQ9/y8nJ8\n",
              "9dVX+OCDD+wph4iIngCbA6OwsBBxcXF46623ANz7Yz9p0qQO/YxGI3x9fS23b1WpVNBoNJbLo9/X\n",
              "2tqKtLQ05ObmSrqvhslkQlNTk9XCr/ISEcnP5sDIzs7G8ePHLXMNkZGRuHz5st0FLFu2DJMnT8aQ\n",
              "IUMkb79Pnz5WS2lpqd3bJyIiaWwODGdnZ3h5eVm1PfPMMx36BQQEoKamBm1tbQDuTWobDIYON1ra\n",
              "t28f1qxZg6CgIIwcORJNTU0ICgrqcBn1+xYtWoTGxkarJTY21tZhEBGRjWw+D8PV1RXXr1+3nO29\n",
              "e/dueHp6dujXr18/REVFoaCgAHq9HkVFRfD394dWq7Xqd+DAAcvPly5dgk6nw6VLl7rcvlqthlqt\n",
              "tmrjLWKJiORnc2B88sknePnll3Hx4kWMHDkS1dXVXd4PIzc3F3q9HllZWXBzc0N+fj4AIDU1FQkJ\n",
              "CUhISHi86omI6ImxKTDa29thNpuxd+9eHDp0CEIIxMfHd3nuRGhoKEpKSjq05+Xlddo/KCgIt27d\n",
              "sqUkIiJ6QmwKDCcnJ6Snp+PkyZN4+eWX5aqJiIgckM2T3sHBwZ2eS0FERMpm8xxGfX09dDod4uPj\n",
              "4eLiYmnfsmVLtxZGRESORXJgpKenY926dUhJSUFCQgI8PDzkrIuIiByM5MAoKysDAKSkpCAqKgrH\n",
              "jx+XrSgiInI8dl1LSgjR3XUQEZGDk3yE0dzcjNOnT0MIgbt371p+vi8iIkKWAomIyDHYFBgPnmj3\n",
              "4M8qlQoXL17s3sqIiMihSA6MR12ug4iIlM+uOQwiInr6MDCIiEgSBgYREUnCwCAiIkkYGEREJAkD\n",
              "g4iIJGFgEBGRJAwMIiKSRNbAqKysRHx8PEJCQhATE4Py8vIOffbs2YPY2FgMHToUv/jFL7Bw4UK0\n",
              "t7fLWRYREdlB1sDIyMhAeno6KioqkJmZCb1e36GPh4cHvvjiC5w9exbHjh3DoUOHsHHjRjnLIiIi\n",
              "O8gWGHV1dSgrK0NycjIAICkpCUajscPd+oYNG4aBAwcCAHr37g2dTsfLkBAROSCb77gnldFohK+v\n",
              "L3r1urcJlUoFjUYDg8EArVbb6XNqa2tRWFiIbdu2dblek8kEk8lk1WY2m7uvcCIi6pTDTHo3NTXh\n",
              "tddew8KFCzF8+PAu+2VnZ6NPnz5WS2lp6ROslIjo6SRbYAQEBKCmpgZtbW0A7t10yWAwQKPRdOh7\n",
              "+/ZtTJgwAYmJiZg/f/4j17to0SI0NjZaLbGxsbKMgYiI/p9sgdGvXz9ERUWhoKAAAFBUVAR/f/8O\n",
              "H0fduXMHEyZMwIQJE/DRRx/96HrVajXc3NysFmdnZ1nGQERE/0/Wj6Ryc3ORm5uLkJAQfPzxx8jP\n",
              "zwcApKamori4GACwevVqlJaWYsuWLdDpdNDpdPjTn/4kZ1lERGQH2Sa9ASA0NBQlJSUd2vPy8iw/\n",
              "L168GIsXL5azDCIi6gYOM+lNRESOjYFBRESSMDCIiEgSBgYREUnCwCAiIkkYGEREJAkDg4iIJGFg\n",
              "EBGRJAwMIiKShIFBRESSMDCIiEgSBgYREUnCwCAiIkkYGEREJAkDg4iIJGFgEBGRJAwMIiKSRNbA\n",
              "qKysRHx8PEJCQhATE4Py8vJO+23YsAHBwcEYNGgQ0tLS0NraKmdZRERkB1kDIyMjA+np6aioqEBm\n",
              "Zib0en2HPtXV1ViyZAkOHDiAqqoqXL9+HevWrZOzLCIisoNsgVFXV4eysjIkJycDAJKSkmA0GlFV\n",
              "VWXVr7CwEAkJCfDx8YFKpcKsWbOwadMmucoiIiI79ZJrxUajEb6+vujV694mVCoVNBoNDAYDtFqt\n",
              "pZ/BYEBgYKDlcVBQEAwGQ5frNZlMMJlMVm1ms7mbqycioofJFhhyyc7OxrJly6zaBg8ejPnz5z/y\n",
              "eWazGaWlpYiNjYWzs7OlffJj1jN//m67n/u4235QV+PrzOPU3JNsGWN3e5x9Zcvr3ZNjfFKUPkZ7\n",
              "x9eTf4sCAwPx7rvv/mg/lRBC2L2VR6irq4NWq0V9fT169eoFIQR8fX1x8OBBqyOMlStX4sKFC8jJ\n",
              "yQEA7NixA1lZWTh48GCn6+3sCEOtVkOtVj+ynqamJvTp0weNjY1wc3N7zNE5HqWPD+AYlULpY1Ty\n",
              "+GSbw+jXrx+ioqJQUFAAACgqKoK/v79VWAD35jaKi4tRW1sLIQRycnIwffr0LterVqvh5uZmtfxY\n",
              "WBAR0eOT9VtSubm5yM3NRUhICD7++GPk5+cDAFJTU1FcXAwAGDhwIJYtW4YRI0ZAq9XC29sbGRkZ\n",
              "cpZFRER2kO0jKUej5MNEQPnjAzhGpVD6GJU8vqfmTG+1Wo2lS5cq9uMrpY8P4BiVQuljVPL4npoj\n",
              "DCIiejxPzREGERE9HgYGERFJwsAgIiJJFBcYd+/exaRJkxASEoLIyEiMHz/ecv2quro6TJgwAcHB\n",
              "wQgLC8P+/ft7uFr7/epXv0JERAR0Oh1GjRqFEydOAJB+heCfkvz8fKhUKnz11VcAlLUfg4KCEBoa\n",
              "Cp1OB51Oh82bNwNQzn40mUyYN28egoODER4ebrm2nFLGd/PmTcu+0+l0CAkJQa9evVBfX6+o96mF\n",
              "UJjm5maxfft20d7eLoQQYs2aNeKll14SQgjx1ltviaVLlwohhCgtLRV+fn6ipaWlhyp9PA0NDZaf\n",
              "t2zZIiIiIoQQQowZM0bk5+cLIYT48ssvxfDhw3uguu5TXV0tXnjhBREXFye2bt0qhFDWfgwMDBQn\n",
              "Tpzo0K6U/fjee++JefPmWf491tTUCCGUM76HrVy5UkycOFEIoaz36X2KC4yHHT16VAQGBgohhHj+\n",
              "+ectb1ghhIiJiRE7d+7socq6T35+voiMjBTXr18Xrq6uorW1VQghRHt7u+jfv7+orKzs4QrtYzab\n",
              "xbhx40RZWZl46aWXLIGhpP3YWWAoZT/euXNHuLq6isbGRqt2pYyvM4MHD1bk+/Q+xX0k9bDVq1cj\n",
              "MTERN2/eRGtrK3x8fCy/+7Er4zq6N998EwEBAViyZAn+/ve/P/IKwT9Ff/7znzFixAhER0db2pS6\n",
              "H8PDwzFz5kzcuHFDMfvxwoUL8PT0RFZWFoYPH45Ro0Zh9+7dihnfww4dOoSGhgZMnDhRke9TQIFz\n",
              "GA/KyspCVVUVsrOze7oUWWzcuBFGoxErVqxAZmZmT5fTrc6cOYOioiJ89NFHPV2KrPbv349Tp07h\n",
              "+PHj6Nu3L1JSUnq6pG7T1taGy5cvY+jQoSgrK8Nnn32GadOmoa2tradLk8WGDRvw5ptvWoJQkXr6\n",
              "EEcuK1euFNHR0Vaf9T/33HOKO0S8r3fv3qK2tlYxh/pr164VPj4+IjAwUAQGBgq1Wi28vb3F2rVr\n",
              "Fbsfr127JlxcXBTzkc2NGzeEk5OTaGtrs7QNHz5cbN68WRHje9Dt27eFi4uL+O677yxtSnyfKjIw\n",
              "Vq1aJaKiokR9fb1Ve0pKitUk1IABA36Sk1ANDQ3i6tWrlsdbt24Vfn5+or29Xbz00ktWk4nR0dE9\n",
              "VGX3enAOQyn78c6dO1b/oVm1apUYNWqUEEIoZj+OHz9ebN++XQghxMWLF4WXl5e4cuWKYsZ3X15e\n",
              "nhgxYoRVm1Lepw9SXGAYjUYBQAwcOFBERkaKyMhIERsbK4QQora2VowfP15otVoxdOhQsWfPnh6u\n",
              "1j6XLl0SMTExIiwsTERERIhx48ZZJk7PnTsn4uLiRHBwsIiOjhanTp3q2WK7yYOBoZT9eOHCBaHT\n",
              "6UR4eLgICwsTCQkJorq6WgihnP144cIFMXr0aMt7tbCwUAihnPHd98ILL4i//vWvVm1KeZ8+iNeS\n",
              "IiIiSRQ96U1ERN2HgUFERJIwMIiISBIGBhERScLAICIiSRgYREQkCQODiIgkYWAQEZEkDAwiIpKE\n",
              "gUFERJIwMIiISJL/A33eApfpquynAAAAAElFTkSuQmCC\n",
              "\">\n",
              "        \n",
              "      </div>\n",
              "      <script></script>\n",
              "      <script type=\"text/javascript\">\n",
              "        (() => {\n",
              "          const chartElement = document.getElementById(\"chart-3427bfd5-972a-401b-9d17-a4e10d496ec7\");\n",
              "          async function getCodeForChartHandler(event) {\n",
              "            const chartCodeResponse =  await google.colab.kernel.invokeFunction(\n",
              "                'getCodeForChart', [\"chart-3427bfd5-972a-401b-9d17-a4e10d496ec7\"], {});\n",
              "            const responseJson = chartCodeResponse.data['application/json'];\n",
              "            await google.colab.notebook.addCell(responseJson.code, 'code');\n",
              "          }\n",
              "          chartElement.onclick = getCodeForChartHandler;\n",
              "        })();\n",
              "      </script>\n",
              "      <style>\n",
              "        .colab-quickchart-chart-with-code  {\n",
              "            display: block;\n",
              "            float: left;\n",
              "            border: 1px solid transparent;\n",
              "        }\n",
              "\n",
              "        .colab-quickchart-chart-with-code:hover {\n",
              "            cursor: pointer;\n",
              "            border: 1px solid #aaa;\n",
              "        }\n",
              "      </style>"
            ]
          },
          "metadata": {}
        },
        {
          "output_type": "display_data",
          "data": {
            "text/plain": [
              "<google.colab._quickchart_helpers.SectionTitle at 0x7ed783cc5cc0>"
            ],
            "text/html": [
              "<h4 class=\"colab-quickchart-section-title\">2-d distributions</h4>\n",
              "<style>\n",
              "  .colab-quickchart-section-title {\n",
              "      clear: both;\n",
              "  }\n",
              "</style>"
            ]
          },
          "metadata": {}
        },
        {
          "output_type": "display_data",
          "data": {
            "text/plain": [
              "import numpy as np\n",
              "from google.colab import autoviz\n",
              "\n",
              "def scatter_plots(df, colname_pairs, figscale=1, alpha=.8):\n",
              "  from matplotlib import pyplot as plt\n",
              "  plt.figure(figsize=(len(colname_pairs) * 6 * figscale, 6 * figscale))\n",
              "  for plot_i, (x_colname, y_colname) in enumerate(colname_pairs, start=1):\n",
              "    ax = plt.subplot(1, len(colname_pairs), plot_i)\n",
              "    df.plot(kind='scatter', x=x_colname, y=y_colname, s=(32 * figscale), alpha=alpha, ax=ax)\n",
              "    ax.spines[['top', 'right',]].set_visible(False)\n",
              "  plt.tight_layout()\n",
              "  return autoviz.MplChart.from_current_mpl_state()\n",
              "\n",
              "chart = scatter_plots(_df_9, *[[['Hours', 'Scores']]], **{})\n",
              "chart"
            ],
            "text/html": [
              "      <div class=\"colab-quickchart-chart-with-code\" id=\"chart-24a242dc-e33c-49c6-a527-b1bbe5933ffd\">\n",
              "        <img src=\"data:image/png;base64,iVBORw0KGgoAAAANSUhEUgAAASgAAAEoCAYAAADrB2wZAAAAOXRFWHRTb2Z0d2FyZQBNYXRwbG90\n",
              "bGliIHZlcnNpb24zLjcuMSwgaHR0cHM6Ly9tYXRwbG90bGliLm9yZy/bCgiHAAAACXBIWXMAAA9h\n",
              "AAAPYQGoP6dpAAAZYUlEQVR4nO3df0yU9+EH8PdxB3fQ26ECCspOsBw2m+ChAifGoGk11ri4YdSt\n",
              "ojK1/vjGbZ3NVLola5NWMO3YWpsGVMJqcAZaUTNbN3VRsGUCzh9r7aLQgocIIoinqBzc8fn+wdf7\n",
              "ehVXT3l4PofvV/Ik3MNzz/M+S979PM89PzRCCAEiIgkFqB2AiOhhWFBEJC0WFBFJiwVFRNJiQRGR\n",
              "tFhQRCQtFhQRSYsFRUTSYkERkbT8sqDeffddtSMQ0SDwy4K6dOmS2hGIaBD4ZUER0dOBBUVE0mJB\n",
              "EZG0WFBEJC0WFBFJiwVFRNLSqR2AiPxbZV0biqvsqG/rRGy4EZmpZqTFhQ/IullQRPTYKuvasLns\n",
              "C9zpdsEQqEV1fTu+bHIgNyNhQEqKu3hE9NiKq+y40+1CpMmA4SFBiDQZcKfbhd1V9gFZPwuKiB5b\n",
              "fVsnDIFaaDQaAIBGo4EhUItv2joHZP0sKCJ6bLHhRnT1uHHv4VBCCHT1uDEuwjgg62dBEdFjy0w1\n",
              "IyRIh5abXei4042Wm10ICdJhSap5QNbPgiKix5YWF47cjASkxobhewYdUmPDkLsgAWnP8ls8IpJA\n",
              "Wlz4gJ1W8G0cQRGRtFhQRCQtFhQRSYsFRUTSYkERkbRYUEQkLRYUEUmLBUVE0mJBEZG0WFBEJC0W\n",
              "FBFJiwVFRNJSrKDa29thtVo9U3x8PHQ6Ha5fv47W1lbMmTMHFosFEyZMQEVFhVIxiMiPKXY3g7Cw\n",
              "MJw9e9bz+p133kF5eTlGjBiBFStWwGaz4W9/+xtqamrwk5/8BPX19QgMDFQqDhH5oUHbxSssLMTK\n",
              "lSsBAKWlpVi7di0AIDk5GaNHj0Z5eflgRSEiPzEo94OqrKxER0cH5s2bh/b2dvT09CAyMtLz+5iY\n",
              "GNjt/d9k3el0wul0es1zu92K5iUiOQzKCKqwsBDLli2DTud7H+bk5CA0NNRrqq6uViAlEclG8YLq\n",
              "7OxEaWkpVqxYAaDv2JROp0NLS4tnmYaGBpjN/d/DODs7Gw6Hw2tKSUlROjYRSUDxgiopKcHEiRPx\n",
              "3HPPeeYtXLgQ+fn5AICamho0NTUhPT293/fr9XqYTCavSavVKh2biCSg+DGowsJCvPzyy17ztm7d\n",
              "iqVLl8JisSAoKAjFxcX8Bo+IHqB4QVVWVj4wb9SoUTh8+LDSmyYiP8czyYlIWiwoIpIWC4qIpMWC\n",
              "IiJpsaCISFosKCKSFguKiKTFgiIiabGgiEhaLCgikhYLioikxYIiImmxoIhIWiwoIpIWC4qIpMWC\n",
              "IiJpsaCISFosKCKSFguKiKTFgiIiabGgiEhaLCgikhYLioikxYIiImmxoIhIWiwoIpIWC4qIpMWC\n",
              "IiJpsaCISFosKCKSFguKiKTFgiIiaSlaUE6nE+vXr4fFYkFCQgIyMzMBALW1tUhLS0N8fDySk5Nx\n",
              "/vx5JWMQkZ/SKbnyzZs3Q6PR4OLFi9BoNGhpaQEArFmzBqtXr0ZWVhY+/vhjZGVloaamRskoROSH\n",
              "NEIIocSKb9++jaioKFy+fBkmk8kzv7W1FXFxcbh+/Tp0Oh2EEIiKisJnn32GuLi4R1r3hg0bkJeX\n",
              "p0RsIpKIYiOor7/+GiNGjMCWLVtw9OhRBAcH4/XXX8ewYcMQFRUFna5v0xqNBmazGXa7vd+Ccjqd\n",
              "cDqdXvPcbrdSsYlIIoodg3K5XLh06RJ+8IMf4NSpU3jvvfewePFiuFwun9aTk5OD0NBQr6m6ulqh\n",
              "1EQkE8UKymw2IyAgAEuWLAEAJCUlITY2FpcuXUJzc7OnqIQQsNvtMJvN/a4nOzsbDofDa0pJSVEq\n",
              "NhFJRLGCCg8Px/PPP4+///3vAID6+nrU19dj2rRpmDRpEoqLiwEAe/fuRXR09EOPP+n1ephMJq9J\n",
              "q9UqFZuIJKLot3j5+flYuXIlNm3ahICAABQUFGDMmDEoKChAVlYWtmzZApPJhKKiIiVjEJGfUrSg\n",
              "xo0bh2PHjj0wf/z48fjnP/+p5KaJaAjgmeREJC0WFBFJiwVFRNJiQRGRtFhQRCQtFhQRSYsFRUTS\n",
              "YkERkbRYUEQkLRYUEUmLBUVE0mJBEZG0WFBEJC0WFBFJiwVFRNJiQRGRtFhQRCQtFhQRSYsFRUTS\n",
              "YkERkbRYUEQkLRYUEUmLBUVE0mJBEZG0WFBEJC0WFBFJiwVFRNJiQRGRtHwuqMbGRnR3dwMAPv/8\n",
              "c7z//vu4devWgAcjIvK5oObPn4/e3l40NTXhpz/9KT7//HOsWLFCiWxE9JR7rF08g8GATz75BGvW\n",
              "rMGePXtw8eLFgc5FROR7QTmdTjidThw5cgQzZ85UIhMREYDHKKif/exniIyMhN1uR1paGpqbmxES\n",
              "EtLvsjExMRg/fjysViusVitKSkoAALW1tUhLS0N8fDySk5Nx/vz5J/sURDQ0icfQ0dEh3G63EEKI\n",
              "W7duicuXL/e73NixY8WZM2cemD9z5kxRVFQkhBDio48+ElOmTPFp+7/+9a99Wp6I/JPPIyiXy4XC\n",
              "wkKsX78eAHD16lVcuHDhkd/f2tqKU6dOITMzEwCwYMECNDY2oq6uztcoRDTE6Xx9w/r16+F2u/HZ\n",
              "Z58BAMLCwrB48WKcOnWq3+WXLVsGIQRSUlKQm5uLxsZGREVFQafr27RGo4HZbIbdbkdcXNwD7793\n",
              "zOt+brfb19hE5Id8HkGdPHkSO3bsgMFgAAAMGzYMPT09/S5bUVGBf//73zh9+jTCw8OxfPlynwPm\n",
              "5OQgNDTUa6qurvZ5PUTkf3wuqHvFdI/b7UZvb2+/y5rNZgBAYGAgXnnlFZw4cQLf//730dzcDJfL\n",
              "BQAQQsBut3uW/bbs7Gw4HA6vKSUlxdfYROSHfC6oxMREFBcXo7e3F3V1dVi7di1mzJjxwHK3b9/G\n",
              "jRs3PK/37NmDpKQkjBw5EpMmTUJxcTEAYO/evYiOju539w4A9Ho9TCaT16TVan2NTUR+yOeCysvL\n",
              "w4kTJ9DS0oJp06YhICAAW7dufWC5q1evYubMmUhMTERCQgLKy8uxa9cuAEBBQQEKCgoQHx+P3Nxc\n",
              "FBUVPfknIaIhRyOEEI+6sNvtxmuvvdZvIQ2mDRs2IC8vT9UMRKQ8n0ZQWq0Wx44dUyoLEZEXn3fx\n",
              "5s6di7feegtXrlzBzZs3PRMR0UDzaRcPAAICHuw0jUYzqOcmcReP6Ong84maDzulgIhooPlcUEDf\n",
              "TetOnDgBAEhPT8eYMWMGNBQREfAYx6AOHDiApKQklJaW4qOPPkJSUhL++te/KpGN/FRlXRv+Z/dp\n",
              "vPhuBf5n92lU1rWpHYn8lM8jqDfeeAMnT570nFhZV1eHRYsW4Uc/+tGAhyP/U1nXhs1lX+BOtwuG\n",
              "QC2q69vxZZMDuRkJSIsLVzse+RmfR1But9vrrO+4uDgelyKP4io77nS7EGkyYHhIECJNBtzpdmF3\n",
              "lV3taOSHfC6okSNHYufOnejt7UVvby8KCwsRERGhRDbyQ/VtnTAEaqHRaAD0fcNrCNTim7ZOlZOR\n",
              "P/K5oPLz87Fz504EBwcjODgYO3fuRH5+vhLZyA/FhhvR1ePGvbNXhBDo6nFjXIRR5WTkj3w+BvXs\n",
              "s8/i5MmT6Ozs+z+i0cg/PPp/malmfNnkQMvNLhgCtejqcSMkSIclqf3frYLov/F5BLV9+3Zcv34d\n",
              "RqMRRqMR7e3t2LFjhxLZyA+lxYUjNyMBqbFh+J5Bh9TYMOQuSEDaszxATr7z+Uxyq9WKs2fPes1L\n",
              "SkrCmTNnBjLXf8UzyYmeDj6PoPrrM96Cl4iU4HNBRUVFobS01PO6pKQEUVFRAxqKiAh4jIPkf/rT\n",
              "nzB//nxs3LgRABASEoIDBw4MeDAiIp8L6rnnnsNXX32F8+fP4+DBg0hISIDFYlEiGxE95R55F++F\n",
              "F17wHBy/evUqZsyYgRMnTmDjxo2q32GTiIamRy6opqYmWK1WAMBf/vIXpKen49ChQ6isrMTu3buV\n",
              "ykdET7FHLqjg4GDPz5WVlZg7dy4AYPjw4Z6HcBIRDaRHLqiAgABcvnwZnZ2dKC8vR3p6uud3d+7c\n",
              "USQcET3dHnno89prryEpKQk6nQ4zZ85EfHw8gL7RVExMjFL5iOgp9sgFlZGRgbS0NFy9ehWJiYme\n",
              "+TExMdi+fbsi4Yjo6ebTwaPIyEhERkZ6zRs9evSABiIiusfnM8mJiAYLC4qIpMWCIiJpsaCISFos\n",
              "KCKSFguKiKTFgiIiabGgiEhag1JQRUVF0Gg02L9/PwCgtbUVc+bMgcViwYQJE1BRUTEYMYjIzyhe\n",
              "UA0NDdixYwdsNptn3ubNm2Gz2VBbW4uioiK89NJL6OnpUToKEfkZRQuqt7cXq1atwrZt26DX6z3z\n",
              "S0tLsXbtWgBAcnIyRo8ejfLyciWjEJEfUvRGTnl5eZg2bRomT57smdfe3o6enh6va/piYmJgt9v7\n",
              "XYfT6YTT6fSax6fIED0dFBtBffnll9i7dy9+97vfPdF6cnJyEBoa6jVVV1cPUEoikpliBXXixAk0\n",
              "NDTAYrEgJiYGJ0+exOrVq1FaWgqdToeWlhbPsg0NDTCb+380dnZ2NhwOh9eUkpKiVGwikohiBbVu\n",
              "3To0NzejoaEBDQ0NsNls2L59O9atW4eFCxciPz8fAFBTU4OmpiavO3TeT6/Xw2QyeU1arVap2EQk\n",
              "EVVuJr5161YsXboUFosFQUFBKC4uRmBgoBpRiEhig1ZQx48f9/w8atQoHD58eLA2TUR+imeSE5G0\n",
              "WFBEJC0WFBFJiwVFRNJiQRGRtFhQRCQtFhQRSYsFRUTSYkERkbRYUEQkLRYUEUmLBUVE0mJBEZG0\n",
              "WFBEJC0WFBFJiwVFRNJiQRGRtFhQRCQtFhQRSYsFRUTSYkERkbRYUEQkLRYUEUmLBUVE0mJBEZG0\n",
              "WFBEJC0WFBFJiwVFRNJiQRGRtFhQRCQtFhQRSYsFRUTSYkERkbQULajZs2cjMTERVqsV06dPx5kz\n",
              "ZwAAtbW1SEtLQ3x8PJKTk3H+/HklYxCRn9IpufLS0lIMGzYMALBv3z5kZWXh3LlzWLNmDVavXo2s\n",
              "rCx8/PHHyMrKQk1NjZJRpFBZ14biKjvq2zoRG25EZqoZaXHhascikpaiI6h75QQADocDGo0Gra2t\n",
              "OHXqFDIzMwEACxYsQGNjI+rq6pSMorrKujZsLvsC1fXtuNXlQnV9OzaXfYHKuja1oxFJS9ERFAAs\n",
              "W7YMx44dAwB8+umnaGxsRFRUFHS6vk1rNBqYzWbY7XbExcU98H6n0wmn0+k1z+12Kx17wBVX2XGn\n",
              "24VIkwEajQZCCLTc7MLuKjtHUUQPofhB8l27dqGxsRFvvvkmNm3a5PP7c3JyEBoa6jVVV1crkFRZ\n",
              "9W2dMARqodFoAPQVsyFQi2/aOlVORiSvQfsWb/ny5Th27Biio6PR3NwMl8sFABBCwG63w2w29/u+\n",
              "7OxsOBwOryklJWWwYg+Y2HAjunrcEEIA6PvcXT1ujIswqpyMSF6KFdSNGzdw5coVz+v9+/cjLCwM\n",
              "I0eOxKRJk1BcXAwA2Lt3L6Kjo/vdvQMAvV4Pk8nkNWm1WqViKyYz1YyQIB1abnah4043Wm52ISRI\n",
              "hyWp/RczESl4DMrhcGDhwoW4e/cuAgICEBERgYMHD0Kj0aCgoABZWVnYsmULTCYTioqKlIohjbS4\n",
              "cORmJGB3lR3ftHViYvQwLLGZkfYsjz8RPYxG3Nvn8CMbNmxAXl6e2jGISGE8k5yIpMWCIiJpsaCI\n",
              "SFosKCKSluJnkg91vL6OSDksqCdw7/q6O90uGAK1qK5vx5dNDuRmJLCkiAYAd/GewP3X1w0PCUKk\n",
              "yYA73S7srrKrHY1oSGBBPQFeX0ekLBbUE+D1dUTKYkE9AV5fR6QsFtQTuHd9XWpsGL5n0CE1Ngy5\n",
              "CxJ4fR3RAOG3eE8oLS6c39gRKYQjKCKSFguKiKTFgiIiabGgiEhaLCgikhYLioikxYIiImmxoIhI\n",
              "WiwoIpIWC4qIpMWCIiJpsaCISFosKCKSFguKiKTFgiIiabGgiEhaLCgiktaQvaMmH6hJ5P+GZEHx\n",
              "gZpEQ8OQ3MXjAzWJhgbFCqqrqws//vGPER8fj4kTJ2LWrFmoq6sDALS2tmLOnDmwWCyYMGECKioq\n",
              "BnTbfKAm0dCg6Ahq9erVuHDhAs6dO4f58+dj1apVAIDNmzfDZrOhtrYWRUVFeOmll9DT0zNg2+UD\n",
              "NYmGBsUKymAwYO7cuZ5RjM1mQ0NDAwCgtLQUa9euBQAkJydj9OjRKC8vH7Bt84GaREPDoB0kf/fd\n",
              "dzF//ny0t7ejp6cHkZGRnt/FxMTAbu//+JDT6YTT6fSa53a7/+u27j1Qc3eVHd+0dWJi9DAssZn5\n",
              "QE0iPzMoBbVlyxbU1dXhH//4B+7evevTe3NycvDGG294zbPZbN/5Pj5Qk8j/Kf4t3jvvvIOysjIc\n",
              "OnQIISEhCAsLg06nQ0tLi2eZhoYGmM39735lZ2fD4XB4TSkpKUrHJiIJKFpQeXl52LNnD44cOYJh\n",
              "w4Z55i9cuBD5+fkAgJqaGjQ1NSE9Pb3fdej1ephMJq9Jq9UqGZuIJKHYLt7ly5fx6quvYty4cZg5\n",
              "cyaAvrKpqqrC1q1bsXTpUlgsFgQFBaG4uBiBgYFKRSEiP6VYQUVHR3u+5v+2UaNG4fDhw0ptmoiG\n",
              "iCF5JjkRDQ0sKCKSlkY8bD9MYhkZGYiJiRm07bndblRXVyMlJUWaA/SyZZItDyBfJtnyAOplGjt2\n",
              "LH71q19953J+WVCD7ebNmwgNDYXD4YDJZFI7DgD5MsmWB5Avk2x5ADkz3Y+7eEQkLRYUEUmLBUVE\n",
              "0mJBPQK9Xo/f//730Ov1akfxkC2TbHkA+TLJlgeQM9P9eJCciKTFERQRSYsFRUTSYkERkbRYUI9g\n",
              "9uzZSExMhNVqxfTp03HmzBm1IwEAioqKoNFosH//frWjICYmBuPHj4fVaoXVakVJSYmqeZxOJ9av\n",
              "Xw+LxYKEhARkZmaqmqe9vd3zb2O1WhEfHw+dTofr16+rlunTTz/FpEmTYLVaMWHCBHz44YeqZXko\n",
              "Qd+po6PD83NZWZlITExUL8z/qa+vF1OnThU2m03s27dP7Thi7Nix4syZM2rH8HjllVfE+vXrRW9v\n",
              "rxBCiObmZpUTeXv77bfFvHnzVNt+b2+vGD58uDh37pwQou/vSa/Xi5s3b6qWqT8cQT2C+2+253A4\n",
              "PA+CUEtvby9WrVqFbdu2Sfv1sJpu376NwsJCvPXWW57/VvffA18GhYWFWLlypaoZNBoNbty4AaDv\n",
              "kpewsDDp/p6G5JOFlbBs2TIcO3YMQN/QWE15eXmYNm0aJk+erGqOb1u2bBmEEEhJSUFubi4iIiJU\n",
              "yfH1119jxIgR2LJlC44ePYrg4GC8/vrreP7551XJ822VlZXo6OjAvHnzVMug0WhQUlKCjIwMPPPM\n",
              "M+jo6EBZWRmCgoJUy9QvtYdw/ubPf/6zePHFF1Xb/hdffCFsNpvo7u4WQgiRnp4uxS7epUuXhBBC\n",
              "dHd3i40bN6r6b/Svf/1LABAffvihEEKI06dPi7CwMNHS0qJapvutWLFC/OY3v1E1Q09Pj0hPTxfl\n",
              "5eVCCCGqq6tFZGSkuHbtmqq5vo0F9RgMBoNoa2tTZdsffPCBiIyMFGPHjhVjx44Ver1eREREiA8+\n",
              "+ECVPP25cuWKMBqNqm3/2rVrIiAgQLhcLs+8KVOmiCNHjqiW6Z5bt24Jo9Eo/vOf/6iao6amRlgs\n",
              "Fq95U6ZMEYcPH1YpUf9YUN+ho6NDNDU1eV7v27dPjBkzxnPwVW0yjKA6Ozu9vkj4wx/+IKZPn65e\n",
              "ICHErFmzxCeffCKEEOKbb74RYWFh4vLly6pmEkKInTt3imnTpqkdQ7S0tAij0Si++uorIYQQtbW1\n",
              "Yvjw4Z6RsCx4DOo7OBwOLFy4EHfv3kVAQAAiIiJw8OBB1Q+Uy+Tq1atYsGAB3O6+x82PGzcOu3bt\n",
              "UjVTfn4+Vq5ciU2bNiEgIAAFBQUYM2aMqpmAvoPjL7/8stoxMGrUKGzfvh2LFi1CQEAAent78f77\n",
              "7z/08W9q4bV4RCQtnmZARNJiQRGRtFhQpIiYmBicPXvWa96MGTOkuCyH/AcLivySy+VSOwINAhYU\n",
              "DbrW1lZkZGQgISEBEyZMQEFBged33x55TZkyBcePHwfQNwL75S9/ialTp2L27Nm4du0aZs+ejYSE\n",
              "BCQmJuLnP//5IH8SUhpPMyDFLF68GMHBwZ7XdXV1AIBf/OIXGD9+PMrKytDa2orJkydj4sSJsNls\n",
              "37nOixcvoqKiAoGBgfjjH/+I2NhYHD58GABUvTMAKYMjKFJMSUkJzp4965mmTJkCADh69CjWrFkD\n",
              "ABg5ciQyMjJw9OjRR1pnZmYmAgMDAQA2mw2HDh3Cq6++igMHDuCZZ55R5oOQalhQpLr7T3rV6XRw\n",
              "u92e111dXV7LGo1Gz89Tp07F2bNnkZqairKyMiQnJ3u9l/wfC4oG3QsvvIAdO3YAAK5du4aysjLM\n",
              "mjULABAXF4eqqioAQHV1NS5cuPDQ9dTX18NoNGLRokXYtm0bLl68iM7OTuU/AA0aHoOiQffee+9h\n",
              "3bp1SEhIgBACv/3tb5GamgoAePPNN7F8+XIUFBRg6tSp+OEPf/jQ9Rw/fhx5eXnQarVwuVx4++23\n",
              "ERoaOlgfgwYBL3UhImlxF4+IpMWCIiJpsaCISFosKCKSFguKiKTFgiIiabGgiEhaLCgikhYLioik\n",
              "xYIiImmxoIhIWv8LBne7FFC4HKMAAAAASUVORK5CYII=\n",
              "\">\n",
              "        \n",
              "      </div>\n",
              "      <script></script>\n",
              "      <script type=\"text/javascript\">\n",
              "        (() => {\n",
              "          const chartElement = document.getElementById(\"chart-24a242dc-e33c-49c6-a527-b1bbe5933ffd\");\n",
              "          async function getCodeForChartHandler(event) {\n",
              "            const chartCodeResponse =  await google.colab.kernel.invokeFunction(\n",
              "                'getCodeForChart', [\"chart-24a242dc-e33c-49c6-a527-b1bbe5933ffd\"], {});\n",
              "            const responseJson = chartCodeResponse.data['application/json'];\n",
              "            await google.colab.notebook.addCell(responseJson.code, 'code');\n",
              "          }\n",
              "          chartElement.onclick = getCodeForChartHandler;\n",
              "        })();\n",
              "      </script>\n",
              "      <style>\n",
              "        .colab-quickchart-chart-with-code  {\n",
              "            display: block;\n",
              "            float: left;\n",
              "            border: 1px solid transparent;\n",
              "        }\n",
              "\n",
              "        .colab-quickchart-chart-with-code:hover {\n",
              "            cursor: pointer;\n",
              "            border: 1px solid #aaa;\n",
              "        }\n",
              "      </style>"
            ]
          },
          "metadata": {}
        }
      ]
    },
    {
      "cell_type": "code",
      "source": [
        "from google.colab import output\n",
        "output.enable_custom_widget_manager()"
      ],
      "metadata": {
        "id": "PJN3aQdPDb_9"
      },
      "execution_count": 12,
      "outputs": []
    },
    {
      "cell_type": "code",
      "source": [
        "from google.colab import output\n",
        "output.disable_custom_widget_manager()"
      ],
      "metadata": {
        "id": "4C2LdztxDb_-"
      },
      "execution_count": 15,
      "outputs": []
    },
    {
      "cell_type": "code",
      "source": [
        "s_data"
      ],
      "metadata": {
        "colab": {
          "base_uri": "https://localhost:8080/",
          "height": 1000,
          "referenced_widgets": [
            "995653b8047349ff9d39c91b9a8f2621",
            "54a0ba71866e421e9c6d16bf97f7afca",
            "4ffeee0efa144bc789f4dcb870a6c1c8",
            "d2e443a992834a6099d65edfea688dec",
            "7b2bdf241fa4437fa17a0e09ca03c134",
            "3957aac0287e46be830f9fb7f85ad0fb"
          ]
        },
        "id": "vxEaZ2msDO9y",
        "outputId": "1491af93-833d-47b1-a415-66f855bbd6a2"
      },
      "execution_count": 16,
      "outputs": [
        {
          "output_type": "display_data",
          "data": {
            "text/plain": [
              "Button(description='Toggle Pandas/Lux', layout=Layout(top='5px', width='140px'), style=ButtonStyle())"
            ],
            "application/vnd.jupyter.widget-view+json": {
              "version_major": 2,
              "version_minor": 0,
              "model_id": "995653b8047349ff9d39c91b9a8f2621"
            }
          },
          "metadata": {}
        },
        {
          "output_type": "display_data",
          "data": {
            "text/plain": [
              "Output()"
            ],
            "application/vnd.jupyter.widget-view+json": {
              "version_major": 2,
              "version_minor": 0,
              "model_id": "d2e443a992834a6099d65edfea688dec"
            }
          },
          "metadata": {}
        },
        {
          "output_type": "display_data",
          "data": {
            "text/plain": [
              "<google.colab._quickchart_helpers.SectionTitle at 0x7ed78606b910>"
            ],
            "text/html": [
              "<h4 class=\"colab-quickchart-section-title\">Values</h4>\n",
              "<style>\n",
              "  .colab-quickchart-section-title {\n",
              "      clear: both;\n",
              "  }\n",
              "</style>"
            ]
          },
          "metadata": {}
        },
        {
          "output_type": "display_data",
          "data": {
            "text/plain": [
              "import numpy as np\n",
              "from google.colab import autoviz\n",
              "\n",
              "def value_plot(df, y, figscale=1):\n",
              "  from matplotlib import pyplot as plt\n",
              "  df[y].plot(kind='line', figsize=(8 * figscale, 4 * figscale), title=y)\n",
              "  plt.gca().spines[['top', 'right']].set_visible(False)\n",
              "  plt.tight_layout()\n",
              "  return autoviz.MplChart.from_current_mpl_state()\n",
              "\n",
              "chart = value_plot(_df_0, *['Hours'], **{})\n",
              "chart"
            ],
            "text/html": [
              "      <div class=\"colab-quickchart-chart-with-code\" id=\"chart-1a3711b7-d837-4692-9e41-26560f94d7da\">\n",
              "        <img src=\"data:image/png;base64,iVBORw0KGgoAAAANSUhEUgAAAYsAAADECAYAAABumQ2GAAAAOXRFWHRTb2Z0d2FyZQBNYXRwbG90\n",
              "bGliIHZlcnNpb24zLjcuMSwgaHR0cHM6Ly9tYXRwbG90bGliLm9yZy/bCgiHAAAACXBIWXMAAA9h\n",
              "AAAPYQGoP6dpAAA7aklEQVR4nO2dd5gc5ZXu3+o8oSdHTdSMZhRQlkYSEpLI2MBaBJMlGwwLtpeL\n",
              "7cW7Bpt7be+10a5hRdy1gWsLDGuBsYQDYEAGgTBBI4Ey0gRpoibHntix7h/VX3VP6OlU1VXVc37P\n",
              "08+jmW5VfVPdXec76T0cz/M8CIIgCGIGdEovgCAIglA/ZCwIgiCIoJCxIAiCIIJCxoIgCIIIChkL\n",
              "giAIIihkLAiCIIigkLEgCIIggkLGgiAIgggKGQuCIAgiKGQsCIIgiKCQsSBmBRdeeCEeeuihKb+/\n",
              "/fbbsXXrVgVWRBDagowFQciI0+lUegkEIQlkLAjCy8DAAO6++24UFhYiKysLX/7yl1FTUyM+P50X\n",
              "Mtlj4TgOjz32GNavX4+kpCTs3r0bR48exebNm5GWlob09HSsWrVqwnEJQgsYlF4AQaiFbdu2YXh4\n",
              "GIcOHUJKSgp++MMf4tJLL8WpU6eQnJwc8nGeeeYZ7NmzBwsXLsT4+DguvfRSXHHFFXj33XcBACdO\n",
              "nEBaWppMfwVByAN5FsSs4dFHH0VaWtqEx+9+9zsAQHt7O15//XU8/vjjyMvLQ2JiIh555BGMjY3h\n",
              "9ddfD+s83/ve97Bo0SJwHIeEhASYTCY0NzejqakJBoMBy5cvR25urhx/IkHIBhkLYtbw/e9/HwMD\n",
              "AxMet956KwCgpaUFAFBeXi6+3mg0oqSkBM3NzWGdZ+7cuRN+fv7558FxHC6++GIUFhbiu9/9LoaH\n",
              "h6P8awgitpCxIAgARUVFAIAzZ86Iv3O5XGhubkZxcTEAwGq1YmRkZML/a2trm3IsnW7i16qkpATP\n",
              "Pfccmpqa8P7772Pv3r3Yvn271H8CQcgKGQuCAJCfn48rr7wS999/Pzo7OzE2NoYf/OAHMJlMuOqq\n",
              "qwAAq1evxr59+3D69Gk4nU48/vjjaGhoCHrs559/Hq2treB5HikpKTAYDDAYKF1IaAsyFgTh5cUX\n",
              "X0RpaSlWrlyJwsJCnDx5En/7299gtVoBALfddhtuvvlmrF+/HkVFRRgYGMCGDRuCHnffvn1Ys2YN\n",
              "kpOTsWzZMpx//vn4wQ9+IPefQxCSwtEMboIgCCIY5FkQBEEQQSFjQRAEQQSFjAVBEAQRFDIWBEEQ\n",
              "RFDIWBAEQRBBIWNBEARBBIWMBUEQBBGUmBqLJ554IpanIwiCICQipsaiqakplqcjCIIgJILCUARB\n",
              "EERQyFgQBEEQQSFjQRAEQQSFjMUsYdzpxpvH2zHudCu9FIIgNAgZi1nCzo8a8e3/+RxPvVen9FII\n",
              "gtAgZCxmCTUdNgDA3+t6FF4JQRBahIzFLKFtcBwAcKLNhlGHS+HVEAShNchYzBLaB8cAAG4PjyPN\n",
              "A8ouhiAIzUHGYhbg8fDo8HoWAHCwsV/B1RBysa+mC3e9cAhdQ+PBX0wQYULGYhbQO+KA0+2bnnuo\n",
              "qU/B1RBy8esPG/C3U51481i70ksh4hAyFrMAFoLSccLPnzf1w+X2KLgiQg7aBoT3ualvVOGVEPEI\n",
              "GYtZQNuAEJZYXJAKq8WAEYcbpzuGFF4VISU8z6PdG2ps7iVjQUgPGYtZAPMsCtISsLokHQBwsJFC\n",
              "UfHE4JgTY96Gy2byLAgZIGMxC2A7zvzUBKwuzQAAHKIkd1zR7lfA0Nw3Co+Hn+HVBBE+ZCwk4lBj\n",
              "H55+rw5uFX5JWSw7P9WCKq+xONjYB55X31qJyPCvdrO7POgasiu4GiIeIWMhEQ/98QQefacW+2u7\n",
              "lV7KFNiNJD/NgqWFqTDpdegasqOlb0zhlRFS0TY48b1s6h1RaCVEvELGQgKcbg/qu4YBAF+02xRe\n",
              "zVT8w1AWox5LClMBUN4invD3LADKWxDSQ8ZCApp6R+Dyhp9qVFZl5Pbw6LAJN5I5aRYAwOpSIckt\n",
              "V79Fl20crxxspvLcGMIq3hhkLAipIWMhAXWdw+K/azvVZSy6h+xwe3jodRxyrIKxqCpheQt5ktwP\n",
              "7DmOH+w+jtcOn5Pl+MRUOmxCGGpBnhUA0ETls4TEhG0s3nzzTaxcuRLLly/H4sWL8cILL8ixLk1R\n",
              "1+UzFme6h+FU0Y6axbJzrWbovV15q7zls/Vdw+gbcUh6Ptu4Ex/WCXmbk23qC8nFK+1ez2JdWSYA\n",
              "8iwI6QnLWPA8j61bt+L555/HkSNH8Prrr+Oee+7B0JC6dtOxpt7PWDjdPBp61JNcZDeRvFSL+Lv0\n",
              "JBMqcpIBAJ81SetdfFDTLUqLnOkeDvJqQgr8G/LWzhW8RjIWhNSE7VlwHIeBgQEAgM1mQ2ZmJsxm\n",
              "s9Tr0hTMs2ByGmrqjmYNeflpCRN+7+u3kDZvsfeLTvHfZ7vVYzTjGf+GvDVeY9E34sDQuFPJZRFx\n",
              "RljGguM4vPLKK7juuutQUlKCCy64AC+88AJMJtOU19rtdthstgkPtzv+Rnq6Pby4gz6/XAgB1KrK\n",
              "WHiT236eBQBUlUrfye1webCvpkv8+dzAGMYc8feeqw32HmckmZCZbEZmkvB9JO+CkJKwjIXL5cLP\n",
              "fvYz7NmzB01NTXj33Xexbds29PRMnb62fft2pKamTnhUV1dLtnC10NI3CofLA7NBh4sX5AJQqWeR\n",
              "OtGzYM15x88NSjaX+0BDL4bGXchKNiE1wQgAONtDoSi58b3HwoagKCMRAGlEEdISlrE4cuQI2tra\n",
              "sGnTJgBAVVUVCgsLcfjw4SmvffDBBzE4ODjhsWbNGmlWrSJYCKo8OxkL84VKFDVVRLGSSlY2yyhM\n",
              "T0BuihlON4+jLQOSnIuFoC5dmIt53pwIhaLkx9dHI7zHJZmCsSD12fiD53nFvPWwjEVRURHa29tx\n",
              "6tQpAEB9fT3OnDmD+fPnT3mt2WxGSkrKhIder5dm1SqirkswDBW5yZifKxiL5r5R1YwuDeRZcBzn\n",
              "y1tIkOTmeR5/8xqLyxbloiwrCQAluWMBK2Jg73EJ8yzIWMQVPM/jF2/X4MZnPkG/xFWMoRCWscjN\n",
              "zcWzzz6LG2+8EcuWLcO1116Lp59+GsXFxXKtT/XUe3ssKnKSkZlsRlaykOyv7VT+Jul0+zSC8id5\n",
              "FgBQJaEC7ck2G9oGx5Fo0mPDvCyUez2LMzJ7FuNON7pnuQ4S8yzyKAwV1zz1Xj1++f4ZHD83iP11\n",
              "sZcVMoT7H2655RbccsstcqxFk7Aw1LwcwauYn5eMnno7ajuGsLwoTcGVAV1DdvA8YNRzyEqaWrHG\n",
              "PIvPmvrFxr1IeedkBwBgU0U2LEY9yrNZGEpeo3nfrsP4oLYbf/jmelHGZLbBGvJYqLEkU/Dqmvoo\n",
              "BBgvPLv/DHbsrQUAPHTVQmxZXhDzNVAHdxR4PLzYY1GRK9wc5+emAFBHkrvdqzabm2KBbhpDsCDP\n",
              "imSzAUPjrqjzLO/4haAAoCxbuGGd7R6RTS7b4+HxYV0P7C4Pnni3VpZzaAGxlybFG4by5izaBsZV\n",
              "1SBKRMZvP2nEw2+eBgB8//JK3LWxTJF1kLGIgrbBMYw53TDqOTFOPD9PMBpqSHK3iWWzCdM+b9Dr\n",
              "sKI4DUB0/RYtfaM43TEEvY7DxQtyAADFGYkw6DiMOd1ot40HOUKE5+0fFfsL/naqC6dUKOIoN/4N\n",
              "eSzBnWM1w2zQwe3hRXl6Qpu8crAZ/+dPJwEA9140D/deXKHYWshYRAELQZVlJcOgFy5lpTfJXaMC\n",
              "Y8E8i+nyFQzffIvIk9ysCqqqNB3p3hp/o14n7nDlCkVNFm38r331spxHzfg35LGcBcdxKPZuXkgj\n",
              "Srv88fA5PLDnOADgzgvm4v7LKxVdDxmLKGDJ7XneEBTgMxbdQ3bJdZfCxV+aPBCiAm0UnsU7Xwj5\n",
              "issW5U34fZk3b3GmS15jsaRAyFW8cbx91lVf+TfkWYy+akNmqOOhIuqdkx34y9E2pZcRU/56vB33\n",
              "v3oUPA9sXVeMh65aCI6LPKcoBWQsooCVzc7L9hmLJLMBRRnCzVlpuXIWgpjcY+HP8qI0GHQc2gbH\n",
              "cS6CkMXAqEP0Si735isYYpJbJq0s5r1dtTQfly7MBc8Dv3z/jCznUiuTG/IYxRlCzkjrxqK6oQ/3\n",
              "vPQZ7nv5MDplCmeqjfdOd+K+lw/D7eHx1VWF+LevLFbcUABkLKKiblJym8GS3DUdysbQ2RyLvJTA\n",
              "xiLRZMB53p15JN7Fe6e74PbwWJBnFUs2GeXZ8vZasLzQ/Fwr7r14HgDBdW/R+A0yHCbnKxjF3g2L\n",
              "lifmjTnc+Nc/CLtrngdOtg0qvSTZ+XtdD7750udwunn8w7I5+I/rl05bnKIEZCwihOd5vx4L64Tn\n",
              "WJK7RuFeC1/3duAwFBBdv8U7J4V8xWSvAvAPQ0l/w3K4PGJ3+Pw8K5YXpWFjRRZcHh7P7J893sXk\n",
              "hjyGWD6r4ZzFL94+jUa/9X8R55L3B8724q7fHoTD5cHli3Kx48ZlUZWzSw0ZiwjptNkxZHdBr+NQ\n",
              "mjVxR83yFkpWRNldbvQMexvyUgN7FoC/Am14Se5xp1tsDpqcrwB8nkWHbRzDdmk72s/2DMPl4WE1\n",
              "G8S/758uEryL3x9qRdcsCVlMbshjFHtzFi19o+B5eUqX5aS6oQ/Pf9wIANhUmQ0AONWufNGIXBxu\n",
              "7sc3nj+IcacHmyuz8dStK2DUq+v2rK7VaAiWryjJTITZMFHGZEGeEIaq7RhS7IvaOSgYCrNBh4yk\n",
              "qarA/rAkd03nEAZHQ5e1/vhMD0YdbuSnWrC4IGXK82mJJmQlC+dukLiTm+WDKvOsYjx37dwMrC5J\n",
              "h8PlwXMfnpX0fGqF5Sym0/7iOGDE4UavwoUW4TLmcONfvOGnm1YX4a4L5gJA3JZGnzg3iK//phoj\n",
              "DjfWl2fimW2rptxT1AAZiwgRm/Fykqc8NzcrCQYdhyG7S+x1iDVtfonPYMmxrGQzyrKSwPPA582h\n",
              "exf+woGBzlGWxWQ/pA3JMWMxP88XAuQ4TsxdvPRps+LVaLGgY3BiQx7DbNAj35ur0loo6hdvn0ZT\n",
              "7yjyUy340dULsTBf2Ig09I6oRnNNKmo7h7Dt1wdgG3dhdUk6nvva6glVbWqCjEWEiMntSfkKADAZ\n",
              "dGIlkFJJ7o4Qymb9WR3mfAuPh8feL4TZFZefNzVfwSjPYZ3c0hoL/+S2P5srs7GkIBVjTjd2ftQg\n",
              "6TnVBs/z4qZguoo3/1CUVvAPP/379UuRYjEi22pGttUMnleHMoJUnO0exq3PHUD/qBNLC1Pxmzuq\n",
              "kGQOW4EpZpCxiBAxuZ071bMAhPAIANR0KJPkbgtQUhmIcPMWh1sG0DNsh9VswNq5mQFfx4ym1IKC\n",
              "p6fxLADBu/ini8oBAM9/3AhbHE+LGxxzYtwpyHnkTlPxprXGvFGHa0L4abM3VwFA9C7iJRTVN+LA\n",
              "bf/vAHqG7ViQZ8Vvv7EGKRaj0suaETIWEcDzPGpZj8U0YSgAmJ+rrOyHWCUzQ4+FP6yT+0jrAOyu\n",
              "4Hr5LAR14YIcmAyBP0ZlMpTPDttdaO0XjGFl7lTP7vJFeajIScbQuAsvftIk2XnVBktuZ05qyGNo\n",
              "TVDwF2/VTAg/+cNmxcSLsXj9WBvaB8dRkpmIl+5ai7TEmfOKaoCMRQT0jjgwMOoEx/l2zpOZn6es\n",
              "oGCgORaBKM1MRFayCQ6XByfOBa9n3+vt2p6uZNYfdn0aekbglkhQkBngbKt52uS9TseJlVG//ntD\n",
              "3MW5Gew9nlwJxWCehRbCUAfO9k4JP/mzSPQs4iMMtb9WqCK8cXWRONZA7ZCxiIA6bwiqKD0xYDKK\n",
              "xdLPdA3DpYDyZ6AJeYHgOA6rS0LTiTrTPYwz3SMw6jlcOD97xtcWpifCpNfB7vJIJmrHZpwvyJvq\n",
              "VTCuXpqP4oxE9I04sKu6RZLzqo1ADXkMrYShRh0u/OvuYwCmhp8Yi/zCUHKpGMcKh8uDj8/0AsC0\n",
              "f6taIWMRAfVsOl6AEBQglC4mmvRwuD1oVKCLNlzPAghdJ4qFoNaVZcIaJM7q34ciVSiKyXxMF4Ji\n",
              "GPQ6fPtCIXfx7P4zIYXWtEaghjwG04fqGrIrNoozFGYKPzHmZiXBZNBh1OHWvITJoaY+jDrcyEo2\n",
              "i0ZQC5CxiABx4FGA5DYghEIqcpVJco873ej39ksEkiefjiq/Masz7d6YsQgWgmJIneSermx2Oq5b\n",
              "WYj8VAs6bXb84bNWSc6tJgI15DHSEk1IsQjVNS396rzBBgs/MQx6neitaz1v8YE3BLWpIks1Uh6h\n",
              "QMYiAuoCyHxMhiW5Yy1Xzm4iCUY9UhJCL8VbNCcFCUY9BkadAb2A7iG72ItxaYjGQuokd6Cy2cmY\n",
              "DDrcvUkYFPPL98/E3SCgQA15/qhZ9iOU8JM/8ZLk/qBGMBabg4Rw1QYZiwio7w7ckOcPS3LHutfC\n",
              "f45FOGqVRr9hSIHyFu+e6gTPA0sLU0MOcUk5YrVn2I6eYQc4LnDZsj83VxUjK9mE1v4x/PlIfMlc\n",
              "B2rI88eXt1BfRVQo4Sd/WMjmCw0nuTtt4zjdMQSOAy6Yl6X0csKCjEWYDIw60D0kSGmUBzMWokZU\n",
              "bMNQwSbkzYSv32L6vAULQV22MDSvApA2DMWS28UZiUg0BfeaEkx63HmB4F389/v1mk+OMoI15DHU\n",
              "2pgXavjJn3jotWBVUEsKUpGpkSooBhmLMGEyHwVpCUgO0m3JYuqNvSMxTTCKnkWIDXn+VLFO7qap\n",
              "xmLE7sKH9T0AgMtm6NqeDAtDdQ/Zo26SCyW5PZmt64qRYjHgTPcI3jrZEdX51UKwhjwGG/fbpCJj\n",
              "ITTfCeGnm6uCh58YC7zG4tzAWFgaZmpif53w/dFSFRSDjEWYiMntIF4FAGQlm5CRZALP+4xMLGCe\n",
              "RX4QafLpWFGcDh0HtPSNiWEOxod13XC4PCjOSAyaL/DHajEixyrsos5G6V3UhFA2O93579ggiNE9\n",
              "9V69JlVYJ8NKowM15DFYGKpZRTmLX7xVg+Y+Ifz0w6uCh58YqQlGFHg/06cUnhUTCW4Pjw+9Ks2b\n",
              "ZoOxsNvtuPfee1FRUYElS5Zg69atcqxLtfiS28GNBcdxqFQgyd3BwhMReBbJZgMWzRF2cIcmeRfv\n",
              "sBDUosDCgYEol2jEaiSeBQDcsaEUSSY9TrXbsK+mK6o1qIEO28wNeQwxDNU/KllTZDR8GkH4yR/2\n",
              "2dRiKOpY6wAGRp2wWgxYUZSm9HLCJmxj8cADD4DjONTW1uL48eN49NFH5ViXaqkLIvMxmQUKJLmD\n",
              "lVQGgzXn+etEudwevHdauMleFmIVlD9SVER5PLyYswhWNjuZtEQTtq4rARAf3kUo89XZ80Y9B6eb\n",
              "FycnKsWow4V/jSD85A/LW2hxENL+WiEEtaE8CwaVzaoIhbBWPDIygl//+tf4+c9/Lu4s8/KmDr2J\n",
              "Z+oDjFINBNsBx3Jqnm/2dvhhKMDXb+GvQHuoqR8Do06kJxqx2jtZLxx8FVGRh6HODYxhxOGGUc9h\n",
              "blZS2P//zo1zYTbocLh5AJ94O2i1iq8hb+YNgV7HoTBdHRVRuz8/F1H4yZ9FrHxWg2GoD2qFzZbW\n",
              "SmYZYRmLM2fOICMjAw8//DBWr16NjRs34t133532tXa7HTabbcLD7VZvF2koDI07xR3dvOzQdrbz\n",
              "RfXZ2Hy4R+wu2MYFLaRIEtyAr5P7VLsNQ96ENBufevGC3Ih2RaxyLBrPgvVXlGcnRzRFLMdqwc1V\n",
              "RQCAp/fVR7wONSB6FiHIuaglb3G4SfBUb1xdFLHCKvMsajuVkdGJlMFRJ460DADQZr4CCNNYuFwu\n",
              "NDU1YdGiRTh06BCefPJJ3HTTTejs7Jzy2u3btyM1NXXCo7q6WrKFKwEr/cyxmpGaGNqHneUsOm12\n",
              "DIzKP4yHNWpZzYagUhyByE2xoDgjER4eONw8AJ7nsfeUUEUUSQgKAMqyfM1hkX7JA8mSh8Pdm8th\n",
              "0HH4+EwvPmsKb4ysmmgPQ4KeyX4oLZNxtHUAALCsKDXiYxSlJyLZbBBmsPeor3ckEH+v74GHF8LX\n",
              "BRF6/EoTlrEoLi6GTqfDbbfdBgBYsWIF5s6di+PHj0957YMPPojBwcEJjzVr1kizaoWo8+5sQw1B\n",
              "AUIlDvtwxKLfoi1MafJA+OtE1XQOoaVvDGaDDpsqI2skKkhLgNmgg8PtEeXFw6U2wuT25HVcv7IQ\n",
              "APDI26c1m7sIpSGPUayC8tmhcad4c19amBbxcXQ6TqyE01LegvVXaLFklhGWscjKysIll1yCt99+\n",
              "GwDQ0NCAhoYGLFw4Nf5oNpuRkpIy4aHXq3NcYKjUzzAdbyZiGYoKd0JeIHx5i37s9YagNlZkhdQI\n",
              "Nx06HYey7OhCUaImVBTGAgDuvXgeLEYdPj3bh9cOn4vqWEoQakMeQw1hqBPnbOB5wVhHK8mtteY8\n",
              "nudFPahZYywA4Fe/+hUeeeQRLFmyBNdccw2eeeYZFBQUyLE21RFOj4U/viS3/OWz4U7ICwRrzjvc\n",
              "0o83T0QXgmKwiqhIktxOt0c0MtGEoQCgKCMR911SAQD4+RunYhIelJJQG/IYTB9KyTDUMW8Iamlh\n",
              "5CEohlgRpRFjUds5jA7bOMwGHdbMzVB6ORET9jaxrKwM+/btk2MtqqcuBGny6VggehbyG4tgstWh\n",
              "Up6djPREI/pHnTjVbgPHCcntaI8JROZZNPaMwOnmkWTSSxLzveuCMrz2+TnUdQ3jP946je3XLY36\n",
              "mLEi1IY8BvMsBsecGBx1hpxvk5JjrcJArSUSGAtfr4U2NKJYCGpdWWZI75da0V6xr0KMOnyjPCvC\n",
              "DIOInkXHkOwxctGziDJnwXEcVpX4dkEri9ORbY0ufFAeRa8FS25X5lklkXU2GXT4+bVLAAC7qluC\n",
              "zvBQE6E25DESTHrxvVNqxKqY3I4iX8GYn2uFjhNEJbuGlO0dCQVRklzDISiAjEXInO0eAc8DGUmm\n",
              "aUd5zkR5ThL0Og62cRc6bXaZVijQHoWI4GRYKAoIfXbFTETTaxGqLHk4rJmbgRtXC8nuH712QjMS\n",
              "5m0ReI9MI0qJUFTvsF3caC0uiN6zSDDpUeqtrlO7dzHqcKG6QdiIaDlfAZCxCJlwO7f9MRv0YhPZ\n",
              "aRmT3DzPT5AnjxamQAtEn68AIF6D3hEH+kfCyxOInoWExgIAHvzyQqQnGlHTOYRf/71B0mPLRUeQ\n",
              "carTwWQ/lJhrccw7070sKwmpCdKEwLSS5D5wtg8OtwcFaQmiZ61VyFiESDiaUNPhkyuXbyc0ZHdh\n",
              "xKtuG22CGwCWFabi8kW5uLmqSKxkioYks0HUqzrbE14oil23cAQEQyE9yYQfXilU8z3+t1rVSXlP\n",
              "RyShRiUroo61CMZCiuQ2Y5FGjIV/CCpcPTW1QcYiRHxls5HdNNmO+LSMSW6W3E5NMEZc4uqPQa/D\n",
              "s19bjX+/Xrrkb1kEsy1GHS4xfFIpsbEAgK+uKsTauRkYd3rw4z+fVH3vRSSehZKNecfPDQCIrr9i\n",
              "MloxFvHQX8EgYxEiPk2oyG5WrNxTTs9CqrJZOYkkyV3XOQyeFyTfo63Rnw6O4/DzaxfDqOfw3uku\n",
              "vK3ymReR9NIUZyhTPsvzPI56K6Gi6dyeDAtDnekewbhTnTJCLX2jONszAr2Ow/p5mUovJ2rIWISA\n",
              "3eVGo1eELeIwlNdY1HUOyyYVzTyLSAUEY4HoWXSF7llEKkseDvNyrLhnUzkA4Cd//gLDdpds54oG\n",
              "/4a8sHIW3jBU2+AY7K7Y3Vw7bOPoHrJDr+OwKF86Y5GbYkZ6ohFuDy+GiNUGC0GtKk6PWAtLTZCx\n",
              "CIGGnhF4eCDFYoi4fLQ4IxEWow52l0c29c9w9IKUQqyICiNnUSNTcnsy9148D8UZieiwjWPHO7Wy\n",
              "nitSwm3IY2Qlm5Bo0oPngXMRyq1EwlFvvqIiJxkJJul6DDiOU32SW+za1qjK7GTi2lj84bNWbH5k\n",
              "H4573eBIEZPbudaIk1R6HSfKhMgVimrTgGdRnuMNh/SOhlyqKldyezIWox7/95rFAIDnP27AiXPR\n",
              "fW7kINyGPAbHcYpoRB2TsL9iMotU3MntcHnwsXcE8aYKMhaqhud5PPVeHZp6R/HIOzVRHasuyuQ2\n",
              "Q+4kN2vWUrNnkZdiQaJJD5eHDzl+XuPXkCc3myuzcfXSfHh44EevHVfFdDl/wm3I80eJiijWub1U\n",
              "wnwFQ82yH58392PE4UZmkgnneTvOtU7cGouTbTaxpnx/bXdUrmp9FD0W/iyQOcnNchaRTsiLBRzH\n",
              "+abmhTBitX/Ega4hoZFR7jAU4/9cvQhWswFHWwfxPweaYnLOUImkIY9REuNeC57nZfUs/MNQaqtg\n",
              "YyGojRVZkigOqIG4NRZvHG+f8PNz+89GfCwWhorWWLCdsRyexQQlUgm6t+WkPIzyWZbcLkxPQLI5\n",
              "+nLgUMhJseBfvjQfAPDIWzXoUngcqT+RlM0yimMsKNjUOwrbuAsmgy5q8cfpmJeTDKOew9C4C+cG\n",
              "YpeHCYX9cZavAOLUWPA8jze9xuLuTWUAgD8fbRPHjYaD0+3xVUJFubNlnkVjj/TlfgOjvsSnmj0L\n",
              "ACjLYrIfwT0LOWQ+QuG2tSVYVpiKIbsL//b6FzE990xEo/3lk/yIjT4U04NalJ8S0WTDYJgMOszz\n",
              "5gGlkv2o6xwSDXKkdA2N46R31sbGOMlXAHFqLFgIymzQ4TuXVGBdWQZcHh47PwpfzqGpd1RUO50T\n",
              "5U04x2pGaoIRHj668aLTwW4i4SY+lYAluUO5BlJMx4sEvY7Dz69dAh0HvH6sXQwrKE1UnoWfPlQs\n",
              "wjYsX7FMws7tySxkM7klyFs09Izgqif/jise3x/V9/PDWiGxvbggRZa+IKWIS2PBQlAXL8hBktkg\n",
              "1s/vqm6BzTtTOlT88xXRtutzHCfukKWWK2+XaEJeLPAPQwW7adUqZCwAQfTu9vVzAQD/+48nVNH8\n",
              "1R7FcKuC9ATodRzGnR50D8kraAn4KqGWyJCvYIgVURJMzXvp0yY43B4Mjjlxx86D6BmO7Brtr4uf\n",
              "rm1/4s5Y+IegrlySDwC4cH42KnKSMWx34XcHmsM6ni9fIc3NSpyaJ3GSu90mzRyLWDA3KwkcJ/QM\n",
              "9M0gKMjzvHidlDAWAPDPl1ciL8WC5r5RPP1evSJrYPA8H1UvjVGvEyfryV0+63J7cOKccAOX17Pw\n",
              "JrmjFOgcc7jxh89aAQBWiwHNfaO464VDYW8QPB4eH9YJnsXmypyo1qQ24s5Y+IegLl4gvFkcx+Ef\n",
              "vbmLnR81wOEKXYpaLJsNY+72TFTKNAiJqc1GGyqLBRajb4DRTEnu9sFxDI27YNBxYp4j1iSbDfjJ\n",
              "VxYBAJ7Zf0b0NJXAPy8VTkOeP2KvhcwVUfXdwxhzupFk0ksiQhkIZiyaekej6rr/y7E2DI45UZSR\n",
              "gNe+vR6pCUYcaRnAd18+Ak8Y5dMn2gbRN+JAstmAFcVpEa9HjcSdsZgcgmJsWT4HOVYzOm12/Plo\n",
              "W8jHk6rHgiGWz0ptLAZZ2az6PQsgtKl5zKsoy06CyaDcR/WK8/Jw8YIcON08fvjaibBuHlLC3uNo\n",
              "8lKx0ohiSrOLC1Khl7F0NCPJhDyv4Yxmxv1Lnwol0reuKcG8HCue3bYKJr0Ob53swPa/ngr5OB/U\n",
              "CCGoDfMyZUnqK0lc/TXThaAYZoMed2wQ4s/P7T8bUoLP7eHFm1mFRGGoSu9x2gbHw86fzASr9Jqj\n",
              "gZwF4D+PewZjESOZj2BwHIeffuU8JBj1qG7oU2zuhdh0GcV7LKrPyiQ5wxAn4xWlyXoewJfkjjRv\n",
              "cbRlAMdaB2HS68RhWGvLMvHIDYLa8nMfNuC3nzSGdKx4mYo3HXFlLFgIymL0haD8uXVtMZJMetR0\n",
              "DuH9EKpbWvpG4XB5YDHqUJAuzY49NdEo7oSk9C6iSXwqQSi9FmJyW2FjAQBFGYn40VXC3ItfvH06\n",
              "agmZSGANeXkpkb/HsZL8OH5O+hkWgfB1ckf2fWJexVVL85HpV720ZXkB/uUKod/mJ38+iXdPdc54\n",
              "nMExJw63DACIH4kPf+LKWLAQ1EXzJ4agGKkJRtyyphgA8OwHwZv0WAiqLCtZUlda6iS3x8NHVVKp\n",
              "BL4Rq4E9C6XKZgNx29piXL4oF043j/tePoyRGCvTsvc4Gu+RGQs5hzzZXW6xlFWOzu3JRCMoODDq\n",
              "EMPSW9eVTHn+2xeW46bVRfDwwL2/OzzjJuHj+h64PTzKs5NQ5L3O8UTcGIuZQlD+fOOCuTDoOHxy\n",
              "tjfo7rBe4uQ2Y77ESe6+UQccbg84Tv0NeQw216K5b3RayWyX24N6ryFRi7HgOA7/cf1S5KVY0NAz\n",
              "gp/+5WRMz896aaJ5j9l41Z5hh2wy7Kfbh+B080hPNKJQIo98JhZ5tZdqOobC1vL6w2etsLs8WJif\n",
              "gpXTJKQ5jsPPrl2MjRVZGHO68Y0XDgbsFmcls/EYggKiMBY7d+4Ex3H44x//KOFyIidYCIoxJy0B\n",
              "Vy8VjMkz+8/MeEw2d1uq5DZD6l4L1mORnWzWTFIt22qG1WyAh5++MqfJGwJMMOpRlK6eXVp6kgmP\n",
              "3bQcHAf8/lArXj8WerFEtEjhPaZYjEhPFGYryCUo6N9fEYtRoqWZSbAYdRhz+ubOhILHw+N/vKX0\n",
              "29aVBFyrUa/Df922EgvyrOgesuOOndVT8o08z4vJ7Xjrr2BEdGdpbGzEc889h3Xr1km9nogJFoLy\n",
              "525vk96bx9tndMeZZyFVjwXDf2qeFJ20WpiQNxmO41CWEzgU5UtuJ6tOiO388kz804XzAAAP7jke\n",
              "s7ndUuWl5NaIOhqDzm1/9DoO8/PCD0V9dKYHDT0jsJoN2LJ8zoyvTbEY8Zvbq5BjNaO2cxjfeumz\n",
              "CSX49V3DaBsch8mgw9q52p+KNx1hGwuPx4O77roLTz31FMxmdbSyhxqCYiyak4KNFVnw8AhY2eLx\n",
              "8LKFoeblJEPHAf2jTkk6aVmPhVaS24zyLCb7MXU3qJZKqEB859IKrChOw9C4C9995QhcIc7miJRo\n",
              "G/L8kVsjinkWUs7cDsaiCGQ/XvxESGxft7Ig6AYTEKISv7m9CokmPT6q78UPXzsubvZYFdTauRmS\n",
              "DnlSE2Ebix07dmDDhg1YtWrVjK+z2+2w2WwTHm63PHIJoYag/GECg68cbMHA6NQu4rbBMYw63DDq\n",
              "OfHLJRUWox6l3t2dFEluccepkbJZRnkOG7Ea2LNQS75iMka9Dk/evAJWswGfNfXjSZm7u6VoyGPI\n",
              "KVU+YneJm6xYeRaAT/YjVEHB9sEx/M1b3TRdYjsQiwtS8V+3roSOE/IdT3nfd3EqXpyGoIAwjcWJ\n",
              "Eyewe/duPPTQQ0Ffu337dqSmpk54VFdXR7zQmQgnBMW4YF4WFuWnYMzpFkvn/PGvhDLIkAeolDBv\n",
              "0caqZDTmWZQxz6Jn6g63VmGZj1AoykjEz64VJus9/V4dqhv6ZDuXFA15jCI/QUGpOdlmg4cXhlzl\n",
              "RGnUwiHciqhdB5rh4YF1ZRlhq0lftCAH/7ZFeN937K3Frupm8b0nY+Hlww8/RGNjIyoqKlBaWopP\n",
              "P/0Ud999N375y19Oee2DDz6IwcHBCY81a9ZItnAGz/N445hgLK5aGjwExeA4TvQunv+4aYoGTD3T\n",
              "hJI4BMWQsiKqIwrZaiVhnsXZruEJuZtxv0Slmo0FINTiX7+yEB4e+O7LhzE4Kl2jpT/tEr7HJTIa\n",
              "C18IKnZeBQAs8BqL9sFx9M+gNwYIYwd2HWwBAGxbVxrR+bauK8E93vvHg3uOw+7yYE6qJeqZN2om\n",
              "LGPxrW99C+3t7WhsbERjYyPWrVuHZ599Ft/61remvNZsNiMlJWXCQ6+XPpZ3ss2G5r7wQlCMq5bm\n",
              "Y06qBT3Ddrx2+NyE5+SqhGLMl3BqXjTT05SkJDMROg4Ysrsm5G7qu4bh4YH0RCOyNSDx/NMt56E0\n",
              "MxFtg+N4YM8xWeS/RTmXKBryGCXeEOi5/jHJcy1icjsGndv+JJsNYg9JMO/inZOd6B6yI9tqxuXn\n",
              "5UZ8zh98aQGuXJIn/rx5fnZMqr+UQht1ljPgH4JKNIU3Sc2o1+EbF3glQD48O0HzR0xuS1wJxWBh\n",
              "qNrO4ai0htweHp02bTXkMcwGvRgS8U9y+ye3tfDlSzYb8OQtK2DUc/jriQ687N21SokUDXmMHKsZ\n",
              "JoMOLg8vbjSkQiybLYitZwH4yZUHMRYvftoIALilqiiqUnOdjsOOG5djdUk6AOCqJTNXVGmdqIzF\n",
              "+++/j2uuuUaipYRPpCEof25eUwyrxYCz3SN493SXeNy6LmlGqQaiNDMRJoNQG97SH3k4oGfYDpeH\n",
              "h44TbgJaYzpBQZb0X6DyEJQ/SwvT8P3LBWmIn/7lpOTqtFI05DF0Om7CICSpGBh1iEnzWIehAP+8\n",
              "ReBrX9c5hE/P9kGv43DL2uKoz2kx6rHr7nV49/7NuKAiK+rjqRlNexbRhKAYyWYDblsrVEM8623S\n",
              "6xqyY2jcBb2OQ2mWPA1hBr0O87w3ymhmcjMBwdwUiyyJeLkpFwUFp/EsNGQsAOAfN5ZhY0UWxp0e\n",
              "/K9dRyQdltQhcRFDiagRJV35LJuMV5KZiLREk2THDRVRUHAGz4IVs1yyIEeysK1RrxM3PfGM9u4u\n",
              "fkQTgvLnjg2lMOo5HGzsx+fN/eLAo5LMRJgN8tVMz5dArrxdY5pQkymbxrOo1aBnAQg79v+8YRky\n",
              "kkw41W7Df7x1WrJj+yTopXmfxYooCctnleiv8Id5FvVdQ9POrBmxu7DncyE3ue380MtlCQHNGgsp\n",
              "QlCM3BQLrlleAEAQGJQ7uc1gxuLYucgVTH09FtpKbjMmh6EGR53i3xRuSaMayEmx4FGvtPXOjxqx\n",
              "zxvajAb/hjzJPItM6cNQsZi5PROF6QmwWgxwuvlp56T86UgbhuwuzM1Kwoby+A4ZyYFmjYUUISh/\n",
              "2CS9t7/oEJt15EpuMy6YJ3xg953uEpPU4aKlCXnTwcJQ5wbGMO50o9ZrqOekWpBiMSq5tIi5eEEu\n",
              "bl9fCgD4/qtH0RXhe8vwb8jLSZEmLyVHYx4zFkp5FhzHBey34HkeL3pDULetLVadhIwW0KyxeP2Y\n",
              "byJeNCEoRmWuFRfNzwbPAx/V9wKQXuZjMosLUlFVmg6Xh5+2MTAUtDYhbzIZSSakJhjB80BDz4jq\n",
              "ZMkj5YEvL8DC/BT0jjhw/6tHo6p4k7Ihj+Gf4Jai1LfLNo4O2zh0HHCeVwVWCcSKqEmDkD5vHsCp\n",
              "dhvMBh2+uqpQiaVpHk0ai3C1oEKFCQwyYtFgw6b3/e5Ac0QJ0bZBbXsWHMeJ3sWZ7mExf6O15PZk\n",
              "LEY9nrplOSxGHT6s68Gug80RH0vKhjxGYXoiOA4YtrvQL0EjIeuvmJeTHLKKghywJPepSSNW2Wbs\n",
              "K8vmKJJ8jwc0aSykDkEx1pVliCV/HIeYVDhcvigXBWkJ6B1xhDUbnMHkybWaswD8ByGNaLJsNhDz\n",
              "cqxiOe0LHzdGvIOXsiGPYTHqxYmNTRKMWFU6uc3wL59l17t32C7mNymxHTmaNBZSh6AYHMfhHq93\n",
              "UZ6dLJnLPxMGvU78AO/8KLwbisvtQdcQK6nUpmcB+Cqi6ruGVa82Gy43VhXBYtShtnMYnzcPRHQM\n",
              "MbktsZyLlL0WsZYlD0RlrhV6HYe+EQe6vKoAvz/UCofbg2WFqYobMy2jOWMhVwiKceWSPPznDcvw\n",
              "+E3LJT92IG723lBOtdtwIAwxuq4hOzw8YNRzyNKALEYgWBjq07O9GBxzQq/j4qZuPcViFDt7X66O\n",
              "LBQlddkso1ii8lme51XjWViMelGg8ot2G9weHr+r9ia2w1CXJaaiOWMhVwiKwXEcrl9ViMUxlCtI\n",
              "SzThupVC0m3nR9PP15gOtuPMTbFourqDCQqynWBpZmJMvLpYccuaIgCCRzw0Hn5+gIUapVYVFiui\n",
              "ovQsWvvHMDDqhFHPYUG+8h7hQr8k9/7abrT0jSE1wYh/WBrfchxyozljIVcISmnu8JZa7v2iM+TJ\n",
              "az4BQe2GoABhh2vwM3Zar4SazKqSdMzLScaY040/HQk/L9Vhk8mzYBPzovQsjnq9ioX5KbI2sYaK\n",
              "f/ksK5e9YVVh3A4lihWaMhZyh6CUpCLXKk7v++0njSH9H9/kNO0mtwFBLqE40yerMj9XudJLOeA4\n",
              "DjdXCd7Fy2FWRcnRkMeQKmfh669QNl/BWOQt3f3kTC/21QhNkRSCih5NGYsT5+QNQSnNHRtKAQAv\n",
              "H2zBiN0V9PWiZ6GxORbT4Z+jmJ8XH/kKf65bWQiTXocT52w4EUbH/oQJeanS5qWYPlSHbTwqHauj\n",
              "LQMAlM9XMFj5bO+IAzwPbKzIwlxvHoOIHE0ZC6YFFW8hKMaFlTmYm5WEoXEX9nzeGvT1cu04laAs\n",
              "2/dljpdKKH8ykky4YrEw+2BXGIlultzOSjZJHuJJSzTCahG+R6GGPifj9vCi8VOLZ5FjtSAr2ddL\n",
              "Ec7YVCIwmjEW8RyCYuh0HL7Oymg/bgza9duhcRFBf5hnYTboxOE88QYLRf3pSBtGHcE9R8C3IZA6\n",
              "XwEI4TEWiopU9uNs9zBGHG4kGPWiirIaYHmL/FQLLonDKIQSaMZYxHsIivHV1UWwmoX5Gvvrumd8\n",
              "rTh7W8MNeYyVxWngOGB1aTr0Gq7smonzyzJRnJGIYbtLbBILhk9VWJ73OFpBQdZfsbggRVUS+Ru9\n",
              "syXuvGCuqtalZTRzFeM9BMVINhtww2phB7rzo8aAr3O4POgZFkpN5dh1xpp5OVbs/d5m/GrrKqWX\n",
              "Ihs6HYebxER3aNP0fEUM8rzHxRneiqgIjYVa+ism840Nc/H2dzfhTu8kTCJ6NGEsZkMIyp/b15eC\n",
              "44AParvF8a6T6bSNg+cBk0GHzKT40LqZl5MMq0aVZkPlhlWF0Os4fNbUH9L8dbka8hgsDHW6wxaR\n",
              "2KHaKqEYBr0O8/O0MZZXK2jCWMyWEBSjODMRlywQBsm/8HHjtK9hE/LyUy30hdAQOSm+GPrL1cG9\n",
              "C7ka8hhsVvanZ/vwtd9Ui55MKDhcHnEq3TKVeRaE9GjCWCzIt+L5O6rwo6sWxXUIyp9veMtod3/e\n",
              "isGxqV2/rFErHpLbs41b1gizn/ccbg1asipXQx5jSWEqfn7tYliMOvy9vgdXPLYffzpyLiSNstpO\n",
              "YSJdisUg5j6I+EUTxsKo1+HC+TnYNotK4M4vz8T8XCtGHW78fpr4dpvMO05CPjZVZmNOqgUDo068\n",
              "fbIj4Ot4nhc9SDnf59vWluDN+zZiWVEabOMufOflI7h312EMjDpm/H9H/fIV5N3GP5owFrMRjuPE\n",
              "Jr0XPmmEe1I8WY4ZB0Rs0Os4sYhhplDUwKgTdpc8DXmTKctOxu5vno9/vqwSBh2HN4614/LH9uP9\n",
              "msBjYY+1qDNfQchDWMZifHwc11xzDSorK7Fs2TJcdtllqK+vl2tts55rVhQgPdGI1v4x7P2ic8Jz\n",
              "zLPQ6oS82c6NVUXgOOCTs71o7Jl+ngQbbCVHQ950GPQ63HdJBfZ8ez3Ks5PQNWTH7TsP4qE/Hp+2\n",
              "L+SoSiuhCHkI27O4++67UVNTg6NHj2LLli2466675FgXAUFumcW3J6vRtmt8Qt5spyAtAZsrswEE\n",
              "LqPtkLkSKhBLC9Pwxn0bxTniL33ajKue/DsON/eLrxlzuFHnrdRbVkSexWwgLGNhsVhw5ZVXivHJ\n",
              "devWobGxUY51EV62nV8CvY7DgYY+nGzzaQrJ3axFyM/NVcJG4A+ftcLp9kx5Xsn32GLU4ydfOQ8v\n",
              "3bkW+akWNPSM4Ku/+gQ73qmB0+3BF+2DcHt4ZFvN4sQ9Ir6JKmfxxBNPYMuWLdM+Z7fbYbPZJjzc\n",
              "7sjFymYr+akJ+LJXU+h5b5PeuNONvhEh+Sj19DQidlyyMAdZyWb0DNvx7qnOKc/L3ZAXChdUZOGt\n",
              "72zCluVz4PbwePK9elz33x+LUuvLClMpuT1LiNhYPPzww6ivr8f27dunfX779u1ITU2d8Kiuro54\n",
              "obOZOzYIXah/OtqG3mG7GJ5IMOqRmhDfTWzxjFGvw1dXCUOvdk2T6FaL95iaaMQTN6/A07euQGqC\n",
              "EcfPDeK3nwhzIihfMXuIyFg8+uij2LNnD/76178iMXH6+uoHH3wQg4ODEx5r1qyJarGzlZXFaVhW\n",
              "mAqHy4PfHWgWE5/5adSQp3WYuOD+um609k+U3GhX2XCrq5fOwTvf24RN3lwLACwrSlNuQURMCdtY\n",
              "7NixA7t27cLevXuRlpYW8HVmsxkpKSkTHno9TaqKBKGMVvAuXvy0SZSTph4L7VOalYTzyzLB88Cr\n",
              "hybK0qux8TI3xYIX7qjCL766FPdsLsMF87KUXhIRI8IyFq2trbj//vsxMDCAiy66CMuXL8fatWvl\n",
              "Whvhx5VL8pFjNaNryC4KDMaDgCAB3Oyd0f3qoRaxn8a/IU/pMNRkOI7DjauL8OCXF8atQjAxlbC0\n",
              "MwoLC0OSASCkx2TQYeu6EuzYW4vTHYIAHZXNxgdXnJeHtEQj2gbHsb+2GxctyIlpQx5BhAJ1cGuI\n",
              "W9cWw+SnzZ8fB3MsCKFM9boVLNEtTNGLdUMeQQSDjIWGyEo24yvL54g/qymWTUTHLd5Q1Lunu9Bl\n",
              "G1esIY8gAkHGQmMwvSggPibkEQIVuVasKkmH28Pj1c9axSmIastXELMXMhYa47w5qfj2heX46qpC\n",
              "Vc08JqKHldG+crBlwrwSglADs2M4RJzxr19aoPQSCBm4amk+/u0vX6C5bxR/OSp0SJNnQagF8iwI\n",
              "QiUkmgxiTqq1nzwLQl2QsSAIFcFUhhlkLAi1QMaCIFTE4oJULC5IEX+mMBShFshYEITKYNLlADXk\n",
              "EeqBjAVBqIwty+dgQZ4VV5yXSw15hGqgaiiCUBlWixFvfXeT0ssgiAmQZ0EQBEEEhYwFQRAEERQy\n",
              "FgRBEERQyFgQBEEQQeH4GA6ouO6661BaWhrR/3W73aiursaaNWtm/cQ9uhY+6Fr4oGvhg67FRPyv\n",
              "R1lZGb7zne+EfYyYGotosNlsSE1NxeDgIFJSUoL/hziGroUPuhY+6Fr4oGsxESmuB4WhCIIgiKCQ\n",
              "sSAIgiCCQsaCIAiCCIpmjIXZbMaPf/xjmM2klUPXwgddCx90LXzQtZiIFNdDMwlugiAIQjk041kQ\n",
              "BEEQykHGgiAIgggKGQuCIAgiKJowFnV1dVi/fj0qKytRVVWFkydPKr0kxSgtLcX8+fOxfPlyLF++\n",
              "HK+88orSS4oZ9913H0pLS8FxHI4cOSL+frZ+PgJdj9n2GRkfH8c111yDyspKLFu2DJdddhnq6+sB\n",
              "AF1dXfjSl76EiooKLF68GPv371d4tfIy07W48MILMXfuXPFz8dhjj4V3cF4DXHTRRfzOnTt5nuf5\n",
              "V199lV+9erWyC1KQkpIS/vDhw0ovQxE++OADvqWlZco1mK2fj0DXY7Z9RsbGxvg33niD93g8PM/z\n",
              "/FNPPcVv3ryZ53mev+OOO/gf//jHPM/zfHV1NV9QUMA7HA6FVio/M12LzZs386+99lrEx1a9Z9HV\n",
              "1YVDhw5h69atAIDrr78eLS0torUkZg+bNm1CYWHhhN/N5s/HdNdjNmKxWHDllVeC4zgAwLp169DY\n",
              "2AgA+P3vf49vfvObAICqqirMmTMHH3zwgVJLlZ2ZrkW0qN5YtLS0ID8/HwaDMNSP4zgUFxejublZ\n",
              "4ZUpx9e+9jUsWbIEd955J7q7u5VejqLQ52N6ZvNn5IknnsCWLVvQ29sLp9OJvLw88bnS0tJZ9dlg\n",
              "14LxwAMPYMmSJbjppptw9uzZsI6lemNBTGT//v04duwYPv/8c2RlZeHrX/+60ksiVMZs/ow8/PDD\n",
              "qK+vx/bt25VeiuJMvhYvvvgiTp8+jWPHjmHjxo24+uqrwzugBGEyWens7OStVivvdDp5nud5j8fD\n",
              "5+bm8nV1dQqvTHna2tr45ORkpZcRc/xj8vT5mDlHMZs+I4888gi/atUqvr+/X/xdYmIi397eLv5c\n",
              "VVXF7927V4HVxZbprsVkzGYz39PTE/IxVe9Z5OTkYOXKlXjppZcAALt370ZhYSHmzZun8Mpiz8jI\n",
              "CAYGBsSfd+3ahRUrVii3IBVAn4+JzNbPyI4dO7Br1y7s3bsXaWlp4u9vuOEG/OpXvwIAHDx4EOfO\n",
              "ncPmzZsVWmVsmO5auFwudHZ2iq/ZvXs3cnNzkZmZGfJxNSH3UVNTg9tvvx29vb1ISUnBzp07sWTJ\n",
              "EqWXFXPOnj2L66+/Hm63GzzPo6ysDE888UTEA6W0xj333IM33ngDHR0dyMzMhNVqRX19/az9fEx3\n",
              "Pd55551Z9xlpbW1FUVERysrKYLVaAQhaSAcOHEBnZye2bduGhoYGmEwmPP3007jooosUXrF8BLoW\n",
              "7733HjZv3gy73Q6dToesrCzs2LEDy5YtC/nYmjAWBEEQhLKoPgxFEARBKA8ZC4IgCCIoZCwIgiCI\n",
              "oJCxIAiCIIJCxoIgCIIIChkLgiAIIihkLAiCIIigkLEgCIIggkLGgiAIgggKGQuCIAgiKGQsCIIg\n",
              "iKD8fxKIsDw03BVkAAAAAElFTkSuQmCC\n",
              "\">\n",
              "        \n",
              "      </div>\n",
              "      <script></script>\n",
              "      <script type=\"text/javascript\">\n",
              "        (() => {\n",
              "          const chartElement = document.getElementById(\"chart-1a3711b7-d837-4692-9e41-26560f94d7da\");\n",
              "          async function getCodeForChartHandler(event) {\n",
              "            const chartCodeResponse =  await google.colab.kernel.invokeFunction(\n",
              "                'getCodeForChart', [\"chart-1a3711b7-d837-4692-9e41-26560f94d7da\"], {});\n",
              "            const responseJson = chartCodeResponse.data['application/json'];\n",
              "            await google.colab.notebook.addCell(responseJson.code, 'code');\n",
              "          }\n",
              "          chartElement.onclick = getCodeForChartHandler;\n",
              "        })();\n",
              "      </script>\n",
              "      <style>\n",
              "        .colab-quickchart-chart-with-code  {\n",
              "            display: block;\n",
              "            float: left;\n",
              "            border: 1px solid transparent;\n",
              "        }\n",
              "\n",
              "        .colab-quickchart-chart-with-code:hover {\n",
              "            cursor: pointer;\n",
              "            border: 1px solid #aaa;\n",
              "        }\n",
              "      </style>"
            ]
          },
          "metadata": {}
        },
        {
          "output_type": "display_data",
          "data": {
            "text/plain": [
              "import numpy as np\n",
              "from google.colab import autoviz\n",
              "\n",
              "def value_plot(df, y, figscale=1):\n",
              "  from matplotlib import pyplot as plt\n",
              "  df[y].plot(kind='line', figsize=(8 * figscale, 4 * figscale), title=y)\n",
              "  plt.gca().spines[['top', 'right']].set_visible(False)\n",
              "  plt.tight_layout()\n",
              "  return autoviz.MplChart.from_current_mpl_state()\n",
              "\n",
              "chart = value_plot(_df_1, *['Scores'], **{})\n",
              "chart"
            ],
            "text/html": [
              "      <div class=\"colab-quickchart-chart-with-code\" id=\"chart-eeb484dd-70f6-4509-bf0a-6ef9a1bd8baa\">\n",
              "        <img src=\"data:image/png;base64,iVBORw0KGgoAAAANSUhEUgAAAYsAAADECAYAAABumQ2GAAAAOXRFWHRTb2Z0d2FyZQBNYXRwbG90\n",
              "bGliIHZlcnNpb24zLjcuMSwgaHR0cHM6Ly9tYXRwbG90bGliLm9yZy/bCgiHAAAACXBIWXMAAA9h\n",
              "AAAPYQGoP6dpAAA/vElEQVR4nO2de3hU9bnvv2vuuUwuk8vkThJIIJKQcAmmUEWgKuIFFBGxqHS3\n",
              "W6F2t+ds2108Z3s829PKdtdtj7U9G+tu0ZZuFcRbVRQUBCvIRYEQJDfIdZLJPZlJMpnrOn+s+a1M\n",
              "kknmtmbWzOT3eZ48DwzJyi/DZN71vt/3/b4My7IsKBQKhUKZAYnYB6BQKBRK+EODBYVCoVA8QoMF\n",
              "hUKhUDxCgwWFQqFQPEKDBYVCoVA8QoMFhUKhUDxCgwWFQqFQPEKDBYVCoVA8QoMFhUKhUDxCgwWF\n",
              "QqFQPEKDBWXW0NTUhK1btyIrKwvx8fHIysrC+vXr0dnZKfbRKJSwhwYLyqxh/fr1UKvVqKmpwfDw\n",
              "MM6fP48tW7aAYRjBv5fFYhH8mhSKmNBgQZkV9PX1oba2Fjt27IBGowEAaLVaPPzww8jIyAAAnDp1\n",
              "CmvWrEFqaio0Gg1Wr14Nk8kEANDpdLjvvvug1Wqh1WqxZcsWdHR08Nffvn077rvvPuzcuRNpaWnY\n",
              "sGEDAOD06dO46aabkJKSgjlz5uDJJ5+EzWYDwAWUH/7wh8jIyIBarUZ+fj5efPHFUD4tFIrX0GBB\n",
              "mRWkpKSgrKwMjz76KPbu3Yvq6mo4HA7+3y9fvow1a9Zg06ZNaG1thV6vx1NPPQWJRAK73Y477rgD\n",
              "UqkU9fX1qKurA8uyuOuuu2C32/lrvP3226isrERHRwcOHjyIuro6rF27Fjt27EBXVxdOnDiB9957\n",
              "D88++ywA4NVXX8WpU6dQU1MDo9GIL7/8EitXrgz5c0OheAVLocwSent72SeffJKtrKxklUolm5yc\n",
              "zD7++OPs2NgY+9hjj7G333672687efIkyzAM29/fP+FaDMOwp06dYlmWZR9++GG2qqpqwtf9wz/8\n",
              "A3v//fdPeGzfvn3s3LlzWZZl2VdeeYWdN28ee/z4cdZisQj5o1IogiMTO1hRKKEiJSUFTz/9NJ5+\n",
              "+mmYzWYcOnQIDz/8MOLj49HU1IQFCxa4/bq2tjZoNBokJydPuFZycjJaW1tRVVUFACgoKJjwdQ0N\n",
              "DTh27BiSkpL4xxwOB5/RbNu2DT09PfjZz36G2tparFixAr/4xS+wdOlSgX9yCiVwaBmKMitRKpXY\n",
              "uHEjvvOd7+Drr79Gfn4+6uvr3X5ubm4uBgYGMDAwwD/W39+PgYEB5OXl8Y9JJBN/nTIyMvDAAw9g\n",
              "cHCQ/zAYDBgeHgYASKVS/PSnP8Xp06eh0+lQUlLCax0USrhBgwVlVjAwMIBdu3ahuroaZrMZdrsd\n",
              "n376KY4dO4Ybb7wRO3fuxJEjR7Bnzx6YTCZYrVYcP34cZrMZy5cvR2lpKX70ox/BYDBgaGgIjz32\n",
              "GCoqKlBZWTnt9/zhD3+IN998EwcOHIDFYoHdbkdjYyM++ugjAMDRo0dx7tw5WCwWqFQqxMfHQyqV\n",
              "huopoVB8ggYLyqxAoVCgt7cXmzdvRmpqKlJSUvCTn/wEP//5z/H444+jtLQUn3zyCV577TVkZWVB\n",
              "q9Xi6aefhsPhgFQqxfvvvw+z2Yx58+ahqKgINpsN77333oxv7pWVlThy5AhefvllZGdnIyUlBffe\n",
              "ey9aWloAAN3d3di+fTs0Gg3S0tJw/PhxvPnmm6F6SigUn2BYlu7gplAoFMrM0MyCQqFQKB6hwYJC\n",
              "oVAoHqHBgkKhUCgeocGCQqFQKB6hwYJCoVAoHqHBgkKhUCgeocGCQqFQKB4Jm2DxwgsviH0ECoVC\n",
              "oUxD2AQLMtVKoVAolPAjbIIFhUKhUMIXGiwoFAqF4hEaLCgUCoXiERosKJQopLp9EKev9Yl9DEoU\n",
              "QYMFhRJl2B0stv3naWz7w2kMjlrEPg4lSqDBgkKJMvqGzTCM2WC1s2juGxX7OJQogQYLCiXK0BvG\n",
              "+D+3D9BgQREGGiwolChDP+QaLEwinoQSTdBgQaFEGV00s6AEARosKJQoo8tg5v/c1k8zC4ow0GBB\n",
              "oUQZVLOgBAMaLCiUKGNiGcoElmVFPA0lWqDBgkKJMlwFbrPNgd5hOmtBCRwaLCiUKIOUoRiG+3sb\n",
              "LUVRBIAGi1nO4KgFDgctU0QLoxYbjGM2AMCCjAQAtH2WIgw0WMxivmjsRcXTR/C7Y41iH4UiEKQE\n",
              "FaeQoiRDDYCK3BRhoMFiFvO3xl4AwOtn26gIGiWQtlltogo5yTEAaGZBEQYaLGYxHYPcm4hu0ISG\n",
              "7mGRT0MRAtIJpVWrkJMcCwBo66eZRTTR2G0U5fvSYDGL0bnccR6t7RbxJBShIOJ2RqIKORous9DR\n",
              "zCJqeP1MK2759Qm8fOJayL83DRazGN3g+JvIsSgJFn3DZlxsGxT7GKJBNAttggq5zsyifdBEmxii\n",
              "gLPN/Xjy3Ro4WMBktYf8+9NgMUux2h0ThrfOtQxgyGQV8UTC8NMDF7Hhd1/gpFOPmW2Q/9OMBCUy\n",
              "ElWQMIDF5kDvsNnDV1LCGd2gCTv3fQWrncX6sgz8w5p5IT8DDRazFP3QGBwsoJBKMDctDnYHi88b\n",
              "esQ+VsBccGYV+8+1iXsQkXAtQ8mlEmQmcqUoOmsRuZgsdjzyp3PoHbagJDMBz20uB0OGaEIIDRaz\n",
              "FFKCykpSYW2JFkDk6xaGMSsGRrns6OPLXRgx20Q+UejpcilDAaAdUREOy7L46ZsXcbnDgJQ4BV5+\n",
              "aCliFTJRzkKDxSyFiJ7ZyTFYPT8dAHC8rieia9utLlvhTFY7jnzTJeJpQo/DwaLbyJWbMhJJsHDq\n",
              "FjRYRCS/O9aID6o7IZMw+I9tS/n/TzGgwWKWQjKL7KQYLMtPhlolQ9+IBRfbB8U9WAC0TmoRfeeC\n",
              "TqSTiEPfiAU2BwuGAdLilQBcMwtahoo0Dl/W47nD9QCApzeUYnmBRtTz+BwsPvzwQyxZsgQVFRUo\n",
              "LS3Fq6++CgDo7u7GunXrUFRUhNLSUpw4cULww1KEg88skmIhl0pwY1EagMjuimpxZhbluUkAgM8b\n",
              "emeVsEvE7dR4JWRS7lebBAu61yKyqNMb8d/fuAAAeOhbc/DA9XniHgg+BguWZbFt2za88soruHDh\n",
              "At5//308+uijMBqN2LVrF6qqqtDQ0IC9e/figQcegNUa+d010QqfWTjfTG6a7wwWdcKL3GNWO/7u\n",
              "lbP4X+/WCH5tV1r7RwAAq4rTsCgnEXYHiw+qO4P6PcMJ0jab4dQrACBXQ8pQNLOIFAZGLPj7P53D\n",
              "iMWObxWm4Mk7rhP7SAD8yCwYhsHg4CAAwGAwICUlBUqlEvv378eOHTsAAJWVlcjKysLx48cFPSxF\n",
              "OFwFbgC4yalbXNINodulpVYIPr6sx9HabvzpVAtMluD1h5PMYo4mFhsqsgHMrlIU6YTSugQLklno\n",
              "6KxFRGC1O/DYf32N1v5R5Gpi8LvvLoFcGh5qgU+nYBgGb7zxBu655x7MmTMH3/72t/Hqq6/CaDTC\n",
              "arUiIyOD/9z8/Hy0tra6vY7ZbIbBYJjwYbeHfshktsKyLB8scpK4O880tRLlOYkAgM8Ezi7eODve\n",
              "xtrcNyLotV3hg0VKLO4sz4SEAc63DqIliN8znOBnLBKV/GMZCSpIJQys9nHxmxK+/PKDKzh5tQ9x\n",
              "Cin+86FKaOIUYh+Jx6dgYbPZ8Itf/AJvvfUWWlpa8Omnn+LBBx+EzeZbi+Lu3buRmJg44ePMmTM+\n",
              "XYPiP73DFlhsDjDMeNcMAKxewGUXQrbQtvSN4OTVPv7vTb3BeeO22BzoHOICYF5KLNLVKqyclwoA\n",
              "ePdCR1C+Z7jhrgwlk0qQ6fw/prMW4c3rZ1rxyslmAMCvt1RgvtM1OFzwKVhcuHABHR0duPHGGwFw\n",
              "5aacnBxUV1dDJpNBr9fzn9vc3Iy8PPeizBNPPIGhoaEJH8uXLw/gx6D4AskqtGoVFLLxl8AaZ7D4\n",
              "W2MvLDaHIN/rwLn2CX8PVrBoHxiFgwViFVK+E8i1FDUbXHXdlaEA2hEVCRArDwB4/OZi3LIww8NX\n",
              "hB6fgkVubi46Oztx5coVAEBjYyOuXr2K+fPnY/PmzdizZw8A4OzZs9DpdFi1apXb6yiVSiQkJEz4\n",
              "kEqlAf4oFG9xnbFwpTQrEanxSgybbTjb3B/w97HZHTjwFVeCKsnkFvEEK1i0ONtm8zSx/HTrrQu1\n",
              "UMkluNYzghqdISjfN5zoNkycsSDwHlG0Iyos0Q2asOPPnJXH7WWZ+JEIVh7e4FOw0Gq1+P3vf4/7\n",
              "7rsP5eXluPvuu/Hb3/4WeXl5ePbZZ3Hy5EkUFRVh+/bt2LdvH+RyebDOTQkA3SD3xpqdNDFYSCQM\n",
              "3xUlRCnqeH0PugxmaOIU+MG3CwAAzUEKFmQgL08zPrSkVsnxHed0+tvno1/onj6zoIN54cqoxYa/\n",
              "f/Uc+kYsuC4zAb/avEgUKw9v8HlufOvWrdi6deuUx7VaLQ4fPizIoSjBhWQWWZOCBcCVot78qh3H\n",
              "6roDbtl73Sls37M4m6+/BkvgdhW3XdlYkY33qzvx1+oO/M/bSyCVhOcvYqCMWe28EeR0ZSiqWYQX\n",
              "LMviZweq8U2n08rj4WWiWXl4Q3j0ZFFCim6QuwOdXIYCgG8XpUImYXCtZySgLqJu4xifnWypzEV+\n",
              "ahwATlw3jAk/f0NmLPJS4iY8fmNxGpJi5egxmnHyavQ60RJxO0YuRYJq4hsO9YcKT/74RTM+uNQJ\n",
              "uZTBngeXTsn0ww0aLILM4KiF30gXLoy3zU59cSao5KjM52wFAilFHfxKB7uDxZK8JBRp1YhXypCm\n",
              "5oTnYJSiiNXHHM3EzEIhk+D2skwAwDvno7crytVtdnIZgwzmdQyaYKezFmHD2+e55o+fr1vA/86F\n",
              "MzRYBJkH/3AGt/z6BLqNwg66BYLOWY5wl1kA411R/gYLlmXxxlluxub+yvGOuALnXb/QIjfLsuPB\n",
              "ImWq0drGxVxX1MeX9RgTYWlMKODXqSYop/ybNkEFmYSBzcFO2GFCEQ+zzY46Pbce9dYw7HxyBw0W\n",
              "QWRo1IpLuiEMm2043zoo9nEAAMYxKwxj3FzMdGkvmbc4fa3fL5vv0039aO4bRZxCitsXZfKP56dy\n",
              "b+RCB4tuoxljVgekEsatDrM0LxnZSTEYNtvwyZXodKJ1N2NBcH1eaCkqPKjTG2G1s0iKlfNlwnCH\n",
              "BosgUu+yWP1KZ3i0bpISVFKsHHFK92La3LQ45GliYbE78IUfG+fIxPZdFVkTvkdBajwA4YMFEbez\n",
              "klRurREkEgYbKrIARG8piu+ESpwaLABXQ0EqcocDl3RDAICy7MSw7X6aDA0WQYSkmQBQ22mc4TND\n",
              "B9FPshKnv5thGAareWNB30pRQyYrPrzEmfdtqZw4lFngzCyE1iyIED9HEzft55BS1PH6bgyMWAT9\n",
              "/uEAP2PhJrMAXGYtaGYRFtQ4g0VpdqLIJ/EeGiyCSH2XS2ahD5PMYpqBvMmQUtSx2h6fpp/fu6CD\n",
              "2ebAfK2a95oiuGYWQk5UE70iz41eQSjWqnFdZgKsdhYfXIo+J9rpZiwIdIo7vHDNLCIFGiyCiGuw\n",
              "aOkbDYs1n+0uS49moqowBTFyKfSGMVzxISsisxVbKnOnpNdEfDaM2dAv4N29q9vsTGxczJWi3o1C\n",
              "J1r9kIdgoaGaRbjgKm7TYEEBy7L8C4K8Z9bqxS9FkczCk6imkkuxcl4KAO9LUTW6IVzuMEAhleBu\n",
              "Z9ln8jVJkBJyOK9lhk4oV+4qzwbDAGebB6LqDptbpzreOusOMsVNB/PEp14/DKudRWJM5IjbAA0W\n",
              "QaN32IKBUSsYBlju7KGuDYNSlM7LzALw3YWWCNu3lmYgeRprZdIRda1HuGDR6gw8eTNoFgD3RlpV\n",
              "wAXAaHKi7R+1wGrn1qmmq6e2zgLjmkXn0BhsdmFMIin+EYniNkCDRdBocJag8jSxWJyXDCA8OqJm\n",
              "svqYzGrnQqTzrQMeRWGTxc4vGrq/Mnfaz8t3zloIlVkYxqwYGOUmwmfSLAiupahocaIlJaiUOOW0\n",
              "i3LS1UrIpQzsDpbXNyjicCkCxW2ABougUecMFsVaNUoyOV8kX2r/wcBss/MLcDwJ3AAXUBZkqOFg\n",
              "OVPAmThU0wnjmA25mhh8qzBl2s8rSBV2MI8YCKbGKxA/TSuwK+tKM6GQSlDfNSz6/4dQuFt6NBmJ\n",
              "hOGzyUjSLViWRWvfKPafa8PTf/0G1e2DYh8pYEgn1KKcyAoW4etaFeEQcXu+Vs3bc9fpjXA4WEhE\n",
              "MrMjd6AquQQpXm7gWr0gHbV6I47WdvPtp+4gwvZ9S3Nn/PnGg4UwtfMWN26zM5EYI8eaBen46LIe\n",
              "717Q4bqsBEHOISZdHtpmCTnJsWjuG0Vb/yiqZgjoYsKyLK72jOB0Ux/ONPXj9LX+CZnQxfZBHNy5\n",
              "QsQTBobZZufL0ZEkbgM0WASN+q5hAECRNh6FqXFQSCUYNtvQPmDyqlwSDFxLUN7WStcsSMd/fHYV\n",
              "x+t7YLM7IHNT5rjWM4wzTf2QMMC9y3JmvB4JFs3O9tlAa7YtTgPBOSkz6xWubFychY8u6/HexQ78\n",
              "fN0C0YK3UJA303QPwSI3DDuiHA4WdV1GnL7WhzPN/TjT1I/e4YklT7mUQUlmAqrbh3BJNwSr3RE2\n",
              "e6l9JVLFbYAGi6DAsizqnZ1P8zPUkEklKNLG43KHAVf0BtGChbdts64szk1CYowcQyYrLrQNYpkb\n",
              "w7P9zm14N81PR+YMw34AZ2onlTAwWe3oMpin7d7xFnd7LDxx0/x0qFUydA6N4XRTP741Nzzvsr2l\n",
              "awarD1fCZa/FqMWG18+04eTVPpxt7uet1QlKmQRL8pKxvECD6ws1WJybDKVMgoqnD8MwZkOd3hhx\n",
              "9X5CpIrbAA0WQaFzaAxGsw0yCYNC5yBaSWYCFyw6DaIZh3nbNuuKTCrBquI0vHexA0dru6cEC6vd\n",
              "gTe/4oLFfcumF7YJcqkEOckxaOkbRVPvSODBwsu2WVdUciluL8vE62fb8M55XcQHC95x1mOwCI/B\n",
              "vD/+rQnPHa7n/x6rkGLpnGRUFabg+gINynISoZRN3ZxZnpuEzxt6cbF9MOKDRSSePzJzuTCH6BX5\n",
              "qXH8jmuiW4hp+6HzwurDHTO50B6t7UbvsBmp8QqsLUn36npCity+ahYEsp/7w5rOiHei7fLgC0UI\n",
              "l70WxFTznsXZeOexlah+6hb8+fvX47HV87AsX+M2UADjgvDFtsEQnVR4aiJwcptAg0UQcBW3CSXO\n",
              "TXFi2n4QXyhvOqFcubE4DQzDDRVO3s1BZis2Lc3xuo4sVPusxeZA5xB3Hl9Le9cXaJCZqIJxzIbP\n",
              "fPS/Cje8zSzGZy1MsIo4a3G5g/sd2Hp9Hipyk9zqYO4oz0kCAFxsGwrW0YKKxeaIyMltAg0WQYCI\n",
              "28UuwWKBM7No6RvFsEi2H74M5LmiiVNgcW4SgInT3PqhMf6NdosXJShCYZowmUX7wCgcLFfGSIuf\n",
              "vm3UHRIJg7vKI9+Jdsxqx6BzzsRTsEiNV0Ihk8DBjnfGhZq+YTP0hjEwzHi27S0VztdgQ7cxLKxz\n",
              "fKW+ywiL3YHEGDnfbBBJ0GARBOr5GYt4/jFNnIJfTFMngu2Hw8Gic4Z1qp5YwxsLjgeLN79qg4MF\n",
              "lhdoUJgWP92XTiFfoCVIxOYjTxPrl1hISlFHa7uniKyRAilBqeQSJMTMLEFKJAy/HVEs249vnIOp\n",
              "+SlxXs3FuJKeoEJmogoOdrycE0mM6xUJESduAzRYCI7DwaKBZBYZ6gn/Ru6kxJjk7hk2w2J3QMJ4\n",
              "vgN1B7H++KKxD2NWOxwOFm+cc5oG+pBVAOOaRWvfaEBrPv3phHKlJFONYm08LHYHPqqJTCda1xkL\n",
              "b96AyI1Ce784ugUpQV3nY1ZB4HWLCBzOq24nekWSuAfxExosBKZ9wAST1Q6FTDLFBXVBhlPkFkG3\n",
              "IKJmRoLK6xqxK9dlJiAjQQWT1Y7TTf04da0Pbf0mqJUyrC/L9HwBF7KSYqCQSmCxOwLaT867zfrZ\n",
              "iswwDJ9dRGopytsZCwLZxy1WRxQfLPwchix3lqIiUbeIZHEboMFCcIjNx9y0+ClvymLafvgrbhMY\n",
              "hsHqBc6FSLXdvLC9YXEWYhTuu1emQypheEE6kFJUq3MgL8+HgbzJkA16Xzb1iVbHDwRvZywIYndE\n",
              "Xe7g3jAX+hksKojIHWGZRaSL24AfwcJsNuNHP/oRioqKUFZWhm3btgEAGhoasGLFChQXF6OyshKX\n",
              "L18W/LCRwHgn1NQa/mTbj1Dir7jtCjEW/KhGj48u6wEA90/ahuctQrTPervHYiZykmNRmZ8MlgXe\n",
              "Ph95ey74Tigv51XEHMwbtdj4/++FWf69YZbmJIJhuPP3DpuFPF5QiXRxG/AjWOzatQsMw6C+vh6X\n",
              "Ll3Cc889BwB49NFH8cgjj6C+vh4///nPsX37dqHPGhGQYFGkVU/5t0Ln3AWx/Qgl3m7Im4mV81Kh\n",
              "kEqgN4zBYnNgYVaC38NFgQYLh4P1ayDPHfcu5SxKDpxrizgnWk8b8ibD7+IWoQx1pdMIlgXS1Eqk\n",
              "TWOl7okElRyFztdOJJkKRrq4DfgYLEZGRvCHP/wBv/zlL/kfOCMjA93d3Th37hyfZWzatAltbW1o\n",
              "bGwU/sRhDkk157sJFjKphO+Q+ibEIvd4ZuH/G2ucUobrC8cnuLfMYEXuCd4jys9Zi26jGWabA1IJ\n",
              "45Xd+kzcsSgLcQoprvWO4GzzQEDXCjW+lqHIrAUJ+KHkmwBLUASiW1yIIN0ikie3CT4Fi6tXr0Kj\n",
              "0eCZZ57BsmXLcMMNN+DTTz9FW1sbMjMzIZNxrXAMwyAvLw+tra1ur2M2m2EwGCZ82O2RPUULADa7\n",
              "g1/qMz9jarAAxBO5hcgsgPFSlFImwYby6V1oPRFo+2yLM8hkJ8UEbCoXp5ThTufMxetn3b9mwxW9\n",
              "F/bkrqTGK6CUScCy4AcaQwURtwMNFmTeIpIyi0gXtwEfg4XNZkNLSwuuu+46nDt3Dr/5zW+wZcsW\n",
              "2Gy+Dcjs3r0biYmJEz7OnDnj0zXCkea+UVjsDsS4rA+djBjtsyzLumQWgXkxbVycjWVzkvGPNxcj\n",
              "MVbu93VIZtE+YPLrDtfbVarecp8zS/rwUmfEzFywLItuZ+ust2UohmFEE7lJNu2vXkFYxE9yD0ZE\n",
              "2dBic/A2P7MmWOTl5UEikeC73/0uAGDx4sUoKChAS0sLOjs7+aDBsixaW1uRl+de/HziiScwNDQ0\n",
              "4WP58uUB/iji4zqMN53tNbH9COU+bsOYjZ8aD7Rko4lT4M2dK/DoqrkBXUeboESMXAq7g/Wrft7W\n",
              "H9iMxWQW5yahWBuPMasD712MjDbagVErLE7bjnS19zcB/D7u/tDpFla7g3/N+ztjQSjJVEMuZTAw\n",
              "akWbSPMivkDE7QSVTLDXqxj4FCxSU1Oxdu1afPzxxwCApqYmNDU1YeXKlViyZAn27dsHADh48CBy\n",
              "cnIwb948t9dRKpVISEiY8CGV+tZ+GY4QvaLYjV5BEMP2g5SgNHEKxCrCw2iYYRjku+y28JVAZyzc\n",
              "nWeLs7PrjQgpRY2vU1XwhpXeIMZei6s9w7DYHIhXBv6GqZRJ+YBzIQJKUbwteU7k2ZK74nOxd8+e\n",
              "PfjVr36FsrIybNy4ES+99BKys7Px0ksv4aWXXkJxcTH+9V//FXv37g3GecOahm7PwUIM2w8h2maD\n",
              "QWEAHVEtAmcWAHD34mwopBLU6AwRYSfR5WMnFGG8fTZ0mcU3LpPbQiybIiJ3dQQ40EaDuA34sc+i\n",
              "sLAQx44dm/L4/PnzcerUKUEOFanwmcU04jahJDMBXYYeXOk0YOmc5KCfS+d8Uwi3YJGf6v9gXqtT\n",
              "4M7T+D+QNxlNnAK3LNTi/epO7D/XFva/3L7OWBDE0CwCndyeDKdbtETEcF40iNsAneAWDLPNjmZn\n",
              "acRd26wroRa5dQFObweLAudiKF/bZw1jVgw4nVaF3jpI2oHfPq8L+z0XpAzlf2YRymDBvWEKFSwq\n",
              "crk33ku6IdhEtFv3RLSI2wANFoJxrWcEdgcLtUrGl5mmY0GIRW5+6VGYZRYFJLPo8S1YEAPB1HiF\n",
              "z86lnlg5NxXZSTEwjtlwKMzNBbu83GMxmVznTUOXcQxmW/ADIsuyfBkq0LZZQmFqPOKVMoxZHWjo\n",
              "HhbkmsEgWsRtgAYLwXBdeORJxLqO35pnCInth45Yk4dZsCCzFh1DYz7dxfu7Hc8bJBKGzy6I/1W4\n",
              "4uuMBUETp0CMXAqWBToGg++H1T5ggmHMBrmUQVH6zFm3t0gkTERszqtx0SsiWdwGaLAQDG/1CoCb\n",
              "MVDIJBix2ENSCvBn93Yo0MQpkKDiMgNfSlEtTgPBOQEYCM7EvUtzIGGAL6/1C7L6NVh0+ThjQZg4\n",
              "axF8kZvoFUXpap+6tjyxKEimgp839OB4fY8g17oUJXoFQIOFYPDb8dI9LwEKpe3HmNXOG66FW2bB\n",
              "MMy47YcPb8qB7rHwRFZSDFYVcw67+8+Fb3bhbzcUEFqRWyibj8kQ3UJI249u4xi+t/cstu89I8iN\n",
              "Qk2UdEIBNFgIBj+Q50VmAYTO9oNYk8cqpEgKYOI6WIwbCnp/hyv0jIU7SCnqza/aRd1XPR1mmx39\n",
              "IxYA/i2zInstQjGYJ5TNx2RI+2x9lxEmizDay4fVnbA5WLAs8OrJ5oCuZbE5+HUENLOgAOCsl8kU\n",
              "sqdOKEKoOqJcxe1wrJnm88HCe5FSKLfZmVizQIvUeAV6jOYJq2TDBWLzoZBJ/LoJCGlmQWw+BH7D\n",
              "zEhQIV2thN3B8t1WgfJ+9XhTw5tftcM45r/1CxG31SpZUF+roYIGCwFo7B4Gy3KTtCnx3omNoVqE\n",
              "1BGmA3mE8TKUd3e4ZpsdHU4DPCFnLCajkEmwaQlnXR6OpSi9SyeUPzcBoRrM6x+xoNPZ4rvAy6zb\n",
              "WxiG4XWLCwKI3B2DJpxrGQDDcL8vw2Yb3vyq3e/ruc5XhOONmq/QYCEA3th8TKbEWYZq7Q+u7YdQ\n",
              "brPBggSLa17Wh9sHTGBZrqyWGq8I5tF4c8Gjtd1ht0VP76M1+WRClVmQO/78lFioVcKXQYlucbE9\n",
              "8MziA2dWUZmvwY6bOO+zV082+92xGE3iNkCDhSCQPu/pbMndkRyn4H/R64KoW7SHeWZBylC9w2av\n",
              "Un5XcTvYd2tz0+KxPF8DBwsc/Nr/O8xgwIvbPk5vE0hm0W00B3X4cFyvCM4bZrmAduXvV3MGkncu\n",
              "ysQ9i7OhVsnQ3Dfqd2dUNInbAA0WgkAyiyI3q1RnYkEISlHh2jZLSFDJ+QzBm1JUKPQKV+5zmbkI\n",
              "9SrcmRgfyPNv41xyrBxxzt3pRNcKBt8IbPMxmUXZSQC4pocBp+DvD619o7jYPgQJA6wrzUScUoYt\n",
              "y7j/+71+CN1WuwNXInzn9mRosBAA14E8XwiFyB2uJoKu8IuQvJi1COZAnjvWl2VArZShtX8UX17r\n",
              "C8n39Aa9nzMWBG7WIvi2H0LbfEwmMVbOlzIDmbf4qzOrWDE3lV/5+vCKfDAMcKK+B40+TonXdxlh\n",
              "sUWPuA3QYBEwhjErL+C527s9E8G2/bA7WL62HW5WH674MmvR6hzIywvSQN5kYhUy3FXBbdF7I4yE\n",
              "7i4/faFcCfZg3qjFxmtRQrfNulLunOSuDkC3IF1QdyzK5B/L1cTiOyVaAL630fIlqKzoELcBGiwC\n",
              "psGZVWQkqJAY45uAF2zbj27jGGwOFjIJE9CbSrDJ98GqnJ+xCKHPzv3OPReHavQYHPW/1CEk/jrO\n",
              "ukKCRbAWCNXqjWBZIE2t9Gk5k68Q3cJf24/G7mFc6TRAJmGwrjRjwr99b0U+AE6z8mWDousOi2hh\n",
              "1gaL1r7RgHqoCXV65+S2H22BrrYf/myL8wTRKzISVZAKsEMgWBR4GSwcDjbkmgUAlGYn4LrMBFhs\n",
              "DrxzXhey7zsdLMtOaJ31FzKYF6zM4rLLDotgwgeLdv/WrBJh+4aiVCTFTuyw+9bcFMzXqjFqseOA\n",
              "D5nlpfboEreBWRos6vRGrH3+Mzz8xzMB7/Ad1yt8E7eBibYfwRC5I0GvALwPFt1GM8w2B6QSJqRl\n",
              "NW6LHid2vn62TfS9z4OjVn5vebqfAjcQ/PbZYNl8TOa6zATIJAx6hy0+i/Usy7qUoLKm/DvDMNi+\n",
              "Mh8A8OqpZti9qABEo7gNzNJg8e4FHax2Fl+3DuLr1sGArkWCha96BYHMWwRD5G4P8xkLAhG4h0zW\n",
              "GTtaWpwCeHZSDOTS0L50N1ZkQyGToFZv5EsMYkGyCk2cAkqZ/+uIgy1wB7ttlqCSS/nOQl91i7ou\n",
              "Ixq7h6GQSnDzQq3bz9lYkY3EGDna+k046sU0/wRxO8JtyV2ZlcHi8Ddd/J//8mVLQNfytxOKQHZy\n",
              "B8MjKlIyixiFFJnO2vtMHVEtIpSgCImxcqx31rNfF9m6XB+AgaArJLPoHTYL5q1EsNkdfONGsDML\n",
              "ACgnDrQ+6hZ/vciVoG6an4aEaYYGYxRS3L+cyyxfOdnk8Zqu4rYQK2TDhVkXLK72DKOxexikQeH9\n",
              "S51+92f3DZvRO8x9ra8zFoRg2n7w09thHiwAl/bZGRYhBdtt1hNbnEL3exc6MGoJ3tS9J7oDnLEg\n",
              "JMbIoXYuj9INCqtbXO0ZgcXmQLwyNEt/iG7hi+3HhBJU+dQSlCsPfSsfEgb4orGPn6uajmgUt4FZ\n",
              "GCwOX+ayim/PS0VpNidaHvjKvztFYkueq4lBrMK/jW3BtP3oCNN1qu4gHVEz7bUQM7MAgKpCDfJT\n",
              "YjFstvHWEGKgHwpsxoLAMAz/2mgTuBRF5itKMtUhubsmmcUl3ZBXugIA1OgMaOkbhUouwdoF6TN+\n",
              "bnZSDG5dyGWWr3hoo72k46oE0SRuA7MwWHx8WQ8AuHVhBr57/RwAwH+dbvWrdTXQEhQQPNsPlmUj\n",
              "pgwFAIVeeES1OgNJMA0EZ4JhGGxeJv4WPaHKUEDwdItQ6RWEeenxiFVIMWqx42qPdwN0ZBBvbYkW\n",
              "cV6s593ubKN9+3z7tC3UVruD1x+jSdwGZlmw0A+N4ULbIBgGuOU6LTZUZEGt5Pxfvrja6/P1+B0W\n",
              "AQQLYNz24xsBS1GDo1aMOuvQ4TyQR8j3YjBP7MwC4LboSSUMzrUM+DzVKxRdAsxYEPiOKIH3WgTb\n",
              "5mMyUgnDvzl7U4piWZbPDu90GcSbieUFGpRkJmDM6pj2ZqGha5gTt5XRJW4DsyxYHLnClaAW5yYh\n",
              "PUGFWIUM9yzJBgDs80PoFipYlLgM5wkFySpS45VQyf3vmAkVru2z7lpTh0xWDI5yczFiLr7XJqiw\n",
              "ej5XsvDFupxlWfQYzfimwxCwcV+gjrOujM9aCJdZsOz4folgz1i44stw3tetg9ANmhCnkOKm+TOX\n",
              "oAgMw+B7zjbaP51qgc3NUiwibi/MTogqcRsIIFjs3bsXDMPgnXfeAQB0d3dj3bp1KCoqQmlpKU6c\n",
              "OCHUGQXjsLMEdcvC8SnN71ZxpahPrvhmQ82yrF/W5O4IhkcU3zabFL6T267kaWIhYYBRix09RvOU\n",
              "fycb3VLjlV6VDILJ/c6Zi4NftfPzDnYHi45BE8429+Od8zr87lgjnnirGg/+4TTW/PtnKPlfH6Hy\n",
              "l59g/W8+xz/uvxDQ9w9knepkgmH50T5ggmHMBrmUCfh3wxeIbuFN+yzpgrplYYZPN1N3lWdBE6eA\n",
              "btCET650Tfn3at0ggOgrQQGAX791zc3NePnll1FVVcU/tmvXLlRVVeGjjz7C2bNncffdd6OpqQly\n",
              "eXis8hwyWXHqKmcEd6tLsCjWqrE8X4Mzzf14/Wwr/tt3ir26XrfRDMOYDVIJg8K0wGroJc7p7zq9\n",
              "EQ4HK8gdSSSJ2wC3bCgnORat/aNo6h1B+qQ3wlCsUvWWm+anIV2tRLfRjHv+4wsMmazoHOSsVWaC\n",
              "YQCW5ZosBkctU6aFvcFss6OPrFMVsgwlYGZB9IqidDUUstAVL8qduy2udHLZ23RBwO5g8eGlqV5Q\n",
              "3qCSS7F1eS5+d+wq9n7RjHWlE78+WsVtwI/MwuFw4Ac/+AFefPFFKJXjrXv79+/Hjh07AACVlZXI\n",
              "ysrC8ePHhTtpgByr7YbNwaIoPZ4veRC+W8W1RL5+ps1taukOklXMSYkNuMwTDNuPSBK3CTN5RLUQ\n",
              "A8EwqAPLpBJ+ortGZ0Bbv4n34MrVxKCqUINNS3Lw47VF+Ld7F+G/fnA9jv/sJtT9n9uwIEMNm4PF\n",
              "kW+m3pV6A79OVSpBsgA71YnA3TdiwYhA3XhkjWqo9ApCdlIMUuMVsDlY/gzuONvcj26jGQkqGW4o\n",
              "SvP5+zxYlQ+phMHppv4J61xdxW2ywS+a8DmzeP7557Fy5UosXbqUf6yvrw9WqxUZGeN37Pn5+Wht\n",
              "bXV7DbPZDLN5YqnBbg/eAhZgYhfUZNaVZiAlTgG9YQyfXOmeYibmDiE6oQjE9qNGZ8CVTiPmCOCo\n",
              "GkkzFoSClFicgPvBPLFnLCbz2Op5yEhUIVYhRU5yLLKTYqBN8OzBdVtpJmr1Rhyq0fOdVb7QbeRK\n",
              "UOkJSkHcTBNj5EhQyWAYs0E3aBKkbBQqm4/JkDWrR2u7cbFtEEvykt1+HilBrSvN8CvzyUhU4bbS\n",
              "DLxf3YlXTzbj3+4tBxDd4jbgY2ZRU1ODgwcP4p//+Z8D+qa7d+9GYmLihI8zZ84EdM2ZGLPa+W1X\n",
              "7oKFUibll9z85bR3QrdQ4jZBaNsPPrNIjpwXLS9yuxnMC6cyFMCVI757/RzcvTgHlfkaZCXFeGXW\n",
              "uL6Me/193tADgx9GlmTGQghxmyD0Pu5Qt8264km3sNkd+KiGu3F05wXlLUTofudCB/qdZcFoFrcB\n",
              "H4PF559/jubmZhQVFSE/Px9ffvklHnnkEezfvx8ymQx6vZ7/3ObmZuTl5bm9zhNPPIGhoaEJH8uX\n",
              "Lw/sJ5mBvzX0YtRiR1aiCqXZ7u92HlieB4YBPm/o9WqvQp1zIE+oYLFAYJE7kstQ7gbzxHCbDQZF\n",
              "WjXmpcfDamfxqRuB1BP6ANepukNI3aJ/xMLvdyHuBKGE6BbTdUSdutaHvhELNHEKrJib4vf3WZKX\n",
              "jLLsRFhsDrx2hqugRNvO7cn4FCx27tyJzs5ONDc3o7m5GVVVVfj973+PnTt3YvPmzdizZw8A4OzZ\n",
              "s9DpdFi1apXb6yiVSiQkJEz4kEqD1975sUsX1HSpe64mFquKufrlf51xXz4jOBwsGkkZKsM/m4/J\n",
              "kF8sIRYhjVps/N1OJAWLwlTuuWzuG50wJGm22dExxL2RiTWQJyTEY+rQJb2Hz5xKlwDW5JMRcjCP\n",
              "zFfMSYmFehqvpWBCMotrvSMYGp2auZES1G2lGZAFYEbp2kb751MtsNodfLCIRnEbEHDO4tlnn8XJ\n",
              "kydRVFSE7du3Y9++fWHRCWWzO/gWt1uuc+8qSdjmnOg+cK5txl543aAJIxY7FFKJIPoCMNH2I9A9\n",
              "Gx2D3BtKvFKGhBhx20x9IStJBbmUgcXm4IMDwL2JsSwQq5Dy+7ojGdJB81l9j88WL0LOWBByNWQJ\n",
              "UuBlqMsi6RWE5DgFr2uRNlaCxSZMCYpw+6JMpMZzWucH1Z1RO7lNCChYfPbZZ9i4cSMAQKvV4vDh\n",
              "w2hoaMDly5exevVqIc4XMOdaBjAwakVSrBzLCzQzfu7qBenISlRhYNTKt9a5g+gVhWlxglllu9p+\n",
              "kOv7i2sJKpJWOsqkEn5IrLl3/I3LVdyOpJ9nOkoy1chPiYXF5sAxLyyvXQlOGUq4zEJMvYJAhvMm\n",
              "6xZ/a+yBYcyGNLXS43uBNyhlUjzgvMHcfegKzE7jxPwQrfwNNVE/wU2MA9cu0HpMO6USBluXczrL\n",
              "TBPd9QLrFYQSgWw/dBGyx8IdhXz77LiVBtljEel6BYFhGNxWxmUXh2p8MyQMThlKuME8sdpmXSE7\n",
              "uSfbfvz1Ivdc316WKdjmyG3X50EuZdDlbGlemBWd4jYQ5cGCZVkXvWLmEhRhy/JcyCQMvm4d5Ouv\n",
              "k+HbZv1YpToTCwSy/SB205GkVxB4q3KXzGLcEyp67tjWO0tRx2p7vN4lwbJsUIPFwKg1IOdjk8WO\n",
              "a04Tv4UhtPmYTIUb248xq52fbbmz3LdBvJlIT1Dh9rLx60VrCQqI8mBxucMA3aAJKrkEN3o5fJOu\n",
              "VvHttdO10ZKBvKJ0YcRtglC2HySziAQDwckUpE3NLMJtxkIISrMTkJMcA5PVjuP13pWiDCYbxqyB\n",
              "r1OdjFolR5JzwC+Q7OKK3gAHy1myTJ7ADyULsxIhlTDoNpp5jeezOk4fykpUYXGu+/kLf9m+soD/\n",
              "c7TtsHAlqoMF2Yh3Y1EaYhTed1uRie53zuum3GnZHSwanXdPQmcWxPaj1mn74S+6CLP6cKUghbTP\n",
              "usssoidYMAyD9c470g+97IoiekVSrFxwc8hx91n/dYtxvUK8rALgNtuREjEpRRE78jvKswQvE1Xk\n",
              "JuE7JVokx8qxYm6qoNcOJ6I7WMwwtT0T3ypMQWFaHEYsdrx9Xjfh31r6uA1gKrkEuQIPvBHbj9EA\n",
              "bT9IN1QklqFIZtHWPwqr3QGHgx2fsYiCtllXiFPAp1e6vHKi1QehBEXISQp8MO+bMAkWAFBB5i3a\n",
              "BzFqseHoFS5789ULylteenApvvrnm5GmFi7jCzeiNli09I2gVm+EVMJgbYl3FsQEhmH4xUh/+bJl\n",
              "gmU20SuK0oXfAEZsPwD/S1E2u4N/U8mJwMxCq1ZBJZfA5mDRPmBCt9EMi80BqYRBVoQ46HpLRU4S\n",
              "MhNVGLHY8XmD530qXUPCuc1ORojBPGLzIaa4TXDdyf3plW6YrHbkaWKDpilIJUzUCtuEqA0WpAvq\n",
              "+gKNX+6e9y7JgUouQa3eiK9bB/jHg9UJRRi3/fCvI0pvGIPdwUIhlSAtPvLuciQShhe5m3tH+E6o\n",
              "7KSYgIaowhGJhOGzi0MztGoTgplZkJZlfzNam93BD5SK2TZLIEZ+l9qH8O4FrgR1Z3lmVLRei0V0\n",
              "/fa5MJNxoDckxspxp3NwZ9+X4xPddQJPbk8mUJGbiNuZSaqIvdMpcFmxGo16hStEtzhypYvfjTEd\n",
              "wZixIASaWVzrHYHZ5kCcQhoWJnrF2nio5BIYzTZ8WsvdOAoxiDebicpg0WM04ytnNnCzh6ntmdjm\n",
              "XIz0QXUnb59RTzqhgpRZLAjQ9oOI21mJkVeCIriuWI3GTihXluYlI12thHHM5nG1b1cQprcJgQ7m\n",
              "kcntkszwmDOQSSV8yYllgblpcVggcEPKbCMqg8UnV7rAssCinMSA2kcX5SSiNDsBFrsDb37VBovN\n",
              "we9aEMKa3B2B2n5E2tIjdxS4GApGe2YhkTB89uupFNVlJJqF8OVFklkMmax+ueFe1oWPuE0od9kp\n",
              "cWd5Fi1BBUhUBotAS1AEhmF4v6i/nG7F1Z5h2Bws1EoZMoNQCgAm2n54s3h+MpHoNjsZvgzVM4LW\n",
              "PrL0KLo6oVy5zWlbfvibLlhnWL5F7MmDIXDHKWXQxHHa3slGz2L7ZMLB5mMyi5zDeQAtQQlB1AUL\n",
              "45gVJxu59amejAO94a6KLKhVMrT0jWLvF00AgCJtfFDvUlbO43q1n3jrEl/+8pb2CLb6IBCBu2PI\n",
              "hGs90WX14Y7l+RqkxCkwOGrFl9f63H6O1e5A34hzl0WQblSIZffOv3yN5w/Xeb01kmXZsLD5mMyK\n",
              "uSlIipXjhqJUzBN4gHY2EnXB4rO6HljsDhSmxgnyAolVyLBpSQ4A4MBX7QCEH8abzJN3lGBOSiza\n",
              "B0zYue+rGe82J0Myi5wIzixS4xVQK2VgWcDoHIqMVs0C4Orrt5BSVI37Ab1uoxksC8ilDDR+dPd5\n",
              "w7/duwhbluWCZYHfHG3E1pe/5MuaM6EbNGHIZIVMwqBIGz5vyqnxSnz5xFr8cXul2EeJCqIuWJCp\n",
              "7ZsXagW7+3/gem6im4xbBKttlpAUq8B/PrQM8UoZTjf141/+etmrr2NZlv/ljkSrDwLDMLzIDXC/\n",
              "9HHKyLFa9weyQe/jGj3sbqb3iW1Fujp4XW6xChmevXcRfrN1MeKVMpxtHsBtL3zOl3Wng5SgirRq\n",
              "KGXB20vjDyq5VDBn6NlOVD2LZpudt3wOVK9wpVirnmBpHOxgAXC/eC/cXwGG4Vp3Z3LBJfSNWHjv\n",
              "oMwIH2ArcAkW0VyCIlQVciWTvhELzjT1T/l33kAwSCUoV+4qz8IHP/42ynMSMWSy4tE/f4Wn3q2Z\n",
              "dso8XGw+KMElqoLFyat9GDbbkK5WosKlE0IISBstEJpgAQBrS7T42a3zAQD/+73L09azCSSrSFcr\n",
              "w+4Oz1dcM4tw6NsPNnKpBDeXcBqbO9vyYCw9mok5KXE4sGMFHrmxEADw6qkW3P3/TqKxe3jK54aT\n",
              "zQcleERVsCBT2zdfpxU8VV+3MAM3FKXizvKskG5r27lqLu4qz4LNweKHf/l6xm1mkbzHYjKFLsEi\n",
              "bxZkFsD4gN5HNfopRpKkbVZIt1lPKGQS/I/1Jdj7vUqkxClwpdOAO1/8G/afa5tggcPbfIhoS04J\n",
              "PlETLOwOlverF7IERVDIJPjz96/Hi1sXh7Rfm2EYPLtpEcqyE9E/YsHf/+kcRqbZORANbbOE/FlW\n",
              "hgKAFfNSoFbJ0G00T7CYAYI7kOeJ1fPTcegnN2DlvBSYrHb805vV+G9vXIBxzIqBEQs6nGcLp04o\n",
              "ivBETbC40DaA3mEz1CoZqgpTxD6OoMQopPj9Q0uRGq9Erd6Inx646NbCPBraZgkFLouOonnGwhWl\n",
              "TMqXoibblutDqFm4Iz1BhT/93fX42a3zIZUwePdCB+548W9441wbAC6gq1VyUc5GCQ1REyw+dpag\n",
              "1ixIh0IWNT8WT2ZiDF56cCkUUgkO1ejxm6MNUz4nmjKLxFg5SjITkBgj5514ZwOu61ZdbwjI2s5g\n",
              "DOR5i1TC4LHV87D/0SpkJ8WgpW8U/3qoFgDVK2YDUfGu6ro+NRglqHBh6Zxk/OLuUgDA//2kYYo9\n",
              "BK9ZREGwAIC3f7gCJ/5p9ay6Y72hKBVxCik6h8ZwsX0QAPf6DrXAPRNL52jw4Y9vwDqX3zWqV0Q/\n",
              "UREs6ruG0dI3CoVMglXF3q1PjVTuW5aLv3OucfzH/Rcn7AnvGIqeMhTA9cgnxsyeQAFwP/MaZynq\n",
              "I+eAnmHMBpOzbVWsMtRkEmPl+I9tS7D7njKsWZCOe5yDq5ToJSqCBckqbpiXGvXDWwDwP9YvwA1F\n",
              "qTBZ7fj7P51D37AZI2YbBkc5A7hoySxmK+udOy4+rOkEy7L8jEVijPDrVAOBYRhsXZ6HP26vjOgh\n",
              "UIp3+BQsxsbGsHHjRhQXF6O8vBw333wzGhsbAQDd3d1Yt24dioqKUFpaihMnTgTlwO44/E30l6Bc\n",
              "kUkl+O3WJchPiYVu0ISdf/kazU7DvQSVbFaVbaKRm+anI0YuRVu/CZc7DGFVgqLMXnzOLB555BHU\n",
              "1dXh4sWL2LBhA37wgx8AAHbt2oWqqio0NDRg7969eOCBB2C1+m517CvtA6Oo0RkgYeDz+tRIJjFW\n",
              "jv98mLMEOdPUj58eqAYAZAu8F5wSemIUUqxewJVTP7zUyWcWoZyxoFAm41OwUKlUWL9+PT9nUFVV\n",
              "hebmZgDA/v37sWPHDgBAZWUlsrKycPz4cWFP6wYyiLcsX4OUCFwjGgjz0tX4zVbOEoRs1suOcJsP\n",
              "CsdtpaQrSj9u9UEzC4qIBKRZvPDCC9iwYQP6+vpgtVqRkTFeBsrPz0dra6vbrzObzTAYDBM+7Hb3\n",
              "vjOeKMtJxKYlObhncbZfXx/prFmgxT/duoD/O9UrooPVC9KhlEnQ1DuC4/U9AMJH3KbMTvxWg595\n",
              "5hk0Njbi008/hcnk2yrG3bt341/+5V8mPFZVVeXXOSrzNajM13j+xChmx6pCNHQZ8dZ5HZbMSRb7\n",
              "OBQBiFfKcGNxGo5804Wzzdw0t5gzFhSKX5nFc889h7feeguHDh1CbGwsUlJSIJPJoNePT502Nzcj\n",
              "Ly/P7dc/8cQTGBoamvCxfPly/34CChiGwb/fV47P/2k17iqnG8GiBWJbTqBlKIqY+Bwsnn/+ebz2\n",
              "2ms4cuQIkpKS+Mc3b96MPXv2AADOnj0LnU6HVatWub2GUqlEQkLChA+pNHxaAiMRhmGQq4mle4aj\n",
              "iLUlWsil4/+ftAxFEROfylDt7e14/PHHUVhYiNWrVwPg3vhPnz6NZ599Fg8++CCKioqgUCiwb98+\n",
              "yOW0hZNC8ZcElRw3FKXhqHNHCy1DUcTEp2CRk5MzwZrYFa1Wi8OHDwtyKAqFwnFbaQaO1nZDJmGQ\n",
              "Ehc6a3wKZTJRMcFNoUQrt5ZmoCg9HuvLMoO2TpVC8Ybo98agUCKYBJUcR/7RvfZHoYQSmllQKBQK\n",
              "xSM0WFAoFArFIzRYUCgUCsUjNFhQKBQKxSMMO10vbIi55557kJ+f79fX2u12nDlzBsuXL5+1w330\n",
              "OeCgzwMHfR446PPA4fo8FBYW4ic/+YnP1wibYBEIBoMBiYmJGBoaQkLC7FzvSJ8DDvo8cNDngYM+\n",
              "DxxCPA+0DEWhUCgUj9BgQaFQKBSP0GBBoVAoFI9ERbBQKpV46qmnoFTOrk15rtDngIM+Dxz0eeCg\n",
              "zwOHEM9DVAjcFAqFQgkuUZFZUCgUCiW40GBBoVAoFI/QYEGhUCgUj0R8sGhoaMCKFStQXFyMyspK\n",
              "XL58WewjiUJ+fj7mz5+PiooKVFRU4I033hD7SEHnxz/+MfLz88EwDC5cuMA/PtteE9M9D7PtNTE2\n",
              "NoaNGzeiuLgY5eXluPnmm9HY2AgA6O7uxrp161BUVITS0lKcOHFC5NMGh5meg5tuugkFBQX86+HX\n",
              "v/61bxdnI5zVq1eze/fuZVmWZQ8cOMAuW7ZM3AOJxJw5c9jz58+LfYyQcvz4cbatrW3Kzz7bXhPT\n",
              "PQ+z7TVhMpnYDz74gHU4HCzLsuyLL77Irlq1imVZlv3e977HPvXUUyzLsuyZM2fY7Oxs1mKxiHTS\n",
              "4DHTc7Bq1Sr27bff9vvaEZ1ZdHd349y5c9i2bRsAYNOmTWhra+MjKSW6ufHGG5GTkzPhsdn4mnD3\n",
              "PMxGVCoV1q9fD4bhNgpWVVWhubkZALB//37s2LEDAFBZWYmsrCwcP35crKMGjZmeg0CJ6GDR1taG\n",
              "zMxMyGTcwj+GYZCXl4fW1laRTyYODz30EMrKyvD9738fPT09Yh9HFOhrYiKz+TXxwgsvYMOGDejr\n",
              "64PVakVGRgb/b/n5+bPiNUGeA8KuXbtQVlaGLVu24Nq1az5dK6KDBWWcEydOoLq6Gl9//TVSU1Px\n",
              "8MMPi30kisjM5tfEM888g8bGRuzevVvso4jG5Ofgz3/+M2pra1FdXY0bbrgBd9xxh28XFKBMJhpd\n",
              "XV2sWq1mrVYry7Is63A4WK1WyzY0NIh8MnHp6Ohg4+PjxT5GyHCtzc/m18RMGsVsek386le/Ypcu\n",
              "XcoODAzwj8XGxrKdnZ383ysrK9kjR46IcLrQ4O45mIxSqWR7e3u9vmZEZxbp6elYsmQJ9u3bBwA4\n",
              "ePAgcnJyMG/ePJFPFlpGRkYwODjI//21117D4sWLxTuQiNDXBMdsfU08//zzeO2113DkyBEkJSXx\n",
              "j2/evBl79uwBAJw9exY6nQ6rVq0S6ZTBxd1zYLPZ0NXVxX/OwYMHodVqkZKS4vV1I97uo66uDtu3\n",
              "b0dfXx8SEhKwd+9elJWViX2skHLt2jVs2rQJdrsdLMuisLAQL7zwgt/LpCKFRx99FB988AH0ej1S\n",
              "UlKgVqvR2Ng4614T7p6Hw4cPz7rXRHt7O3Jzc1FYWAi1Wg2A80Q6ffo0urq68OCDD6KpqQkKhQK/\n",
              "/e1vsXr1apFPLDzTPQdHjx7FqlWrYDabIZFIkJqaiueffx7l5eVeXzvigwWFQqFQgk9El6EoFAqF\n",
              "EhposKBQKBSKR2iwoFAoFIpHaLCgUCgUikdosKBQKBSKR2iwoFAoFIpHaLCgUCgUikdosKBQKBSK\n",
              "R2iwoFAoFIpHaLCgUCgUikdosKBQKBSKR/4/l/YfO94l7TUAAAAASUVORK5CYII=\n",
              "\">\n",
              "        \n",
              "      </div>\n",
              "      <script></script>\n",
              "      <script type=\"text/javascript\">\n",
              "        (() => {\n",
              "          const chartElement = document.getElementById(\"chart-eeb484dd-70f6-4509-bf0a-6ef9a1bd8baa\");\n",
              "          async function getCodeForChartHandler(event) {\n",
              "            const chartCodeResponse =  await google.colab.kernel.invokeFunction(\n",
              "                'getCodeForChart', [\"chart-eeb484dd-70f6-4509-bf0a-6ef9a1bd8baa\"], {});\n",
              "            const responseJson = chartCodeResponse.data['application/json'];\n",
              "            await google.colab.notebook.addCell(responseJson.code, 'code');\n",
              "          }\n",
              "          chartElement.onclick = getCodeForChartHandler;\n",
              "        })();\n",
              "      </script>\n",
              "      <style>\n",
              "        .colab-quickchart-chart-with-code  {\n",
              "            display: block;\n",
              "            float: left;\n",
              "            border: 1px solid transparent;\n",
              "        }\n",
              "\n",
              "        .colab-quickchart-chart-with-code:hover {\n",
              "            cursor: pointer;\n",
              "            border: 1px solid #aaa;\n",
              "        }\n",
              "      </style>"
            ]
          },
          "metadata": {}
        },
        {
          "output_type": "display_data",
          "data": {
            "text/plain": [
              "<google.colab._quickchart_helpers.SectionTitle at 0x7ed785f38250>"
            ],
            "text/html": [
              "<h4 class=\"colab-quickchart-section-title\">Distributions</h4>\n",
              "<style>\n",
              "  .colab-quickchart-section-title {\n",
              "      clear: both;\n",
              "  }\n",
              "</style>"
            ]
          },
          "metadata": {}
        },
        {
          "output_type": "display_data",
          "data": {
            "text/plain": [
              "import numpy as np\n",
              "from google.colab import autoviz\n",
              "\n",
              "def histogram(df, colname, num_bins=20, figscale=1):\n",
              "  from matplotlib import pyplot as plt\n",
              "  df[colname].plot(kind='hist', bins=num_bins, title=colname, figsize=(8*figscale, 4*figscale))\n",
              "  plt.gca().spines[['top', 'right',]].set_visible(False)\n",
              "  plt.tight_layout()\n",
              "  return autoviz.MplChart.from_current_mpl_state()\n",
              "\n",
              "chart = histogram(_df_2, *['Hours'], **{})\n",
              "chart"
            ],
            "text/html": [
              "      <div class=\"colab-quickchart-chart-with-code\" id=\"chart-0f9a6828-f53c-4966-9b78-f1adc7c8086b\">\n",
              "        <img src=\"data:image/png;base64,iVBORw0KGgoAAAANSUhEUgAAAYwAAADECAYAAACMRRb/AAAAOXRFWHRTb2Z0d2FyZQBNYXRwbG90\n",
              "bGliIHZlcnNpb24zLjcuMSwgaHR0cHM6Ly9tYXRwbG90bGliLm9yZy/bCgiHAAAACXBIWXMAAA9h\n",
              "AAAPYQGoP6dpAAAUW0lEQVR4nO3de3BU5eHG8WeTyAKGNBBQ0iYkRcJFShJImllALlKVAR1DUTuW\n",
              "WkChYaJOSqU10qtoJXRgKEgHBYYBxCnFKQE7QbFA461UkKAZbqIgSYgEQoEExGQhyfv7I+3+WIF6\n",
              "NtmTc4Lfz8zOZE/OnvfZEHg4591912OMMQIA4CtEOB0AANA+UBgAAEsoDACAJRQGAMASCgMAYAmF\n",
              "AQCwhMIAAFhCYQAALKEwAACWUBgAAEsoDEDS6NGj9etf//qK7VOnTtVDDz3kQCLAfSgMwEGXLl1y\n",
              "OgJgGYUBWFRTU6OcnBwlJCSoe/fuGjdunA4dOhT4/tXORr585uLxePTHP/5Rw4YN04033qgNGzao\n",
              "tLRUo0aNUmxsrLp27aqMjIyg4wJuEeV0AKC9+PGPf6zPP/9cu3fvVkxMjH75y1/qjjvu0MGDBxUd\n",
              "HW35OMuWLVNhYaEGDBig+vp63XHHHRo7dqy2b98uSdq3b59iY2NtehZAy3GGAfzHggULFBsbG3T7\n",
              "85//LEmqqqpSUVGRFi1apJ49e6pz586aP3++6urqVFRUFNI4P/vZz3TrrbfK4/GoU6dO6tChgyoq\n",
              "KlReXq6oqCilp6fr5ptvtuMpAq1CYQD/8fOf/1w1NTVBt0mTJkmSjh07Jkm65ZZbAvvfcMMNSkpK\n",
              "UkVFRUjjfPvb3w66v3r1ank8Ho0ZM0YJCQmaOXOmPv/881Y+GyD8KAzAgsTEREnSkSNHAtsaGhpU\n",
              "UVGhXr16SZK6dOmiCxcuBD3u+PHjVxwrIiL4r11SUpJWrFih8vJyvfnmm9q6dasKCgrC/RSAVqMw\n",
              "AAvi4+M1fvx4zZo1SydPnlRdXZ3y8/PVoUMH3X333ZKkzMxMFRcX66OPPtKlS5e0aNEiHT169CuP\n",
              "vXr1alVWVsoYo5iYGEVFRSkqiulFuA+FAVi0du1aJScna8iQIUpISND+/fu1bds2denSRZL0ox/9\n",
              "SA8++KCGDRumxMRE1dTUaPjw4V953OLiYmVlZSk6OlppaWkaOnSo8vPz7X46QMg8fKY3AMAKzjAA\n",
              "AJZQGAAASygMAIAlFAYAwBIKAwBgCYUBALCEwgAAWOLawli8eLHTEQAAl3FtYZSXlzsdAQBwGdcW\n",
              "BgDAXdqkMFatWiWPx6NNmza1xXAAABvYXhhlZWVasWKFfD6f3UMBAGxka2E0NTVp+vTpWrJkibxe\n",
              "r51DAQBsZuui+wsXLtTw4cOVkZHxP/fz+/3y+/1B2xobG+2MBgAIkW2FsW/fPm3YsEFvv/32V+5b\n",
              "UFCgOXPmBG37Ol/CSn5qc6seXzbv7jAlAYD/Z9slqXfeeUdlZWVKSUlRcnKy3nvvPeXk5OiFF164\n",
              "Yt/Zs2ertrY26JaVlWVXNABAC9h2hpGbm6vc3NzA/dGjR2vmzJmaMGHCFft6vd4r5jgiIyPtigYA\n",
              "aAHehwEAsKTNPmn+zTffbKuhAAA24AwDAGAJhQEAsITCAABYQmEAACyhMAAAllAYAABLKAwAgCUU\n",
              "BgDAEgoDAGAJhQEAsITCAABYQmEAACyhMAAAllAYAABLKAwAgCUUBgDAEgoDAGAJhQEAsITCAABY\n",
              "QmEAACyhMAAAllAYAABLKAwAgCUUBgDAkig7D37XXXfpxIkTioiIUJcuXfT8889r8ODBdg4JALCJ\n",
              "rYXxyiuvKDY2VpK0ceNGTZ06VaWlpXYOCQCwia2XpP5bFpJUW1srj8dj53AAABvZeoYhSZMnT1Zx\n",
              "cbEk6bXXXrvqPn6/X36/P2hbY2Oj3dEAACGwvTBeeuklSdKaNWuUn59/1dIoKCjQnDlzgrb5fD67\n",
              "o+Eakp/a3KrHl827O0xJALhJm71KasqUKSouLtbp06ev+N7s2bNVW1sbdMvKymqraAAAC2w7w6ip\n",
              "qdEXX3yhb37zm5KkTZs2KS4uTt26dbtiX6/XK6/XG7QtMjLSrmgAgBYIuTDeeOMNjR079iv3q62t\n",
              "1QMPPKC6ujpFRESoR48eKioqYuIbANqpkAvjmWeeUV5enh599FE9/PDDiomJuep+SUlJ2rVrV6sD\n",
              "AgDcIeQ5jH/+85/6y1/+on379qlv37569NFHdeDAATuyAQBcpEWT3oMHD9aKFSu0ZcsWFRUVKTU1\n",
              "VXfeeaf27t0b7nwAAJdoUWFs27ZN2dnZmjhxoh577DGdOHFCM2bM0Pe///1w5wMAuETIcxgDBgxQ\n",
              "9+7dlZeXp4kTJwZezXT//fdr5cqVYQ8IAHCHkAvj5ZdfVkZGxlW/9/rrr7c6EADAnUK+JFVSUqIz\n",
              "Z84E7p8+fVorVqwIaygAgPuEXBhLly4NevNdXFycli5dGtZQAAD3CbkwjDFXbGOhQAC4/oVcGPHx\n",
              "8XrllVcC99evX6/4+PiwhgIAuE/Ik96LFi1Sdna2nnzySUlS586d9eqrr4Y9GADAXUIujP79++vA\n",
              "gQM6dOiQJKlfv34sFAgAXwMtWq3W4/EoNjZWDQ0N+uyzzyRJvXr1CmswAIC7hFwYq1evVl5enm64\n",
              "4QZFRDRPgXg8HlVXV4c9HADAPUIujGeffVbvv/+++vXrZ0ceAIBLhfwqqe7du1MWAPA1FHJhTJgw\n",
              "QYsWLVJ1dbXOnTsXuAEArm8hX5L61a9+JUl64okn5PF4ZIyRx+PhzXsAcJ0LuTCamprsyAEAcLkW\n",
              "fR5GSUmJ1q5dK0mqqalRVVVVWEMBANynRYsPPvLII3r66aclNa9WO2nSpHDnAgC4TMiFsXz5cr33\n",
              "3nuKiYmRJN1yyy06depU2IMBANwl5MLwer3q1KlT0LaoqBa9YRwA0I6EXBg9evTQxx9/LI/HI6n5\n",
              "nd8sCwIA178WrVb7wx/+UB999JESExMVExOjoqIiO7IBAFwk5MLo06ePdu7cqUOHDskYc83Vauvr\n",
              "6/Xggw/qwIED6tSpk2666Sa98MIL6tOnT1iCAwDaVsiXpCoqKlRZWakbb7xR0dHR+uyzz1RRUXHV\n",
              "fXNycnTo0CGVlpYqOztb06dPb3VgAIAzQj7DyMjICLzDu76+Xl988YXi4uKuWK22Y8eOGj9+fOC+\n",
              "z+fTggULWp8YAOCIkAvjyy+hLSwsVGlp6Vc+bvHixcrOzr7q9/x+v/x+f9A2lhoBAHdp9ethJ06c\n",
              "qLlz52rOnDnX3Gfu3Lk6fPiwtm/fftXvFxQUXPF4n8/XqlzJT21u1ePL5t3dqsejfeL3pv1qz392\n",
              "7SV7yHMYl69Qe/bsWW3ZsuV/rla7YMECFRYW6vXXX1fnzp2vus/s2bNVW1sbdMvKygo1GgDARiGf\n",
              "YcTGxgbmMCIjI5WSkqLnn3/+qvsuXLhQ69at07Zt2xQbG3vNY3q9Xnm93qBtfE44ALiLbavVVlZW\n",
              "atasWerdu7duv/12Sc3FsHPnzlCHBAC4gG1reiQkJMgYY9fhAQBtLOTCiIiICCwLcjk+SAkArm8h\n",
              "F8Yzzzyjuro65ebmSpJefPFFderUSTNnzgx3NgCAi4RcGBs3blRJSUng/u9//3tlZGQEProVAHB9\n",
              "CvlltefPnw96V3d1dbXOnz8f1lAAAPcJ+Qxj1qxZSktLCyz7sWXLlsCn7wEArl8hF8aMGTM0fPhw\n",
              "FRcXS5KeeOIJDRw4MOzBAADu0qKX1cbFxWnQoEEaPXq0GhoadPHiRXXo0CHc2QAALhLyHMZf//pX\n",
              "+Xw+Pfzww5Kk/fv3a8KECeHOBQBwmZALo6CgQHv27Aks9ZGWlqby8vJw5wIAuEzIhREZGam4uLig\n",
              "bVyOAoDrX8iF0aVLF508eTLwbu/t27erW7duYQ8GAHCXkCe9//CHP2jcuHH69NNPddttt+no0aPa\n",
              "vLl1a7kDANwvpMJoampSY2OjiouLtWPHDhljNGzYsP+5dDkA4PoQUmFEREQoJydHpaWlGjdunF2Z\n",
              "AAAuFPIcRkpKig4fPmxHFgCAi4U8h3HmzBmlp6dr2LBhio6ODmwvLCwMazAAgLtYLoycnBwtX75c\n",
              "U6ZM0b333quuXbvamQsA4DKWC2P37t2SpClTpmjIkCHas2ePbaEAAO4T8hyGJD56FQC+hiyfYdTV\n",
              "1Wnv3r0yxqi+vj7w9X+lpqbaEhAA4A4hFca9994buH/51x6PR59++ml4kwEAXMVyYZSVldkYAwDg\n",
              "di2awwAAfP3YWhh5eXlKTk6Wx+PRhx9+aOdQAACb2VoY999/v959910lJSXZOQwAoA206CNarRo5\n",
              "cqSdhwcAtCFbC8Mqv98vv98ftK2xsdGhNACAq3FFYRQUFGjOnDlB23w+n0NpmiU/1brP+Cibd3eY\n",
              "krQ/Tv/sWjt+ex07HFrzs2/vz729528LrniV1OzZs1VbWxt0y8rKcjoWAOAyrjjD8Hq98nq9Qdsi\n",
              "IyMdSgMAuBpbzzBmzJihhIQEVVZWauzYserTp4+dwwEAbGTrGcayZcvsPDwAoA25Yg4DAOB+FAYA\n",
              "wBIKAwBgCYUBALCEwgAAWEJhAAAsoTAAAJZQGAAASygMAIAlFAYAwBIKAwBgCYUBALCEwgAAWEJh\n",
              "AAAsoTAAAJZQGAAASygMAIAlFAYAwBIKAwBgCYUBALCEwgAAWEJhAAAsoTAAAJZQGAAAS2wtjE8+\n",
              "+UTDhg1T37599d3vflf79++3czgAgI1sLYwZM2YoJydHH3/8sfLz8zV16lQ7hwMA2Mi2wqiurtbu\n",
              "3bv10EMPSZLuu+8+HTt2TIcPH7ZrSACAjaLsOvCxY8cUHx+vqKjmITwej3r16qWKigr16dMnaF+/\n",
              "3y+/3x+0rbGx0a5oAIAW8BhjjB0HLikp0aRJk3To0KHAtqysLM2bN09jxowJ2vfpp5/WnDlzgrb1\n",
              "799f48aNszRWY2Ojdu3apaysLEVGRrY+fBiRrWXI1jJka5mve7akpCT99Kc//cr9bCuM6upq9enT\n",
              "R2fOnFFUVJSMMYqPj9e7775r6QzD6/XK6/VaGuvcuXP6xje+odraWsXExITtOYQD2VqGbC1DtpYh\n",
              "mzW2zWHcdNNNGjJkiF5++WVJ0oYNG5SQkHBFWUjN5RATExN0s1oWAIC2YdschiQtW7ZMU6dO1dy5\n",
              "cxUTE6NVq1bZORwAwEa2Fka/fv30r3/9y84hAABt5Lp4p7fX69Xvfvc7V17GIlvLkK1lyNYyZLPG\n",
              "tklvAMD15bo4wwAA2I/CAABYQmEAACxp94WRl5en5ORkeTweffjhh07HCaivr9eECRPUt29fpaWl\n",
              "6c4773TdOlp33XWXUlNTlZ6erhEjRuiDDz5wOlKQVatWyePxaNOmTU5HCZKcnKx+/fopPT1d6enp\n",
              "Wr9+vdORAvx+vx5//HGlpKRo0KBBgbXcnHb69OnAzys9PV19+/ZVVFSUzpw543Q0SdJrr72mIUOG\n",
              "KD09Xd/5zne0Zs0apyMFbNmyRZmZmUpNTZXP51NpaalzYUw799Zbb5ljx46ZpKQk88EHHzgdJ6Cu\n",
              "rs5s3rzZNDU1GWOMWbJkiRk1apSzob7k7Nmzga8LCwtNamqqc2G+5OjRo2bo0KHG5/OZjRs3Oh0n\n",
              "iNt+1y43c+ZM8/jjjwd+76qqqhxOdHXz588399xzj9MxjDHGNDU1ma5du5rS0lJjTPPvntfrNefO\n",
              "nXM4mTFnzpwx3bp1M/v27TPGGPP222+bgQMHOpan3Z9hjBw5UgkJCU7HuELHjh01fvx4eTweSZLP\n",
              "51NZWZmzob4kNjY28HVtbW0gq9Oampo0ffp0LVmyxBUvJWwvLly4oJUrV+q5554L/Fn27NnT4VRX\n",
              "t3LlSk2bNs3pGAEej0c1NTWSmpfiiIuLc8Xv3pEjRxQXF6eBAwdKkkaMGKGKigrt2bPHkTztvjDa\n",
              "i8WLFys7O9vpGFeYPHmyEhMT9Zvf/EZr1651Oo4kaeHChRo+fLgyMjKcjnJNkydP1qBBgzRt2jSd\n",
              "OnXK6TiSmv9x6datm+bOnavMzEyNGDFC27dvdzrWFXbs2KGzZ8/qnnvucTqKpOayWL9+vSZOnKik\n",
              "pCTddtttWrNmjTp06OB0NKWkpOj06dPasWOHJOlvf/ubzp8/79x/Ph07twkzN18meO6554zP5zMX\n",
              "LlxwOso1rV692owbN87pGGbv3r3G5/OZixcvGmOMGTVqlOsuSZWXlxtjjLl48aJ58sknXfFzM8aY\n",
              "kpISI8msWbPGGGPMnj17TFxcnDlx4oTDyYI98sgj5he/+IXTMQIuXbpkRo0aZd566y1jjDG7du0y\n",
              "PXv2NKdOnXI4WbN//OMfZuTIkWbIkCHmscceM7feeqt59dVXHclCYdhs/vz5JiMjI2i+wK06duxo\n",
              "/v3vfzuaYenSpaZnz54mKSnJJCUlGa/Xa3r06GGWLl3qaK5rOX78uImOjnY6hjHGmFOnTpmIiAjT\n",
              "0NAQ2JaZmWm2bt3qYKpg58+fN9HR0ebgwYNORwl4//33TUpKStC2zMxM8/e//92hRNdWX19vYmNj\n",
              "zSeffOLI+FySstHChQu1bt06bd26NWi+wA1qamp0/PjxwP1NmzYpLi5O3bp1czCVlJubq6qqKpWV\n",
              "lamsrEw+n0/Lly9Xbm6uo7n+68KFC4Fr3ZK0bt06DR482LlAl+nevbu+973v6Y033pAkHT16VEeP\n",
              "HtWAAQMcTvb/1q9fr7S0NPXv39/pKAGJiYmqqqrSwYMHJUmHDx/WkSNH1K9fP4eTNauqqgp8/eyz\n",
              "z2rMmDFXXfW7Ldi6+GBbmDFjhjZv3qwTJ05o7Nix6tKliytevlpZWalZs2apd+/euv322yU1rwmz\n",
              "c+dOh5M1q62t1QMPPKC6ujpFRESoR48eKioqcs3Et1udPHlS9913nxobG2WMUe/evfXSSy85HSvg\n",
              "xRdf1LRp05Sfn6+IiAgtW7ZM3/rWt5yOFbBy5Ur95Cc/cTpGkJtvvlnLly/XD37wA0VERKipqUl/\n",
              "+tOf1KtXL6ejSZJ++9vf6p133lFDQ4OGDh2qlStXOpaFtaQAAJZwSQoAYAmFAQCwhMIAAFhCYQAA\n",
              "LKEwAACWUBgAAEsoDACAJRQGAMASCgMAYAmFAQCwhMIAAFjyf7sdYjax6WLiAAAAAElFTkSuQmCC\n",
              "\">\n",
              "        \n",
              "      </div>\n",
              "      <script></script>\n",
              "      <script type=\"text/javascript\">\n",
              "        (() => {\n",
              "          const chartElement = document.getElementById(\"chart-0f9a6828-f53c-4966-9b78-f1adc7c8086b\");\n",
              "          async function getCodeForChartHandler(event) {\n",
              "            const chartCodeResponse =  await google.colab.kernel.invokeFunction(\n",
              "                'getCodeForChart', [\"chart-0f9a6828-f53c-4966-9b78-f1adc7c8086b\"], {});\n",
              "            const responseJson = chartCodeResponse.data['application/json'];\n",
              "            await google.colab.notebook.addCell(responseJson.code, 'code');\n",
              "          }\n",
              "          chartElement.onclick = getCodeForChartHandler;\n",
              "        })();\n",
              "      </script>\n",
              "      <style>\n",
              "        .colab-quickchart-chart-with-code  {\n",
              "            display: block;\n",
              "            float: left;\n",
              "            border: 1px solid transparent;\n",
              "        }\n",
              "\n",
              "        .colab-quickchart-chart-with-code:hover {\n",
              "            cursor: pointer;\n",
              "            border: 1px solid #aaa;\n",
              "        }\n",
              "      </style>"
            ]
          },
          "metadata": {}
        },
        {
          "output_type": "display_data",
          "data": {
            "text/plain": [
              "import numpy as np\n",
              "from google.colab import autoviz\n",
              "\n",
              "def histogram(df, colname, num_bins=20, figscale=1):\n",
              "  from matplotlib import pyplot as plt\n",
              "  df[colname].plot(kind='hist', bins=num_bins, title=colname, figsize=(8*figscale, 4*figscale))\n",
              "  plt.gca().spines[['top', 'right',]].set_visible(False)\n",
              "  plt.tight_layout()\n",
              "  return autoviz.MplChart.from_current_mpl_state()\n",
              "\n",
              "chart = histogram(_df_3, *['Scores'], **{})\n",
              "chart"
            ],
            "text/html": [
              "      <div class=\"colab-quickchart-chart-with-code\" id=\"chart-167760b6-1940-431c-9a3f-afc5c01b4dd5\">\n",
              "        <img src=\"data:image/png;base64,iVBORw0KGgoAAAANSUhEUgAAAYwAAADECAYAAACMRRb/AAAAOXRFWHRTb2Z0d2FyZQBNYXRwbG90\n",
              "bGliIHZlcnNpb24zLjcuMSwgaHR0cHM6Ly9tYXRwbG90bGliLm9yZy/bCgiHAAAACXBIWXMAAA9h\n",
              "AAAPYQGoP6dpAAAVl0lEQVR4nO3de1BU5+H/8c+CzRoDyM2ieMFGEGMQUIQhGuOtptU4ao2JjWPF\n",
              "tBmNl5qMtjVO6qjU0WRymWg6ThKbGhvb1EQltRptDKE6qQQjUo1a74hGRQwg4AQWgef3h7/s142Y\n",
              "nEWWPZH3a2Zn2Ic9ez4+i34852HPOowxRgAAfIcAfwcAAHw/UBgAAEsoDACAJRQGAMASCgMAYAmF\n",
              "AQCwhMIAAFhCYQAALKEwAACWUBgAAEsoDLRqhYWFeuyxxxQdHa2goCBFR0dr1KhRunDhgr+jAbZD\n",
              "YaBVGzVqlIKDg3Xw4EFduXJFBQUFmjhxohwOR7Pvq7a2ttmfE2hJFAZardLSUh05ckRPPvmkwsPD\n",
              "JUlRUVHKyMhQx44dJUm5ubkaNmyYIiMjFR4erqFDh6q6ulqSdO7cOT366KOKiopSVFSUJk6cqPPn\n",
              "z7uff+rUqXr00Uc1Y8YMdejQQWPHjpUk5eXlaciQIYqIiFBMTIwWLlyouro6SddKZebMmerYsaOC\n",
              "g4PVvXt3vfrqqy05LcBNURhotSIiItSnTx9Nnz5da9as0YEDB9TQ0OD+/qFDhzRs2DA9/PDDOnPm\n",
              "jIqLi7Vo0SIFBASovr5eo0ePVmBgoI4dO6ajR4/KGKMxY8aovr7e/RxZWVlKTU3V+fPntXHjRh09\n",
              "elTDhw/Xk08+qYsXL2rXrl3avHmznn/+eUnS2rVrlZubq4MHD6qqqkqffvqpBg4c2OJzAzTKAK3Y\n",
              "l19+aRYuXGhSU1ON0+k0YWFhZt68eaampsbMmjXLPPTQQ41ut3v3buNwOExZWZnHczkcDpObm2uM\n",
              "MSYjI8Okp6d7bPfrX//a/PznP/cYW7dunenRo4cxxpi33nrLxMbGmp07d5ra2trm/KMCt6yNvwsL\n",
              "8KeIiAhlZmYqMzNTLpdL27ZtU0ZGhoKCglRYWKhevXo1ut3Zs2cVHh6usLAwj+cKCwvTmTNnlJ6e\n",
              "Lkn60Y9+5LHd8ePHlZOTo9DQUPdYQ0OD+8hm8uTJunTpkn7729/qyJEjGjBggJYuXaqUlJRm/pMD\n",
              "3uOUFPD/OZ1OjRs3Tj/+8Y+1b98+de/eXceOHWv0sV27dlV5ebnKy8vdY2VlZSovL1e3bt3cYwEB\n",
              "nn/FOnbsqEmTJuny5cvuW2Vlpa5cuSJJCgwM1G9+8xvl5eXp3Llzuueee9xrH4C/URhotcrLy/XM\n",
              "M8/owIEDcrlcqq+vV3Z2tnJycvTAAw9oxowZ2rFjh1577TVVV1fr6tWr2rlzp1wul9LS0pSQkKDZ\n",
              "s2ersrJSFRUVmjVrlpKTk5WamnrTfc6cOVMbNmzQe++9p9raWtXX1+vEiRPavn27JOnjjz/W3r17\n",
              "VVtbq7Zt2yooKEiBgYEtNSXAt6Iw0Grdcccd+vLLL/XII48oMjJSEREReuqppzR//nzNmzdPCQkJ\n",
              "+uijj/TOO+8oOjpaUVFRyszMVENDgwIDA7Vlyxa5XC7FxsYqLi5OdXV12rx587f+A5+amqodO3Zo\n",
              "9erV6ty5syIiIjRhwgQVFRVJkkpKSjR16lSFh4erQ4cO2rlzpzZs2NBSUwJ8K4cxfKY3AOC7cYQB\n",
              "ALCEwgAAWEJhAAAsoTAAAJZQGAAASygMAIAlFAYAwBLbFsaKFSv8HQEAcB3bFsbX73wFANiDbQsD\n",
              "AGAvPr28+YMPPqji4mIFBAQoODhYK1euVN++fX25SwCAj/i0MN599133df+zsrI0depU7d+/35e7\n",
              "BAD4iE9PSV3/ITEVFRVyOBy+3B0AwId8/ol7U6ZMUU5OjiTpgw8+aPQxLpdLLpfLY+z6z0UGAPhf\n",
              "i13efO3atVq/fn2jpbF48WItWbLEYyw9PV25ubktEc12uj+z9Za2P/3cQ82UBAD+T4v9llRGRoZy\n",
              "cnJUWlp6w/cWLFigiooKj1taWlpLRQMAWOCzU1KXL1/WV199pejoaEnS+++/r4iICIWHh9/wWKfT\n",
              "KafT6THGx1ICgL34rDAqKir0yCOPqLq6WgEBAerQoYO2bNnCwjcAfE/5rDBiYmK0Z88eXz09AKCF\n",
              "8U5vAIAlFAYAwBIKAwBgCYUBALCEwgAAWEJhAAAsoTAAAJZQGAAASygMAIAlFAYAwBIKAwBgCYUB\n",
              "ALCEwgAAWEJhAAAsoTAAAJZQGAAASygMAIAlFAYAwBIKAwBgCYUBALCEwgAAWEJhAAAsoTAAAJZQ\n",
              "GAAASygMAIAlFAYAwBIKAwBgCYUBALCEwgAAWEJhAAAsoTAAAJZ4XRj/+te/fJEDAGBzXhdGZmam\n",
              "4uPjtWLFClVWVvoiEwDAhrwujP/85z/6+9//roMHD6pnz56aOXOmDh8+7ItsAAAbadIaRt++fbV6\n",
              "9Wpt375dW7ZsUWJiokaMGKHPP/+8ufMBAGyiSYXx0UcfaezYsRo/frxmzZql4uJiTZ8+XT/72c/c\n",
              "j6mpqdG4cePUs2dPJSUlacSIETpx4kSzBQcAtKw23m5wzz33KDIyUnPmzNH48eMVGBgoSZowYYLe\n",
              "fPNNj8dOmzZNI0eOlMPh0B//+Ec98cQT+ve//90swQEALcvrwli3bp1SUlIa/d62bdvcX7dt21aj\n",
              "Ro1y309PT9eLL77YhIgAADvw+pRUfn6+ysrK3PdLS0u1evXq79xuxYoVGjt2bKPfc7lcqqys9LjV\n",
              "19d7Gw0A4EMOY4zxZoPk5GT997//9Rjr27evCgoKbrrNsmXL9M9//lPZ2dlq167dDd9fvHixlixZ\n",
              "4jGWnp6u3Nxcb6J56P7M1iZv+313+rmH/Lr/W517f+f3J+bOf5j77+b1EUZj/fJtRwMvvviiNm3a\n",
              "pG3btjVaFpK0YMECVVRUeNzS0tK8jQYA8CGvC6NTp05699133ffXr1+vTp06NfrYl19+We+88452\n",
              "7Nih0NDQmz6n0+lUSEiIx+3rxXQAgD14vej9yiuvaOzYsfrd734nSWrXrp3+8Y9/3PC4L774QvPm\n",
              "zdPdd9+toUOHSrpWDHl5ebcYGQDgD14XRq9evXT48GEdPXpUkhQfH9/o0UCXLl0aPX0FAPh+8row\n",
              "JMnhcCg0NFR1dXU6d+6cJKlbt27NGgwAYC9eF8Zbb72lOXPm6Ac/+IECAq4tgTgcDpWUlDR7OACA\n",
              "fXhdGH/4wx/02WefKT4+3hd5AAA25fVvSUVGRlIWANAKeV0Y48aN0yuvvKKSkhKPd2YDAG5vXp+S\n",
              "evbZZyVJc+fOlcPhkDFGDoeDS3kAwG3O68JoaGjwRQ4AgM016fMw8vPz9fbbb0uSLl++rAsXLjRr\n",
              "KACA/XhdGKtWrdIvf/lLLV68WNK1q9VOmjSpuXMBAGzG68J444039OmnnyokJESS1KNHD126dKnZ\n",
              "gwEA7MXrwnA6nbrzzjs9xtq0adIbxgEA3yNeF0aHDh107NgxORwOSdfe+c1lQQDg9tekq9U+9thj\n",
              "OnLkiLp27aqQkBBt2bLFF9kAADbidWHExsYqLy9PR48elTHmplerBQDcXrwujDNnzkiS7rrrLkni\n",
              "arUA0Ep4XRgpKSnud3jX1NToq6++UkREBFerBYDbnNeF8c1fod20aZP279/fbIEAAPbUpHd6X2/8\n",
              "+PHaunVrc2QBANiY10cY11+Ztr6+Xnl5eVytFgBaAa8LIzQ01L2GERgYqLi4OK1cudIX2QAANsLV\n",
              "agEAltzyGgYAoHXw+ggjICDAfVmQ6/FBSgBwe/O6MDIzM1VdXa0ZM2ZIkl577TXdeeedevrpp5s7\n",
              "GwDARrwujKysLOXn57vvL126VCkpKe6PbgUA3J68XsOoqqryeFd3SUmJqqqqmjUUAMB+vD7CmDdv\n",
              "npKSkjRq1ChJ0vbt292fvgcAuH15XRjTp0/XwIEDlZOTI0maO3eu7r333mYPBgCwlyZ9VF5ERIT6\n",
              "9OmjIUOGqK6uTrW1tbrjjjuaOxsAwEa8XsPYsGGD0tPT9fjjj0uSDh06pHHjxjV3LgCAzXhdGMuX\n",
              "L9e+ffsUGhoqSUpKSlJRUVFz5wIA2IzXhREYGKiIiAiPMU5HAcDtz+vCCA4O1sWLF93v9s7OzlZ4\n",
              "eHizBwMA2IvXi97PP/+8Ro4cqVOnTun+++9XYWEhn4cBAK2AV4XR0NCg+vp65eTkaPfu3TLGaMCA\n",
              "Ae71jG+aM2eONm/erKKiIhUUFCg5ObkZIgMA/MGrU1IBAQGaNm2a2rdvr5EjR2rUqFE3LQtJmjBh\n",
              "gj755BPFxMTcak4AgJ95vYYRFxenEydOWHrsAw88oC5dungdCgBgP16vYZSVlSk5OVkDBgxQUFCQ\n",
              "e3zTpk1NDuFyueRyuTzGuEw6ANiL5cKYNm2a3njjDWVkZGjMmDEKCwtrthDLly/XkiVLPMbS09Ob\n",
              "7flbm+7P3NovIZx+7qFmStI0/szf2ucOTefPuW+pnzvLhbF3715JUkZGhvr166d9+/Y1W4gFCxZo\n",
              "7ty5HmMLFy5stucHANy6Jl1LyhjTrCGcTqecTqfHWGBgYLPuAwBwaywXRnV1tT7//HMZY1RTU+P+\n",
              "+muJiYk3bDN9+nRt3bpVxcXF+slPfqLg4GDLC+YAAHvxqjDGjBnjvn/91w6HQ6dOnbphm9dff/0W\n",
              "4wEA7MJyYZw+fdqHMQAAduf1+zAAAK0ThQEAsITCAABYQmEAACyhMAAAllAYAABLKAwAgCUUBgDA\n",
              "EgoDAGAJhQEAsITCAABYQmEAACyhMAAAllAYAABLKAwAgCUUBgDAEgoDAGAJhQEAsITCAABYQmEA\n",
              "ACyhMAAAllAYAABLKAwAgCUUBgDAEgoDAGAJhQEAsITCAABYQmEAACyhMAAAllAYAABLKAwAgCUU\n",
              "BgDAEgoDAGAJhQEAsMSnhXH8+HENGDBAPXv2VGpqqg4dOuTL3QEAfMinhTF9+nRNmzZNx44d0/z5\n",
              "8zV16lRf7g4A4EM+K4ySkhLt3btXkydPliQ9/PDDOnv2rE6cOOGrXQIAfKiNr5747Nmz6tSpk9q0\n",
              "ubYLh8Ohbt266cyZM4qNjfV4rMvlksvl8hirr6/3VTQAQBM4jDHGF0+cn5+vSZMm6ejRo+6xtLQ0\n",
              "Pffccxo2bJjHYxcvXqwlS5Z4jPXq1UsjR470RbQb1NfXa8+ePUpLS1NgYGCL7NNbds9o93yS/TPa\n",
              "PZ9k/4x2zyfZM2NMTIyeeuqp73yczwqjpKREsbGxKisrU5s2bWSMUadOnfTJJ59YOsJwOp1yOp2+\n",
              "iHaDyspKtW/fXhUVFQoJCWmRfXrL7hntnk+yf0a755Psn9Hu+aTvR8ab8dkaxg9/+EP169dP69at\n",
              "kyRt3LhRXbp0uaEspGvlEBIS4nFrqbIAAFjjszUMSXr99dc1depULVu2TCEhIVqzZo0vdwcA8CGf\n",
              "FkZ8fLxyc3N9uQsAQAvhnd66dkps0aJFtj4NZveMds8n2T+j3fNJ9s9o93zS9yPjzfhs0RsAcHvh\n",
              "CAMAYAmFAQCwhMIAAFjS6gqjpqZG48aNU8+ePZWUlKQRI0a4r29VUlKin/70p4qLi1NCQoJ27drl\n",
              "t5wPPvigEhMTlZycrEGDBqmgoECS/a4AvGbNGjkcDr3//vuS7DWH3bt3V3x8vJKTk5WcnKz169dL\n",
              "ss8culwuzZ49W3FxcerTp4/7umt2yVdaWuqeu+TkZPXs2VNt2rRRWVmZbV7nDz74QP369VNycrIS\n",
              "EhK0du1aSfb6Ody+fbv69++vxMREpaena//+/bbLaJlpZaqrq83WrVtNQ0ODMcaYV1991QwePNgY\n",
              "Y8zjjz9uFi1aZIwxZs+ePaZz586mtrbWLznLy8vdX2/atMkkJiYaY4wZOnSoWbNmjTHGmPfee8/0\n",
              "79/fD+muKSwsNPfdd59JT083WVlZxhh7zWFMTIwpKCi4Ydwuc/j000+b2bNnu38WL1y4YKt83/TC\n",
              "Cy+Y0aNHG2Ps8To3NDSYsLAws3//fmPMtZ9Hp9NpKisrbZHPGGPKyspMeHi4OXjwoDHGmF27dpl7\n",
              "773XGGOPOfRWqyuMb/rss89MTEyMMcaYu+66y/2X1hhjUlNTzY4dO/yU7P+sWbPGJCUlmYsXL5rg\n",
              "4GBz9epVY8y1vzBRUVHm+PHjLZ6pvr7eDB8+3Ozdu9cMHjzYXRh2msPGCsMuc3jlyhUTHBxsKioq\n",
              "bJmvMb169bLV69zQ0GDCw8PNzp07jTHG7N+/30RHRxuXy2WLfMZc+/clLi7OYyw4ONjk5+fbJqM3\n",
              "Wt0pqW9asWKFxo4dq9LSUl29elUdO3Z0f6979+46c+aM37JNmTJFXbt21cKFC/X2229/6xWAW9rL\n",
              "L7+sgQMHKiUlxT1m1zns06ePfvWrX+nSpUu2mcOTJ08qPDxcy5YtU//+/TVo0CBlZ2fbJt837d69\n",
              "W+Xl5Ro9erRtXmeHw6H169dr/PjxiomJ0f3336+1a9eqqqrKFvkkKS4uTqWlpdq9e7ckafPmzaqq\n",
              "qlJhYaFtMnqjVRfGsmXLdOLECS1fvtzfURr1l7/8RWfPntXSpUs1f/58f8dxO3jwoDZu3Kjf//73\n",
              "/o7yrXbt2qUDBw5o3759ioyMVEZGhr8judXV1amoqEi9e/fW3r17tXLlSk2cOFF1dXX+jtaoN998\n",
              "U1OmTHEXmR3U1dVp6dKl2rRpk4qKipSdna1f/OIXtprD9u3ba8OGDVqwYIFSUlL04Ycfqnfv3rpy\n",
              "5Yq/ozWNvw9x/OWFF14wKSkpHmsF7dq1s+0hYtu2bU1xcbEtTlesWrXKdOzY0cTExJiYmBjjdDpN\n",
              "hw4dzKpVq2w7h+fPnzdBQUG2OeVz6dIlExAQYOrq6txj/fv3N+vXr7dFvutVVVWZoKAg87///c89\n",
              "ZofXubHTPf379zcffvihLfI1pqamxoSGhprjx4/bNuO3aZWF8dJLL5l+/fqZsrIyj/GMjAyPRajo\n",
              "6Gi/LEKVl5ebc+fOue9nZWWZzp07m4aGBjN48GCPBdGUlJQWz/dN169h2GUOr1y54vGfgZdeeskM\n",
              "GjTIGGNsM4cjRowwW7duNcYYc+rUKRMREWG++OIL2+T72p/+9CczcOBAjzE7vM7FxcUmKCjIHD58\n",
              "2BhjzPHjx01YWJgpKiqyRb6vnT9/3v31s88+a8aPH2+MsccceqvVFcbZs2eNJHP33XebpKQkk5SU\n",
              "ZNLS0owx134AR4wYYWJjY03v3r3Nxx9/7JeMp0+fNqmpqSYhIcEkJiaa4cOHuxdvjxw5YtLT001c\n",
              "XJxJSUkxBw4c8EvG611fGHaZw5MnT5rk5GTTp08fk5CQYMaMGWMKCwuNMfaZw5MnT5ohQ4a4X+cN\n",
              "GzbYKt/X7rvvPvPnP//ZY8wur/Pf/vY39/wlJCSYv/71r7bKZ4wxTzzxhImPjzc9evQwkydPdv9H\n",
              "xk4ZreJaUgAAS1r1ojcAwDoKAwBgCYUBALCEwgAAWEJhAAAsoTAAAJZQGAAASygMAIAlFAYAwBIK\n",
              "AwBgCYUBALDk/wG7UKTlVwq7CAAAAABJRU5ErkJggg==\n",
              "\">\n",
              "        \n",
              "      </div>\n",
              "      <script></script>\n",
              "      <script type=\"text/javascript\">\n",
              "        (() => {\n",
              "          const chartElement = document.getElementById(\"chart-167760b6-1940-431c-9a3f-afc5c01b4dd5\");\n",
              "          async function getCodeForChartHandler(event) {\n",
              "            const chartCodeResponse =  await google.colab.kernel.invokeFunction(\n",
              "                'getCodeForChart', [\"chart-167760b6-1940-431c-9a3f-afc5c01b4dd5\"], {});\n",
              "            const responseJson = chartCodeResponse.data['application/json'];\n",
              "            await google.colab.notebook.addCell(responseJson.code, 'code');\n",
              "          }\n",
              "          chartElement.onclick = getCodeForChartHandler;\n",
              "        })();\n",
              "      </script>\n",
              "      <style>\n",
              "        .colab-quickchart-chart-with-code  {\n",
              "            display: block;\n",
              "            float: left;\n",
              "            border: 1px solid transparent;\n",
              "        }\n",
              "\n",
              "        .colab-quickchart-chart-with-code:hover {\n",
              "            cursor: pointer;\n",
              "            border: 1px solid #aaa;\n",
              "        }\n",
              "      </style>"
            ]
          },
          "metadata": {}
        },
        {
          "output_type": "display_data",
          "data": {
            "text/plain": [
              "<google.colab._quickchart_helpers.SectionTitle at 0x7ed783b7dcc0>"
            ],
            "text/html": [
              "<h4 class=\"colab-quickchart-section-title\">2-d distributions</h4>\n",
              "<style>\n",
              "  .colab-quickchart-section-title {\n",
              "      clear: both;\n",
              "  }\n",
              "</style>"
            ]
          },
          "metadata": {}
        },
        {
          "output_type": "display_data",
          "data": {
            "text/plain": [
              "import numpy as np\n",
              "from google.colab import autoviz\n",
              "\n",
              "def scatter_plots(df, colname_pairs, figscale=1, alpha=.8):\n",
              "  from matplotlib import pyplot as plt\n",
              "  plt.figure(figsize=(len(colname_pairs) * 6 * figscale, 6 * figscale))\n",
              "  for plot_i, (x_colname, y_colname) in enumerate(colname_pairs, start=1):\n",
              "    ax = plt.subplot(1, len(colname_pairs), plot_i)\n",
              "    df.plot(kind='scatter', x=x_colname, y=y_colname, s=(32 * figscale), alpha=alpha, ax=ax)\n",
              "    ax.spines[['top', 'right',]].set_visible(False)\n",
              "  plt.tight_layout()\n",
              "  return autoviz.MplChart.from_current_mpl_state()\n",
              "\n",
              "chart = scatter_plots(_df_4, *[[['Hours', 'Scores']]], **{})\n",
              "chart"
            ],
            "text/html": [
              "      <div class=\"colab-quickchart-chart-with-code\" id=\"chart-8ecb4ab1-98ba-49c5-95a8-c4b362c35c2b\">\n",
              "        <img src=\"data:image/png;base64,iVBORw0KGgoAAAANSUhEUgAAASgAAAEoCAYAAADrB2wZAAAAOXRFWHRTb2Z0d2FyZQBNYXRwbG90\n",
              "bGliIHZlcnNpb24zLjcuMSwgaHR0cHM6Ly9tYXRwbG90bGliLm9yZy/bCgiHAAAACXBIWXMAAA9h\n",
              "AAAPYQGoP6dpAAAeXElEQVR4nO3df1AU5/0H8PfCwSFBIEIEES9gOXSUH6Iip1bRVjPGaWuCo2kj\n",
              "JjRaNR37i8wk0MZ2MjEQJymtiZOCyjBmyGQkSpI2P6zRiUBD9HAiiZo2cubOQwRRMCCmXO6O/f7h\n",
              "l5tePVIObm93796vmZ2R9bj73CR553l2n+ezgiiKIoiIFChE7gKIiEbCgCIixWJAEZFiMaCISLEY\n",
              "UESkWAwoIlIsBhQRKRYDiogUiwFFRIqlyoDavXu33CUQkR+oMqAuXbokdwlE5AeqDCgiCg4MKCJS\n",
              "LAYUESkWA4qIFIsBRUSKxYAiIsXSyF0AESlbs+k6ak9ZYb4+gNT4KBTm6bAoLd4vn82AIqIRNZuu\n",
              "o6T+LL7+xoGIsFAYzT0419GH5wsy/RJSnOIR0YhqT1nx9TcOJEZH4O7IcCRGR+Drbxx47ZTVL5/P\n",
              "gCKiEZmvDyAiLBSCIAAABEFARFgovrw+4JfPZ0AR0YhS46MwaHdi+OFPoihi0O7E9Hui/PL5DCgi\n",
              "GlFhng6R4Rp09Q/ixtffoKt/EJHhGmzI0/nl8xlQRDSiRWnxeL4gE3mpcZgYoUFeahyeX5uJRd/h\n",
              "XTwiUoBFafF+W1bw3ziCIiLFYkARkWIxoIhIsRhQRKRYDCgiUixJA+rIkSOYP38+srKyYDAY8Omn\n",
              "nwIAuru7sWrVKuj1emRkZKCxsVHKMohIpSRbZnDjxg1s2LABjY2NmD17NpqamrBhwwacO3cOJSUl\n",
              "MBgMOHLkCFpaWvDggw/CbDYjLCxMqnKISIUkG0FdvHgRcXFxmD17NgBgyZIlsFqt+OSTT1BXV4dt\n",
              "27YBAHJzc5GUlISGhgapSiEilZIsoPR6PXp6etDc3AwA+Otf/4qbN2/CbDbDbrcjMTHR9dqUlBRY\n",
              "rZ53R9tsNvT397sdTqdTqrKJSEEkC6iYmBgcOnQIpaWlmDdvHo4ePYpZs2ZhYMC7XdDl5eWIiYlx\n",
              "O4xGo0RVE5GSCOLwNmWJ2Ww2JCYmoqWlBdnZ2bh48aJrFLVgwQKUlZVhxYoVHn/PZrO5nduxYwef\n",
              "LkwUBCS9i9fZ2en687PPPovvfe97SEtLw7p161BZWQkAaGlpQUdHB/Lz8z2+h1arRXR0tNsRGhoq\n",
              "ZdlEpBCSbhb+/e9/j6amJjgcDixcuBDV1dUAgF27dmHjxo3Q6/UIDw9HbW0t7+ARqZSUPcv9NsXz\n",
              "peLiYlRUVMhdBlHQ+++e5YN2JyLDNT7rWc6V5EQ0ZlL3LGdAEdGYSd2znAFFRGMmdc9yBhQRjZnU\n",
              "PcvZ8pdIJeR8wu9IhnuWv3bKii+vDyA7ORYbDDqf9SxnQBGpgNxP+P02UvYs5xSPSAXkfsKvXDiC\n",
              "IlK4ZtN1NLVdw6DdiW+cIuLuCkeUVuPXJ/zKhSMoIgUbntrZ7E44h0TcGrSj48a/cXPQ7tcn/MqF\n",
              "AUWkYMNTu6TYCdCEhACCAMfQEK70+fcJv3JhQBEp2PBCyIkRYZh69wREaTUIDRGg1YT49Qm/cmFA\n",
              "ESnYfy6EjNJqMO3uCYiZEIal6fcEfDgBDCgiRZN6IaTSMaCIFGx4IWReahwmRmiQlxoXFFO7YVxm\n",
              "QKRwUi6EVDqOoIhIsRhQRKRYDCgiUixegyIKcErsgjBaDCiiAKbkLgijIekU77333sPcuXMxZ84c\n",
              "ZGRk4MCBAwCA7u5urFq1Cnq9HhkZGWhsbJSyDKKgpfYuCJKNoERRRGFhIU6cOIGsrCxYLBbMnDkT\n",
              "BQUFKCkpgcFgwJEjR9DS0oIHH3wQZrOZj54i8jGpe4ZLTdIRlCAI+OqrrwAA/f39iIuLg1arRV1d\n",
              "HbZt2wYAyM3NRVJSEhoaGqQshSgoSd0zXGqSjaAEQcDBgwdRUFCAu+66Czdu3EB9fT1u3rwJu93u\n",
              "euw5AKSkpMBq9Tzk9PToc6fTKVXZRAGlME+Hcx196OofdHtunVq2ykg2gnI4HNi5cyfq6+tx6dIl\n",
              "HD9+HBs3boTD4fDqfcrLyxETE+N2GI1GiaomCixq3yoj2QiqtbUVV65cwdKlSwHcnsolJyfjs88+\n",
              "g0ajQVdXl2sUZbFYoNN5TvTS0lIUFxe7nduxY4dUZRMFHDVvlZFsBDVt2jR0dnbin//8JwDAZDLh\n",
              "4sWLmDFjBtatW4fKykoAQEtLCzo6OpCfn+/xfbRaLaKjo92O0NBQqcomIgWRbASVkJCAvXv3Yv36\n",
              "9QgJCcHQ0BD27NkDnU6HXbt2YePGjdDr9QgPD0dtbS3v4BHRHQRx+PK+ihQXF6OiokLuMohIYtyL\n",
              "R0SKxYAiIsViQBGRYnGzMJGPqLlrgFIxoIh8QO1dA5SKUzwiH1B71wCl4giKyAfU1jVALdNRjqCI\n",
              "fEBNXQOGp6NGcw9uDjpgNPegpP4smk3X5S7tDgwoIh9Q0wM21TQdZUAR+YCaugaoaTrKa1BEPqKW\n",
              "rgGp8VEwmnsgiiIEQXBNR7Onxcpd2h04giIKMmqajjKgiIKMmqajnOIRBSG1TEc5giIixWJAEZFi\n",
              "MaCISLEYUESkWAwoIlIsyQKqp6cHc+bMcR3p6enQaDTo7e1Fd3c3Vq1aBb1ej4yMDDQ2NkpVBhGp\n",
              "mGTLDOLi4tDa2ur6+cUXX0RDQwMmTZqExx57DAaDAUeOHEFLSwsefPBBmM1mPtmFiNz4bYpXXV2N\n",
              "TZs2AQDq6uqwbds2ALcf6JmUlISGhgZ/lUJEKuGXhZrNzc24ceMGfvCDH6Cnpwd2u931VGEASElJ\n",
              "gdXqeSe1zWaDzWZzO+d0OiWtl4iUwS8BVV1djUceeQQajfcfV15ejmeeecbtnMFg8FVpRLJSS+M4\n",
              "uUg+xRsYGEBdXR0ee+wxALevTWk0GnR1dbleY7FYoNN53qhYWlqKvr4+t2PBggVSl00kOTU1jpOL\n",
              "5AF18OBBZGdnY+bMma5z69atQ2VlJQCgpaUFHR0dyM/P9/j7Wq0W0dHRbkdoaKjUZRNJTk2N4+Qi\n",
              "+RSvuroaP/vZz9zO7dq1Cxs3boRer0d4eDhqa2t5B4+Cjpoax8lF8oBqbm6+41xCQgKOHj0q9UcT\n",
              "KZqaGsfJhSvJiWSipsZxcmE/KAo6SrlzNtw47rVTVnx5fQDZybHYYNApsnGcXBhQFFSU9gRgtTSO\n",
              "kwuneBRUeOdMXRhQFFR450xdGFAUVNT0BGBiQFGQ4Z0zdWFAUVBR0yOXiHfxKAjxzpl6cARFRIrF\n",
              "gCIixWJAEZFiMaCISLEYUESkWAwoIlIsLjOggKaUzgU0NgwoClhK61xA3uMUjwIWOxeoHwOKAhY7\n",
              "F6if1wHV3t6Ob775BgDw0UcfYc+ePbh586bPCyMaL3YuUD+vA2rNmjUYGhpCR0cHfvzjH+Ojjz5y\n",
              "PfPuv9lsNmzfvh16vR6ZmZkoLCwEALS1tWHRokVIT09Hbm4uzp8/P75vQeQBOxeo35gukkdERODd\n",
              "d9/F1q1b8fTTTyM7O9vj60pKSiAIAi5cuABBEFwP69y6dSu2bNmCoqIiHDp0CEVFRWhpaRn7t6Cg\n",
              "Mto7c+z5rX5eB5TNZoPNZsMHH3yAX//61yO+7tatW6iursbly5dd1wASExPR3d2N06dPux47tXbt\n",
              "Wmzfvh0mkwlpaWlj+xYUNLy9M8fOBerm9RTvJz/5CRITE2G1WrFo0SJ0dnYiMjLyjtddvHgRkyZN\n",
              "QllZGebPn48lS5bg+PHjaG9vx5QpU6DR3M5GQRCg0+lgtXq+s2Kz2dDf3+92OJ1Ob8umAME7c8HF\n",
              "64B6+umnYTab8fHHH0MQBEycOBGHDh2643UOhwOXLl3CrFmzcPr0abz00kt46KGH4HA4vPq88vJy\n",
              "xMTEuB1Go9HbsilA8M5ccPE6oBwOB6qrq7F9+3YAwNWrV/HFF1/c8TqdToeQkBBs2LABAJCTk4PU\n",
              "1FRcunQJnZ2drqASRRFWqxU6necLl6Wlpejr63M7FixY4G3ZFCB4Zy64eB1Q27dvx7/+9S98+OGH\n",
              "AIC4uDg8+eSTd7wuPj4e3//+9/H3v/8dAGA2m2E2m7F48WLMnTsXtbW1AIDDhw8jOTl5xOtPWq0W\n",
              "0dHRbkdoaKi3ZVOA4J254OL1RfKTJ0+itbUVOTk5AIDY2FjY7XaPr62srMSmTZvw1FNPISQkBFVV\n",
              "VZg6dSqqqqpQVFSEsrIyREdHo6amZnzfgoIG78wFF68DKiIiwu1np9OJoaEhj6+dPn26a6T1n2bM\n",
              "mIGPP/7Y248mAsA7c8HE6yleVlYWamtrMTQ0BJPJhG3btmHZsmUSlEZEwc7rgKqoqEBTUxO6urqw\n",
              "ePFihISEYNeuXVLURkRBzqspntPpxLPPPouqqipUVVVJVRMREQAvR1ChoaEerykREUnB6yne6tWr\n",
              "8dxzz+HKlStuq7uJiHxNEIdXvI1SSMidmSYIgl+3nxQXF6OiosJvn0dE8vB6mcFISwqIiHxtTO1W\n",
              "2tvb0dTUBADIz8/H1KlTfVoUEREwhmtQb7/9NnJyclBXV4c33ngDOTk5+Nvf/iZFbUQU5LweQT3z\n",
              "zDM4efKka++cyWTC+vXr8cMf/tDnxVHg4OOfaCy8Diin0+m2sTctLY3Xpehb8fFPNFZeT/EmT56M\n",
              "/fv3Y2hoCENDQ6iursY999wjRW0UINhkjsbK64CqrKzE/v37MWHCBEyYMAH79+9HZWWlFLVRgGCT\n",
              "ORorr6d43/nOd3Dy5EkMDNz+lysqio3C6NulxkfBaO6BKIoQBMHVZC57WqzcpZHCeT2C2rt3L3p7\n",
              "exEVFYWoqCj09PRg3759UtRGAYJN5misvA6oV155BZMmTXL9HBcXh1deecWnRVFgGW4yl5cah4kR\n",
              "GuSlxuH5tZlsMkf/k9dTPE87Y/iUFfpf2GSOxsLrEdSUKVNQV1fn+vngwYOYMmWKT4siIgLGMIL6\n",
              "85//jDVr1rgelBAZGYm3337b54UREXkdUDNnzsTnn3+O8+fP45133kFmZib0er0UtRFRkBv1FG/F\n",
              "ihVobW0FcPtZeMuWLUNTUxOefPLJEVv+pqSkYMaMGZgzZw7mzJmDgwcPAgDa2tqwaNEipKenIzc3\n",
              "F+fPnx//NyGiwCOO0syZM11/fuGFF8QHHnhAFEVR7O3tFTMzMz3+zr333iueOXPmjvPLly8Xa2pq\n",
              "RFEUxTfeeEOcP3/+aMsQRVEUf/Ob33j1eiJSp1GPoCZMmOD6c3NzM1avXg0AuPvuu6HRjH6m2N3d\n",
              "jdOnT6OwsBAAsHbtWrS3t8NkMo36PYgoOIw6oEJCQnD58mUMDAygoaEB+fn5rr/7+uuvR/y9Rx55\n",
              "BJmZmdi0aROuXbuG9vZ2TJkyxRVqgiBAp9PBavW8L8tms7m1Fu7v7+eyBqIgMeqA+u1vf4ucnBzo\n",
              "9XosX74c6enpAG6PplJSUjz+TmNjIz777DN88skniI+Px6OPPup1geXl5YiJiXE7jEaj1+9DROrj\n",
              "VU/yrq4uXL16FVlZWa6Nn1euXIHD4YBO9+3bFjo7O5Geno6LFy8iLS0Nvb290Gg0EEURU6ZMwT/+\n",
              "8Q+3Ni7DbDYbbDab27kdO3Zg9+7doy2biFTKq2UGiYmJSExMdDuXlJTk8bW3bt2C3W5HbGwsAOD1\n",
              "119HTk4OJk+ejLlz56K2thZFRUU4fPgwkpOTPYYTAGi1Wmi1WrdzoaGh3pRNRCo1pp7ko3H16lWs\n",
              "XbsWTqcToihi+vTpePXVVwEAVVVVKCoqQllZGaKjo1FTUyNVGUSkYpIF1PTp03HmzBmPfzdjxgx8\n",
              "/PHHUn00EQUIyQKKyBvsWU6eMKBIduxZTiPxupsBka+xZzmNhAFFsmPPchoJA4pklxofhUG709UM\n",
              "Ufz/nuXT72G/+2DHgCLZsWc5jYQBRbJjz3IaCe/ikSKwZzl5whEUESkWA4qIFIsBRUSKxYAiIsVi\n",
              "QBGRYjGgiEixuMwgQLAbAAUiBlQAYDcAClSc4gUAdgOgQMURVABQQjcATjFJChxBBQC5uwEMTzGN\n",
              "5h7cHHTAaO5BSf1ZNJuu++XzKXD5JaBqamogCALeeustALefLrxq1Sro9XpkZGSgsbHRH2UELLm7\n",
              "AXCKSVKRPKAsFgv27dsHg8HgOldSUgKDwYC2tjbU1NTg4Ycfht1ul7qUgCV3NwAlTDEpMEl6DWpo\n",
              "aAibN2/Gyy+/jCeeeMJ1vq6uDiaTCQCQm5uLpKQkNDQ0YMWKFVKWE9Dk7AaQGh8Fo7kHoihCEATX\n",
              "FDN7Wqws9VDgkDSgKioqsHjxYsybN891rqenB3a73e0BoCkpKbBaPU8HPD1Z2Ol0SlMwjUlhng7n\n",
              "OvrQ1T+IiLBQDNqdbDhHPiHZFO/cuXM4fPgwnn766XG9T3l5OWJiYtwOo9HooyrJF+SeYlLgkmwE\n",
              "1dTUBIvFAr1eDwDo6urCli1b8Mwzz0Cj0aCrq8s1irJYLNDpPP/ftrS0FMXFxW7nduzYIVXZNEZs\n",
              "OEdSkGwE9fjjj6OzsxMWiwUWiwUGgwF79+7F448/jnXr1qGyshIA0NLSgo6ODuTn53t8H61Wi+jo\n",
              "aLcjNDRUqrKJSEFkWai5a9cubNy4EXq9HuHh4aitrUVYWJgcpRCRgvktoE6cOOH6c0JCAo4ePeqv\n",
              "jyYileJKciJSLAYUESkWA4qIFIsBRUSKxYAiIsViQBGRYrFhXRBjkzlSOgZUkGIfc1IDTvGCFJvM\n",
              "kRowoIIUm8yRGjCggpTcfcyJRoMBFaTk7mNONBoMqCDFJnOkBryLF8TYZI6UjiMoIlIsBhQRKRYD\n",
              "iogUiwFFRIrFgCIixWJAEZFiSRpQ9913H7KysjBnzhwsWbIEZ86cAQC0tbVh0aJFSE9PR25uLs6f\n",
              "Py9lGUSkUpKug6qrq0NsbCwA4M0330RRURE+/fRTbN26FVu2bEFRUREOHTqEoqIitLS0SFmKYnhq\n",
              "cQJAkrYnbKdCaidpQA2HEwD09fVBEAR0d3fj9OnTrsdOrV27Ftu3b4fJZEJaWpqU5cjOU4uT05Ze\n",
              "AMCQKPq07QnbqVAgkHwl+SOPPIIPP/wQAPDee++hvb0dU6ZMgUZz+6MFQYBOp4PVavUYUDabDTab\n",
              "ze2c0+mUumxJ/GeLE0EQIIoiLly9CUBAekKU61xX/yBeO2UdV5B4+ixfvC+RP0l+kfzVV19Fe3s7\n",
              "du7ciaeeesrr3y8vL0dMTIzbYTQaJahUep5anIgARIg+b3vCdioUCPx2F+/RRx/Fhx9+iOTkZHR2\n",
              "dsLhcAC43ebDarVCp/O8i760tBR9fX1ux4IFC/xVtk95anEiAK4RzvA5X7Q9YTsVCgSSBdRXX32F\n",
              "K1euuH5+6623EBcXh8mTJ2Pu3Lmora0FABw+fBjJyckjXn/SarWIjo52O0JDQ6UqW1KeWpzERoYj\n",
              "dkKYz9uesJ0KBQLJrkH19fVh3bp1+Pe//42QkBDcc889eOeddyAIAqqqqlBUVISysjJER0ejpqZG\n",
              "qjIUZbjFyWunrPjy+gCyk2OxwaADRNxxbrxtT0b6LLZTITURxOE5gIoUFxejoqJC7jKISGLsB6Vi\n",
              "XOdEgY4BpVJc50TBgHvxVIqPjaJgwIBSKa5zomDAgFIprnOiYMCAUimuc6JgwIvkCjCWu3Fc50TB\n",
              "gAEls/HcjeNjoyjQcYonM96NIxoZR1Be8vXiSN6NIxoZR1BeGJ6OGc09uDnogNHcg5L6s2g2XR/z\n",
              "e/JuHNHIGFBekGI6xrtxRCNjQHlBiunY8N24vNQ4TIzQIC81Ds+vzeTdOCLwGpRXUuOjYDT33G40\n",
              "9/9N5gbtTmRPix3X+/JuHJFnHEF5gdMxIv9iQHmB0zEi/+IUz0ucjhH5DwPKz9hkjmj0GFB+xCZz\n",
              "RN6R7BrU4OAgHnjgAaSnpyM7OxsrV66EyWQCAHR3d2PVqlXQ6/XIyMhAY2OjVGUoCre1EHlH0ovk\n",
              "W7ZswRdffIFPP/0Ua9aswebNmwEAJSUlMBgMaGtrQ01NDR5++GHY7XYpS/lWzabr+Plrn+D+3Y34\n",
              "+WufjGtl+LfhthYi70gWUBEREVi9erXrP0aDwQCLxQIAqKurw7Zt2wAAubm5SEpKQkNDg1SlfCsp\n",
              "tq+MhNtaiLzjt2tQu3fvxpo1a9DT0wO73Y7ExETX36WkpMBq9TzNsdlssNlsbuecTqfP6vrPadfw\n",
              "4suu/kG8dsrq8+tChXk6nOvoQ1f/ICLCQjFod3IdFdG38Ms6qLKyMphMJpSXl3v9u+Xl5YiJiXE7\n",
              "jEajz2rz57SL66iIvCP5COrFF19EfX09jh07hsjISERGRkKj0aCrq8s1irJYLNDpPI8iSktLUVxc\n",
              "7HZux44dPqtPqu0rI+E6KqLRk3QEVVFRgddffx0ffPABYmNjXefXrVuHyspKAEBLSws6OjqQn5/v\n",
              "8T20Wi2io6PdjtDQUJ/VyO0rRMol2aPPL1++jGnTpmH69OmYOHEigNthc+rUKVy9ehUbN26E2WxG\n",
              "eHg49uzZg+XLl4/6vX396PNm03VXb+/p8VHs7U2kEJJN8ZKTkzFS9iUkJODo0aNSfbTXOO0iUiZu\n",
              "FiYixQrYrS7c80akfgEZUNzzRhQYAnKKxz1vRIEhIAOKe96IAkNABhT3vBEFhoAMKC6+JAoMARlQ\n",
              "3PNGFBgC8i4ewMWXRIEgIEdQRBQYGFBEpFgMKCJSLAYUESkWA4qIFIsBRUSKJVnDOikVFBQgJSVF\n",
              "7jLgdDphNBqxYMECn3b5VIJA/W78Xspw77334le/+tX/fJ0qA0op+vv7ERMTg76+PkRHR8tdjk8F\n",
              "6nfj91IXTvGISLEYUESkWAwoIlIsBtQ4aLVa/OEPf4BWq5W7FJ8L1O/G76UuvEhORIrFERQRKRYD\n",
              "iogUiwFFRIrFgBqjwcFBPPDAA0hPT0d2djZWrlwJk8kkd1k+VVNTA0EQ8NZbb8ldik/YbDZs374d\n",
              "er0emZmZKCwslLskn3jvvfcwd+5czJkzBxkZGThw4IDcJflMwHbU9IctW7bg/vvvhyAI2LNnDzZv\n",
              "3owTJ07IXZZPWCwW7Nu3DwaDQe5SfKakpASCIODChQsQBAFdXV1ylzRuoiiisLAQJ06cQFZWFiwW\n",
              "C2bOnImCggJMnDhR7vLGjSOoMYqIiMDq1atdj7YyGAywWCzyFuUjQ0ND2Lx5M15++eWAuW1969Yt\n",
              "VFdX47nnnnP9M0tMTJS5Kt8QBAFfffUVgNtbXuLi4gLmnxsDykd2796NNWvWyF2GT1RUVGDx4sWY\n",
              "N2+e3KX4zMWLFzFp0iSUlZVh/vz5WLJkCY4fPy53WeMmCAIOHjyIgoIC3Hvvvfjud7+LAwcOIDw8\n",
              "XO7SfIJTPB8oKyuDyWQKiH/hz507h8OHD6OxsVHuUnzK4XDg0qVLmDVrFp5//nmcOXMGK1euxPnz\n",
              "55GQkCB3eWPmcDiwc+dO1NfXY+nSpWhpacGPfvQjnD17FvHx6n9oCEdQ4/Tiiy+ivr4e77//PiIj\n",
              "I+UuZ9yamppgsVig1+uRkpKCkydPYsuWLfjLX/4id2njotPpEBISgg0bNgAAcnJykJqairNnz8pc\n",
              "2fi0trbiypUrWLp0KQAgNzcXycnJOHPmjMyV+YhIY/bHP/5RnDt3rtjb2yt3KZLJz88X33zzTbnL\n",
              "8ImVK1eK7777riiKovjll1+KcXFx4uXLl2Wuany6urrEqKgo8fPPPxdFURTb2trEu+++W7x06ZLM\n",
              "lfkGp3hjdPnyZTzxxBOYPn06li9fDuD2fqhTp07JXBmNpLKyEps2bcJTTz2FkJAQVFVVYerUqXKX\n",
              "NS4JCQnYu3cv1q9fj5CQEAwNDWHPnj3Q6QLjKdrci0dEisVrUESkWAwoIlIsBhRJIiUlBa2trW7n\n",
              "li1bFjDbZsg/GFCkSg6HQ+4SyA8YUOR33d3dKCgoQGZmJjIyMlBVVeX6u/8eec2fP9+1v3HZsmX4\n",
              "5S9/iYULF+K+++7DtWvXcN999yEzMxNZWVn46U9/6udvQlLjMgOSzEMPPYQJEya4fh7u9vCLX/wC\n",
              "M2bMQH19Pbq7uzFv3jxkZ2ePamPyhQsX0NjYiLCwMPzpT39Camoqjh49CgDo7e2V5ouQbDiCIskc\n",
              "PHgQra2trmP+/PkAgGPHjmHr1q0AgMmTJ6OgoADHjh0b1XsWFhYiLCwMwO0N2u+//z6eeOIJvP32\n",
              "27jrrruk+SIkGwYUyW64uwAAaDQaOJ1O18+Dg4Nur42KinL9eeHChWhtbUVeXh7q6+uRm5vr9ruk\n",
              "fgwo8rsVK1Zg3759AIBr166hvr4eK1euBACkpaW5VuMbjUZ88cUXI76P2WxGVFQU1q9fj5dffhkX\n",
              "LlzAwMCA9F+A/IbXoMjvXnrpJTz++OPIzMyEKIr43e9+h7y8PADAzp078eijj6KqqgoLFy7E7Nmz\n",
              "R3yfEydOoKKiAqGhoXA4HHjhhRcQExPjr69BfsCtLkSkWJziEZFiMaCISLEYUESkWAwoIlIsBhQR\n",
              "KRYDiogUiwFFRIrFgCIixWJAEZFiMaCISLEYUESkWP8HJYPSqMHDNZsAAAAASUVORK5CYII=\n",
              "\">\n",
              "        \n",
              "      </div>\n",
              "      <script></script>\n",
              "      <script type=\"text/javascript\">\n",
              "        (() => {\n",
              "          const chartElement = document.getElementById(\"chart-8ecb4ab1-98ba-49c5-95a8-c4b362c35c2b\");\n",
              "          async function getCodeForChartHandler(event) {\n",
              "            const chartCodeResponse =  await google.colab.kernel.invokeFunction(\n",
              "                'getCodeForChart', [\"chart-8ecb4ab1-98ba-49c5-95a8-c4b362c35c2b\"], {});\n",
              "            const responseJson = chartCodeResponse.data['application/json'];\n",
              "            await google.colab.notebook.addCell(responseJson.code, 'code');\n",
              "          }\n",
              "          chartElement.onclick = getCodeForChartHandler;\n",
              "        })();\n",
              "      </script>\n",
              "      <style>\n",
              "        .colab-quickchart-chart-with-code  {\n",
              "            display: block;\n",
              "            float: left;\n",
              "            border: 1px solid transparent;\n",
              "        }\n",
              "\n",
              "        .colab-quickchart-chart-with-code:hover {\n",
              "            cursor: pointer;\n",
              "            border: 1px solid #aaa;\n",
              "        }\n",
              "      </style>"
            ]
          },
          "metadata": {}
        }
      ]
    },
    {
      "cell_type": "markdown",
      "source": [
        "From the graph above, we can clearly see that there is a positive linear relation between the number of hours studied and percentage of score"
      ],
      "metadata": {
        "id": "gaRLck7WUkWc"
      }
    },
    {
      "cell_type": "markdown",
      "source": [
        "**Step 4 - Preparing the data**"
      ],
      "metadata": {
        "id": "Z5IG5zeRUu9K"
      }
    },
    {
      "cell_type": "markdown",
      "source": [
        "The data is divided into \"attributes\" (inputs) and \"labels\" (outputs). and spliting that data into training and test sets"
      ],
      "metadata": {
        "id": "gGb-FqUzVAhs"
      }
    },
    {
      "cell_type": "code",
      "source": [
        "s_data.columns"
      ],
      "metadata": {
        "colab": {
          "base_uri": "https://localhost:8080/"
        },
        "id": "f5mHB2B0D0kM",
        "outputId": "d740d55a-5ef6-4e92-8c8f-fe21de8ebf02"
      },
      "execution_count": 17,
      "outputs": [
        {
          "output_type": "execute_result",
          "data": {
            "text/plain": [
              "Index(['Hours', 'Scores'], dtype='object')"
            ]
          },
          "metadata": {},
          "execution_count": 17
        }
      ]
    },
    {
      "cell_type": "code",
      "source": [
        "s_data.shape"
      ],
      "metadata": {
        "colab": {
          "base_uri": "https://localhost:8080/"
        },
        "id": "T0DBHxlBD7ak",
        "outputId": "62461c8f-262d-4fba-8656-08a08ae8ec63"
      },
      "execution_count": 18,
      "outputs": [
        {
          "output_type": "execute_result",
          "data": {
            "text/plain": [
              "(25, 2)"
            ]
          },
          "metadata": {},
          "execution_count": 18
        }
      ]
    },
    {
      "cell_type": "code",
      "source": [
        "train,test = train_test_split(s_data,test_size=0.25,random_state=123)"
      ],
      "metadata": {
        "id": "c6smfVMQED8d"
      },
      "execution_count": 21,
      "outputs": []
    },
    {
      "cell_type": "code",
      "source": [
        "train.shape"
      ],
      "metadata": {
        "colab": {
          "base_uri": "https://localhost:8080/"
        },
        "id": "c067b5zAEGjm",
        "outputId": "7d9d473d-8032-4f38-a261-b94ea998e364"
      },
      "execution_count": 22,
      "outputs": [
        {
          "output_type": "execute_result",
          "data": {
            "text/plain": [
              "(18, 2)"
            ]
          },
          "metadata": {},
          "execution_count": 22
        }
      ]
    },
    {
      "cell_type": "code",
      "source": [
        "test.shape"
      ],
      "metadata": {
        "colab": {
          "base_uri": "https://localhost:8080/"
        },
        "id": "fkwz7FkMEMBr",
        "outputId": "ddfe7f64-ac14-446f-8024-472b64a1b47c"
      },
      "execution_count": 23,
      "outputs": [
        {
          "output_type": "execute_result",
          "data": {
            "text/plain": [
              "(7, 2)"
            ]
          },
          "metadata": {},
          "execution_count": 23
        }
      ]
    },
    {
      "cell_type": "code",
      "source": [
        "train_x=train.drop(\"Scores\",axis=1)\n",
        "train_y=train[\"Scores\"]"
      ],
      "metadata": {
        "id": "c0IuMmcGEPDM"
      },
      "execution_count": 24,
      "outputs": []
    },
    {
      "cell_type": "code",
      "source": [
        "test_x=test.drop(\"Scores\",axis=1)\n",
        "test_y=test[\"Scores\"]"
      ],
      "metadata": {
        "id": "6dtCy-RWESqP"
      },
      "execution_count": 25,
      "outputs": []
    },
    {
      "cell_type": "markdown",
      "source": [
        "**Step 5 - Training the Algorithm**"
      ],
      "metadata": {
        "id": "9l8U9MaSVP3U"
      }
    },
    {
      "cell_type": "markdown",
      "source": [
        "The data is split into training and testing sets, and now is finally the time to train our algorithm"
      ],
      "metadata": {
        "id": "VFNEapykVXZY"
      }
    },
    {
      "cell_type": "code",
      "source": [
        "lr=LinearRegression()"
      ],
      "metadata": {
        "id": "4ll6gHRFETrD"
      },
      "execution_count": 26,
      "outputs": []
    },
    {
      "cell_type": "code",
      "source": [
        "lr.fit(train_x,train_y)"
      ],
      "metadata": {
        "colab": {
          "base_uri": "https://localhost:8080/",
          "height": 74
        },
        "id": "idhWT1pbEZ3e",
        "outputId": "36896ada-f522-4cec-f764-6ed4a0b941aa"
      },
      "execution_count": 27,
      "outputs": [
        {
          "output_type": "execute_result",
          "data": {
            "text/plain": [
              "LinearRegression()"
            ],
            "text/html": [
              "<style>#sk-container-id-1 {color: black;background-color: white;}#sk-container-id-1 pre{padding: 0;}#sk-container-id-1 div.sk-toggleable {background-color: white;}#sk-container-id-1 label.sk-toggleable__label {cursor: pointer;display: block;width: 100%;margin-bottom: 0;padding: 0.3em;box-sizing: border-box;text-align: center;}#sk-container-id-1 label.sk-toggleable__label-arrow:before {content: \"▸\";float: left;margin-right: 0.25em;color: #696969;}#sk-container-id-1 label.sk-toggleable__label-arrow:hover:before {color: black;}#sk-container-id-1 div.sk-estimator:hover label.sk-toggleable__label-arrow:before {color: black;}#sk-container-id-1 div.sk-toggleable__content {max-height: 0;max-width: 0;overflow: hidden;text-align: left;background-color: #f0f8ff;}#sk-container-id-1 div.sk-toggleable__content pre {margin: 0.2em;color: black;border-radius: 0.25em;background-color: #f0f8ff;}#sk-container-id-1 input.sk-toggleable__control:checked~div.sk-toggleable__content {max-height: 200px;max-width: 100%;overflow: auto;}#sk-container-id-1 input.sk-toggleable__control:checked~label.sk-toggleable__label-arrow:before {content: \"▾\";}#sk-container-id-1 div.sk-estimator input.sk-toggleable__control:checked~label.sk-toggleable__label {background-color: #d4ebff;}#sk-container-id-1 div.sk-label input.sk-toggleable__control:checked~label.sk-toggleable__label {background-color: #d4ebff;}#sk-container-id-1 input.sk-hidden--visually {border: 0;clip: rect(1px 1px 1px 1px);clip: rect(1px, 1px, 1px, 1px);height: 1px;margin: -1px;overflow: hidden;padding: 0;position: absolute;width: 1px;}#sk-container-id-1 div.sk-estimator {font-family: monospace;background-color: #f0f8ff;border: 1px dotted black;border-radius: 0.25em;box-sizing: border-box;margin-bottom: 0.5em;}#sk-container-id-1 div.sk-estimator:hover {background-color: #d4ebff;}#sk-container-id-1 div.sk-parallel-item::after {content: \"\";width: 100%;border-bottom: 1px solid gray;flex-grow: 1;}#sk-container-id-1 div.sk-label:hover label.sk-toggleable__label {background-color: #d4ebff;}#sk-container-id-1 div.sk-serial::before {content: \"\";position: absolute;border-left: 1px solid gray;box-sizing: border-box;top: 0;bottom: 0;left: 50%;z-index: 0;}#sk-container-id-1 div.sk-serial {display: flex;flex-direction: column;align-items: center;background-color: white;padding-right: 0.2em;padding-left: 0.2em;position: relative;}#sk-container-id-1 div.sk-item {position: relative;z-index: 1;}#sk-container-id-1 div.sk-parallel {display: flex;align-items: stretch;justify-content: center;background-color: white;position: relative;}#sk-container-id-1 div.sk-item::before, #sk-container-id-1 div.sk-parallel-item::before {content: \"\";position: absolute;border-left: 1px solid gray;box-sizing: border-box;top: 0;bottom: 0;left: 50%;z-index: -1;}#sk-container-id-1 div.sk-parallel-item {display: flex;flex-direction: column;z-index: 1;position: relative;background-color: white;}#sk-container-id-1 div.sk-parallel-item:first-child::after {align-self: flex-end;width: 50%;}#sk-container-id-1 div.sk-parallel-item:last-child::after {align-self: flex-start;width: 50%;}#sk-container-id-1 div.sk-parallel-item:only-child::after {width: 0;}#sk-container-id-1 div.sk-dashed-wrapped {border: 1px dashed gray;margin: 0 0.4em 0.5em 0.4em;box-sizing: border-box;padding-bottom: 0.4em;background-color: white;}#sk-container-id-1 div.sk-label label {font-family: monospace;font-weight: bold;display: inline-block;line-height: 1.2em;}#sk-container-id-1 div.sk-label-container {text-align: center;}#sk-container-id-1 div.sk-container {/* jupyter's `normalize.less` sets `[hidden] { display: none; }` but bootstrap.min.css set `[hidden] { display: none !important; }` so we also need the `!important` here to be able to override the default hidden behavior on the sphinx rendered scikit-learn.org. See: https://github.com/scikit-learn/scikit-learn/issues/21755 */display: inline-block !important;position: relative;}#sk-container-id-1 div.sk-text-repr-fallback {display: none;}</style><div id=\"sk-container-id-1\" class=\"sk-top-container\"><div class=\"sk-text-repr-fallback\"><pre>LinearRegression()</pre><b>In a Jupyter environment, please rerun this cell to show the HTML representation or trust the notebook. <br />On GitHub, the HTML representation is unable to render, please try loading this page with nbviewer.org.</b></div><div class=\"sk-container\" hidden><div class=\"sk-item\"><div class=\"sk-estimator sk-toggleable\"><input class=\"sk-toggleable__control sk-hidden--visually\" id=\"sk-estimator-id-1\" type=\"checkbox\" checked><label for=\"sk-estimator-id-1\" class=\"sk-toggleable__label sk-toggleable__label-arrow\">LinearRegression</label><div class=\"sk-toggleable__content\"><pre>LinearRegression()</pre></div></div></div></div></div>"
            ]
          },
          "metadata": {},
          "execution_count": 27
        }
      ]
    },
    {
      "cell_type": "code",
      "source": [
        "lr.coef_"
      ],
      "metadata": {
        "colab": {
          "base_uri": "https://localhost:8080/"
        },
        "id": "dnKp4WuCEdjd",
        "outputId": "d1a5476d-4faf-40fe-8421-7d6299cfe75e"
      },
      "execution_count": 28,
      "outputs": [
        {
          "output_type": "execute_result",
          "data": {
            "text/plain": [
              "array([9.61718609])"
            ]
          },
          "metadata": {},
          "execution_count": 28
        }
      ]
    },
    {
      "cell_type": "code",
      "source": [
        "lr.intercept_"
      ],
      "metadata": {
        "colab": {
          "base_uri": "https://localhost:8080/"
        },
        "id": "Kp8wMcXREguv",
        "outputId": "c2657557-f5d4-4cf5-cd39-4450ecc53dd4"
      },
      "execution_count": 29,
      "outputs": [
        {
          "output_type": "execute_result",
          "data": {
            "text/plain": [
              "2.448617866650636"
            ]
          },
          "metadata": {},
          "execution_count": 29
        }
      ]
    },
    {
      "cell_type": "code",
      "source": [
        "# Plotting the regression line # formula for line is y=m*x + c\n",
        "line = lr.coef_*train_x+lr.intercept_\n",
        "\n",
        "# Plotting for the test data\n",
        "plt.scatter(train_x,train_y)\n",
        "plt.plot(train_x, line);\n",
        "plt.show()"
      ],
      "metadata": {
        "colab": {
          "base_uri": "https://localhost:8080/",
          "height": 430
        },
        "id": "--ywlcGzEjxM",
        "outputId": "1f83b2d3-f3d3-4e47-ee18-43c7dbc8d4fe"
      },
      "execution_count": 30,
      "outputs": [
        {
          "output_type": "display_data",
          "data": {
            "text/plain": [
              "<Figure size 640x480 with 1 Axes>"
            ],
            "image/png": "[encoded data removed]"
          },
          "metadata": {}
        }
      ]
    },
    {
      "cell_type": "markdown",
      "source": [
        "**Step 6 - Making Predictions**"
      ],
      "metadata": {
        "id": "zTEhRwkpVuuT"
      }
    },
    {
      "cell_type": "code",
      "source": [
        "pr=lr.predict(test_x)"
      ],
      "metadata": {
        "id": "IUacSSqQElbH"
      },
      "execution_count": 31,
      "outputs": []
    },
    {
      "cell_type": "code",
      "source": [
        "list(zip(test_y,pr))"
      ],
      "metadata": {
        "colab": {
          "base_uri": "https://localhost:8080/"
        },
        "id": "jgQ1iL7aE4xq",
        "outputId": "dbbce1b2-c8ea-4f49-abde-32c452538baf"
      },
      "execution_count": 32,
      "outputs": [
        {
          "output_type": "execute_result",
          "data": {
            "text/plain": [
              "[(20, 16.874397005544534),\n",
              " (54, 48.61111111111111),\n",
              " (35, 38.99392501851517),\n",
              " (67, 61.11345303148581),\n",
              " (95, 88.04157409075442),\n",
              " (81, 82.27126243519687),\n",
              " (60, 55.343141375928255)]"
            ]
          },
          "metadata": {},
          "execution_count": 32
        }
      ]
    },
    {
      "cell_type": "markdown",
      "source": [
        "**Step 7 - Evaluating the model**"
      ],
      "metadata": {
        "id": "vX_-SLauV-hz"
      }
    },
    {
      "cell_type": "markdown",
      "source": [
        "The final step is to evaluate the performance of algorithm. This step is particularly important to compare how well different algorithms perform on a particular dataset. For simplicity here, we have chosen the mean square error. There are many such metrics."
      ],
      "metadata": {
        "id": "Jk9QY6GoWIgn"
      }
    },
    {
      "cell_type": "code",
      "source": [
        "from sklearn.metrics import mean_squared_error"
      ],
      "metadata": {
        "id": "SYH7ZTmEE6dz"
      },
      "execution_count": 33,
      "outputs": []
    },
    {
      "cell_type": "code",
      "source": [
        "mean_squared_error(test_y,pr,squared=False)"
      ],
      "metadata": {
        "colab": {
          "base_uri": "https://localhost:8080/"
        },
        "id": "4HKqJmMHE_N2",
        "outputId": "64ca3c41-64d5-47d3-86fe-ae6cee8833cd"
      },
      "execution_count": 34,
      "outputs": [
        {
          "output_type": "execute_result",
          "data": {
            "text/plain": [
              "4.797834650875306"
            ]
          },
          "metadata": {},
          "execution_count": 34
        }
      ]
    },
    {
      "cell_type": "markdown",
      "source": [
        "**Step 8 - Solution**"
      ],
      "metadata": {
        "id": "vvOWlQN6WKOk"
      }
    },
    {
      "cell_type": "code",
      "source": [
        "hour =[9.25]\n",
        "own_pr=lr.predict([hour])\n",
        "print(\"No of Hours = {}\".format([hour]))\n",
        "print(\"Predicted Score = {}\".format(own_pr[0]))"
      ],
      "metadata": {
        "colab": {
          "base_uri": "https://localhost:8080/"
        },
        "id": "YzxSxkFkFAot",
        "outputId": "3d3b72c0-10bf-47ce-e078-7c82d846fb2c"
      },
      "execution_count": 35,
      "outputs": [
        {
          "output_type": "stream",
          "name": "stdout",
          "text": [
            "No of Hours = [[9.25]]\n",
            "Predicted Score = 91.407589223163\n"
          ]
        },
        {
          "output_type": "stream",
          "name": "stderr",
          "text": [
            "/usr/local/lib/python3.10/dist-packages/sklearn/base.py:439: UserWarning:X does not have valid feature names, but LinearRegression was fitted with feature names\n"
          ]
        }
      ]
    },
    {
      "cell_type": "markdown",
      "source": [
        "#**Predicted Score = 91.407589223163**"
      ],
      "metadata": {
        "id": "JexPLWP-WQYy"
      }
    }
  ]
}